{
  "nbformat": 4,
  "nbformat_minor": 0,
  "metadata": {
    "colab": {
      "name": "collection_data10/12.ipynb",
      "provenance": [],
      "collapsed_sections": [],
      "authorship_tag": "ABX9TyNzdZPdhYhhzssbsi7UWiMu",
      "include_colab_link": true
    },
    "kernelspec": {
      "name": "python3",
      "display_name": "Python 3"
    },
    "language_info": {
      "name": "python"
    }
  },
  "cells": [
    {
      "cell_type": "markdown",
      "metadata": {
        "id": "view-in-github",
        "colab_type": "text"
      },
      "source": [
        "<a href=\"https://colab.research.google.com/github/RJGiannini/nft-project-group8/blob/main/collection_data10_12.ipynb\" target=\"_parent\"><img src=\"https://colab.research.google.com/assets/colab-badge.svg\" alt=\"Open In Colab\"/></a>"
      ]
    },
    {
      "cell_type": "code",
      "metadata": {
        "id": "-FIgqUXWJE_X"
      },
      "source": [
        "import numpy as np\n",
        "import pandas as pd\n",
        "import requests\n",
        "import json\n",
        "from pprint import pprint"
      ],
      "execution_count": 1,
      "outputs": []
    },
    {
      "cell_type": "code",
      "metadata": {
        "colab": {
          "resources": {
            "http://localhost:8080/nbextensions/google.colab/files.js": {
              "data": "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",
              "ok": true,
              "headers": [
                [
                  "content-type",
                  "application/javascript"
                ]
              ],
              "status": 200,
              "status_text": ""
            }
          },
          "base_uri": "https://localhost:8080/",
          "height": 70
        },
        "id": "UTcVOeChKMTF",
        "outputId": "4db3687a-34ed-432e-b0bc-52993da7fa38"
      },
      "source": [
        "# Upload collections_list.xlsx to Colab\n",
        "from google.colab import files\n",
        "\n",
        "csv_file = files.upload()"
      ],
      "execution_count": 2,
      "outputs": [
        {
          "output_type": "display_data",
          "data": {
            "text/html": [
              "\n",
              "     <input type=\"file\" id=\"files-0a7119a1-acee-4d60-afe1-1be62ba814ef\" name=\"files[]\" multiple disabled\n",
              "        style=\"border:none\" />\n",
              "     <output id=\"result-0a7119a1-acee-4d60-afe1-1be62ba814ef\">\n",
              "      Upload widget is only available when the cell has been executed in the\n",
              "      current browser session. Please rerun this cell to enable.\n",
              "      </output>\n",
              "      <script src=\"/nbextensions/google.colab/files.js\"></script> "
            ],
            "text/plain": [
              "<IPython.core.display.HTML object>"
            ]
          },
          "metadata": {}
        },
        {
          "output_type": "stream",
          "name": "stdout",
          "text": [
            "Saving collections_list.xlsx to collections_list (1).xlsx\n"
          ]
        }
      ]
    },
    {
      "cell_type": "code",
      "metadata": {
        "id": "Wl5ipMs_JJxk"
      },
      "source": [
        "# Read the collections_list.xlsx file from the Resources folder into a Pandas DataFrame\n",
        "collections_df = pd.read_excel(\"collections_list.xlsx\")\n",
        "\n",
        "# Review the DataFrame\n",
        "#collections_df"
      ],
      "execution_count": 3,
      "outputs": []
    },
    {
      "cell_type": "code",
      "metadata": {
        "id": "A2NBNc5XJMRQ"
      },
      "source": [
        "#collection_list\n",
        "collection_list = [x for x in collections_df['Name']]"
      ],
      "execution_count": 4,
      "outputs": []
    },
    {
      "cell_type": "code",
      "metadata": {
        "id": "1RWMkDpOLGtq"
      },
      "source": [
        "#collection_list_two\n",
        "collection_list_two = []\n",
        "for i in collection_list:\n",
        "  collection_list_two.append(i.replace(\" \", \"-\"))"
      ],
      "execution_count": 5,
      "outputs": []
    },
    {
      "cell_type": "code",
      "metadata": {
        "id": "vEmlU5bbLOcb"
      },
      "source": [
        "#collection_list_three\n",
        "collection_list_three = []\n",
        "for i in collection_list_two:\n",
        "  collection_list_three.append(i.lower())"
      ],
      "execution_count": 6,
      "outputs": []
    },
    {
      "cell_type": "code",
      "metadata": {
        "id": "ElwNxft1LSwl"
      },
      "source": [
        "df = pd.DataFrame()\n",
        "for collection in collection_list_three:\n",
        "  \n",
        "  url = \"https://api.opensea.io/api/v1/assets?order_by=sale_count&order_direction=desc&offset=0&limit=50&collection=\" + collection\n",
        "\n",
        "  JSONContent = requests.get(url).json()\n",
        "\n",
        "  content = json.dumps(JSONContent, indent = 2, sort_keys=True)\n",
        "\n",
        "  JSONContent.keys()\n",
        "\n",
        "  #assets = JSONContent[\"assets\"]\n",
        "\n",
        "  df = df.append(JSONContent[\"assets\"])"
      ],
      "execution_count": 7,
      "outputs": []
    },
    {
      "cell_type": "code",
      "metadata": {
        "id": "nDF4mz8VKgxk"
      },
      "source": [
        "#df"
      ],
      "execution_count": 36,
      "outputs": []
    },
    {
      "cell_type": "code",
      "metadata": {
        "id": "5yM_sqtaRS8O"
      },
      "source": [
        "collection_df = df['collection'].apply(pd.Series)\n",
        "#collection_df"
      ],
      "execution_count": 9,
      "outputs": []
    },
    {
      "cell_type": "code",
      "metadata": {
        "id": "cx4gloR0RjDt"
      },
      "source": [
        "collection_name = collection_df[\"name\"].apply(pd.Series)\n",
        "collection_name.columns = ['Collection Name']\n",
        "#collection_name"
      ],
      "execution_count": 10,
      "outputs": []
    },
    {
      "cell_type": "code",
      "metadata": {
        "id": "4Fhut8skPKIp"
      },
      "source": [
        "last_sale_df = df['last_sale'].apply(pd.Series)\n",
        "#last_sale_df"
      ],
      "execution_count": 11,
      "outputs": []
    },
    {
      "cell_type": "code",
      "metadata": {
        "id": "71UatdS-QZPb"
      },
      "source": [
        "total_price = last_sale_df['total_price'].apply(pd.Series)\n",
        "total_price.columns = ['Last Sale Price ETH']\n",
        "total_price = total_price.astype(float)* 0.000000000000000001\n",
        "#total_price"
      ],
      "execution_count": 12,
      "outputs": []
    },
    {
      "cell_type": "code",
      "metadata": {
        "id": "OOKSgigoSB3Y"
      },
      "source": [
        "#payment_token_df = last_sale_df['payment_token'].apply(pd.Series)\n",
        "#payment_token_df"
      ],
      "execution_count": 13,
      "outputs": []
    },
    {
      "cell_type": "code",
      "metadata": {
        "id": "xLtG_nRISchS"
      },
      "source": [
        "#decimals = payment_token_df['decimals'].apply(pd.Series)\n",
        "#decimals.columns = ['Decimal Scale']\n",
        "#decimals"
      ],
      "execution_count": 14,
      "outputs": []
    },
    {
      "cell_type": "code",
      "metadata": {
        "id": "TSKg5TeZSnN4"
      },
      "source": [
        "#eth_price = payment_token_df['eth_price'].apply(pd.Series)\n",
        "#eth_price.columns = ['USD TO ETH']\n",
        "#eth_price = eth_price.astype(float)"
      ],
      "execution_count": 15,
      "outputs": []
    },
    {
      "cell_type": "code",
      "metadata": {
        "id": "GCPIUXniSt69"
      },
      "source": [
        "#usd_price = payment_token_df['usd_price'].apply(pd.Series)\n",
        "#usd_price.columns = ['ETH TO USD']\n",
        "#usd_price = usd_price.astype(float)"
      ],
      "execution_count": 16,
      "outputs": []
    },
    {
      "cell_type": "code",
      "metadata": {
        "colab": {
          "base_uri": "https://localhost:8080/"
        },
        "id": "vtDiSygJa-1r",
        "outputId": "681d10db-8f92-44d7-af31-8c524ecb4244"
      },
      "source": [
        "background_color = df['background_color']\n",
        "background_color"
      ],
      "execution_count": 34,
      "outputs": [
        {
          "output_type": "execute_result",
          "data": {
            "text/plain": [
              "0     None\n",
              "1     None\n",
              "2     None\n",
              "3     None\n",
              "4     None\n",
              "      ... \n",
              "46    None\n",
              "47    None\n",
              "48    None\n",
              "49    None\n",
              "0     None\n",
              "Name: background_color, Length: 2915, dtype: object"
            ]
          },
          "metadata": {},
          "execution_count": 34
        }
      ]
    },
    {
      "cell_type": "code",
      "metadata": {
        "id": "QiReHE-xVpOb"
      },
      "source": [
        "traits = df['traits'].apply(pd.Series)\n",
        "traits.columns = ['Trait1', 'Trait2', 'Trait3', 'Trait4',\n",
        "                  'Trait5', 'Trait6', 'Trait7', 'Trait8',\n",
        "                  'Trait9', 'Trait10', 'Trait11', 'Trait12',\n",
        "                  'Trait13', 'Trait14', 'Trait15', 'Trait16',\n",
        "                  'Trait17', 'Trait18', 'Trait19']\n",
        "#traits"
      ],
      "execution_count": 48,
      "outputs": []
    },
    {
      "cell_type": "code",
      "metadata": {
        "id": "4JM8pJ9HTBhE"
      },
      "source": [
        "collection_data_df = df[['name', 'id', 'token_id', 'num_sales', 'background_color']].copy()\n",
        "collection_data_df.columns = ['Asset Name', 'Asset ID', 'Token ID', 'Number of Sales', 'Background Color']"
      ],
      "execution_count": 49,
      "outputs": []
    },
    {
      "cell_type": "code",
      "metadata": {
        "id": "mG9jzHpPTmJ5"
      },
      "source": [
        "#collection_data_df = pd.concat([collection_data_df, collection_name, total_price, eth_price, usd_price], axis = 1)\n",
        "collection_data_df = pd.concat([collection_data_df, collection_name, total_price, traits], axis = 1)"
      ],
      "execution_count": 50,
      "outputs": []
    },
    {
      "cell_type": "code",
      "metadata": {
        "colab": {
          "base_uri": "https://localhost:8080/",
          "height": 1000
        },
        "id": "j9-D6-0Zvfg2",
        "outputId": "481fa910-9ebd-4cf2-82c5-8fcc6cbb7942"
      },
      "source": [
        "collection_data_df"
      ],
      "execution_count": 51,
      "outputs": [
        {
          "output_type": "execute_result",
          "data": {
            "text/html": [
              "<div>\n",
              "<style scoped>\n",
              "    .dataframe tbody tr th:only-of-type {\n",
              "        vertical-align: middle;\n",
              "    }\n",
              "\n",
              "    .dataframe tbody tr th {\n",
              "        vertical-align: top;\n",
              "    }\n",
              "\n",
              "    .dataframe thead th {\n",
              "        text-align: right;\n",
              "    }\n",
              "</style>\n",
              "<table border=\"1\" class=\"dataframe\">\n",
              "  <thead>\n",
              "    <tr style=\"text-align: right;\">\n",
              "      <th></th>\n",
              "      <th>Asset Name</th>\n",
              "      <th>Asset ID</th>\n",
              "      <th>Token ID</th>\n",
              "      <th>Number of Sales</th>\n",
              "      <th>Background Color</th>\n",
              "      <th>Collection Name</th>\n",
              "      <th>Last Sale Price ETH</th>\n",
              "      <th>Trait1</th>\n",
              "      <th>Trait2</th>\n",
              "      <th>Trait3</th>\n",
              "      <th>Trait4</th>\n",
              "      <th>Trait5</th>\n",
              "      <th>Trait6</th>\n",
              "      <th>Trait7</th>\n",
              "      <th>Trait8</th>\n",
              "      <th>Trait9</th>\n",
              "      <th>Trait10</th>\n",
              "      <th>Trait11</th>\n",
              "      <th>Trait12</th>\n",
              "      <th>Trait13</th>\n",
              "      <th>Trait14</th>\n",
              "      <th>Trait15</th>\n",
              "      <th>Trait16</th>\n",
              "      <th>Trait17</th>\n",
              "      <th>Trait18</th>\n",
              "      <th>Trait19</th>\n",
              "    </tr>\n",
              "  </thead>\n",
              "  <tbody>\n",
              "    <tr>\n",
              "      <th>0</th>\n",
              "      <td>0N1 #6911</td>\n",
              "      <td>38109417</td>\n",
              "      <td>6911</td>\n",
              "      <td>13</td>\n",
              "      <td>None</td>\n",
              "      <td>0N1 Force</td>\n",
              "      <td>1.740</td>\n",
              "      <td>{'trait_type': 'Strength', 'value': 3, 'displa...</td>\n",
              "      <td>{'trait_type': 'Spirit', 'value': 1, 'display_...</td>\n",
              "      <td>{'trait_type': 'Background', 'value': 'Citrine...</td>\n",
              "      <td>{'trait_type': 'Eyes', 'value': 'Open (Citrine...</td>\n",
              "      <td>{'trait_type': 'Style', 'value': 3, 'display_t...</td>\n",
              "      <td>{'trait_type': 'Mouth', 'value': 'Neutral', 'd...</td>\n",
              "      <td>{'trait_type': 'Head', 'value': 'Headphones (P...</td>\n",
              "      <td>{'trait_type': 'Hair', 'value': 'Bob (Rose)', ...</td>\n",
              "      <td>{'trait_type': 'Type', 'value': 'Y0K-A1', 'dis...</td>\n",
              "      <td>{'trait_type': 'Wear', 'value': 'Thermal Hoodi...</td>\n",
              "      <td>{'trait_type': 'Body', 'value': 'Jasper', 'dis...</td>\n",
              "      <td>{'trait_type': 'Extra', 'value': 'Void', 'disp...</td>\n",
              "      <td>{'trait_type': 'Face', 'value': 'Glasses (Obsi...</td>\n",
              "      <td>NaN</td>\n",
              "      <td>NaN</td>\n",
              "      <td>NaN</td>\n",
              "      <td>NaN</td>\n",
              "      <td>NaN</td>\n",
              "      <td>NaN</td>\n",
              "    </tr>\n",
              "    <tr>\n",
              "      <th>1</th>\n",
              "      <td>0N1 #3338</td>\n",
              "      <td>38105661</td>\n",
              "      <td>3338</td>\n",
              "      <td>11</td>\n",
              "      <td>None</td>\n",
              "      <td>0N1 Force</td>\n",
              "      <td>2.750</td>\n",
              "      <td>{'trait_type': 'Eyes', 'value': 'Half Open (Az...</td>\n",
              "      <td>{'trait_type': 'Spirit', 'value': 2, 'display_...</td>\n",
              "      <td>{'trait_type': 'Style', 'value': 3, 'display_t...</td>\n",
              "      <td>{'trait_type': 'Strength', 'value': 5, 'displa...</td>\n",
              "      <td>{'trait_type': 'Body', 'value': 'Azurite', 'di...</td>\n",
              "      <td>{'trait_type': 'Face', 'value': 'Bandaid', 'di...</td>\n",
              "      <td>{'trait_type': 'Head', 'value': 'Void', 'displ...</td>\n",
              "      <td>{'trait_type': 'Wear', 'value': 'Bomber Jacket...</td>\n",
              "      <td>{'trait_type': 'Type', 'value': 'Y0K-A1', 'dis...</td>\n",
              "      <td>{'trait_type': 'Background', 'value': 'Azurite...</td>\n",
              "      <td>{'trait_type': 'Extra', 'value': 'Void', 'disp...</td>\n",
              "      <td>{'trait_type': 'Mouth', 'value': 'Smirk', 'dis...</td>\n",
              "      <td>{'trait_type': 'Hair', 'value': 'Spiky (Obsidi...</td>\n",
              "      <td>NaN</td>\n",
              "      <td>NaN</td>\n",
              "      <td>NaN</td>\n",
              "      <td>NaN</td>\n",
              "      <td>NaN</td>\n",
              "      <td>NaN</td>\n",
              "    </tr>\n",
              "    <tr>\n",
              "      <th>2</th>\n",
              "      <td>0N1 #1601</td>\n",
              "      <td>37768360</td>\n",
              "      <td>1601</td>\n",
              "      <td>10</td>\n",
              "      <td>None</td>\n",
              "      <td>0N1 Force</td>\n",
              "      <td>2.250</td>\n",
              "      <td>{'trait_type': 'Extra', 'value': '0N1 Logo Pin...</td>\n",
              "      <td>{'trait_type': 'Wear', 'value': 'Kimono (Rose)...</td>\n",
              "      <td>{'trait_type': 'Background', 'value': 'Citrine...</td>\n",
              "      <td>{'trait_type': 'Head', 'value': 'Headphones (T...</td>\n",
              "      <td>{'trait_type': 'Style', 'value': 3, 'display_t...</td>\n",
              "      <td>{'trait_type': 'Eyes', 'value': 'Half Open (Ci...</td>\n",
              "      <td>{'trait_type': 'Body', 'value': 'Azurite', 'di...</td>\n",
              "      <td>{'trait_type': 'Mouth', 'value': 'Neutral', 'd...</td>\n",
              "      <td>{'trait_type': 'Face', 'value': 'Nose Scar', '...</td>\n",
              "      <td>{'trait_type': 'Hair', 'value': 'Bob (Obsidian...</td>\n",
              "      <td>{'trait_type': 'Spirit', 'value': 4, 'display_...</td>\n",
              "      <td>{'trait_type': 'Type', 'value': 'Y0K-A1', 'dis...</td>\n",
              "      <td>{'trait_type': 'Strength', 'value': 1, 'displa...</td>\n",
              "      <td>NaN</td>\n",
              "      <td>NaN</td>\n",
              "      <td>NaN</td>\n",
              "      <td>NaN</td>\n",
              "      <td>NaN</td>\n",
              "      <td>NaN</td>\n",
              "    </tr>\n",
              "    <tr>\n",
              "      <th>3</th>\n",
              "      <td>0N1 #2181</td>\n",
              "      <td>38104277</td>\n",
              "      <td>2181</td>\n",
              "      <td>10</td>\n",
              "      <td>None</td>\n",
              "      <td>0N1 Force</td>\n",
              "      <td>2.200</td>\n",
              "      <td>{'trait_type': 'Extra', 'value': '0N1 Logo Pin...</td>\n",
              "      <td>{'trait_type': 'Hair', 'value': 'Spiky (Citrin...</td>\n",
              "      <td>{'trait_type': 'Face', 'value': 'PR Mask (Jasp...</td>\n",
              "      <td>{'trait_type': 'Style', 'value': 5, 'display_t...</td>\n",
              "      <td>{'trait_type': 'Body', 'value': 'Azurite', 'di...</td>\n",
              "      <td>{'trait_type': 'Mouth', 'value': 'Neutral', 'd...</td>\n",
              "      <td>{'trait_type': 'Spirit', 'value': 4, 'display_...</td>\n",
              "      <td>{'trait_type': 'Head', 'value': 'Headphones (P...</td>\n",
              "      <td>{'trait_type': 'Strength', 'value': 4, 'displa...</td>\n",
              "      <td>{'trait_type': 'Type', 'value': 'Y0K-A1', 'dis...</td>\n",
              "      <td>{'trait_type': 'Background', 'value': 'Azurite...</td>\n",
              "      <td>{'trait_type': 'Wear', 'value': 'Thermal Hoodi...</td>\n",
              "      <td>{'trait_type': 'Eyes', 'value': 'Squint (Azuri...</td>\n",
              "      <td>NaN</td>\n",
              "      <td>NaN</td>\n",
              "      <td>NaN</td>\n",
              "      <td>NaN</td>\n",
              "      <td>NaN</td>\n",
              "      <td>NaN</td>\n",
              "    </tr>\n",
              "    <tr>\n",
              "      <th>4</th>\n",
              "      <td>0N1 #4796</td>\n",
              "      <td>38107072</td>\n",
              "      <td>4796</td>\n",
              "      <td>9</td>\n",
              "      <td>None</td>\n",
              "      <td>0N1 Force</td>\n",
              "      <td>1.840</td>\n",
              "      <td>{'trait_type': 'Face', 'value': 'Void', 'displ...</td>\n",
              "      <td>{'trait_type': 'Background', 'value': 'Citrine...</td>\n",
              "      <td>{'trait_type': 'Eyes', 'value': 'Open (Citrine...</td>\n",
              "      <td>{'trait_type': 'Body', 'value': 'Azurite', 'di...</td>\n",
              "      <td>{'trait_type': 'Mouth', 'value': 'Neutral', 'd...</td>\n",
              "      <td>{'trait_type': 'Head', 'value': 'Void', 'displ...</td>\n",
              "      <td>{'trait_type': 'Wear', 'value': 'Bomber Jacket...</td>\n",
              "      <td>{'trait_type': 'Strength', 'value': 4, 'displa...</td>\n",
              "      <td>{'trait_type': 'Type', 'value': 'Y0K-A1', 'dis...</td>\n",
              "      <td>{'trait_type': 'Style', 'value': 1, 'display_t...</td>\n",
              "      <td>{'trait_type': 'Spirit', 'value': 1, 'display_...</td>\n",
              "      <td>{'trait_type': 'Hair', 'value': 'Half-Buzz (Tu...</td>\n",
              "      <td>{'trait_type': 'Extra', 'value': 'Earring (Dou...</td>\n",
              "      <td>NaN</td>\n",
              "      <td>NaN</td>\n",
              "      <td>NaN</td>\n",
              "      <td>NaN</td>\n",
              "      <td>NaN</td>\n",
              "      <td>NaN</td>\n",
              "    </tr>\n",
              "    <tr>\n",
              "      <th>...</th>\n",
              "      <td>...</td>\n",
              "      <td>...</td>\n",
              "      <td>...</td>\n",
              "      <td>...</td>\n",
              "      <td>...</td>\n",
              "      <td>...</td>\n",
              "      <td>...</td>\n",
              "      <td>...</td>\n",
              "      <td>...</td>\n",
              "      <td>...</td>\n",
              "      <td>...</td>\n",
              "      <td>...</td>\n",
              "      <td>...</td>\n",
              "      <td>...</td>\n",
              "      <td>...</td>\n",
              "      <td>...</td>\n",
              "      <td>...</td>\n",
              "      <td>...</td>\n",
              "      <td>...</td>\n",
              "      <td>...</td>\n",
              "      <td>...</td>\n",
              "      <td>...</td>\n",
              "      <td>...</td>\n",
              "      <td>...</td>\n",
              "      <td>...</td>\n",
              "      <td>...</td>\n",
              "    </tr>\n",
              "    <tr>\n",
              "      <th>46</th>\n",
              "      <td>Miss Thought</td>\n",
              "      <td>3409840</td>\n",
              "      <td>1910</td>\n",
              "      <td>3</td>\n",
              "      <td>None</td>\n",
              "      <td>Zed Run</td>\n",
              "      <td>1.000</td>\n",
              "      <td>{'trait_type': 'breed_type', 'value': 'genesis...</td>\n",
              "      <td>{'trait_type': 'gender', 'value': 'Female', 'd...</td>\n",
              "      <td>{'trait_type': 'bloodline', 'value': 'Szabo', ...</td>\n",
              "      <td>{'trait_type': 'coat_color', 'value': 'Bleu De...</td>\n",
              "      <td>{'trait_type': 'genotype', 'value': 'Z4', 'dis...</td>\n",
              "      <td>{'trait_type': 'horse_type', 'value': 'Mare', ...</td>\n",
              "      <td>NaN</td>\n",
              "      <td>NaN</td>\n",
              "      <td>NaN</td>\n",
              "      <td>NaN</td>\n",
              "      <td>NaN</td>\n",
              "      <td>NaN</td>\n",
              "      <td>NaN</td>\n",
              "      <td>NaN</td>\n",
              "      <td>NaN</td>\n",
              "      <td>NaN</td>\n",
              "      <td>NaN</td>\n",
              "      <td>NaN</td>\n",
              "      <td>NaN</td>\n",
              "    </tr>\n",
              "    <tr>\n",
              "      <th>47</th>\n",
              "      <td>Sussex Muster</td>\n",
              "      <td>3404105</td>\n",
              "      <td>1886</td>\n",
              "      <td>3</td>\n",
              "      <td>None</td>\n",
              "      <td>Zed Run</td>\n",
              "      <td>0.333</td>\n",
              "      <td>{'trait_type': 'gender', 'value': 'Female', 'd...</td>\n",
              "      <td>{'trait_type': 'bloodline', 'value': 'Szabo', ...</td>\n",
              "      <td>{'trait_type': 'coat_color', 'value': 'Chrome ...</td>\n",
              "      <td>{'trait_type': 'genotype', 'value': 'Z4', 'dis...</td>\n",
              "      <td>{'trait_type': 'horse_type', 'value': 'Mare', ...</td>\n",
              "      <td>{'trait_type': 'breed_type', 'value': 'genesis...</td>\n",
              "      <td>NaN</td>\n",
              "      <td>NaN</td>\n",
              "      <td>NaN</td>\n",
              "      <td>NaN</td>\n",
              "      <td>NaN</td>\n",
              "      <td>NaN</td>\n",
              "      <td>NaN</td>\n",
              "      <td>NaN</td>\n",
              "      <td>NaN</td>\n",
              "      <td>NaN</td>\n",
              "      <td>NaN</td>\n",
              "      <td>NaN</td>\n",
              "      <td>NaN</td>\n",
              "    </tr>\n",
              "    <tr>\n",
              "      <th>48</th>\n",
              "      <td>Pyro Hero</td>\n",
              "      <td>3307434</td>\n",
              "      <td>1394</td>\n",
              "      <td>3</td>\n",
              "      <td>None</td>\n",
              "      <td>Zed Run</td>\n",
              "      <td>0.450</td>\n",
              "      <td>{'trait_type': 'coat_color', 'value': 'Thistle...</td>\n",
              "      <td>{'trait_type': 'gender', 'value': 'Female', 'd...</td>\n",
              "      <td>{'trait_type': 'bloodline', 'value': 'Szabo', ...</td>\n",
              "      <td>{'trait_type': 'genotype', 'value': 'Z3', 'dis...</td>\n",
              "      <td>{'trait_type': 'horse_type', 'value': 'Mare', ...</td>\n",
              "      <td>{'trait_type': 'breed_type', 'value': 'genesis...</td>\n",
              "      <td>NaN</td>\n",
              "      <td>NaN</td>\n",
              "      <td>NaN</td>\n",
              "      <td>NaN</td>\n",
              "      <td>NaN</td>\n",
              "      <td>NaN</td>\n",
              "      <td>NaN</td>\n",
              "      <td>NaN</td>\n",
              "      <td>NaN</td>\n",
              "      <td>NaN</td>\n",
              "      <td>NaN</td>\n",
              "      <td>NaN</td>\n",
              "      <td>NaN</td>\n",
              "    </tr>\n",
              "    <tr>\n",
              "      <th>49</th>\n",
              "      <td>Tornado</td>\n",
              "      <td>14462054</td>\n",
              "      <td>5256</td>\n",
              "      <td>3</td>\n",
              "      <td>None</td>\n",
              "      <td>Zed Run</td>\n",
              "      <td>0.190</td>\n",
              "      <td>{'trait_type': 'bloodline', 'value': 'Nakamoto...</td>\n",
              "      <td>{'trait_type': 'gender', 'value': 'Female', 'd...</td>\n",
              "      <td>{'trait_type': 'coat_color', 'value': 'Taupe',...</td>\n",
              "      <td>{'trait_type': 'genotype', 'value': 'Z3', 'dis...</td>\n",
              "      <td>{'trait_type': 'horse_type', 'value': 'Mare', ...</td>\n",
              "      <td>{'trait_type': 'breed_type', 'value': 'exclusi...</td>\n",
              "      <td>NaN</td>\n",
              "      <td>NaN</td>\n",
              "      <td>NaN</td>\n",
              "      <td>NaN</td>\n",
              "      <td>NaN</td>\n",
              "      <td>NaN</td>\n",
              "      <td>NaN</td>\n",
              "      <td>NaN</td>\n",
              "      <td>NaN</td>\n",
              "      <td>NaN</td>\n",
              "      <td>NaN</td>\n",
              "      <td>NaN</td>\n",
              "      <td>NaN</td>\n",
              "    </tr>\n",
              "    <tr>\n",
              "      <th>0</th>\n",
              "      <td>#4</td>\n",
              "      <td>60149140</td>\n",
              "      <td>4</td>\n",
              "      <td>1</td>\n",
              "      <td>None</td>\n",
              "      <td>ZombieToadz</td>\n",
              "      <td>0.070</td>\n",
              "      <td>{'trait_type': 'background', 'value': 'Ocean',...</td>\n",
              "      <td>{'trait_type': 'body', 'value': 'Red', 'displa...</td>\n",
              "      <td>{'trait_type': 'brain', 'value': 'mushedbrain'...</td>\n",
              "      <td>{'trait_type': 'eyes', 'value': 'sidelook', 'd...</td>\n",
              "      <td>{'trait_type': 'lips', 'value': 'darksmile', '...</td>\n",
              "      <td>{'trait_type': 'blood', 'value': 'HalfBlood', ...</td>\n",
              "      <td>NaN</td>\n",
              "      <td>NaN</td>\n",
              "      <td>NaN</td>\n",
              "      <td>NaN</td>\n",
              "      <td>NaN</td>\n",
              "      <td>NaN</td>\n",
              "      <td>NaN</td>\n",
              "      <td>NaN</td>\n",
              "      <td>NaN</td>\n",
              "      <td>NaN</td>\n",
              "      <td>NaN</td>\n",
              "      <td>NaN</td>\n",
              "      <td>NaN</td>\n",
              "    </tr>\n",
              "  </tbody>\n",
              "</table>\n",
              "<p>2915 rows × 26 columns</p>\n",
              "</div>"
            ],
            "text/plain": [
              "       Asset Name  Asset ID Token ID  ...  Trait17 Trait18 Trait19\n",
              "0       0N1 #6911  38109417     6911  ...      NaN     NaN     NaN\n",
              "1       0N1 #3338  38105661     3338  ...      NaN     NaN     NaN\n",
              "2       0N1 #1601  37768360     1601  ...      NaN     NaN     NaN\n",
              "3       0N1 #2181  38104277     2181  ...      NaN     NaN     NaN\n",
              "4       0N1 #4796  38107072     4796  ...      NaN     NaN     NaN\n",
              "..            ...       ...      ...  ...      ...     ...     ...\n",
              "46   Miss Thought   3409840     1910  ...      NaN     NaN     NaN\n",
              "47  Sussex Muster   3404105     1886  ...      NaN     NaN     NaN\n",
              "48      Pyro Hero   3307434     1394  ...      NaN     NaN     NaN\n",
              "49        Tornado  14462054     5256  ...      NaN     NaN     NaN\n",
              "0              #4  60149140        4  ...      NaN     NaN     NaN\n",
              "\n",
              "[2915 rows x 26 columns]"
            ]
          },
          "metadata": {},
          "execution_count": 51
        }
      ]
    },
    {
      "cell_type": "code",
      "metadata": {
        "colab": {
          "base_uri": "https://localhost:8080/"
        },
        "id": "IYYcspRPV1-g",
        "outputId": "78e54ae1-763f-4cc8-d7d3-46068b21895f"
      },
      "source": [
        "collection_data_df.dtypes"
      ],
      "execution_count": 52,
      "outputs": [
        {
          "output_type": "execute_result",
          "data": {
            "text/plain": [
              "Asset Name              object\n",
              "Asset ID                 int64\n",
              "Token ID                object\n",
              "Number of Sales          int64\n",
              "Background Color        object\n",
              "Collection Name         object\n",
              "Last Sale Price ETH    float64\n",
              "Trait1                  object\n",
              "Trait2                  object\n",
              "Trait3                  object\n",
              "Trait4                  object\n",
              "Trait5                  object\n",
              "Trait6                  object\n",
              "Trait7                  object\n",
              "Trait8                  object\n",
              "Trait9                  object\n",
              "Trait10                 object\n",
              "Trait11                 object\n",
              "Trait12                 object\n",
              "Trait13                 object\n",
              "Trait14                 object\n",
              "Trait15                 object\n",
              "Trait16                 object\n",
              "Trait17                 object\n",
              "Trait18                 object\n",
              "Trait19                 object\n",
              "dtype: object"
            ]
          },
          "metadata": {},
          "execution_count": 52
        }
      ]
    },
    {
      "cell_type": "code",
      "metadata": {
        "colab": {
          "base_uri": "https://localhost:8080/"
        },
        "id": "m4ZlDa67W3fx",
        "outputId": "82fe0ce3-d010-4cca-efa8-52948159fb77"
      },
      "source": [
        "collection_data_df[\"Background Color\"].value_counts()"
      ],
      "execution_count": 54,
      "outputs": [
        {
          "output_type": "execute_result",
          "data": {
            "text/plain": [
              "000000    52\n",
              "6B80D9     6\n",
              "262626     6\n",
              "8AD9E9     4\n",
              "           4\n",
              "6972BE     4\n",
              "7F82CA     3\n",
              "717AC3     3\n",
              "3A65AD     3\n",
              "5CC5BA     2\n",
              "6F7DCF     2\n",
              "887FCA     2\n",
              "7463E2     2\n",
              "7FA0CA     2\n",
              "4350B9     1\n",
              "AC8AE9     1\n",
              "5144AD     1\n",
              "FF8A98     1\n",
              "4053B4     1\n",
              "A26BD9     1\n",
              "5551C5     1\n",
              "6BABD9     1\n",
              "5683D1     1\n",
              "Name: Background Color, dtype: int64"
            ]
          },
          "metadata": {},
          "execution_count": 54
        }
      ]
    },
    {
      "cell_type": "code",
      "metadata": {
        "colab": {
          "base_uri": "https://localhost:8080/",
          "height": 1000
        },
        "id": "WA0a7dkbixzd",
        "outputId": "0ea7a9d9-f797-46f6-a530-2c0261057561"
      },
      "source": [
        "collection_data_df"
      ],
      "execution_count": 55,
      "outputs": [
        {
          "output_type": "execute_result",
          "data": {
            "text/html": [
              "<div>\n",
              "<style scoped>\n",
              "    .dataframe tbody tr th:only-of-type {\n",
              "        vertical-align: middle;\n",
              "    }\n",
              "\n",
              "    .dataframe tbody tr th {\n",
              "        vertical-align: top;\n",
              "    }\n",
              "\n",
              "    .dataframe thead th {\n",
              "        text-align: right;\n",
              "    }\n",
              "</style>\n",
              "<table border=\"1\" class=\"dataframe\">\n",
              "  <thead>\n",
              "    <tr style=\"text-align: right;\">\n",
              "      <th></th>\n",
              "      <th>Asset Name</th>\n",
              "      <th>Asset ID</th>\n",
              "      <th>Token ID</th>\n",
              "      <th>Number of Sales</th>\n",
              "      <th>Background Color</th>\n",
              "      <th>Collection Name</th>\n",
              "      <th>Last Sale Price ETH</th>\n",
              "      <th>Trait1</th>\n",
              "      <th>Trait2</th>\n",
              "      <th>Trait3</th>\n",
              "      <th>Trait4</th>\n",
              "      <th>Trait5</th>\n",
              "      <th>Trait6</th>\n",
              "      <th>Trait7</th>\n",
              "      <th>Trait8</th>\n",
              "      <th>Trait9</th>\n",
              "      <th>Trait10</th>\n",
              "      <th>Trait11</th>\n",
              "      <th>Trait12</th>\n",
              "      <th>Trait13</th>\n",
              "      <th>Trait14</th>\n",
              "      <th>Trait15</th>\n",
              "      <th>Trait16</th>\n",
              "      <th>Trait17</th>\n",
              "      <th>Trait18</th>\n",
              "      <th>Trait19</th>\n",
              "    </tr>\n",
              "  </thead>\n",
              "  <tbody>\n",
              "    <tr>\n",
              "      <th>0</th>\n",
              "      <td>0N1 #6911</td>\n",
              "      <td>38109417</td>\n",
              "      <td>6911</td>\n",
              "      <td>13</td>\n",
              "      <td>None</td>\n",
              "      <td>0N1 Force</td>\n",
              "      <td>1.740</td>\n",
              "      <td>{'trait_type': 'Strength', 'value': 3, 'displa...</td>\n",
              "      <td>{'trait_type': 'Spirit', 'value': 1, 'display_...</td>\n",
              "      <td>{'trait_type': 'Background', 'value': 'Citrine...</td>\n",
              "      <td>{'trait_type': 'Eyes', 'value': 'Open (Citrine...</td>\n",
              "      <td>{'trait_type': 'Style', 'value': 3, 'display_t...</td>\n",
              "      <td>{'trait_type': 'Mouth', 'value': 'Neutral', 'd...</td>\n",
              "      <td>{'trait_type': 'Head', 'value': 'Headphones (P...</td>\n",
              "      <td>{'trait_type': 'Hair', 'value': 'Bob (Rose)', ...</td>\n",
              "      <td>{'trait_type': 'Type', 'value': 'Y0K-A1', 'dis...</td>\n",
              "      <td>{'trait_type': 'Wear', 'value': 'Thermal Hoodi...</td>\n",
              "      <td>{'trait_type': 'Body', 'value': 'Jasper', 'dis...</td>\n",
              "      <td>{'trait_type': 'Extra', 'value': 'Void', 'disp...</td>\n",
              "      <td>{'trait_type': 'Face', 'value': 'Glasses (Obsi...</td>\n",
              "      <td>NaN</td>\n",
              "      <td>NaN</td>\n",
              "      <td>NaN</td>\n",
              "      <td>NaN</td>\n",
              "      <td>NaN</td>\n",
              "      <td>NaN</td>\n",
              "    </tr>\n",
              "    <tr>\n",
              "      <th>1</th>\n",
              "      <td>0N1 #3338</td>\n",
              "      <td>38105661</td>\n",
              "      <td>3338</td>\n",
              "      <td>11</td>\n",
              "      <td>None</td>\n",
              "      <td>0N1 Force</td>\n",
              "      <td>2.750</td>\n",
              "      <td>{'trait_type': 'Eyes', 'value': 'Half Open (Az...</td>\n",
              "      <td>{'trait_type': 'Spirit', 'value': 2, 'display_...</td>\n",
              "      <td>{'trait_type': 'Style', 'value': 3, 'display_t...</td>\n",
              "      <td>{'trait_type': 'Strength', 'value': 5, 'displa...</td>\n",
              "      <td>{'trait_type': 'Body', 'value': 'Azurite', 'di...</td>\n",
              "      <td>{'trait_type': 'Face', 'value': 'Bandaid', 'di...</td>\n",
              "      <td>{'trait_type': 'Head', 'value': 'Void', 'displ...</td>\n",
              "      <td>{'trait_type': 'Wear', 'value': 'Bomber Jacket...</td>\n",
              "      <td>{'trait_type': 'Type', 'value': 'Y0K-A1', 'dis...</td>\n",
              "      <td>{'trait_type': 'Background', 'value': 'Azurite...</td>\n",
              "      <td>{'trait_type': 'Extra', 'value': 'Void', 'disp...</td>\n",
              "      <td>{'trait_type': 'Mouth', 'value': 'Smirk', 'dis...</td>\n",
              "      <td>{'trait_type': 'Hair', 'value': 'Spiky (Obsidi...</td>\n",
              "      <td>NaN</td>\n",
              "      <td>NaN</td>\n",
              "      <td>NaN</td>\n",
              "      <td>NaN</td>\n",
              "      <td>NaN</td>\n",
              "      <td>NaN</td>\n",
              "    </tr>\n",
              "    <tr>\n",
              "      <th>2</th>\n",
              "      <td>0N1 #1601</td>\n",
              "      <td>37768360</td>\n",
              "      <td>1601</td>\n",
              "      <td>10</td>\n",
              "      <td>None</td>\n",
              "      <td>0N1 Force</td>\n",
              "      <td>2.250</td>\n",
              "      <td>{'trait_type': 'Extra', 'value': '0N1 Logo Pin...</td>\n",
              "      <td>{'trait_type': 'Wear', 'value': 'Kimono (Rose)...</td>\n",
              "      <td>{'trait_type': 'Background', 'value': 'Citrine...</td>\n",
              "      <td>{'trait_type': 'Head', 'value': 'Headphones (T...</td>\n",
              "      <td>{'trait_type': 'Style', 'value': 3, 'display_t...</td>\n",
              "      <td>{'trait_type': 'Eyes', 'value': 'Half Open (Ci...</td>\n",
              "      <td>{'trait_type': 'Body', 'value': 'Azurite', 'di...</td>\n",
              "      <td>{'trait_type': 'Mouth', 'value': 'Neutral', 'd...</td>\n",
              "      <td>{'trait_type': 'Face', 'value': 'Nose Scar', '...</td>\n",
              "      <td>{'trait_type': 'Hair', 'value': 'Bob (Obsidian...</td>\n",
              "      <td>{'trait_type': 'Spirit', 'value': 4, 'display_...</td>\n",
              "      <td>{'trait_type': 'Type', 'value': 'Y0K-A1', 'dis...</td>\n",
              "      <td>{'trait_type': 'Strength', 'value': 1, 'displa...</td>\n",
              "      <td>NaN</td>\n",
              "      <td>NaN</td>\n",
              "      <td>NaN</td>\n",
              "      <td>NaN</td>\n",
              "      <td>NaN</td>\n",
              "      <td>NaN</td>\n",
              "    </tr>\n",
              "    <tr>\n",
              "      <th>3</th>\n",
              "      <td>0N1 #2181</td>\n",
              "      <td>38104277</td>\n",
              "      <td>2181</td>\n",
              "      <td>10</td>\n",
              "      <td>None</td>\n",
              "      <td>0N1 Force</td>\n",
              "      <td>2.200</td>\n",
              "      <td>{'trait_type': 'Extra', 'value': '0N1 Logo Pin...</td>\n",
              "      <td>{'trait_type': 'Hair', 'value': 'Spiky (Citrin...</td>\n",
              "      <td>{'trait_type': 'Face', 'value': 'PR Mask (Jasp...</td>\n",
              "      <td>{'trait_type': 'Style', 'value': 5, 'display_t...</td>\n",
              "      <td>{'trait_type': 'Body', 'value': 'Azurite', 'di...</td>\n",
              "      <td>{'trait_type': 'Mouth', 'value': 'Neutral', 'd...</td>\n",
              "      <td>{'trait_type': 'Spirit', 'value': 4, 'display_...</td>\n",
              "      <td>{'trait_type': 'Head', 'value': 'Headphones (P...</td>\n",
              "      <td>{'trait_type': 'Strength', 'value': 4, 'displa...</td>\n",
              "      <td>{'trait_type': 'Type', 'value': 'Y0K-A1', 'dis...</td>\n",
              "      <td>{'trait_type': 'Background', 'value': 'Azurite...</td>\n",
              "      <td>{'trait_type': 'Wear', 'value': 'Thermal Hoodi...</td>\n",
              "      <td>{'trait_type': 'Eyes', 'value': 'Squint (Azuri...</td>\n",
              "      <td>NaN</td>\n",
              "      <td>NaN</td>\n",
              "      <td>NaN</td>\n",
              "      <td>NaN</td>\n",
              "      <td>NaN</td>\n",
              "      <td>NaN</td>\n",
              "    </tr>\n",
              "    <tr>\n",
              "      <th>4</th>\n",
              "      <td>0N1 #4796</td>\n",
              "      <td>38107072</td>\n",
              "      <td>4796</td>\n",
              "      <td>9</td>\n",
              "      <td>None</td>\n",
              "      <td>0N1 Force</td>\n",
              "      <td>1.840</td>\n",
              "      <td>{'trait_type': 'Face', 'value': 'Void', 'displ...</td>\n",
              "      <td>{'trait_type': 'Background', 'value': 'Citrine...</td>\n",
              "      <td>{'trait_type': 'Eyes', 'value': 'Open (Citrine...</td>\n",
              "      <td>{'trait_type': 'Body', 'value': 'Azurite', 'di...</td>\n",
              "      <td>{'trait_type': 'Mouth', 'value': 'Neutral', 'd...</td>\n",
              "      <td>{'trait_type': 'Head', 'value': 'Void', 'displ...</td>\n",
              "      <td>{'trait_type': 'Wear', 'value': 'Bomber Jacket...</td>\n",
              "      <td>{'trait_type': 'Strength', 'value': 4, 'displa...</td>\n",
              "      <td>{'trait_type': 'Type', 'value': 'Y0K-A1', 'dis...</td>\n",
              "      <td>{'trait_type': 'Style', 'value': 1, 'display_t...</td>\n",
              "      <td>{'trait_type': 'Spirit', 'value': 1, 'display_...</td>\n",
              "      <td>{'trait_type': 'Hair', 'value': 'Half-Buzz (Tu...</td>\n",
              "      <td>{'trait_type': 'Extra', 'value': 'Earring (Dou...</td>\n",
              "      <td>NaN</td>\n",
              "      <td>NaN</td>\n",
              "      <td>NaN</td>\n",
              "      <td>NaN</td>\n",
              "      <td>NaN</td>\n",
              "      <td>NaN</td>\n",
              "    </tr>\n",
              "    <tr>\n",
              "      <th>...</th>\n",
              "      <td>...</td>\n",
              "      <td>...</td>\n",
              "      <td>...</td>\n",
              "      <td>...</td>\n",
              "      <td>...</td>\n",
              "      <td>...</td>\n",
              "      <td>...</td>\n",
              "      <td>...</td>\n",
              "      <td>...</td>\n",
              "      <td>...</td>\n",
              "      <td>...</td>\n",
              "      <td>...</td>\n",
              "      <td>...</td>\n",
              "      <td>...</td>\n",
              "      <td>...</td>\n",
              "      <td>...</td>\n",
              "      <td>...</td>\n",
              "      <td>...</td>\n",
              "      <td>...</td>\n",
              "      <td>...</td>\n",
              "      <td>...</td>\n",
              "      <td>...</td>\n",
              "      <td>...</td>\n",
              "      <td>...</td>\n",
              "      <td>...</td>\n",
              "      <td>...</td>\n",
              "    </tr>\n",
              "    <tr>\n",
              "      <th>46</th>\n",
              "      <td>Miss Thought</td>\n",
              "      <td>3409840</td>\n",
              "      <td>1910</td>\n",
              "      <td>3</td>\n",
              "      <td>None</td>\n",
              "      <td>Zed Run</td>\n",
              "      <td>1.000</td>\n",
              "      <td>{'trait_type': 'breed_type', 'value': 'genesis...</td>\n",
              "      <td>{'trait_type': 'gender', 'value': 'Female', 'd...</td>\n",
              "      <td>{'trait_type': 'bloodline', 'value': 'Szabo', ...</td>\n",
              "      <td>{'trait_type': 'coat_color', 'value': 'Bleu De...</td>\n",
              "      <td>{'trait_type': 'genotype', 'value': 'Z4', 'dis...</td>\n",
              "      <td>{'trait_type': 'horse_type', 'value': 'Mare', ...</td>\n",
              "      <td>NaN</td>\n",
              "      <td>NaN</td>\n",
              "      <td>NaN</td>\n",
              "      <td>NaN</td>\n",
              "      <td>NaN</td>\n",
              "      <td>NaN</td>\n",
              "      <td>NaN</td>\n",
              "      <td>NaN</td>\n",
              "      <td>NaN</td>\n",
              "      <td>NaN</td>\n",
              "      <td>NaN</td>\n",
              "      <td>NaN</td>\n",
              "      <td>NaN</td>\n",
              "    </tr>\n",
              "    <tr>\n",
              "      <th>47</th>\n",
              "      <td>Sussex Muster</td>\n",
              "      <td>3404105</td>\n",
              "      <td>1886</td>\n",
              "      <td>3</td>\n",
              "      <td>None</td>\n",
              "      <td>Zed Run</td>\n",
              "      <td>0.333</td>\n",
              "      <td>{'trait_type': 'gender', 'value': 'Female', 'd...</td>\n",
              "      <td>{'trait_type': 'bloodline', 'value': 'Szabo', ...</td>\n",
              "      <td>{'trait_type': 'coat_color', 'value': 'Chrome ...</td>\n",
              "      <td>{'trait_type': 'genotype', 'value': 'Z4', 'dis...</td>\n",
              "      <td>{'trait_type': 'horse_type', 'value': 'Mare', ...</td>\n",
              "      <td>{'trait_type': 'breed_type', 'value': 'genesis...</td>\n",
              "      <td>NaN</td>\n",
              "      <td>NaN</td>\n",
              "      <td>NaN</td>\n",
              "      <td>NaN</td>\n",
              "      <td>NaN</td>\n",
              "      <td>NaN</td>\n",
              "      <td>NaN</td>\n",
              "      <td>NaN</td>\n",
              "      <td>NaN</td>\n",
              "      <td>NaN</td>\n",
              "      <td>NaN</td>\n",
              "      <td>NaN</td>\n",
              "      <td>NaN</td>\n",
              "    </tr>\n",
              "    <tr>\n",
              "      <th>48</th>\n",
              "      <td>Pyro Hero</td>\n",
              "      <td>3307434</td>\n",
              "      <td>1394</td>\n",
              "      <td>3</td>\n",
              "      <td>None</td>\n",
              "      <td>Zed Run</td>\n",
              "      <td>0.450</td>\n",
              "      <td>{'trait_type': 'coat_color', 'value': 'Thistle...</td>\n",
              "      <td>{'trait_type': 'gender', 'value': 'Female', 'd...</td>\n",
              "      <td>{'trait_type': 'bloodline', 'value': 'Szabo', ...</td>\n",
              "      <td>{'trait_type': 'genotype', 'value': 'Z3', 'dis...</td>\n",
              "      <td>{'trait_type': 'horse_type', 'value': 'Mare', ...</td>\n",
              "      <td>{'trait_type': 'breed_type', 'value': 'genesis...</td>\n",
              "      <td>NaN</td>\n",
              "      <td>NaN</td>\n",
              "      <td>NaN</td>\n",
              "      <td>NaN</td>\n",
              "      <td>NaN</td>\n",
              "      <td>NaN</td>\n",
              "      <td>NaN</td>\n",
              "      <td>NaN</td>\n",
              "      <td>NaN</td>\n",
              "      <td>NaN</td>\n",
              "      <td>NaN</td>\n",
              "      <td>NaN</td>\n",
              "      <td>NaN</td>\n",
              "    </tr>\n",
              "    <tr>\n",
              "      <th>49</th>\n",
              "      <td>Tornado</td>\n",
              "      <td>14462054</td>\n",
              "      <td>5256</td>\n",
              "      <td>3</td>\n",
              "      <td>None</td>\n",
              "      <td>Zed Run</td>\n",
              "      <td>0.190</td>\n",
              "      <td>{'trait_type': 'bloodline', 'value': 'Nakamoto...</td>\n",
              "      <td>{'trait_type': 'gender', 'value': 'Female', 'd...</td>\n",
              "      <td>{'trait_type': 'coat_color', 'value': 'Taupe',...</td>\n",
              "      <td>{'trait_type': 'genotype', 'value': 'Z3', 'dis...</td>\n",
              "      <td>{'trait_type': 'horse_type', 'value': 'Mare', ...</td>\n",
              "      <td>{'trait_type': 'breed_type', 'value': 'exclusi...</td>\n",
              "      <td>NaN</td>\n",
              "      <td>NaN</td>\n",
              "      <td>NaN</td>\n",
              "      <td>NaN</td>\n",
              "      <td>NaN</td>\n",
              "      <td>NaN</td>\n",
              "      <td>NaN</td>\n",
              "      <td>NaN</td>\n",
              "      <td>NaN</td>\n",
              "      <td>NaN</td>\n",
              "      <td>NaN</td>\n",
              "      <td>NaN</td>\n",
              "      <td>NaN</td>\n",
              "    </tr>\n",
              "    <tr>\n",
              "      <th>0</th>\n",
              "      <td>#4</td>\n",
              "      <td>60149140</td>\n",
              "      <td>4</td>\n",
              "      <td>1</td>\n",
              "      <td>None</td>\n",
              "      <td>ZombieToadz</td>\n",
              "      <td>0.070</td>\n",
              "      <td>{'trait_type': 'background', 'value': 'Ocean',...</td>\n",
              "      <td>{'trait_type': 'body', 'value': 'Red', 'displa...</td>\n",
              "      <td>{'trait_type': 'brain', 'value': 'mushedbrain'...</td>\n",
              "      <td>{'trait_type': 'eyes', 'value': 'sidelook', 'd...</td>\n",
              "      <td>{'trait_type': 'lips', 'value': 'darksmile', '...</td>\n",
              "      <td>{'trait_type': 'blood', 'value': 'HalfBlood', ...</td>\n",
              "      <td>NaN</td>\n",
              "      <td>NaN</td>\n",
              "      <td>NaN</td>\n",
              "      <td>NaN</td>\n",
              "      <td>NaN</td>\n",
              "      <td>NaN</td>\n",
              "      <td>NaN</td>\n",
              "      <td>NaN</td>\n",
              "      <td>NaN</td>\n",
              "      <td>NaN</td>\n",
              "      <td>NaN</td>\n",
              "      <td>NaN</td>\n",
              "      <td>NaN</td>\n",
              "    </tr>\n",
              "  </tbody>\n",
              "</table>\n",
              "<p>2915 rows × 26 columns</p>\n",
              "</div>"
            ],
            "text/plain": [
              "       Asset Name  Asset ID Token ID  ...  Trait17 Trait18 Trait19\n",
              "0       0N1 #6911  38109417     6911  ...      NaN     NaN     NaN\n",
              "1       0N1 #3338  38105661     3338  ...      NaN     NaN     NaN\n",
              "2       0N1 #1601  37768360     1601  ...      NaN     NaN     NaN\n",
              "3       0N1 #2181  38104277     2181  ...      NaN     NaN     NaN\n",
              "4       0N1 #4796  38107072     4796  ...      NaN     NaN     NaN\n",
              "..            ...       ...      ...  ...      ...     ...     ...\n",
              "46   Miss Thought   3409840     1910  ...      NaN     NaN     NaN\n",
              "47  Sussex Muster   3404105     1886  ...      NaN     NaN     NaN\n",
              "48      Pyro Hero   3307434     1394  ...      NaN     NaN     NaN\n",
              "49        Tornado  14462054     5256  ...      NaN     NaN     NaN\n",
              "0              #4  60149140        4  ...      NaN     NaN     NaN\n",
              "\n",
              "[2915 rows x 26 columns]"
            ]
          },
          "metadata": {},
          "execution_count": 55
        }
      ]
    },
    {
      "cell_type": "code",
      "metadata": {
        "colab": {
          "base_uri": "https://localhost:8080/"
        },
        "id": "khth1rygXLkg",
        "outputId": "1daf7a23-c057-4d5a-cdf9-bf41c880bb3a"
      },
      "source": [
        "collection_data_df['Trait1'].isnull().sum().sum()"
      ],
      "execution_count": 58,
      "outputs": [
        {
          "output_type": "execute_result",
          "data": {
            "text/plain": [
              "514"
            ]
          },
          "metadata": {},
          "execution_count": 58
        }
      ]
    },
    {
      "cell_type": "code",
      "metadata": {
        "colab": {
          "base_uri": "https://localhost:8080/"
        },
        "id": "ZqSeark-jhdH",
        "outputId": "01dab252-067b-4894-8efb-a099efae4e7e"
      },
      "source": [
        "collection_data_df['Trait2'].isnull().sum().sum()"
      ],
      "execution_count": 59,
      "outputs": [
        {
          "output_type": "execute_result",
          "data": {
            "text/plain": [
              "623"
            ]
          },
          "metadata": {},
          "execution_count": 59
        }
      ]
    },
    {
      "cell_type": "code",
      "metadata": {
        "colab": {
          "base_uri": "https://localhost:8080/"
        },
        "id": "TjsQUmv7kwro",
        "outputId": "4e6f5420-8020-4202-866c-0d409b7fcb4d"
      },
      "source": [
        "collection_data_df['Trait3'].isnull().sum().sum()"
      ],
      "execution_count": 60,
      "outputs": [
        {
          "output_type": "execute_result",
          "data": {
            "text/plain": [
              "663"
            ]
          },
          "metadata": {},
          "execution_count": 60
        }
      ]
    },
    {
      "cell_type": "code",
      "metadata": {
        "colab": {
          "base_uri": "https://localhost:8080/"
        },
        "id": "EVUEny2RkzBG",
        "outputId": "e0c5029b-f40a-4b15-f07c-02c5391d78f9"
      },
      "source": [
        "collection_data_df['Trait4'].isnull().sum().sum()"
      ],
      "execution_count": 61,
      "outputs": [
        {
          "output_type": "execute_result",
          "data": {
            "text/plain": [
              "784"
            ]
          },
          "metadata": {},
          "execution_count": 61
        }
      ]
    },
    {
      "cell_type": "code",
      "metadata": {
        "colab": {
          "base_uri": "https://localhost:8080/"
        },
        "id": "C1H4SfGWk0ze",
        "outputId": "acfdccab-727a-4f49-a8a3-2efcc88a0e70"
      },
      "source": [
        "collection_data_df['Trait19'].isnull().sum().sum()"
      ],
      "execution_count": 65,
      "outputs": [
        {
          "output_type": "execute_result",
          "data": {
            "text/plain": [
              "2914"
            ]
          },
          "metadata": {},
          "execution_count": 65
        }
      ]
    }
  ]
}