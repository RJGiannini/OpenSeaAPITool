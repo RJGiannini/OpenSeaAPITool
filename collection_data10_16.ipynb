{
  "nbformat": 4,
  "nbformat_minor": 0,
  "metadata": {
    "colab": {
      "name": "collection_data10_16.ipynb",
      "provenance": [],
      "collapsed_sections": []
    },
    "kernelspec": {
      "name": "python3",
      "display_name": "Python 3"
    },
    "language_info": {
      "name": "python"
    }
  },
  "cells": [
    {
      "cell_type": "code",
      "metadata": {
        "id": "-FIgqUXWJE_X"
      },
      "source": [
        "# multiple import packages necessary for data cleaning and model creation.\n",
        "\n",
        "import numpy as np\n",
        "import pandas as pd\n",
        "import requests\n",
        "import json\n",
        "from pprint import pprint\n",
        "from sklearn.preprocessing import LabelEncoder\n",
        "from sklearn.model_selection import train_test_split\n",
        "from sklearn.preprocessing import StandardScaler,OneHotEncoder\n"
      ],
      "execution_count": 1,
      "outputs": []
    },
    {
      "cell_type": "code",
      "metadata": {
        "colab": {
          "resources": {
            "http://localhost:8080/nbextensions/google.colab/files.js": {
              "data": "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",
              "ok": true,
              "headers": [
                [
                  "content-type",
                  "application/javascript"
                ]
              ],
              "status": 200,
              "status_text": ""
            }
          },
          "base_uri": "https://localhost:8080/",
          "height": 73
        },
        "id": "UTcVOeChKMTF",
        "outputId": "d5e6ccc2-bbbe-4d7b-9e51-489dcbe550f9"
      },
      "source": [
        "# Upload collections_list.xlsx to Colab.  This file is a list of the 100 most popular NFT collections on OpenSea\n",
        "from google.colab import files\n",
        "\n",
        "csv_file = files.upload()"
      ],
      "execution_count": 2,
      "outputs": [
        {
          "output_type": "display_data",
          "data": {
            "text/html": [
              "\n",
              "     <input type=\"file\" id=\"files-132e5d8a-3e60-4301-9c2d-e1464c803227\" name=\"files[]\" multiple disabled\n",
              "        style=\"border:none\" />\n",
              "     <output id=\"result-132e5d8a-3e60-4301-9c2d-e1464c803227\">\n",
              "      Upload widget is only available when the cell has been executed in the\n",
              "      current browser session. Please rerun this cell to enable.\n",
              "      </output>\n",
              "      <script src=\"/nbextensions/google.colab/files.js\"></script> "
            ],
            "text/plain": [
              "<IPython.core.display.HTML object>"
            ]
          },
          "metadata": {}
        },
        {
          "output_type": "stream",
          "name": "stdout",
          "text": [
            "Saving collections_list.xlsx to collections_list.xlsx\n"
          ]
        }
      ]
    },
    {
      "cell_type": "code",
      "metadata": {
        "id": "Wl5ipMs_JJxk"
      },
      "source": [
        "# Read the collections_list.xlsx file from the Resources folder into a Pandas DataFrame\n",
        "collections_df = pd.read_excel(\"collections_list.xlsx\",'main')\n",
        "\n",
        "# Review the DataFrame\n",
        "#collections_df"
      ],
      "execution_count": 4,
      "outputs": []
    },
    {
      "cell_type": "code",
      "metadata": {
        "id": "A2NBNc5XJMRQ"
      },
      "source": [
        "#converting the list of collections into a list so we can modify the names to fit the API call\n",
        "collection_list = [x for x in collections_df['Name']]"
      ],
      "execution_count": 5,
      "outputs": []
    },
    {
      "cell_type": "code",
      "metadata": {
        "id": "1RWMkDpOLGtq"
      },
      "source": [
        "#collection_list_two updates the list by replacing spacing with a dash mark.  This is necessary to fit the API\n",
        "collection_list_two = []\n",
        "for i in collection_list:\n",
        "  collection_list_two.append(i.replace(\" \", \"-\"))\n",
        " "
      ],
      "execution_count": 9,
      "outputs": []
    },
    {
      "cell_type": "code",
      "metadata": {
        "id": "vEmlU5bbLOcb"
      },
      "source": [
        "#collection_list_three updates the previous list to make sure everyting is lowercase.  This is necessary for the API call\n",
        "collection_list_three = []\n",
        "for i in collection_list_two:\n",
        "  collection_list_three.append(i.lower())"
      ],
      "execution_count": 10,
      "outputs": []
    },
    {
      "cell_type": "code",
      "metadata": {
        "id": "ElwNxft1LSwl"
      },
      "source": [
        "#to call the API, we first set an empty DataFrame object.  We then loop through the list of 100 collections and call approximately 50 NFT assets each. \n",
        "#the API as a 50 at a time call limit, but we can get around this by looping through multiple 50 NFT api calls.\n",
        "\n",
        "df = pd.DataFrame()\n",
        "for collection in collection_list_three:\n",
        "  \n",
        "  url = \"https://api.opensea.io/api/v1/assets?order_by=sale_count&order_direction=desc&offset=0&limit=50&collection=\" + collection\n",
        "\n",
        "  JSONContent = requests.get(url).json()\n",
        "\n",
        "  content = json.dumps(JSONContent, indent = 2, sort_keys=True)\n",
        "#converting JSON content and appending into the once empty pandas dataframe\n",
        "  JSONContent.keys()\n",
        "\n",
        "  df = df.append(JSONContent[\"assets\"])"
      ],
      "execution_count": 11,
      "outputs": []
    },
    {
      "cell_type": "code",
      "metadata": {
        "id": "nDF4mz8VKgxk"
      },
      "source": [
        "#df"
      ],
      "execution_count": null,
      "outputs": []
    },
    {
      "cell_type": "code",
      "metadata": {
        "id": "5yM_sqtaRS8O"
      },
      "source": [
        "collection_df = df['collection'].apply(pd.Series)\n",
        "#collection_df"
      ],
      "execution_count": 12,
      "outputs": []
    },
    {
      "cell_type": "code",
      "metadata": {
        "id": "cx4gloR0RjDt"
      },
      "source": [
        "#Collection Name\n",
        "collection_name = collection_df[\"name\"].apply(pd.Series)\n",
        "collection_name.columns = ['Collection Name']\n",
        "#collection_name"
      ],
      "execution_count": 13,
      "outputs": []
    },
    {
      "cell_type": "code",
      "metadata": {
        "id": "4Fhut8skPKIp"
      },
      "source": [
        "last_sale_df = df['last_sale'].apply(pd.Series)\n",
        "#last_sale_df"
      ],
      "execution_count": 14,
      "outputs": []
    },
    {
      "cell_type": "code",
      "metadata": {
        "id": "71UatdS-QZPb"
      },
      "source": [
        "#Last Sale Price in ETH\n",
        "total_price = last_sale_df['total_price'].apply(pd.Series)\n",
        "total_price.columns = ['Last Sale Price ETH']\n",
        "total_price = total_price.astype(float)* 0.000000000000000001\n",
        "total_price = total_price.fillna(0)\n",
        "#total_price"
      ],
      "execution_count": 15,
      "outputs": []
    },
    {
      "cell_type": "code",
      "metadata": {
        "id": "OOKSgigoSB3Y"
      },
      "source": [
        "#payment_token_df = last_sale_df['payment_token'].apply(pd.Series)\n",
        "#payment_token_df"
      ],
      "execution_count": null,
      "outputs": []
    },
    {
      "cell_type": "code",
      "metadata": {
        "id": "GCPIUXniSt69"
      },
      "source": [
        "#Current ETH TO USD price\n",
        "#usd_price = payment_token_df['usd_price'].apply(pd.Series)\n",
        "#usd_price.columns = ['ETH TO USD']\n",
        "#usd_price = usd_price.astype(float)"
      ],
      "execution_count": null,
      "outputs": []
    },
    {
      "cell_type": "code",
      "metadata": {
        "id": "vtDiSygJa-1r"
      },
      "source": [
        "background_color = df['background_color']\n",
        "#background_color"
      ],
      "execution_count": 16,
      "outputs": []
    },
    {
      "cell_type": "code",
      "metadata": {
        "colab": {
          "base_uri": "https://localhost:8080/"
        },
        "id": "qo5GjIb9nHHs",
        "outputId": "6ebb0fdd-dd38-4ac3-e4e6-6c488709d9d8"
      },
      "source": [
        "df['traits']"
      ],
      "execution_count": 17,
      "outputs": [
        {
          "output_type": "execute_result",
          "data": {
            "text/plain": [
              "0     [{'trait_type': 'Strength', 'value': 3, 'displ...\n",
              "1     [{'trait_type': 'Eyes', 'value': 'Half Open (A...\n",
              "2     [{'trait_type': 'Extra', 'value': '0N1 Logo Pi...\n",
              "3     [{'trait_type': 'Extra', 'value': '0N1 Logo Pi...\n",
              "4     [{'trait_type': 'Extra', 'value': '0N1 Logo Pi...\n",
              "                            ...                        \n",
              "46    [{'trait_type': 'breed_type', 'value': 'genesi...\n",
              "47    [{'trait_type': 'breed_type', 'value': 'genesi...\n",
              "48    [{'trait_type': 'breed_type', 'value': 'genesi...\n",
              "49    [{'trait_type': 'bloodline', 'value': 'Nakamot...\n",
              "0     [{'trait_type': 'background', 'value': 'Ocean'...\n",
              "Name: traits, Length: 2852, dtype: object"
            ]
          },
          "metadata": {},
          "execution_count": 17
        }
      ]
    },
    {
      "cell_type": "code",
      "metadata": {
        "id": "QiReHE-xVpOb",
        "colab": {
          "base_uri": "https://localhost:8080/",
          "height": 1000
        },
        "outputId": "55fbffd2-9803-4301-ad2a-4a6974a4fc1f"
      },
      "source": [
        "#Creates New Columns and Lists Asset Traits\n",
        "traits = df['traits'].apply(pd.Series)\n",
        "traits.columns = ['Trait1', 'Trait2', 'Trait3', 'Trait4',\n",
        "                  'Trait5', 'Trait6', 'Trait7', 'Trait8',\n",
        "                  'Trait9', 'Trait10', 'Trait11', 'Trait12',\n",
        "                  'Trait13', 'Trait14', 'Trait15']\n",
        "\n",
        "traits"
      ],
      "execution_count": 19,
      "outputs": [
        {
          "output_type": "execute_result",
          "data": {
            "text/html": [
              "<div>\n",
              "<style scoped>\n",
              "    .dataframe tbody tr th:only-of-type {\n",
              "        vertical-align: middle;\n",
              "    }\n",
              "\n",
              "    .dataframe tbody tr th {\n",
              "        vertical-align: top;\n",
              "    }\n",
              "\n",
              "    .dataframe thead th {\n",
              "        text-align: right;\n",
              "    }\n",
              "</style>\n",
              "<table border=\"1\" class=\"dataframe\">\n",
              "  <thead>\n",
              "    <tr style=\"text-align: right;\">\n",
              "      <th></th>\n",
              "      <th>Trait1</th>\n",
              "      <th>Trait2</th>\n",
              "      <th>Trait3</th>\n",
              "      <th>Trait4</th>\n",
              "      <th>Trait5</th>\n",
              "      <th>Trait6</th>\n",
              "      <th>Trait7</th>\n",
              "      <th>Trait8</th>\n",
              "      <th>Trait9</th>\n",
              "      <th>Trait10</th>\n",
              "      <th>Trait11</th>\n",
              "      <th>Trait12</th>\n",
              "      <th>Trait13</th>\n",
              "      <th>Trait14</th>\n",
              "      <th>Trait15</th>\n",
              "    </tr>\n",
              "  </thead>\n",
              "  <tbody>\n",
              "    <tr>\n",
              "      <th>0</th>\n",
              "      <td>{'trait_type': 'Strength', 'value': 3, 'displa...</td>\n",
              "      <td>{'trait_type': 'Spirit', 'value': 1, 'display_...</td>\n",
              "      <td>{'trait_type': 'Background', 'value': 'Citrine...</td>\n",
              "      <td>{'trait_type': 'Eyes', 'value': 'Open (Citrine...</td>\n",
              "      <td>{'trait_type': 'Style', 'value': 3, 'display_t...</td>\n",
              "      <td>{'trait_type': 'Mouth', 'value': 'Neutral', 'd...</td>\n",
              "      <td>{'trait_type': 'Head', 'value': 'Headphones (P...</td>\n",
              "      <td>{'trait_type': 'Hair', 'value': 'Bob (Rose)', ...</td>\n",
              "      <td>{'trait_type': 'Type', 'value': 'Y0K-A1', 'dis...</td>\n",
              "      <td>{'trait_type': 'Wear', 'value': 'Thermal Hoodi...</td>\n",
              "      <td>{'trait_type': 'Body', 'value': 'Jasper', 'dis...</td>\n",
              "      <td>{'trait_type': 'Extra', 'value': 'Void', 'disp...</td>\n",
              "      <td>{'trait_type': 'Face', 'value': 'Glasses (Obsi...</td>\n",
              "      <td>NaN</td>\n",
              "      <td>NaN</td>\n",
              "    </tr>\n",
              "    <tr>\n",
              "      <th>1</th>\n",
              "      <td>{'trait_type': 'Eyes', 'value': 'Half Open (Az...</td>\n",
              "      <td>{'trait_type': 'Spirit', 'value': 2, 'display_...</td>\n",
              "      <td>{'trait_type': 'Style', 'value': 3, 'display_t...</td>\n",
              "      <td>{'trait_type': 'Strength', 'value': 5, 'displa...</td>\n",
              "      <td>{'trait_type': 'Body', 'value': 'Azurite', 'di...</td>\n",
              "      <td>{'trait_type': 'Face', 'value': 'Bandaid', 'di...</td>\n",
              "      <td>{'trait_type': 'Head', 'value': 'Void', 'displ...</td>\n",
              "      <td>{'trait_type': 'Wear', 'value': 'Bomber Jacket...</td>\n",
              "      <td>{'trait_type': 'Type', 'value': 'Y0K-A1', 'dis...</td>\n",
              "      <td>{'trait_type': 'Background', 'value': 'Azurite...</td>\n",
              "      <td>{'trait_type': 'Extra', 'value': 'Void', 'disp...</td>\n",
              "      <td>{'trait_type': 'Mouth', 'value': 'Smirk', 'dis...</td>\n",
              "      <td>{'trait_type': 'Hair', 'value': 'Spiky (Obsidi...</td>\n",
              "      <td>NaN</td>\n",
              "      <td>NaN</td>\n",
              "    </tr>\n",
              "    <tr>\n",
              "      <th>2</th>\n",
              "      <td>{'trait_type': 'Extra', 'value': '0N1 Logo Pin...</td>\n",
              "      <td>{'trait_type': 'Hair', 'value': 'Spiky (Citrin...</td>\n",
              "      <td>{'trait_type': 'Face', 'value': 'PR Mask (Jasp...</td>\n",
              "      <td>{'trait_type': 'Style', 'value': 5, 'display_t...</td>\n",
              "      <td>{'trait_type': 'Body', 'value': 'Azurite', 'di...</td>\n",
              "      <td>{'trait_type': 'Mouth', 'value': 'Neutral', 'd...</td>\n",
              "      <td>{'trait_type': 'Spirit', 'value': 4, 'display_...</td>\n",
              "      <td>{'trait_type': 'Head', 'value': 'Headphones (P...</td>\n",
              "      <td>{'trait_type': 'Strength', 'value': 4, 'displa...</td>\n",
              "      <td>{'trait_type': 'Type', 'value': 'Y0K-A1', 'dis...</td>\n",
              "      <td>{'trait_type': 'Background', 'value': 'Azurite...</td>\n",
              "      <td>{'trait_type': 'Wear', 'value': 'Thermal Hoodi...</td>\n",
              "      <td>{'trait_type': 'Eyes', 'value': 'Squint (Azuri...</td>\n",
              "      <td>NaN</td>\n",
              "      <td>NaN</td>\n",
              "    </tr>\n",
              "    <tr>\n",
              "      <th>3</th>\n",
              "      <td>{'trait_type': 'Extra', 'value': '0N1 Logo Pin...</td>\n",
              "      <td>{'trait_type': 'Wear', 'value': 'Kimono (Rose)...</td>\n",
              "      <td>{'trait_type': 'Background', 'value': 'Citrine...</td>\n",
              "      <td>{'trait_type': 'Head', 'value': 'Headphones (T...</td>\n",
              "      <td>{'trait_type': 'Style', 'value': 3, 'display_t...</td>\n",
              "      <td>{'trait_type': 'Eyes', 'value': 'Half Open (Ci...</td>\n",
              "      <td>{'trait_type': 'Body', 'value': 'Azurite', 'di...</td>\n",
              "      <td>{'trait_type': 'Mouth', 'value': 'Neutral', 'd...</td>\n",
              "      <td>{'trait_type': 'Face', 'value': 'Nose Scar', '...</td>\n",
              "      <td>{'trait_type': 'Hair', 'value': 'Bob (Obsidian...</td>\n",
              "      <td>{'trait_type': 'Spirit', 'value': 4, 'display_...</td>\n",
              "      <td>{'trait_type': 'Type', 'value': 'Y0K-A1', 'dis...</td>\n",
              "      <td>{'trait_type': 'Strength', 'value': 1, 'displa...</td>\n",
              "      <td>NaN</td>\n",
              "      <td>NaN</td>\n",
              "    </tr>\n",
              "    <tr>\n",
              "      <th>4</th>\n",
              "      <td>{'trait_type': 'Extra', 'value': '0N1 Logo Pin...</td>\n",
              "      <td>{'trait_type': 'Face', 'value': 'Glasses (Pear...</td>\n",
              "      <td>{'trait_type': 'Style', 'value': 1, 'display_t...</td>\n",
              "      <td>{'trait_type': 'Strength', 'value': 3, 'displa...</td>\n",
              "      <td>{'trait_type': 'Spirit', 'value': 5, 'display_...</td>\n",
              "      <td>{'trait_type': 'Eyes', 'value': 'Half Open (Ci...</td>\n",
              "      <td>{'trait_type': 'Head', 'value': 'Pen', 'displa...</td>\n",
              "      <td>{'trait_type': 'Type', 'value': 'Y0K-A1', 'dis...</td>\n",
              "      <td>{'trait_type': 'Wear', 'value': 'Track Jacket ...</td>\n",
              "      <td>{'trait_type': 'Body', 'value': 'Jasper', 'dis...</td>\n",
              "      <td>{'trait_type': 'Mouth', 'value': 'Smirk', 'dis...</td>\n",
              "      <td>{'trait_type': 'Background', 'value': 'Jasper'...</td>\n",
              "      <td>{'trait_type': 'Hair', 'value': 'Ponytail (Ros...</td>\n",
              "      <td>NaN</td>\n",
              "      <td>NaN</td>\n",
              "    </tr>\n",
              "    <tr>\n",
              "      <th>...</th>\n",
              "      <td>...</td>\n",
              "      <td>...</td>\n",
              "      <td>...</td>\n",
              "      <td>...</td>\n",
              "      <td>...</td>\n",
              "      <td>...</td>\n",
              "      <td>...</td>\n",
              "      <td>...</td>\n",
              "      <td>...</td>\n",
              "      <td>...</td>\n",
              "      <td>...</td>\n",
              "      <td>...</td>\n",
              "      <td>...</td>\n",
              "      <td>...</td>\n",
              "      <td>...</td>\n",
              "    </tr>\n",
              "    <tr>\n",
              "      <th>46</th>\n",
              "      <td>{'trait_type': 'breed_type', 'value': 'genesis...</td>\n",
              "      <td>{'trait_type': 'bloodline', 'value': 'Nakamoto...</td>\n",
              "      <td>{'trait_type': 'coat_color', 'value': 'Coral W...</td>\n",
              "      <td>{'trait_type': 'gender', 'value': 'Female', 'd...</td>\n",
              "      <td>{'trait_type': 'genotype', 'value': 'Z1', 'dis...</td>\n",
              "      <td>{'trait_type': 'horse_type', 'value': 'Mare', ...</td>\n",
              "      <td>NaN</td>\n",
              "      <td>NaN</td>\n",
              "      <td>NaN</td>\n",
              "      <td>NaN</td>\n",
              "      <td>NaN</td>\n",
              "      <td>NaN</td>\n",
              "      <td>NaN</td>\n",
              "      <td>NaN</td>\n",
              "      <td>NaN</td>\n",
              "    </tr>\n",
              "    <tr>\n",
              "      <th>47</th>\n",
              "      <td>{'trait_type': 'breed_type', 'value': 'genesis...</td>\n",
              "      <td>{'trait_type': 'coat_color', 'value': 'Golden ...</td>\n",
              "      <td>{'trait_type': 'bloodline', 'value': 'Finney',...</td>\n",
              "      <td>{'trait_type': 'gender', 'value': 'Male', 'dis...</td>\n",
              "      <td>{'trait_type': 'horse_type', 'value': 'Colt', ...</td>\n",
              "      <td>{'trait_type': 'genotype', 'value': 'Z7', 'dis...</td>\n",
              "      <td>NaN</td>\n",
              "      <td>NaN</td>\n",
              "      <td>NaN</td>\n",
              "      <td>NaN</td>\n",
              "      <td>NaN</td>\n",
              "      <td>NaN</td>\n",
              "      <td>NaN</td>\n",
              "      <td>NaN</td>\n",
              "      <td>NaN</td>\n",
              "    </tr>\n",
              "    <tr>\n",
              "      <th>48</th>\n",
              "      <td>{'trait_type': 'breed_type', 'value': 'genesis...</td>\n",
              "      <td>{'trait_type': 'coat_color', 'value': 'Golden ...</td>\n",
              "      <td>{'trait_type': 'gender', 'value': 'Male', 'dis...</td>\n",
              "      <td>{'trait_type': 'bloodline', 'value': 'Nakamoto...</td>\n",
              "      <td>{'trait_type': 'genotype', 'value': 'Z1', 'dis...</td>\n",
              "      <td>{'trait_type': 'horse_type', 'value': 'Stallio...</td>\n",
              "      <td>NaN</td>\n",
              "      <td>NaN</td>\n",
              "      <td>NaN</td>\n",
              "      <td>NaN</td>\n",
              "      <td>NaN</td>\n",
              "      <td>NaN</td>\n",
              "      <td>NaN</td>\n",
              "      <td>NaN</td>\n",
              "      <td>NaN</td>\n",
              "    </tr>\n",
              "    <tr>\n",
              "      <th>49</th>\n",
              "      <td>{'trait_type': 'bloodline', 'value': 'Nakamoto...</td>\n",
              "      <td>{'trait_type': 'horse_type', 'value': 'Mare', ...</td>\n",
              "      <td>{'trait_type': 'gender', 'value': 'Female', 'd...</td>\n",
              "      <td>{'trait_type': 'coat_color', 'value': 'Cyclame...</td>\n",
              "      <td>{'trait_type': 'genotype', 'value': 'Z4', 'dis...</td>\n",
              "      <td>{'trait_type': 'breed_type', 'value': 'exclusi...</td>\n",
              "      <td>NaN</td>\n",
              "      <td>NaN</td>\n",
              "      <td>NaN</td>\n",
              "      <td>NaN</td>\n",
              "      <td>NaN</td>\n",
              "      <td>NaN</td>\n",
              "      <td>NaN</td>\n",
              "      <td>NaN</td>\n",
              "      <td>NaN</td>\n",
              "    </tr>\n",
              "    <tr>\n",
              "      <th>0</th>\n",
              "      <td>{'trait_type': 'background', 'value': 'Ocean',...</td>\n",
              "      <td>{'trait_type': 'body', 'value': 'Red', 'displa...</td>\n",
              "      <td>{'trait_type': 'brain', 'value': 'mushedbrain'...</td>\n",
              "      <td>{'trait_type': 'eyes', 'value': 'sidelook', 'd...</td>\n",
              "      <td>{'trait_type': 'lips', 'value': 'darksmile', '...</td>\n",
              "      <td>{'trait_type': 'blood', 'value': 'HalfBlood', ...</td>\n",
              "      <td>NaN</td>\n",
              "      <td>NaN</td>\n",
              "      <td>NaN</td>\n",
              "      <td>NaN</td>\n",
              "      <td>NaN</td>\n",
              "      <td>NaN</td>\n",
              "      <td>NaN</td>\n",
              "      <td>NaN</td>\n",
              "      <td>NaN</td>\n",
              "    </tr>\n",
              "  </tbody>\n",
              "</table>\n",
              "<p>2852 rows × 15 columns</p>\n",
              "</div>"
            ],
            "text/plain": [
              "                                               Trait1  ... Trait15\n",
              "0   {'trait_type': 'Strength', 'value': 3, 'displa...  ...     NaN\n",
              "1   {'trait_type': 'Eyes', 'value': 'Half Open (Az...  ...     NaN\n",
              "2   {'trait_type': 'Extra', 'value': '0N1 Logo Pin...  ...     NaN\n",
              "3   {'trait_type': 'Extra', 'value': '0N1 Logo Pin...  ...     NaN\n",
              "4   {'trait_type': 'Extra', 'value': '0N1 Logo Pin...  ...     NaN\n",
              "..                                                ...  ...     ...\n",
              "46  {'trait_type': 'breed_type', 'value': 'genesis...  ...     NaN\n",
              "47  {'trait_type': 'breed_type', 'value': 'genesis...  ...     NaN\n",
              "48  {'trait_type': 'breed_type', 'value': 'genesis...  ...     NaN\n",
              "49  {'trait_type': 'bloodline', 'value': 'Nakamoto...  ...     NaN\n",
              "0   {'trait_type': 'background', 'value': 'Ocean',...  ...     NaN\n",
              "\n",
              "[2852 rows x 15 columns]"
            ]
          },
          "metadata": {},
          "execution_count": 19
        }
      ]
    },
    {
      "cell_type": "code",
      "metadata": {
        "colab": {
          "base_uri": "https://localhost:8080/",
          "height": 1000
        },
        "id": "GSUHoevxKZpg",
        "outputId": "3347ebec-6b2c-4ebf-82b7-f51d45358d51"
      },
      "source": [
        "traits_two = traits.reset_index()\n",
        "traits_two"
      ],
      "execution_count": null,
      "outputs": [
        {
          "output_type": "execute_result",
          "data": {
            "text/html": [
              "<div>\n",
              "<style scoped>\n",
              "    .dataframe tbody tr th:only-of-type {\n",
              "        vertical-align: middle;\n",
              "    }\n",
              "\n",
              "    .dataframe tbody tr th {\n",
              "        vertical-align: top;\n",
              "    }\n",
              "\n",
              "    .dataframe thead th {\n",
              "        text-align: right;\n",
              "    }\n",
              "</style>\n",
              "<table border=\"1\" class=\"dataframe\">\n",
              "  <thead>\n",
              "    <tr style=\"text-align: right;\">\n",
              "      <th></th>\n",
              "      <th>index</th>\n",
              "      <th>Trait1</th>\n",
              "      <th>Trait2</th>\n",
              "      <th>Trait3</th>\n",
              "      <th>Trait4</th>\n",
              "      <th>Trait5</th>\n",
              "      <th>Trait6</th>\n",
              "      <th>Trait7</th>\n",
              "      <th>Trait8</th>\n",
              "      <th>Trait9</th>\n",
              "      <th>Trait10</th>\n",
              "      <th>Trait11</th>\n",
              "      <th>Trait12</th>\n",
              "      <th>Trait13</th>\n",
              "      <th>Trait14</th>\n",
              "      <th>Trait15</th>\n",
              "      <th>Trait16</th>\n",
              "      <th>Trait17</th>\n",
              "      <th>Trait18</th>\n",
              "    </tr>\n",
              "  </thead>\n",
              "  <tbody>\n",
              "    <tr>\n",
              "      <th>0</th>\n",
              "      <td>0</td>\n",
              "      <td>{'trait_type': 'Strength', 'value': 3, 'displa...</td>\n",
              "      <td>{'trait_type': 'Spirit', 'value': 1, 'display_...</td>\n",
              "      <td>{'trait_type': 'Background', 'value': 'Citrine...</td>\n",
              "      <td>{'trait_type': 'Eyes', 'value': 'Open (Citrine...</td>\n",
              "      <td>{'trait_type': 'Style', 'value': 3, 'display_t...</td>\n",
              "      <td>{'trait_type': 'Mouth', 'value': 'Neutral', 'd...</td>\n",
              "      <td>{'trait_type': 'Head', 'value': 'Headphones (P...</td>\n",
              "      <td>{'trait_type': 'Hair', 'value': 'Bob (Rose)', ...</td>\n",
              "      <td>{'trait_type': 'Type', 'value': 'Y0K-A1', 'dis...</td>\n",
              "      <td>{'trait_type': 'Wear', 'value': 'Thermal Hoodi...</td>\n",
              "      <td>{'trait_type': 'Body', 'value': 'Jasper', 'dis...</td>\n",
              "      <td>{'trait_type': 'Extra', 'value': 'Void', 'disp...</td>\n",
              "      <td>{'trait_type': 'Face', 'value': 'Glasses (Obsi...</td>\n",
              "      <td>NaN</td>\n",
              "      <td>NaN</td>\n",
              "      <td>NaN</td>\n",
              "      <td>NaN</td>\n",
              "      <td>NaN</td>\n",
              "    </tr>\n",
              "    <tr>\n",
              "      <th>1</th>\n",
              "      <td>1</td>\n",
              "      <td>{'trait_type': 'Eyes', 'value': 'Half Open (Az...</td>\n",
              "      <td>{'trait_type': 'Spirit', 'value': 2, 'display_...</td>\n",
              "      <td>{'trait_type': 'Style', 'value': 3, 'display_t...</td>\n",
              "      <td>{'trait_type': 'Strength', 'value': 5, 'displa...</td>\n",
              "      <td>{'trait_type': 'Body', 'value': 'Azurite', 'di...</td>\n",
              "      <td>{'trait_type': 'Face', 'value': 'Bandaid', 'di...</td>\n",
              "      <td>{'trait_type': 'Head', 'value': 'Void', 'displ...</td>\n",
              "      <td>{'trait_type': 'Wear', 'value': 'Bomber Jacket...</td>\n",
              "      <td>{'trait_type': 'Type', 'value': 'Y0K-A1', 'dis...</td>\n",
              "      <td>{'trait_type': 'Background', 'value': 'Azurite...</td>\n",
              "      <td>{'trait_type': 'Extra', 'value': 'Void', 'disp...</td>\n",
              "      <td>{'trait_type': 'Mouth', 'value': 'Smirk', 'dis...</td>\n",
              "      <td>{'trait_type': 'Hair', 'value': 'Spiky (Obsidi...</td>\n",
              "      <td>NaN</td>\n",
              "      <td>NaN</td>\n",
              "      <td>NaN</td>\n",
              "      <td>NaN</td>\n",
              "      <td>NaN</td>\n",
              "    </tr>\n",
              "    <tr>\n",
              "      <th>2</th>\n",
              "      <td>2</td>\n",
              "      <td>{'trait_type': 'Extra', 'value': '0N1 Logo Pin...</td>\n",
              "      <td>{'trait_type': 'Hair', 'value': 'Spiky (Citrin...</td>\n",
              "      <td>{'trait_type': 'Face', 'value': 'PR Mask (Jasp...</td>\n",
              "      <td>{'trait_type': 'Style', 'value': 5, 'display_t...</td>\n",
              "      <td>{'trait_type': 'Body', 'value': 'Azurite', 'di...</td>\n",
              "      <td>{'trait_type': 'Mouth', 'value': 'Neutral', 'd...</td>\n",
              "      <td>{'trait_type': 'Spirit', 'value': 4, 'display_...</td>\n",
              "      <td>{'trait_type': 'Head', 'value': 'Headphones (P...</td>\n",
              "      <td>{'trait_type': 'Strength', 'value': 4, 'displa...</td>\n",
              "      <td>{'trait_type': 'Type', 'value': 'Y0K-A1', 'dis...</td>\n",
              "      <td>{'trait_type': 'Background', 'value': 'Azurite...</td>\n",
              "      <td>{'trait_type': 'Wear', 'value': 'Thermal Hoodi...</td>\n",
              "      <td>{'trait_type': 'Eyes', 'value': 'Squint (Azuri...</td>\n",
              "      <td>NaN</td>\n",
              "      <td>NaN</td>\n",
              "      <td>NaN</td>\n",
              "      <td>NaN</td>\n",
              "      <td>NaN</td>\n",
              "    </tr>\n",
              "    <tr>\n",
              "      <th>3</th>\n",
              "      <td>3</td>\n",
              "      <td>{'trait_type': 'Extra', 'value': '0N1 Logo Pin...</td>\n",
              "      <td>{'trait_type': 'Wear', 'value': 'Kimono (Rose)...</td>\n",
              "      <td>{'trait_type': 'Background', 'value': 'Citrine...</td>\n",
              "      <td>{'trait_type': 'Head', 'value': 'Headphones (T...</td>\n",
              "      <td>{'trait_type': 'Style', 'value': 3, 'display_t...</td>\n",
              "      <td>{'trait_type': 'Eyes', 'value': 'Half Open (Ci...</td>\n",
              "      <td>{'trait_type': 'Body', 'value': 'Azurite', 'di...</td>\n",
              "      <td>{'trait_type': 'Mouth', 'value': 'Neutral', 'd...</td>\n",
              "      <td>{'trait_type': 'Face', 'value': 'Nose Scar', '...</td>\n",
              "      <td>{'trait_type': 'Hair', 'value': 'Bob (Obsidian...</td>\n",
              "      <td>{'trait_type': 'Spirit', 'value': 4, 'display_...</td>\n",
              "      <td>{'trait_type': 'Type', 'value': 'Y0K-A1', 'dis...</td>\n",
              "      <td>{'trait_type': 'Strength', 'value': 1, 'displa...</td>\n",
              "      <td>NaN</td>\n",
              "      <td>NaN</td>\n",
              "      <td>NaN</td>\n",
              "      <td>NaN</td>\n",
              "      <td>NaN</td>\n",
              "    </tr>\n",
              "    <tr>\n",
              "      <th>4</th>\n",
              "      <td>4</td>\n",
              "      <td>{'trait_type': 'Face', 'value': 'Void', 'displ...</td>\n",
              "      <td>{'trait_type': 'Background', 'value': 'Citrine...</td>\n",
              "      <td>{'trait_type': 'Eyes', 'value': 'Open (Citrine...</td>\n",
              "      <td>{'trait_type': 'Body', 'value': 'Azurite', 'di...</td>\n",
              "      <td>{'trait_type': 'Mouth', 'value': 'Neutral', 'd...</td>\n",
              "      <td>{'trait_type': 'Head', 'value': 'Void', 'displ...</td>\n",
              "      <td>{'trait_type': 'Wear', 'value': 'Bomber Jacket...</td>\n",
              "      <td>{'trait_type': 'Strength', 'value': 4, 'displa...</td>\n",
              "      <td>{'trait_type': 'Type', 'value': 'Y0K-A1', 'dis...</td>\n",
              "      <td>{'trait_type': 'Style', 'value': 1, 'display_t...</td>\n",
              "      <td>{'trait_type': 'Spirit', 'value': 1, 'display_...</td>\n",
              "      <td>{'trait_type': 'Hair', 'value': 'Half-Buzz (Tu...</td>\n",
              "      <td>{'trait_type': 'Extra', 'value': 'Earring (Dou...</td>\n",
              "      <td>NaN</td>\n",
              "      <td>NaN</td>\n",
              "      <td>NaN</td>\n",
              "      <td>NaN</td>\n",
              "      <td>NaN</td>\n",
              "    </tr>\n",
              "    <tr>\n",
              "      <th>...</th>\n",
              "      <td>...</td>\n",
              "      <td>...</td>\n",
              "      <td>...</td>\n",
              "      <td>...</td>\n",
              "      <td>...</td>\n",
              "      <td>...</td>\n",
              "      <td>...</td>\n",
              "      <td>...</td>\n",
              "      <td>...</td>\n",
              "      <td>...</td>\n",
              "      <td>...</td>\n",
              "      <td>...</td>\n",
              "      <td>...</td>\n",
              "      <td>...</td>\n",
              "      <td>...</td>\n",
              "      <td>...</td>\n",
              "      <td>...</td>\n",
              "      <td>...</td>\n",
              "      <td>...</td>\n",
              "    </tr>\n",
              "    <tr>\n",
              "      <th>2897</th>\n",
              "      <td>46</td>\n",
              "      <td>{'trait_type': 'breed_type', 'value': 'genesis...</td>\n",
              "      <td>{'trait_type': 'bloodline', 'value': 'Nakamoto...</td>\n",
              "      <td>{'trait_type': 'coat_color', 'value': 'Coral W...</td>\n",
              "      <td>{'trait_type': 'gender', 'value': 'Female', 'd...</td>\n",
              "      <td>{'trait_type': 'genotype', 'value': 'Z1', 'dis...</td>\n",
              "      <td>{'trait_type': 'horse_type', 'value': 'Mare', ...</td>\n",
              "      <td>NaN</td>\n",
              "      <td>NaN</td>\n",
              "      <td>NaN</td>\n",
              "      <td>NaN</td>\n",
              "      <td>NaN</td>\n",
              "      <td>NaN</td>\n",
              "      <td>NaN</td>\n",
              "      <td>NaN</td>\n",
              "      <td>NaN</td>\n",
              "      <td>NaN</td>\n",
              "      <td>NaN</td>\n",
              "      <td>NaN</td>\n",
              "    </tr>\n",
              "    <tr>\n",
              "      <th>2898</th>\n",
              "      <td>47</td>\n",
              "      <td>{'trait_type': 'breed_type', 'value': 'genesis...</td>\n",
              "      <td>{'trait_type': 'coat_color', 'value': 'Golden ...</td>\n",
              "      <td>{'trait_type': 'bloodline', 'value': 'Finney',...</td>\n",
              "      <td>{'trait_type': 'gender', 'value': 'Male', 'dis...</td>\n",
              "      <td>{'trait_type': 'horse_type', 'value': 'Colt', ...</td>\n",
              "      <td>{'trait_type': 'genotype', 'value': 'Z7', 'dis...</td>\n",
              "      <td>NaN</td>\n",
              "      <td>NaN</td>\n",
              "      <td>NaN</td>\n",
              "      <td>NaN</td>\n",
              "      <td>NaN</td>\n",
              "      <td>NaN</td>\n",
              "      <td>NaN</td>\n",
              "      <td>NaN</td>\n",
              "      <td>NaN</td>\n",
              "      <td>NaN</td>\n",
              "      <td>NaN</td>\n",
              "      <td>NaN</td>\n",
              "    </tr>\n",
              "    <tr>\n",
              "      <th>2899</th>\n",
              "      <td>48</td>\n",
              "      <td>{'trait_type': 'breed_type', 'value': 'genesis...</td>\n",
              "      <td>{'trait_type': 'coat_color', 'value': 'Golden ...</td>\n",
              "      <td>{'trait_type': 'gender', 'value': 'Male', 'dis...</td>\n",
              "      <td>{'trait_type': 'bloodline', 'value': 'Nakamoto...</td>\n",
              "      <td>{'trait_type': 'genotype', 'value': 'Z1', 'dis...</td>\n",
              "      <td>{'trait_type': 'horse_type', 'value': 'Stallio...</td>\n",
              "      <td>NaN</td>\n",
              "      <td>NaN</td>\n",
              "      <td>NaN</td>\n",
              "      <td>NaN</td>\n",
              "      <td>NaN</td>\n",
              "      <td>NaN</td>\n",
              "      <td>NaN</td>\n",
              "      <td>NaN</td>\n",
              "      <td>NaN</td>\n",
              "      <td>NaN</td>\n",
              "      <td>NaN</td>\n",
              "      <td>NaN</td>\n",
              "    </tr>\n",
              "    <tr>\n",
              "      <th>2900</th>\n",
              "      <td>49</td>\n",
              "      <td>{'trait_type': 'bloodline', 'value': 'Nakamoto...</td>\n",
              "      <td>{'trait_type': 'gender', 'value': 'Female', 'd...</td>\n",
              "      <td>{'trait_type': 'coat_color', 'value': 'Cyclame...</td>\n",
              "      <td>{'trait_type': 'genotype', 'value': 'Z4', 'dis...</td>\n",
              "      <td>{'trait_type': 'horse_type', 'value': 'Mare', ...</td>\n",
              "      <td>{'trait_type': 'breed_type', 'value': 'exclusi...</td>\n",
              "      <td>NaN</td>\n",
              "      <td>NaN</td>\n",
              "      <td>NaN</td>\n",
              "      <td>NaN</td>\n",
              "      <td>NaN</td>\n",
              "      <td>NaN</td>\n",
              "      <td>NaN</td>\n",
              "      <td>NaN</td>\n",
              "      <td>NaN</td>\n",
              "      <td>NaN</td>\n",
              "      <td>NaN</td>\n",
              "      <td>NaN</td>\n",
              "    </tr>\n",
              "    <tr>\n",
              "      <th>2901</th>\n",
              "      <td>0</td>\n",
              "      <td>{'trait_type': 'background', 'value': 'Ocean',...</td>\n",
              "      <td>{'trait_type': 'body', 'value': 'Red', 'displa...</td>\n",
              "      <td>{'trait_type': 'brain', 'value': 'mushedbrain'...</td>\n",
              "      <td>{'trait_type': 'eyes', 'value': 'sidelook', 'd...</td>\n",
              "      <td>{'trait_type': 'lips', 'value': 'darksmile', '...</td>\n",
              "      <td>{'trait_type': 'blood', 'value': 'HalfBlood', ...</td>\n",
              "      <td>NaN</td>\n",
              "      <td>NaN</td>\n",
              "      <td>NaN</td>\n",
              "      <td>NaN</td>\n",
              "      <td>NaN</td>\n",
              "      <td>NaN</td>\n",
              "      <td>NaN</td>\n",
              "      <td>NaN</td>\n",
              "      <td>NaN</td>\n",
              "      <td>NaN</td>\n",
              "      <td>NaN</td>\n",
              "      <td>NaN</td>\n",
              "    </tr>\n",
              "  </tbody>\n",
              "</table>\n",
              "<p>2902 rows × 19 columns</p>\n",
              "</div>"
            ],
            "text/plain": [
              "      index                                             Trait1  ... Trait17 Trait18\n",
              "0         0  {'trait_type': 'Strength', 'value': 3, 'displa...  ...     NaN     NaN\n",
              "1         1  {'trait_type': 'Eyes', 'value': 'Half Open (Az...  ...     NaN     NaN\n",
              "2         2  {'trait_type': 'Extra', 'value': '0N1 Logo Pin...  ...     NaN     NaN\n",
              "3         3  {'trait_type': 'Extra', 'value': '0N1 Logo Pin...  ...     NaN     NaN\n",
              "4         4  {'trait_type': 'Face', 'value': 'Void', 'displ...  ...     NaN     NaN\n",
              "...     ...                                                ...  ...     ...     ...\n",
              "2897     46  {'trait_type': 'breed_type', 'value': 'genesis...  ...     NaN     NaN\n",
              "2898     47  {'trait_type': 'breed_type', 'value': 'genesis...  ...     NaN     NaN\n",
              "2899     48  {'trait_type': 'breed_type', 'value': 'genesis...  ...     NaN     NaN\n",
              "2900     49  {'trait_type': 'bloodline', 'value': 'Nakamoto...  ...     NaN     NaN\n",
              "2901      0  {'trait_type': 'background', 'value': 'Ocean',...  ...     NaN     NaN\n",
              "\n",
              "[2902 rows x 19 columns]"
            ]
          },
          "metadata": {},
          "execution_count": 18
        }
      ]
    },
    {
      "cell_type": "code",
      "metadata": {
        "colab": {
          "base_uri": "https://localhost:8080/",
          "height": 606
        },
        "id": "NunLA5-CSlb1",
        "outputId": "1f785548-788e-4a8c-b5ab-76cf8063f5bc"
      },
      "source": [
        "traits['Trait1']['trait_type']"
      ],
      "execution_count": null,
      "outputs": [
        {
          "output_type": "error",
          "ename": "KeyError",
          "evalue": "ignored",
          "traceback": [
            "\u001b[0;31m---------------------------------------------------------------------------\u001b[0m",
            "\u001b[0;31mKeyError\u001b[0m                                  Traceback (most recent call last)",
            "\u001b[0;32m/usr/local/lib/python3.7/dist-packages/pandas/core/indexes/base.py\u001b[0m in \u001b[0;36mget_loc\u001b[0;34m(self, key, method, tolerance)\u001b[0m\n\u001b[1;32m   2897\u001b[0m             \u001b[0;32mtry\u001b[0m\u001b[0;34m:\u001b[0m\u001b[0;34m\u001b[0m\u001b[0;34m\u001b[0m\u001b[0m\n\u001b[0;32m-> 2898\u001b[0;31m                 \u001b[0;32mreturn\u001b[0m \u001b[0mself\u001b[0m\u001b[0;34m.\u001b[0m\u001b[0m_engine\u001b[0m\u001b[0;34m.\u001b[0m\u001b[0mget_loc\u001b[0m\u001b[0;34m(\u001b[0m\u001b[0mcasted_key\u001b[0m\u001b[0;34m)\u001b[0m\u001b[0;34m\u001b[0m\u001b[0;34m\u001b[0m\u001b[0m\n\u001b[0m\u001b[1;32m   2899\u001b[0m             \u001b[0;32mexcept\u001b[0m \u001b[0mKeyError\u001b[0m \u001b[0;32mas\u001b[0m \u001b[0merr\u001b[0m\u001b[0;34m:\u001b[0m\u001b[0;34m\u001b[0m\u001b[0;34m\u001b[0m\u001b[0m\n",
            "\u001b[0;32mpandas/_libs/index.pyx\u001b[0m in \u001b[0;36mpandas._libs.index.IndexEngine.get_loc\u001b[0;34m()\u001b[0m\n",
            "\u001b[0;32mpandas/_libs/index.pyx\u001b[0m in \u001b[0;36mpandas._libs.index.IndexEngine.get_loc\u001b[0;34m()\u001b[0m\n",
            "\u001b[0;32mpandas/_libs/index.pyx\u001b[0m in \u001b[0;36mpandas._libs.index.IndexEngine._get_loc_duplicates\u001b[0;34m()\u001b[0m\n",
            "\u001b[0;32mpandas/_libs/index_class_helper.pxi\u001b[0m in \u001b[0;36mpandas._libs.index.Int64Engine._maybe_get_bool_indexer\u001b[0;34m()\u001b[0m\n",
            "\u001b[0;32mpandas/_libs/index_class_helper.pxi\u001b[0m in \u001b[0;36mpandas._libs.index.Int64Engine._check_type\u001b[0;34m()\u001b[0m\n",
            "\u001b[0;31mKeyError\u001b[0m: 'trait_type'",
            "\nThe above exception was the direct cause of the following exception:\n",
            "\u001b[0;31mKeyError\u001b[0m                                  Traceback (most recent call last)",
            "\u001b[0;32m<ipython-input-22-68f484128a2d>\u001b[0m in \u001b[0;36m<module>\u001b[0;34m()\u001b[0m\n\u001b[0;32m----> 1\u001b[0;31m \u001b[0mtraits\u001b[0m\u001b[0;34m[\u001b[0m\u001b[0;34m'Trait1'\u001b[0m\u001b[0;34m]\u001b[0m\u001b[0;34m[\u001b[0m\u001b[0;34m'trait_type'\u001b[0m\u001b[0;34m]\u001b[0m\u001b[0;34m\u001b[0m\u001b[0;34m\u001b[0m\u001b[0m\n\u001b[0m",
            "\u001b[0;32m/usr/local/lib/python3.7/dist-packages/pandas/core/series.py\u001b[0m in \u001b[0;36m__getitem__\u001b[0;34m(self, key)\u001b[0m\n\u001b[1;32m    880\u001b[0m \u001b[0;34m\u001b[0m\u001b[0m\n\u001b[1;32m    881\u001b[0m         \u001b[0;32melif\u001b[0m \u001b[0mkey_is_scalar\u001b[0m\u001b[0;34m:\u001b[0m\u001b[0;34m\u001b[0m\u001b[0;34m\u001b[0m\u001b[0m\n\u001b[0;32m--> 882\u001b[0;31m             \u001b[0;32mreturn\u001b[0m \u001b[0mself\u001b[0m\u001b[0;34m.\u001b[0m\u001b[0m_get_value\u001b[0m\u001b[0;34m(\u001b[0m\u001b[0mkey\u001b[0m\u001b[0;34m)\u001b[0m\u001b[0;34m\u001b[0m\u001b[0;34m\u001b[0m\u001b[0m\n\u001b[0m\u001b[1;32m    883\u001b[0m \u001b[0;34m\u001b[0m\u001b[0m\n\u001b[1;32m    884\u001b[0m         \u001b[0;32mif\u001b[0m \u001b[0mis_hashable\u001b[0m\u001b[0;34m(\u001b[0m\u001b[0mkey\u001b[0m\u001b[0;34m)\u001b[0m\u001b[0;34m:\u001b[0m\u001b[0;34m\u001b[0m\u001b[0;34m\u001b[0m\u001b[0m\n",
            "\u001b[0;32m/usr/local/lib/python3.7/dist-packages/pandas/core/series.py\u001b[0m in \u001b[0;36m_get_value\u001b[0;34m(self, label, takeable)\u001b[0m\n\u001b[1;32m    988\u001b[0m \u001b[0;34m\u001b[0m\u001b[0m\n\u001b[1;32m    989\u001b[0m         \u001b[0;31m# Similar to Index.get_value, but we do not fall back to positional\u001b[0m\u001b[0;34m\u001b[0m\u001b[0;34m\u001b[0m\u001b[0;34m\u001b[0m\u001b[0m\n\u001b[0;32m--> 990\u001b[0;31m         \u001b[0mloc\u001b[0m \u001b[0;34m=\u001b[0m \u001b[0mself\u001b[0m\u001b[0;34m.\u001b[0m\u001b[0mindex\u001b[0m\u001b[0;34m.\u001b[0m\u001b[0mget_loc\u001b[0m\u001b[0;34m(\u001b[0m\u001b[0mlabel\u001b[0m\u001b[0;34m)\u001b[0m\u001b[0;34m\u001b[0m\u001b[0;34m\u001b[0m\u001b[0m\n\u001b[0m\u001b[1;32m    991\u001b[0m         \u001b[0;32mreturn\u001b[0m \u001b[0mself\u001b[0m\u001b[0;34m.\u001b[0m\u001b[0mindex\u001b[0m\u001b[0;34m.\u001b[0m\u001b[0m_get_values_for_loc\u001b[0m\u001b[0;34m(\u001b[0m\u001b[0mself\u001b[0m\u001b[0;34m,\u001b[0m \u001b[0mloc\u001b[0m\u001b[0;34m,\u001b[0m \u001b[0mlabel\u001b[0m\u001b[0;34m)\u001b[0m\u001b[0;34m\u001b[0m\u001b[0;34m\u001b[0m\u001b[0m\n\u001b[1;32m    992\u001b[0m \u001b[0;34m\u001b[0m\u001b[0m\n",
            "\u001b[0;32m/usr/local/lib/python3.7/dist-packages/pandas/core/indexes/base.py\u001b[0m in \u001b[0;36mget_loc\u001b[0;34m(self, key, method, tolerance)\u001b[0m\n\u001b[1;32m   2898\u001b[0m                 \u001b[0;32mreturn\u001b[0m \u001b[0mself\u001b[0m\u001b[0;34m.\u001b[0m\u001b[0m_engine\u001b[0m\u001b[0;34m.\u001b[0m\u001b[0mget_loc\u001b[0m\u001b[0;34m(\u001b[0m\u001b[0mcasted_key\u001b[0m\u001b[0;34m)\u001b[0m\u001b[0;34m\u001b[0m\u001b[0;34m\u001b[0m\u001b[0m\n\u001b[1;32m   2899\u001b[0m             \u001b[0;32mexcept\u001b[0m \u001b[0mKeyError\u001b[0m \u001b[0;32mas\u001b[0m \u001b[0merr\u001b[0m\u001b[0;34m:\u001b[0m\u001b[0;34m\u001b[0m\u001b[0;34m\u001b[0m\u001b[0m\n\u001b[0;32m-> 2900\u001b[0;31m                 \u001b[0;32mraise\u001b[0m \u001b[0mKeyError\u001b[0m\u001b[0;34m(\u001b[0m\u001b[0mkey\u001b[0m\u001b[0;34m)\u001b[0m \u001b[0;32mfrom\u001b[0m \u001b[0merr\u001b[0m\u001b[0;34m\u001b[0m\u001b[0;34m\u001b[0m\u001b[0m\n\u001b[0m\u001b[1;32m   2901\u001b[0m \u001b[0;34m\u001b[0m\u001b[0m\n\u001b[1;32m   2902\u001b[0m         \u001b[0;32mif\u001b[0m \u001b[0mtolerance\u001b[0m \u001b[0;32mis\u001b[0m \u001b[0;32mnot\u001b[0m \u001b[0;32mNone\u001b[0m\u001b[0;34m:\u001b[0m\u001b[0;34m\u001b[0m\u001b[0;34m\u001b[0m\u001b[0m\n",
            "\u001b[0;31mKeyError\u001b[0m: 'trait_type'"
          ]
        }
      ]
    },
    {
      "cell_type": "code",
      "metadata": {
        "id": "eWQ0HOQXR3rB"
      },
      "source": [
        "#Replaces NaN values with 0 and Trait Values with 1\n",
        "traits[['Trait1', 'Trait2', 'Trait3', 'Trait4',\n",
        "                  'Trait5', 'Trait6', 'Trait7', 'Trait8',\n",
        "                  'Trait9', 'Trait10', 'Trait11', 'Trait12',\n",
        "                  'Trait13', 'Trait14', 'Trait15']] = traits[['Trait1', 'Trait2', 'Trait3', 'Trait4',\n",
        "                  'Trait5', 'Trait6', 'Trait7', 'Trait8',\n",
        "                  'Trait9', 'Trait10', 'Trait11', 'Trait12',\n",
        "                  'Trait13', 'Trait14', 'Trait15']].applymap(lambda x: 0 if pd.isnull(x) else 1)"
      ],
      "execution_count": 20,
      "outputs": []
    },
    {
      "cell_type": "code",
      "metadata": {
        "id": "EEfI0rTHUe7M"
      },
      "source": [
        "#Calculates Sum of traits\n",
        "total_traits = traits.apply(lambda row: row.Trait1 + row.Trait2 + row.Trait3\n",
        "                            + row.Trait4 +row.Trait5 + row.Trait6 + row.Trait7\n",
        "                            + row.Trait8 + row.Trait9 + row.Trait10 + row.Trait11 \n",
        "                            + row.Trait12 + row.Trait13 + row.Trait14 + row.Trait15 \n",
        "                            , axis = 1)"
      ],
      "execution_count": 21,
      "outputs": []
    },
    {
      "cell_type": "code",
      "metadata": {
        "id": "4JM8pJ9HTBhE"
      },
      "source": [
        "collection_data_df = df[['name', 'token_id', 'num_sales', 'background_color',]].copy()"
      ],
      "execution_count": 22,
      "outputs": []
    },
    {
      "cell_type": "code",
      "metadata": {
        "id": "mG9jzHpPTmJ5"
      },
      "source": [
        "collection_data_df = pd.concat([collection_data_df, collection_name, total_price, total_traits], axis = 1)\n",
        "collection_data_df.columns = ['Asset Name', 'Token ID', 'Number of Sales', 'Background Color', 'Collection Name', 'Last Sale Price (ETH)', 'Trait Count']"
      ],
      "execution_count": 23,
      "outputs": []
    },
    {
      "cell_type": "code",
      "metadata": {
        "colab": {
          "base_uri": "https://localhost:8080/",
          "height": 423
        },
        "id": "j9-D6-0Zvfg2",
        "outputId": "727543bb-5a06-4cad-e27f-4b37a47b5cb4"
      },
      "source": [
        "collection_data_df"
      ],
      "execution_count": 24,
      "outputs": [
        {
          "output_type": "execute_result",
          "data": {
            "text/html": [
              "<div>\n",
              "<style scoped>\n",
              "    .dataframe tbody tr th:only-of-type {\n",
              "        vertical-align: middle;\n",
              "    }\n",
              "\n",
              "    .dataframe tbody tr th {\n",
              "        vertical-align: top;\n",
              "    }\n",
              "\n",
              "    .dataframe thead th {\n",
              "        text-align: right;\n",
              "    }\n",
              "</style>\n",
              "<table border=\"1\" class=\"dataframe\">\n",
              "  <thead>\n",
              "    <tr style=\"text-align: right;\">\n",
              "      <th></th>\n",
              "      <th>Asset Name</th>\n",
              "      <th>Token ID</th>\n",
              "      <th>Number of Sales</th>\n",
              "      <th>Background Color</th>\n",
              "      <th>Collection Name</th>\n",
              "      <th>Last Sale Price (ETH)</th>\n",
              "      <th>Trait Count</th>\n",
              "    </tr>\n",
              "  </thead>\n",
              "  <tbody>\n",
              "    <tr>\n",
              "      <th>0</th>\n",
              "      <td>0N1 #6911</td>\n",
              "      <td>6911</td>\n",
              "      <td>13</td>\n",
              "      <td>None</td>\n",
              "      <td>0N1 Force</td>\n",
              "      <td>1.740</td>\n",
              "      <td>13</td>\n",
              "    </tr>\n",
              "    <tr>\n",
              "      <th>1</th>\n",
              "      <td>0N1 #3338</td>\n",
              "      <td>3338</td>\n",
              "      <td>11</td>\n",
              "      <td>None</td>\n",
              "      <td>0N1 Force</td>\n",
              "      <td>2.750</td>\n",
              "      <td>13</td>\n",
              "    </tr>\n",
              "    <tr>\n",
              "      <th>2</th>\n",
              "      <td>0N1 #2181</td>\n",
              "      <td>2181</td>\n",
              "      <td>10</td>\n",
              "      <td>None</td>\n",
              "      <td>0N1 Force</td>\n",
              "      <td>2.200</td>\n",
              "      <td>13</td>\n",
              "    </tr>\n",
              "    <tr>\n",
              "      <th>3</th>\n",
              "      <td>0N1 #1601</td>\n",
              "      <td>1601</td>\n",
              "      <td>10</td>\n",
              "      <td>None</td>\n",
              "      <td>0N1 Force</td>\n",
              "      <td>2.250</td>\n",
              "      <td>13</td>\n",
              "    </tr>\n",
              "    <tr>\n",
              "      <th>4</th>\n",
              "      <td>0N1 #4804</td>\n",
              "      <td>4804</td>\n",
              "      <td>9</td>\n",
              "      <td>None</td>\n",
              "      <td>0N1 Force</td>\n",
              "      <td>1.680</td>\n",
              "      <td>13</td>\n",
              "    </tr>\n",
              "    <tr>\n",
              "      <th>...</th>\n",
              "      <td>...</td>\n",
              "      <td>...</td>\n",
              "      <td>...</td>\n",
              "      <td>...</td>\n",
              "      <td>...</td>\n",
              "      <td>...</td>\n",
              "      <td>...</td>\n",
              "    </tr>\n",
              "    <tr>\n",
              "      <th>46</th>\n",
              "      <td>Watch Your Spending</td>\n",
              "      <td>287</td>\n",
              "      <td>3</td>\n",
              "      <td>None</td>\n",
              "      <td>Zed Run</td>\n",
              "      <td>0.000</td>\n",
              "      <td>6</td>\n",
              "    </tr>\n",
              "    <tr>\n",
              "      <th>47</th>\n",
              "      <td>Casino Empress</td>\n",
              "      <td>3489</td>\n",
              "      <td>3</td>\n",
              "      <td>None</td>\n",
              "      <td>Zed Run</td>\n",
              "      <td>0.195</td>\n",
              "      <td>6</td>\n",
              "    </tr>\n",
              "    <tr>\n",
              "      <th>48</th>\n",
              "      <td>Long Fly</td>\n",
              "      <td>48</td>\n",
              "      <td>3</td>\n",
              "      <td></td>\n",
              "      <td>Zed Run</td>\n",
              "      <td>4.300</td>\n",
              "      <td>6</td>\n",
              "    </tr>\n",
              "    <tr>\n",
              "      <th>49</th>\n",
              "      <td>Venus</td>\n",
              "      <td>5785</td>\n",
              "      <td>3</td>\n",
              "      <td>None</td>\n",
              "      <td>Zed Run</td>\n",
              "      <td>0.090</td>\n",
              "      <td>6</td>\n",
              "    </tr>\n",
              "    <tr>\n",
              "      <th>0</th>\n",
              "      <td>#4</td>\n",
              "      <td>4</td>\n",
              "      <td>1</td>\n",
              "      <td>None</td>\n",
              "      <td>ZombieToadz</td>\n",
              "      <td>0.070</td>\n",
              "      <td>6</td>\n",
              "    </tr>\n",
              "  </tbody>\n",
              "</table>\n",
              "<p>2852 rows × 7 columns</p>\n",
              "</div>"
            ],
            "text/plain": [
              "             Asset Name Token ID  ...  Last Sale Price (ETH) Trait Count\n",
              "0             0N1 #6911     6911  ...                  1.740          13\n",
              "1             0N1 #3338     3338  ...                  2.750          13\n",
              "2             0N1 #2181     2181  ...                  2.200          13\n",
              "3             0N1 #1601     1601  ...                  2.250          13\n",
              "4             0N1 #4804     4804  ...                  1.680          13\n",
              "..                  ...      ...  ...                    ...         ...\n",
              "46  Watch Your Spending      287  ...                  0.000           6\n",
              "47       Casino Empress     3489  ...                  0.195           6\n",
              "48             Long Fly       48  ...                  4.300           6\n",
              "49                Venus     5785  ...                  0.090           6\n",
              "0                    #4        4  ...                  0.070           6\n",
              "\n",
              "[2852 rows x 7 columns]"
            ]
          },
          "metadata": {},
          "execution_count": 24
        }
      ]
    },
    {
      "cell_type": "code",
      "metadata": {
        "id": "0ZeFDahG7CvL"
      },
      "source": [
        "lsp = collection_data_df['Last Sale Price (ETH)']\n",
        "nos = collection_data_df['Number of Sales']"
      ],
      "execution_count": 25,
      "outputs": []
    },
    {
      "cell_type": "code",
      "metadata": {
        "colab": {
          "base_uri": "https://localhost:8080/",
          "height": 166
        },
        "id": "SngKQWFEvwpK",
        "outputId": "b169f712-8f74-4486-8e75-bb17b817bf4e"
      },
      "source": [
        "collection_data_df.count(['Number of Sales']>6)"
      ],
      "execution_count": 50,
      "outputs": [
        {
          "output_type": "error",
          "ename": "TypeError",
          "evalue": "ignored",
          "traceback": [
            "\u001b[0;31m---------------------------------------------------------------------------\u001b[0m",
            "\u001b[0;31mTypeError\u001b[0m                                 Traceback (most recent call last)",
            "\u001b[0;32m<ipython-input-50-e341bbaa3f3c>\u001b[0m in \u001b[0;36m<module>\u001b[0;34m()\u001b[0m\n\u001b[0;32m----> 1\u001b[0;31m \u001b[0mcollection_data_df\u001b[0m\u001b[0;34m.\u001b[0m\u001b[0mcount\u001b[0m\u001b[0;34m(\u001b[0m\u001b[0;34m[\u001b[0m\u001b[0;34m'Number of Sales'\u001b[0m\u001b[0;34m]\u001b[0m\u001b[0;34m>\u001b[0m\u001b[0;36m6\u001b[0m\u001b[0;34m)\u001b[0m\u001b[0;34m\u001b[0m\u001b[0;34m\u001b[0m\u001b[0m\n\u001b[0m",
            "\u001b[0;31mTypeError\u001b[0m: '>' not supported between instances of 'list' and 'int'"
          ]
        }
      ]
    },
    {
      "cell_type": "code",
      "metadata": {
        "colab": {
          "base_uri": "https://localhost:8080/",
          "height": 423
        },
        "id": "Sf1isvX7tpE9",
        "outputId": "b9ffeee3-ea81-4a6b-bee2-231dd4ac6828"
      },
      "source": [
        "collection_data_df_cat = collection_data_df[['Background Color','Collection Name']]\n",
        "collection_data_df_cat"
      ],
      "execution_count": 26,
      "outputs": [
        {
          "output_type": "execute_result",
          "data": {
            "text/html": [
              "<div>\n",
              "<style scoped>\n",
              "    .dataframe tbody tr th:only-of-type {\n",
              "        vertical-align: middle;\n",
              "    }\n",
              "\n",
              "    .dataframe tbody tr th {\n",
              "        vertical-align: top;\n",
              "    }\n",
              "\n",
              "    .dataframe thead th {\n",
              "        text-align: right;\n",
              "    }\n",
              "</style>\n",
              "<table border=\"1\" class=\"dataframe\">\n",
              "  <thead>\n",
              "    <tr style=\"text-align: right;\">\n",
              "      <th></th>\n",
              "      <th>Background Color</th>\n",
              "      <th>Collection Name</th>\n",
              "    </tr>\n",
              "  </thead>\n",
              "  <tbody>\n",
              "    <tr>\n",
              "      <th>0</th>\n",
              "      <td>None</td>\n",
              "      <td>0N1 Force</td>\n",
              "    </tr>\n",
              "    <tr>\n",
              "      <th>1</th>\n",
              "      <td>None</td>\n",
              "      <td>0N1 Force</td>\n",
              "    </tr>\n",
              "    <tr>\n",
              "      <th>2</th>\n",
              "      <td>None</td>\n",
              "      <td>0N1 Force</td>\n",
              "    </tr>\n",
              "    <tr>\n",
              "      <th>3</th>\n",
              "      <td>None</td>\n",
              "      <td>0N1 Force</td>\n",
              "    </tr>\n",
              "    <tr>\n",
              "      <th>4</th>\n",
              "      <td>None</td>\n",
              "      <td>0N1 Force</td>\n",
              "    </tr>\n",
              "    <tr>\n",
              "      <th>...</th>\n",
              "      <td>...</td>\n",
              "      <td>...</td>\n",
              "    </tr>\n",
              "    <tr>\n",
              "      <th>46</th>\n",
              "      <td>None</td>\n",
              "      <td>Zed Run</td>\n",
              "    </tr>\n",
              "    <tr>\n",
              "      <th>47</th>\n",
              "      <td>None</td>\n",
              "      <td>Zed Run</td>\n",
              "    </tr>\n",
              "    <tr>\n",
              "      <th>48</th>\n",
              "      <td></td>\n",
              "      <td>Zed Run</td>\n",
              "    </tr>\n",
              "    <tr>\n",
              "      <th>49</th>\n",
              "      <td>None</td>\n",
              "      <td>Zed Run</td>\n",
              "    </tr>\n",
              "    <tr>\n",
              "      <th>0</th>\n",
              "      <td>None</td>\n",
              "      <td>ZombieToadz</td>\n",
              "    </tr>\n",
              "  </tbody>\n",
              "</table>\n",
              "<p>2852 rows × 2 columns</p>\n",
              "</div>"
            ],
            "text/plain": [
              "   Background Color Collection Name\n",
              "0              None       0N1 Force\n",
              "1              None       0N1 Force\n",
              "2              None       0N1 Force\n",
              "3              None       0N1 Force\n",
              "4              None       0N1 Force\n",
              "..              ...             ...\n",
              "46             None         Zed Run\n",
              "47             None         Zed Run\n",
              "48                          Zed Run\n",
              "49             None         Zed Run\n",
              "0              None     ZombieToadz\n",
              "\n",
              "[2852 rows x 2 columns]"
            ]
          },
          "metadata": {},
          "execution_count": 26
        }
      ]
    },
    {
      "cell_type": "code",
      "metadata": {
        "id": "WSf7DwBUrU_h"
      },
      "source": [
        "\n",
        "for x in nos:\n",
        "  if x > 3:\n",
        "    x = 1\n",
        "  else:\n",
        "    x = 0"
      ],
      "execution_count": 42,
      "outputs": []
    },
    {
      "cell_type": "code",
      "metadata": {
        "colab": {
          "base_uri": "https://localhost:8080/"
        },
        "id": "wEReLtyvuGJz",
        "outputId": "0f3f9612-f847-43ae-857b-ac2262471747"
      },
      "source": [
        "nos_two = np.where(nos >=6, 1, 0)\n",
        "nos_two"
      ],
      "execution_count": 46,
      "outputs": [
        {
          "output_type": "execute_result",
          "data": {
            "text/plain": [
              "array([1, 1, 1, ..., 0, 0, 0])"
            ]
          },
          "metadata": {},
          "execution_count": 46
        }
      ]
    },
    {
      "cell_type": "code",
      "metadata": {
        "colab": {
          "base_uri": "https://localhost:8080/",
          "height": 166
        },
        "id": "QoDu7FowvENb",
        "outputId": "6574ffcf-695c-4caf-f0b6-9818092b91c4"
      },
      "source": [
        "nos_two.count(=1)"
      ],
      "execution_count": 49,
      "outputs": [
        {
          "output_type": "error",
          "ename": "AttributeError",
          "evalue": "ignored",
          "traceback": [
            "\u001b[0;31m---------------------------------------------------------------------------\u001b[0m",
            "\u001b[0;31mAttributeError\u001b[0m                            Traceback (most recent call last)",
            "\u001b[0;32m<ipython-input-49-fba3f5e303ef>\u001b[0m in \u001b[0;36m<module>\u001b[0;34m()\u001b[0m\n\u001b[0;32m----> 1\u001b[0;31m \u001b[0mnos_two\u001b[0m\u001b[0;34m.\u001b[0m\u001b[0mcount\u001b[0m\u001b[0;34m(\u001b[0m\u001b[0mx\u001b[0m\u001b[0;34m=\u001b[0m\u001b[0;36m1\u001b[0m\u001b[0;34m)\u001b[0m\u001b[0;34m\u001b[0m\u001b[0;34m\u001b[0m\u001b[0m\n\u001b[0m",
            "\u001b[0;31mAttributeError\u001b[0m: 'numpy.ndarray' object has no attribute 'count'"
          ]
        }
      ]
    },
    {
      "cell_type": "code",
      "metadata": {
        "colab": {
          "base_uri": "https://localhost:8080/"
        },
        "id": "pJTcL2CYsxyd",
        "outputId": "6cb97bbf-40df-4c87-dd47-d4a2b713c9d8"
      },
      "source": [
        "nos > 3 = nos.apply(0)\n",
        "multi_sale_two\n"
      ],
      "execution_count": 40,
      "outputs": [
        {
          "output_type": "execute_result",
          "data": {
            "text/plain": [
              "0      True\n",
              "1      True\n",
              "2      True\n",
              "3      True\n",
              "4      True\n",
              "      ...  \n",
              "46    False\n",
              "47    False\n",
              "48    False\n",
              "49    False\n",
              "0     False\n",
              "Name: Number of Sales, Length: 2852, dtype: bool"
            ]
          },
          "metadata": {},
          "execution_count": 40
        }
      ]
    },
    {
      "cell_type": "code",
      "metadata": {
        "colab": {
          "base_uri": "https://localhost:8080/"
        },
        "id": "rfEAW4pzv2Eq",
        "outputId": "0a209912-8b6b-4e44-94f9-8678fe95b4c4"
      },
      "source": [
        "collection_data_df_cat.dtypes"
      ],
      "execution_count": null,
      "outputs": [
        {
          "output_type": "execute_result",
          "data": {
            "text/plain": [
              "Background Color    object\n",
              "Collection Name     object\n",
              "dtype: object"
            ]
          },
          "metadata": {},
          "execution_count": 40
        }
      ]
    },
    {
      "cell_type": "code",
      "metadata": {
        "id": "-ND0EuRS1wMh"
      },
      "source": [
        "from sklearn.preprocessing import LabelEncoder"
      ],
      "execution_count": 51,
      "outputs": []
    },
    {
      "cell_type": "code",
      "metadata": {
        "id": "2Ilcll4Y3Jys"
      },
      "source": [
        "# Create encoder\n",
        "le = LabelEncoder()"
      ],
      "execution_count": 52,
      "outputs": []
    },
    {
      "cell_type": "code",
      "metadata": {
        "id": "GDuRUSLSwUrF"
      },
      "source": [
        "collection_data_df_cat = collection_data_df_cat.apply(lambda col: le.fit_transform(col.astype(str)), axis=0, result_type='expand')\n"
      ],
      "execution_count": 53,
      "outputs": []
    },
    {
      "cell_type": "code",
      "metadata": {
        "colab": {
          "base_uri": "https://localhost:8080/",
          "height": 206
        },
        "id": "oG16WQFzw8qW",
        "outputId": "e592be75-8595-4426-d674-41c6cdc02f28"
      },
      "source": [
        "collection_data_df_cat.dtypes\n",
        "collection_data_df_cat.tail()"
      ],
      "execution_count": 54,
      "outputs": [
        {
          "output_type": "execute_result",
          "data": {
            "text/html": [
              "<div>\n",
              "<style scoped>\n",
              "    .dataframe tbody tr th:only-of-type {\n",
              "        vertical-align: middle;\n",
              "    }\n",
              "\n",
              "    .dataframe tbody tr th {\n",
              "        vertical-align: top;\n",
              "    }\n",
              "\n",
              "    .dataframe thead th {\n",
              "        text-align: right;\n",
              "    }\n",
              "</style>\n",
              "<table border=\"1\" class=\"dataframe\">\n",
              "  <thead>\n",
              "    <tr style=\"text-align: right;\">\n",
              "      <th></th>\n",
              "      <th>Background Color</th>\n",
              "      <th>Collection Name</th>\n",
              "    </tr>\n",
              "  </thead>\n",
              "  <tbody>\n",
              "    <tr>\n",
              "      <th>46</th>\n",
              "      <td>25</td>\n",
              "      <td>64</td>\n",
              "    </tr>\n",
              "    <tr>\n",
              "      <th>47</th>\n",
              "      <td>25</td>\n",
              "      <td>64</td>\n",
              "    </tr>\n",
              "    <tr>\n",
              "      <th>48</th>\n",
              "      <td>0</td>\n",
              "      <td>64</td>\n",
              "    </tr>\n",
              "    <tr>\n",
              "      <th>49</th>\n",
              "      <td>25</td>\n",
              "      <td>64</td>\n",
              "    </tr>\n",
              "    <tr>\n",
              "      <th>0</th>\n",
              "      <td>25</td>\n",
              "      <td>65</td>\n",
              "    </tr>\n",
              "  </tbody>\n",
              "</table>\n",
              "</div>"
            ],
            "text/plain": [
              "    Background Color  Collection Name\n",
              "46                25               64\n",
              "47                25               64\n",
              "48                 0               64\n",
              "49                25               64\n",
              "0                 25               65"
            ]
          },
          "metadata": {},
          "execution_count": 54
        }
      ]
    },
    {
      "cell_type": "code",
      "metadata": {
        "id": "qqIb8YuHvcs7"
      },
      "source": [
        "from sklearn.model_selection import train_test_split\n",
        "from sklearn.preprocessing import StandardScaler,OneHotEncoder"
      ],
      "execution_count": 55,
      "outputs": []
    },
    {
      "cell_type": "code",
      "metadata": {
        "id": "SQWVo3fVtprP"
      },
      "source": [
        "enc = OneHotEncoder(sparse=False)"
      ],
      "execution_count": 56,
      "outputs": []
    },
    {
      "cell_type": "markdown",
      "metadata": {
        "id": "FI1_GRE7xFeA"
      },
      "source": [
        ""
      ]
    },
    {
      "cell_type": "code",
      "metadata": {
        "colab": {
          "base_uri": "https://localhost:8080/"
        },
        "id": "1Uv6OCmSvmgs",
        "outputId": "5ebc75ab-15e3-41a2-810f-a293bd84f3fc"
      },
      "source": [
        "encoded_data = enc.fit_transform(collection_data_df_cat)\n",
        "encoded_data"
      ],
      "execution_count": 57,
      "outputs": [
        {
          "output_type": "execute_result",
          "data": {
            "text/plain": [
              "array([[0., 0., 0., ..., 0., 0., 0.],\n",
              "       [0., 0., 0., ..., 0., 0., 0.],\n",
              "       [0., 0., 0., ..., 0., 0., 0.],\n",
              "       ...,\n",
              "       [1., 0., 0., ..., 0., 1., 0.],\n",
              "       [0., 0., 0., ..., 0., 1., 0.],\n",
              "       [0., 0., 0., ..., 0., 0., 1.]])"
            ]
          },
          "metadata": {},
          "execution_count": 57
        }
      ]
    },
    {
      "cell_type": "code",
      "metadata": {
        "colab": {
          "base_uri": "https://localhost:8080/",
          "height": 461
        },
        "id": "K49re4qP3qsi",
        "outputId": "862ce0d8-e4f0-4b65-afec-f6de5bae0a26"
      },
      "source": [
        "categorical_variables = ['Background Color','Collection Name']\n",
        "encoded_df = pd.DataFrame(encoded_data, columns = enc.get_feature_names(categorical_variables))\n",
        "# YOUR CODE HERE\n",
        "\n",
        "# Review the DataFrame\n",
        "# YOUR CODE HERE\n",
        "encoded_df"
      ],
      "execution_count": 58,
      "outputs": [
        {
          "output_type": "execute_result",
          "data": {
            "text/html": [
              "<div>\n",
              "<style scoped>\n",
              "    .dataframe tbody tr th:only-of-type {\n",
              "        vertical-align: middle;\n",
              "    }\n",
              "\n",
              "    .dataframe tbody tr th {\n",
              "        vertical-align: top;\n",
              "    }\n",
              "\n",
              "    .dataframe thead th {\n",
              "        text-align: right;\n",
              "    }\n",
              "</style>\n",
              "<table border=\"1\" class=\"dataframe\">\n",
              "  <thead>\n",
              "    <tr style=\"text-align: right;\">\n",
              "      <th></th>\n",
              "      <th>Background Color_0</th>\n",
              "      <th>Background Color_1</th>\n",
              "      <th>Background Color_2</th>\n",
              "      <th>Background Color_3</th>\n",
              "      <th>Background Color_4</th>\n",
              "      <th>Background Color_5</th>\n",
              "      <th>Background Color_6</th>\n",
              "      <th>Background Color_7</th>\n",
              "      <th>Background Color_8</th>\n",
              "      <th>Background Color_9</th>\n",
              "      <th>Background Color_10</th>\n",
              "      <th>Background Color_11</th>\n",
              "      <th>Background Color_12</th>\n",
              "      <th>Background Color_13</th>\n",
              "      <th>Background Color_14</th>\n",
              "      <th>Background Color_15</th>\n",
              "      <th>Background Color_16</th>\n",
              "      <th>Background Color_17</th>\n",
              "      <th>Background Color_18</th>\n",
              "      <th>Background Color_19</th>\n",
              "      <th>Background Color_20</th>\n",
              "      <th>Background Color_21</th>\n",
              "      <th>Background Color_22</th>\n",
              "      <th>Background Color_23</th>\n",
              "      <th>Background Color_24</th>\n",
              "      <th>Background Color_25</th>\n",
              "      <th>Collection Name_0</th>\n",
              "      <th>Collection Name_1</th>\n",
              "      <th>Collection Name_2</th>\n",
              "      <th>Collection Name_3</th>\n",
              "      <th>Collection Name_4</th>\n",
              "      <th>Collection Name_5</th>\n",
              "      <th>Collection Name_6</th>\n",
              "      <th>Collection Name_7</th>\n",
              "      <th>Collection Name_8</th>\n",
              "      <th>Collection Name_9</th>\n",
              "      <th>Collection Name_10</th>\n",
              "      <th>Collection Name_11</th>\n",
              "      <th>Collection Name_12</th>\n",
              "      <th>Collection Name_13</th>\n",
              "      <th>...</th>\n",
              "      <th>Collection Name_26</th>\n",
              "      <th>Collection Name_27</th>\n",
              "      <th>Collection Name_28</th>\n",
              "      <th>Collection Name_29</th>\n",
              "      <th>Collection Name_30</th>\n",
              "      <th>Collection Name_31</th>\n",
              "      <th>Collection Name_32</th>\n",
              "      <th>Collection Name_33</th>\n",
              "      <th>Collection Name_34</th>\n",
              "      <th>Collection Name_35</th>\n",
              "      <th>Collection Name_36</th>\n",
              "      <th>Collection Name_37</th>\n",
              "      <th>Collection Name_38</th>\n",
              "      <th>Collection Name_39</th>\n",
              "      <th>Collection Name_40</th>\n",
              "      <th>Collection Name_41</th>\n",
              "      <th>Collection Name_42</th>\n",
              "      <th>Collection Name_43</th>\n",
              "      <th>Collection Name_44</th>\n",
              "      <th>Collection Name_45</th>\n",
              "      <th>Collection Name_46</th>\n",
              "      <th>Collection Name_47</th>\n",
              "      <th>Collection Name_48</th>\n",
              "      <th>Collection Name_49</th>\n",
              "      <th>Collection Name_50</th>\n",
              "      <th>Collection Name_51</th>\n",
              "      <th>Collection Name_52</th>\n",
              "      <th>Collection Name_53</th>\n",
              "      <th>Collection Name_54</th>\n",
              "      <th>Collection Name_55</th>\n",
              "      <th>Collection Name_56</th>\n",
              "      <th>Collection Name_57</th>\n",
              "      <th>Collection Name_58</th>\n",
              "      <th>Collection Name_59</th>\n",
              "      <th>Collection Name_60</th>\n",
              "      <th>Collection Name_61</th>\n",
              "      <th>Collection Name_62</th>\n",
              "      <th>Collection Name_63</th>\n",
              "      <th>Collection Name_64</th>\n",
              "      <th>Collection Name_65</th>\n",
              "    </tr>\n",
              "  </thead>\n",
              "  <tbody>\n",
              "    <tr>\n",
              "      <th>0</th>\n",
              "      <td>0.0</td>\n",
              "      <td>0.0</td>\n",
              "      <td>0.0</td>\n",
              "      <td>0.0</td>\n",
              "      <td>0.0</td>\n",
              "      <td>0.0</td>\n",
              "      <td>0.0</td>\n",
              "      <td>0.0</td>\n",
              "      <td>0.0</td>\n",
              "      <td>0.0</td>\n",
              "      <td>0.0</td>\n",
              "      <td>0.0</td>\n",
              "      <td>0.0</td>\n",
              "      <td>0.0</td>\n",
              "      <td>0.0</td>\n",
              "      <td>0.0</td>\n",
              "      <td>0.0</td>\n",
              "      <td>0.0</td>\n",
              "      <td>0.0</td>\n",
              "      <td>0.0</td>\n",
              "      <td>0.0</td>\n",
              "      <td>0.0</td>\n",
              "      <td>0.0</td>\n",
              "      <td>0.0</td>\n",
              "      <td>0.0</td>\n",
              "      <td>1.0</td>\n",
              "      <td>1.0</td>\n",
              "      <td>0.0</td>\n",
              "      <td>0.0</td>\n",
              "      <td>0.0</td>\n",
              "      <td>0.0</td>\n",
              "      <td>0.0</td>\n",
              "      <td>0.0</td>\n",
              "      <td>0.0</td>\n",
              "      <td>0.0</td>\n",
              "      <td>0.0</td>\n",
              "      <td>0.0</td>\n",
              "      <td>0.0</td>\n",
              "      <td>0.0</td>\n",
              "      <td>0.0</td>\n",
              "      <td>...</td>\n",
              "      <td>0.0</td>\n",
              "      <td>0.0</td>\n",
              "      <td>0.0</td>\n",
              "      <td>0.0</td>\n",
              "      <td>0.0</td>\n",
              "      <td>0.0</td>\n",
              "      <td>0.0</td>\n",
              "      <td>0.0</td>\n",
              "      <td>0.0</td>\n",
              "      <td>0.0</td>\n",
              "      <td>0.0</td>\n",
              "      <td>0.0</td>\n",
              "      <td>0.0</td>\n",
              "      <td>0.0</td>\n",
              "      <td>0.0</td>\n",
              "      <td>0.0</td>\n",
              "      <td>0.0</td>\n",
              "      <td>0.0</td>\n",
              "      <td>0.0</td>\n",
              "      <td>0.0</td>\n",
              "      <td>0.0</td>\n",
              "      <td>0.0</td>\n",
              "      <td>0.0</td>\n",
              "      <td>0.0</td>\n",
              "      <td>0.0</td>\n",
              "      <td>0.0</td>\n",
              "      <td>0.0</td>\n",
              "      <td>0.0</td>\n",
              "      <td>0.0</td>\n",
              "      <td>0.0</td>\n",
              "      <td>0.0</td>\n",
              "      <td>0.0</td>\n",
              "      <td>0.0</td>\n",
              "      <td>0.0</td>\n",
              "      <td>0.0</td>\n",
              "      <td>0.0</td>\n",
              "      <td>0.0</td>\n",
              "      <td>0.0</td>\n",
              "      <td>0.0</td>\n",
              "      <td>0.0</td>\n",
              "    </tr>\n",
              "    <tr>\n",
              "      <th>1</th>\n",
              "      <td>0.0</td>\n",
              "      <td>0.0</td>\n",
              "      <td>0.0</td>\n",
              "      <td>0.0</td>\n",
              "      <td>0.0</td>\n",
              "      <td>0.0</td>\n",
              "      <td>0.0</td>\n",
              "      <td>0.0</td>\n",
              "      <td>0.0</td>\n",
              "      <td>0.0</td>\n",
              "      <td>0.0</td>\n",
              "      <td>0.0</td>\n",
              "      <td>0.0</td>\n",
              "      <td>0.0</td>\n",
              "      <td>0.0</td>\n",
              "      <td>0.0</td>\n",
              "      <td>0.0</td>\n",
              "      <td>0.0</td>\n",
              "      <td>0.0</td>\n",
              "      <td>0.0</td>\n",
              "      <td>0.0</td>\n",
              "      <td>0.0</td>\n",
              "      <td>0.0</td>\n",
              "      <td>0.0</td>\n",
              "      <td>0.0</td>\n",
              "      <td>1.0</td>\n",
              "      <td>1.0</td>\n",
              "      <td>0.0</td>\n",
              "      <td>0.0</td>\n",
              "      <td>0.0</td>\n",
              "      <td>0.0</td>\n",
              "      <td>0.0</td>\n",
              "      <td>0.0</td>\n",
              "      <td>0.0</td>\n",
              "      <td>0.0</td>\n",
              "      <td>0.0</td>\n",
              "      <td>0.0</td>\n",
              "      <td>0.0</td>\n",
              "      <td>0.0</td>\n",
              "      <td>0.0</td>\n",
              "      <td>...</td>\n",
              "      <td>0.0</td>\n",
              "      <td>0.0</td>\n",
              "      <td>0.0</td>\n",
              "      <td>0.0</td>\n",
              "      <td>0.0</td>\n",
              "      <td>0.0</td>\n",
              "      <td>0.0</td>\n",
              "      <td>0.0</td>\n",
              "      <td>0.0</td>\n",
              "      <td>0.0</td>\n",
              "      <td>0.0</td>\n",
              "      <td>0.0</td>\n",
              "      <td>0.0</td>\n",
              "      <td>0.0</td>\n",
              "      <td>0.0</td>\n",
              "      <td>0.0</td>\n",
              "      <td>0.0</td>\n",
              "      <td>0.0</td>\n",
              "      <td>0.0</td>\n",
              "      <td>0.0</td>\n",
              "      <td>0.0</td>\n",
              "      <td>0.0</td>\n",
              "      <td>0.0</td>\n",
              "      <td>0.0</td>\n",
              "      <td>0.0</td>\n",
              "      <td>0.0</td>\n",
              "      <td>0.0</td>\n",
              "      <td>0.0</td>\n",
              "      <td>0.0</td>\n",
              "      <td>0.0</td>\n",
              "      <td>0.0</td>\n",
              "      <td>0.0</td>\n",
              "      <td>0.0</td>\n",
              "      <td>0.0</td>\n",
              "      <td>0.0</td>\n",
              "      <td>0.0</td>\n",
              "      <td>0.0</td>\n",
              "      <td>0.0</td>\n",
              "      <td>0.0</td>\n",
              "      <td>0.0</td>\n",
              "    </tr>\n",
              "    <tr>\n",
              "      <th>2</th>\n",
              "      <td>0.0</td>\n",
              "      <td>0.0</td>\n",
              "      <td>0.0</td>\n",
              "      <td>0.0</td>\n",
              "      <td>0.0</td>\n",
              "      <td>0.0</td>\n",
              "      <td>0.0</td>\n",
              "      <td>0.0</td>\n",
              "      <td>0.0</td>\n",
              "      <td>0.0</td>\n",
              "      <td>0.0</td>\n",
              "      <td>0.0</td>\n",
              "      <td>0.0</td>\n",
              "      <td>0.0</td>\n",
              "      <td>0.0</td>\n",
              "      <td>0.0</td>\n",
              "      <td>0.0</td>\n",
              "      <td>0.0</td>\n",
              "      <td>0.0</td>\n",
              "      <td>0.0</td>\n",
              "      <td>0.0</td>\n",
              "      <td>0.0</td>\n",
              "      <td>0.0</td>\n",
              "      <td>0.0</td>\n",
              "      <td>0.0</td>\n",
              "      <td>1.0</td>\n",
              "      <td>1.0</td>\n",
              "      <td>0.0</td>\n",
              "      <td>0.0</td>\n",
              "      <td>0.0</td>\n",
              "      <td>0.0</td>\n",
              "      <td>0.0</td>\n",
              "      <td>0.0</td>\n",
              "      <td>0.0</td>\n",
              "      <td>0.0</td>\n",
              "      <td>0.0</td>\n",
              "      <td>0.0</td>\n",
              "      <td>0.0</td>\n",
              "      <td>0.0</td>\n",
              "      <td>0.0</td>\n",
              "      <td>...</td>\n",
              "      <td>0.0</td>\n",
              "      <td>0.0</td>\n",
              "      <td>0.0</td>\n",
              "      <td>0.0</td>\n",
              "      <td>0.0</td>\n",
              "      <td>0.0</td>\n",
              "      <td>0.0</td>\n",
              "      <td>0.0</td>\n",
              "      <td>0.0</td>\n",
              "      <td>0.0</td>\n",
              "      <td>0.0</td>\n",
              "      <td>0.0</td>\n",
              "      <td>0.0</td>\n",
              "      <td>0.0</td>\n",
              "      <td>0.0</td>\n",
              "      <td>0.0</td>\n",
              "      <td>0.0</td>\n",
              "      <td>0.0</td>\n",
              "      <td>0.0</td>\n",
              "      <td>0.0</td>\n",
              "      <td>0.0</td>\n",
              "      <td>0.0</td>\n",
              "      <td>0.0</td>\n",
              "      <td>0.0</td>\n",
              "      <td>0.0</td>\n",
              "      <td>0.0</td>\n",
              "      <td>0.0</td>\n",
              "      <td>0.0</td>\n",
              "      <td>0.0</td>\n",
              "      <td>0.0</td>\n",
              "      <td>0.0</td>\n",
              "      <td>0.0</td>\n",
              "      <td>0.0</td>\n",
              "      <td>0.0</td>\n",
              "      <td>0.0</td>\n",
              "      <td>0.0</td>\n",
              "      <td>0.0</td>\n",
              "      <td>0.0</td>\n",
              "      <td>0.0</td>\n",
              "      <td>0.0</td>\n",
              "    </tr>\n",
              "    <tr>\n",
              "      <th>3</th>\n",
              "      <td>0.0</td>\n",
              "      <td>0.0</td>\n",
              "      <td>0.0</td>\n",
              "      <td>0.0</td>\n",
              "      <td>0.0</td>\n",
              "      <td>0.0</td>\n",
              "      <td>0.0</td>\n",
              "      <td>0.0</td>\n",
              "      <td>0.0</td>\n",
              "      <td>0.0</td>\n",
              "      <td>0.0</td>\n",
              "      <td>0.0</td>\n",
              "      <td>0.0</td>\n",
              "      <td>0.0</td>\n",
              "      <td>0.0</td>\n",
              "      <td>0.0</td>\n",
              "      <td>0.0</td>\n",
              "      <td>0.0</td>\n",
              "      <td>0.0</td>\n",
              "      <td>0.0</td>\n",
              "      <td>0.0</td>\n",
              "      <td>0.0</td>\n",
              "      <td>0.0</td>\n",
              "      <td>0.0</td>\n",
              "      <td>0.0</td>\n",
              "      <td>1.0</td>\n",
              "      <td>1.0</td>\n",
              "      <td>0.0</td>\n",
              "      <td>0.0</td>\n",
              "      <td>0.0</td>\n",
              "      <td>0.0</td>\n",
              "      <td>0.0</td>\n",
              "      <td>0.0</td>\n",
              "      <td>0.0</td>\n",
              "      <td>0.0</td>\n",
              "      <td>0.0</td>\n",
              "      <td>0.0</td>\n",
              "      <td>0.0</td>\n",
              "      <td>0.0</td>\n",
              "      <td>0.0</td>\n",
              "      <td>...</td>\n",
              "      <td>0.0</td>\n",
              "      <td>0.0</td>\n",
              "      <td>0.0</td>\n",
              "      <td>0.0</td>\n",
              "      <td>0.0</td>\n",
              "      <td>0.0</td>\n",
              "      <td>0.0</td>\n",
              "      <td>0.0</td>\n",
              "      <td>0.0</td>\n",
              "      <td>0.0</td>\n",
              "      <td>0.0</td>\n",
              "      <td>0.0</td>\n",
              "      <td>0.0</td>\n",
              "      <td>0.0</td>\n",
              "      <td>0.0</td>\n",
              "      <td>0.0</td>\n",
              "      <td>0.0</td>\n",
              "      <td>0.0</td>\n",
              "      <td>0.0</td>\n",
              "      <td>0.0</td>\n",
              "      <td>0.0</td>\n",
              "      <td>0.0</td>\n",
              "      <td>0.0</td>\n",
              "      <td>0.0</td>\n",
              "      <td>0.0</td>\n",
              "      <td>0.0</td>\n",
              "      <td>0.0</td>\n",
              "      <td>0.0</td>\n",
              "      <td>0.0</td>\n",
              "      <td>0.0</td>\n",
              "      <td>0.0</td>\n",
              "      <td>0.0</td>\n",
              "      <td>0.0</td>\n",
              "      <td>0.0</td>\n",
              "      <td>0.0</td>\n",
              "      <td>0.0</td>\n",
              "      <td>0.0</td>\n",
              "      <td>0.0</td>\n",
              "      <td>0.0</td>\n",
              "      <td>0.0</td>\n",
              "    </tr>\n",
              "    <tr>\n",
              "      <th>4</th>\n",
              "      <td>0.0</td>\n",
              "      <td>0.0</td>\n",
              "      <td>0.0</td>\n",
              "      <td>0.0</td>\n",
              "      <td>0.0</td>\n",
              "      <td>0.0</td>\n",
              "      <td>0.0</td>\n",
              "      <td>0.0</td>\n",
              "      <td>0.0</td>\n",
              "      <td>0.0</td>\n",
              "      <td>0.0</td>\n",
              "      <td>0.0</td>\n",
              "      <td>0.0</td>\n",
              "      <td>0.0</td>\n",
              "      <td>0.0</td>\n",
              "      <td>0.0</td>\n",
              "      <td>0.0</td>\n",
              "      <td>0.0</td>\n",
              "      <td>0.0</td>\n",
              "      <td>0.0</td>\n",
              "      <td>0.0</td>\n",
              "      <td>0.0</td>\n",
              "      <td>0.0</td>\n",
              "      <td>0.0</td>\n",
              "      <td>0.0</td>\n",
              "      <td>1.0</td>\n",
              "      <td>1.0</td>\n",
              "      <td>0.0</td>\n",
              "      <td>0.0</td>\n",
              "      <td>0.0</td>\n",
              "      <td>0.0</td>\n",
              "      <td>0.0</td>\n",
              "      <td>0.0</td>\n",
              "      <td>0.0</td>\n",
              "      <td>0.0</td>\n",
              "      <td>0.0</td>\n",
              "      <td>0.0</td>\n",
              "      <td>0.0</td>\n",
              "      <td>0.0</td>\n",
              "      <td>0.0</td>\n",
              "      <td>...</td>\n",
              "      <td>0.0</td>\n",
              "      <td>0.0</td>\n",
              "      <td>0.0</td>\n",
              "      <td>0.0</td>\n",
              "      <td>0.0</td>\n",
              "      <td>0.0</td>\n",
              "      <td>0.0</td>\n",
              "      <td>0.0</td>\n",
              "      <td>0.0</td>\n",
              "      <td>0.0</td>\n",
              "      <td>0.0</td>\n",
              "      <td>0.0</td>\n",
              "      <td>0.0</td>\n",
              "      <td>0.0</td>\n",
              "      <td>0.0</td>\n",
              "      <td>0.0</td>\n",
              "      <td>0.0</td>\n",
              "      <td>0.0</td>\n",
              "      <td>0.0</td>\n",
              "      <td>0.0</td>\n",
              "      <td>0.0</td>\n",
              "      <td>0.0</td>\n",
              "      <td>0.0</td>\n",
              "      <td>0.0</td>\n",
              "      <td>0.0</td>\n",
              "      <td>0.0</td>\n",
              "      <td>0.0</td>\n",
              "      <td>0.0</td>\n",
              "      <td>0.0</td>\n",
              "      <td>0.0</td>\n",
              "      <td>0.0</td>\n",
              "      <td>0.0</td>\n",
              "      <td>0.0</td>\n",
              "      <td>0.0</td>\n",
              "      <td>0.0</td>\n",
              "      <td>0.0</td>\n",
              "      <td>0.0</td>\n",
              "      <td>0.0</td>\n",
              "      <td>0.0</td>\n",
              "      <td>0.0</td>\n",
              "    </tr>\n",
              "    <tr>\n",
              "      <th>...</th>\n",
              "      <td>...</td>\n",
              "      <td>...</td>\n",
              "      <td>...</td>\n",
              "      <td>...</td>\n",
              "      <td>...</td>\n",
              "      <td>...</td>\n",
              "      <td>...</td>\n",
              "      <td>...</td>\n",
              "      <td>...</td>\n",
              "      <td>...</td>\n",
              "      <td>...</td>\n",
              "      <td>...</td>\n",
              "      <td>...</td>\n",
              "      <td>...</td>\n",
              "      <td>...</td>\n",
              "      <td>...</td>\n",
              "      <td>...</td>\n",
              "      <td>...</td>\n",
              "      <td>...</td>\n",
              "      <td>...</td>\n",
              "      <td>...</td>\n",
              "      <td>...</td>\n",
              "      <td>...</td>\n",
              "      <td>...</td>\n",
              "      <td>...</td>\n",
              "      <td>...</td>\n",
              "      <td>...</td>\n",
              "      <td>...</td>\n",
              "      <td>...</td>\n",
              "      <td>...</td>\n",
              "      <td>...</td>\n",
              "      <td>...</td>\n",
              "      <td>...</td>\n",
              "      <td>...</td>\n",
              "      <td>...</td>\n",
              "      <td>...</td>\n",
              "      <td>...</td>\n",
              "      <td>...</td>\n",
              "      <td>...</td>\n",
              "      <td>...</td>\n",
              "      <td>...</td>\n",
              "      <td>...</td>\n",
              "      <td>...</td>\n",
              "      <td>...</td>\n",
              "      <td>...</td>\n",
              "      <td>...</td>\n",
              "      <td>...</td>\n",
              "      <td>...</td>\n",
              "      <td>...</td>\n",
              "      <td>...</td>\n",
              "      <td>...</td>\n",
              "      <td>...</td>\n",
              "      <td>...</td>\n",
              "      <td>...</td>\n",
              "      <td>...</td>\n",
              "      <td>...</td>\n",
              "      <td>...</td>\n",
              "      <td>...</td>\n",
              "      <td>...</td>\n",
              "      <td>...</td>\n",
              "      <td>...</td>\n",
              "      <td>...</td>\n",
              "      <td>...</td>\n",
              "      <td>...</td>\n",
              "      <td>...</td>\n",
              "      <td>...</td>\n",
              "      <td>...</td>\n",
              "      <td>...</td>\n",
              "      <td>...</td>\n",
              "      <td>...</td>\n",
              "      <td>...</td>\n",
              "      <td>...</td>\n",
              "      <td>...</td>\n",
              "      <td>...</td>\n",
              "      <td>...</td>\n",
              "      <td>...</td>\n",
              "      <td>...</td>\n",
              "      <td>...</td>\n",
              "      <td>...</td>\n",
              "      <td>...</td>\n",
              "      <td>...</td>\n",
              "    </tr>\n",
              "    <tr>\n",
              "      <th>2847</th>\n",
              "      <td>0.0</td>\n",
              "      <td>0.0</td>\n",
              "      <td>0.0</td>\n",
              "      <td>0.0</td>\n",
              "      <td>0.0</td>\n",
              "      <td>0.0</td>\n",
              "      <td>0.0</td>\n",
              "      <td>0.0</td>\n",
              "      <td>0.0</td>\n",
              "      <td>0.0</td>\n",
              "      <td>0.0</td>\n",
              "      <td>0.0</td>\n",
              "      <td>0.0</td>\n",
              "      <td>0.0</td>\n",
              "      <td>0.0</td>\n",
              "      <td>0.0</td>\n",
              "      <td>0.0</td>\n",
              "      <td>0.0</td>\n",
              "      <td>0.0</td>\n",
              "      <td>0.0</td>\n",
              "      <td>0.0</td>\n",
              "      <td>0.0</td>\n",
              "      <td>0.0</td>\n",
              "      <td>0.0</td>\n",
              "      <td>0.0</td>\n",
              "      <td>1.0</td>\n",
              "      <td>0.0</td>\n",
              "      <td>0.0</td>\n",
              "      <td>0.0</td>\n",
              "      <td>0.0</td>\n",
              "      <td>0.0</td>\n",
              "      <td>0.0</td>\n",
              "      <td>0.0</td>\n",
              "      <td>0.0</td>\n",
              "      <td>0.0</td>\n",
              "      <td>0.0</td>\n",
              "      <td>0.0</td>\n",
              "      <td>0.0</td>\n",
              "      <td>0.0</td>\n",
              "      <td>0.0</td>\n",
              "      <td>...</td>\n",
              "      <td>0.0</td>\n",
              "      <td>0.0</td>\n",
              "      <td>0.0</td>\n",
              "      <td>0.0</td>\n",
              "      <td>0.0</td>\n",
              "      <td>0.0</td>\n",
              "      <td>0.0</td>\n",
              "      <td>0.0</td>\n",
              "      <td>0.0</td>\n",
              "      <td>0.0</td>\n",
              "      <td>0.0</td>\n",
              "      <td>0.0</td>\n",
              "      <td>0.0</td>\n",
              "      <td>0.0</td>\n",
              "      <td>0.0</td>\n",
              "      <td>0.0</td>\n",
              "      <td>0.0</td>\n",
              "      <td>0.0</td>\n",
              "      <td>0.0</td>\n",
              "      <td>0.0</td>\n",
              "      <td>0.0</td>\n",
              "      <td>0.0</td>\n",
              "      <td>0.0</td>\n",
              "      <td>0.0</td>\n",
              "      <td>0.0</td>\n",
              "      <td>0.0</td>\n",
              "      <td>0.0</td>\n",
              "      <td>0.0</td>\n",
              "      <td>0.0</td>\n",
              "      <td>0.0</td>\n",
              "      <td>0.0</td>\n",
              "      <td>0.0</td>\n",
              "      <td>0.0</td>\n",
              "      <td>0.0</td>\n",
              "      <td>0.0</td>\n",
              "      <td>0.0</td>\n",
              "      <td>0.0</td>\n",
              "      <td>0.0</td>\n",
              "      <td>1.0</td>\n",
              "      <td>0.0</td>\n",
              "    </tr>\n",
              "    <tr>\n",
              "      <th>2848</th>\n",
              "      <td>0.0</td>\n",
              "      <td>0.0</td>\n",
              "      <td>0.0</td>\n",
              "      <td>0.0</td>\n",
              "      <td>0.0</td>\n",
              "      <td>0.0</td>\n",
              "      <td>0.0</td>\n",
              "      <td>0.0</td>\n",
              "      <td>0.0</td>\n",
              "      <td>0.0</td>\n",
              "      <td>0.0</td>\n",
              "      <td>0.0</td>\n",
              "      <td>0.0</td>\n",
              "      <td>0.0</td>\n",
              "      <td>0.0</td>\n",
              "      <td>0.0</td>\n",
              "      <td>0.0</td>\n",
              "      <td>0.0</td>\n",
              "      <td>0.0</td>\n",
              "      <td>0.0</td>\n",
              "      <td>0.0</td>\n",
              "      <td>0.0</td>\n",
              "      <td>0.0</td>\n",
              "      <td>0.0</td>\n",
              "      <td>0.0</td>\n",
              "      <td>1.0</td>\n",
              "      <td>0.0</td>\n",
              "      <td>0.0</td>\n",
              "      <td>0.0</td>\n",
              "      <td>0.0</td>\n",
              "      <td>0.0</td>\n",
              "      <td>0.0</td>\n",
              "      <td>0.0</td>\n",
              "      <td>0.0</td>\n",
              "      <td>0.0</td>\n",
              "      <td>0.0</td>\n",
              "      <td>0.0</td>\n",
              "      <td>0.0</td>\n",
              "      <td>0.0</td>\n",
              "      <td>0.0</td>\n",
              "      <td>...</td>\n",
              "      <td>0.0</td>\n",
              "      <td>0.0</td>\n",
              "      <td>0.0</td>\n",
              "      <td>0.0</td>\n",
              "      <td>0.0</td>\n",
              "      <td>0.0</td>\n",
              "      <td>0.0</td>\n",
              "      <td>0.0</td>\n",
              "      <td>0.0</td>\n",
              "      <td>0.0</td>\n",
              "      <td>0.0</td>\n",
              "      <td>0.0</td>\n",
              "      <td>0.0</td>\n",
              "      <td>0.0</td>\n",
              "      <td>0.0</td>\n",
              "      <td>0.0</td>\n",
              "      <td>0.0</td>\n",
              "      <td>0.0</td>\n",
              "      <td>0.0</td>\n",
              "      <td>0.0</td>\n",
              "      <td>0.0</td>\n",
              "      <td>0.0</td>\n",
              "      <td>0.0</td>\n",
              "      <td>0.0</td>\n",
              "      <td>0.0</td>\n",
              "      <td>0.0</td>\n",
              "      <td>0.0</td>\n",
              "      <td>0.0</td>\n",
              "      <td>0.0</td>\n",
              "      <td>0.0</td>\n",
              "      <td>0.0</td>\n",
              "      <td>0.0</td>\n",
              "      <td>0.0</td>\n",
              "      <td>0.0</td>\n",
              "      <td>0.0</td>\n",
              "      <td>0.0</td>\n",
              "      <td>0.0</td>\n",
              "      <td>0.0</td>\n",
              "      <td>1.0</td>\n",
              "      <td>0.0</td>\n",
              "    </tr>\n",
              "    <tr>\n",
              "      <th>2849</th>\n",
              "      <td>1.0</td>\n",
              "      <td>0.0</td>\n",
              "      <td>0.0</td>\n",
              "      <td>0.0</td>\n",
              "      <td>0.0</td>\n",
              "      <td>0.0</td>\n",
              "      <td>0.0</td>\n",
              "      <td>0.0</td>\n",
              "      <td>0.0</td>\n",
              "      <td>0.0</td>\n",
              "      <td>0.0</td>\n",
              "      <td>0.0</td>\n",
              "      <td>0.0</td>\n",
              "      <td>0.0</td>\n",
              "      <td>0.0</td>\n",
              "      <td>0.0</td>\n",
              "      <td>0.0</td>\n",
              "      <td>0.0</td>\n",
              "      <td>0.0</td>\n",
              "      <td>0.0</td>\n",
              "      <td>0.0</td>\n",
              "      <td>0.0</td>\n",
              "      <td>0.0</td>\n",
              "      <td>0.0</td>\n",
              "      <td>0.0</td>\n",
              "      <td>0.0</td>\n",
              "      <td>0.0</td>\n",
              "      <td>0.0</td>\n",
              "      <td>0.0</td>\n",
              "      <td>0.0</td>\n",
              "      <td>0.0</td>\n",
              "      <td>0.0</td>\n",
              "      <td>0.0</td>\n",
              "      <td>0.0</td>\n",
              "      <td>0.0</td>\n",
              "      <td>0.0</td>\n",
              "      <td>0.0</td>\n",
              "      <td>0.0</td>\n",
              "      <td>0.0</td>\n",
              "      <td>0.0</td>\n",
              "      <td>...</td>\n",
              "      <td>0.0</td>\n",
              "      <td>0.0</td>\n",
              "      <td>0.0</td>\n",
              "      <td>0.0</td>\n",
              "      <td>0.0</td>\n",
              "      <td>0.0</td>\n",
              "      <td>0.0</td>\n",
              "      <td>0.0</td>\n",
              "      <td>0.0</td>\n",
              "      <td>0.0</td>\n",
              "      <td>0.0</td>\n",
              "      <td>0.0</td>\n",
              "      <td>0.0</td>\n",
              "      <td>0.0</td>\n",
              "      <td>0.0</td>\n",
              "      <td>0.0</td>\n",
              "      <td>0.0</td>\n",
              "      <td>0.0</td>\n",
              "      <td>0.0</td>\n",
              "      <td>0.0</td>\n",
              "      <td>0.0</td>\n",
              "      <td>0.0</td>\n",
              "      <td>0.0</td>\n",
              "      <td>0.0</td>\n",
              "      <td>0.0</td>\n",
              "      <td>0.0</td>\n",
              "      <td>0.0</td>\n",
              "      <td>0.0</td>\n",
              "      <td>0.0</td>\n",
              "      <td>0.0</td>\n",
              "      <td>0.0</td>\n",
              "      <td>0.0</td>\n",
              "      <td>0.0</td>\n",
              "      <td>0.0</td>\n",
              "      <td>0.0</td>\n",
              "      <td>0.0</td>\n",
              "      <td>0.0</td>\n",
              "      <td>0.0</td>\n",
              "      <td>1.0</td>\n",
              "      <td>0.0</td>\n",
              "    </tr>\n",
              "    <tr>\n",
              "      <th>2850</th>\n",
              "      <td>0.0</td>\n",
              "      <td>0.0</td>\n",
              "      <td>0.0</td>\n",
              "      <td>0.0</td>\n",
              "      <td>0.0</td>\n",
              "      <td>0.0</td>\n",
              "      <td>0.0</td>\n",
              "      <td>0.0</td>\n",
              "      <td>0.0</td>\n",
              "      <td>0.0</td>\n",
              "      <td>0.0</td>\n",
              "      <td>0.0</td>\n",
              "      <td>0.0</td>\n",
              "      <td>0.0</td>\n",
              "      <td>0.0</td>\n",
              "      <td>0.0</td>\n",
              "      <td>0.0</td>\n",
              "      <td>0.0</td>\n",
              "      <td>0.0</td>\n",
              "      <td>0.0</td>\n",
              "      <td>0.0</td>\n",
              "      <td>0.0</td>\n",
              "      <td>0.0</td>\n",
              "      <td>0.0</td>\n",
              "      <td>0.0</td>\n",
              "      <td>1.0</td>\n",
              "      <td>0.0</td>\n",
              "      <td>0.0</td>\n",
              "      <td>0.0</td>\n",
              "      <td>0.0</td>\n",
              "      <td>0.0</td>\n",
              "      <td>0.0</td>\n",
              "      <td>0.0</td>\n",
              "      <td>0.0</td>\n",
              "      <td>0.0</td>\n",
              "      <td>0.0</td>\n",
              "      <td>0.0</td>\n",
              "      <td>0.0</td>\n",
              "      <td>0.0</td>\n",
              "      <td>0.0</td>\n",
              "      <td>...</td>\n",
              "      <td>0.0</td>\n",
              "      <td>0.0</td>\n",
              "      <td>0.0</td>\n",
              "      <td>0.0</td>\n",
              "      <td>0.0</td>\n",
              "      <td>0.0</td>\n",
              "      <td>0.0</td>\n",
              "      <td>0.0</td>\n",
              "      <td>0.0</td>\n",
              "      <td>0.0</td>\n",
              "      <td>0.0</td>\n",
              "      <td>0.0</td>\n",
              "      <td>0.0</td>\n",
              "      <td>0.0</td>\n",
              "      <td>0.0</td>\n",
              "      <td>0.0</td>\n",
              "      <td>0.0</td>\n",
              "      <td>0.0</td>\n",
              "      <td>0.0</td>\n",
              "      <td>0.0</td>\n",
              "      <td>0.0</td>\n",
              "      <td>0.0</td>\n",
              "      <td>0.0</td>\n",
              "      <td>0.0</td>\n",
              "      <td>0.0</td>\n",
              "      <td>0.0</td>\n",
              "      <td>0.0</td>\n",
              "      <td>0.0</td>\n",
              "      <td>0.0</td>\n",
              "      <td>0.0</td>\n",
              "      <td>0.0</td>\n",
              "      <td>0.0</td>\n",
              "      <td>0.0</td>\n",
              "      <td>0.0</td>\n",
              "      <td>0.0</td>\n",
              "      <td>0.0</td>\n",
              "      <td>0.0</td>\n",
              "      <td>0.0</td>\n",
              "      <td>1.0</td>\n",
              "      <td>0.0</td>\n",
              "    </tr>\n",
              "    <tr>\n",
              "      <th>2851</th>\n",
              "      <td>0.0</td>\n",
              "      <td>0.0</td>\n",
              "      <td>0.0</td>\n",
              "      <td>0.0</td>\n",
              "      <td>0.0</td>\n",
              "      <td>0.0</td>\n",
              "      <td>0.0</td>\n",
              "      <td>0.0</td>\n",
              "      <td>0.0</td>\n",
              "      <td>0.0</td>\n",
              "      <td>0.0</td>\n",
              "      <td>0.0</td>\n",
              "      <td>0.0</td>\n",
              "      <td>0.0</td>\n",
              "      <td>0.0</td>\n",
              "      <td>0.0</td>\n",
              "      <td>0.0</td>\n",
              "      <td>0.0</td>\n",
              "      <td>0.0</td>\n",
              "      <td>0.0</td>\n",
              "      <td>0.0</td>\n",
              "      <td>0.0</td>\n",
              "      <td>0.0</td>\n",
              "      <td>0.0</td>\n",
              "      <td>0.0</td>\n",
              "      <td>1.0</td>\n",
              "      <td>0.0</td>\n",
              "      <td>0.0</td>\n",
              "      <td>0.0</td>\n",
              "      <td>0.0</td>\n",
              "      <td>0.0</td>\n",
              "      <td>0.0</td>\n",
              "      <td>0.0</td>\n",
              "      <td>0.0</td>\n",
              "      <td>0.0</td>\n",
              "      <td>0.0</td>\n",
              "      <td>0.0</td>\n",
              "      <td>0.0</td>\n",
              "      <td>0.0</td>\n",
              "      <td>0.0</td>\n",
              "      <td>...</td>\n",
              "      <td>0.0</td>\n",
              "      <td>0.0</td>\n",
              "      <td>0.0</td>\n",
              "      <td>0.0</td>\n",
              "      <td>0.0</td>\n",
              "      <td>0.0</td>\n",
              "      <td>0.0</td>\n",
              "      <td>0.0</td>\n",
              "      <td>0.0</td>\n",
              "      <td>0.0</td>\n",
              "      <td>0.0</td>\n",
              "      <td>0.0</td>\n",
              "      <td>0.0</td>\n",
              "      <td>0.0</td>\n",
              "      <td>0.0</td>\n",
              "      <td>0.0</td>\n",
              "      <td>0.0</td>\n",
              "      <td>0.0</td>\n",
              "      <td>0.0</td>\n",
              "      <td>0.0</td>\n",
              "      <td>0.0</td>\n",
              "      <td>0.0</td>\n",
              "      <td>0.0</td>\n",
              "      <td>0.0</td>\n",
              "      <td>0.0</td>\n",
              "      <td>0.0</td>\n",
              "      <td>0.0</td>\n",
              "      <td>0.0</td>\n",
              "      <td>0.0</td>\n",
              "      <td>0.0</td>\n",
              "      <td>0.0</td>\n",
              "      <td>0.0</td>\n",
              "      <td>0.0</td>\n",
              "      <td>0.0</td>\n",
              "      <td>0.0</td>\n",
              "      <td>0.0</td>\n",
              "      <td>0.0</td>\n",
              "      <td>0.0</td>\n",
              "      <td>0.0</td>\n",
              "      <td>1.0</td>\n",
              "    </tr>\n",
              "  </tbody>\n",
              "</table>\n",
              "<p>2852 rows × 92 columns</p>\n",
              "</div>"
            ],
            "text/plain": [
              "      Background Color_0  ...  Collection Name_65\n",
              "0                    0.0  ...                 0.0\n",
              "1                    0.0  ...                 0.0\n",
              "2                    0.0  ...                 0.0\n",
              "3                    0.0  ...                 0.0\n",
              "4                    0.0  ...                 0.0\n",
              "...                  ...  ...                 ...\n",
              "2847                 0.0  ...                 0.0\n",
              "2848                 0.0  ...                 0.0\n",
              "2849                 1.0  ...                 0.0\n",
              "2850                 0.0  ...                 0.0\n",
              "2851                 0.0  ...                 1.0\n",
              "\n",
              "[2852 rows x 92 columns]"
            ]
          },
          "metadata": {},
          "execution_count": 58
        }
      ]
    },
    {
      "cell_type": "code",
      "metadata": {
        "id": "42Fb_-m93rB3"
      },
      "source": [
        ""
      ],
      "execution_count": null,
      "outputs": []
    },
    {
      "cell_type": "code",
      "metadata": {
        "id": "qTv6ghDc3rI6"
      },
      "source": [
        "X_train_five, X_test_five, y_train_five, y_test_five = train_test_split(encoded_df, nos_two, random_state = 1)"
      ],
      "execution_count": 59,
      "outputs": []
    },
    {
      "cell_type": "code",
      "metadata": {
        "id": "HgQJiMBD7Ypb"
      },
      "source": [
        "from sklearn.linear_model import LinearRegression, LogisticRegression"
      ],
      "execution_count": 60,
      "outputs": []
    },
    {
      "cell_type": "code",
      "metadata": {
        "id": "SDqcIsUW7Yzq"
      },
      "source": [
        "cat_model = LogisticRegression()"
      ],
      "execution_count": 61,
      "outputs": []
    },
    {
      "cell_type": "code",
      "metadata": {
        "id": "rWamoJ947Y7G",
        "colab": {
          "base_uri": "https://localhost:8080/"
        },
        "outputId": "54495e07-860f-4a96-ea1b-92229898bb8e"
      },
      "source": [
        "cat_model.fit(X_train_five,y_train_five)"
      ],
      "execution_count": 62,
      "outputs": [
        {
          "output_type": "execute_result",
          "data": {
            "text/plain": [
              "LogisticRegression(C=1.0, class_weight=None, dual=False, fit_intercept=True,\n",
              "                   intercept_scaling=1, l1_ratio=None, max_iter=100,\n",
              "                   multi_class='auto', n_jobs=None, penalty='l2',\n",
              "                   random_state=None, solver='lbfgs', tol=0.0001, verbose=0,\n",
              "                   warm_start=False)"
            ]
          },
          "metadata": {},
          "execution_count": 62
        }
      ]
    },
    {
      "cell_type": "code",
      "metadata": {
        "id": "JGXMYVeH7ZA3",
        "colab": {
          "base_uri": "https://localhost:8080/"
        },
        "outputId": "29319d87-29b4-4325-f20a-5bbffadfa453"
      },
      "source": [
        "cat_model.coef_"
      ],
      "execution_count": 65,
      "outputs": [
        {
          "output_type": "execute_result",
          "data": {
            "text/plain": [
              "array([[-0.02231531, -0.8479284 ,  0.51284039, -0.17065467,  0.        ,\n",
              "        -0.0480175 , -0.0480175 , -0.0480175 , -0.0480175 , -0.13275064,\n",
              "        -0.17065467, -0.0480175 ,  0.        , -0.09204214, -0.0480175 ,\n",
              "        -0.09204214, -0.09204214, -0.0480175 ,  0.        , -0.13275064,\n",
              "        -0.0480175 , -0.0480175 ,  0.        , -0.0480175 , -0.0480175 ,\n",
              "         1.76848971,  2.84636553, -1.38083026,  2.82710973,  2.76642577,\n",
              "         2.72327685, -2.39189216,  0.45051449,  2.82710973, -2.3710624 ,\n",
              "         2.78716459,  2.76642577, -1.91365002, -0.34799987, -0.80542623,\n",
              "         2.80738402,  1.02136876, -1.71698595, -0.46802778,  0.74814434,\n",
              "         2.82710973, -2.39189216, -1.95813418, -2.18097236,  2.86517353,\n",
              "        -2.32767436, -0.92035223, -1.91365002,  0.52727893, -0.35361325,\n",
              "        -1.46890174, -2.41218595, -2.34966714,  2.65388524, -1.34694333,\n",
              "        -2.47011411, -0.82586526, -2.45127261, -2.39189216,  2.86517353,\n",
              "        -1.98747768,  2.7008042 , -2.2333085 ,  0.76030504, -2.19373233,\n",
              "         0.11159563, -2.43197102,  0.        ,  2.67768651, -1.22004465,\n",
              "        -1.19484413,  2.90152708,  2.80738402,  2.76642577, -1.11509494,\n",
              "        -0.93538958,  2.80738402, -1.06094276,  2.76642577,  1.1536543 ,\n",
              "        -0.54821985, -0.01906053, -1.32765947, -2.3710624 ,  2.82710973,\n",
              "        -2.43882913, -0.35361325]])"
            ]
          },
          "metadata": {},
          "execution_count": 65
        }
      ]
    },
    {
      "cell_type": "code",
      "metadata": {
        "colab": {
          "base_uri": "https://localhost:8080/"
        },
        "id": "eF7u9GQ_xexT",
        "outputId": "d114331e-89ea-4176-f775-11195676e239"
      },
      "source": [
        "cat_model.intercept_"
      ],
      "execution_count": 66,
      "outputs": [
        {
          "output_type": "execute_result",
          "data": {
            "text/plain": [
              "array([-2.01926135])"
            ]
          },
          "metadata": {},
          "execution_count": 66
        }
      ]
    },
    {
      "cell_type": "code",
      "metadata": {
        "colab": {
          "base_uri": "https://localhost:8080/",
          "height": 143
        },
        "id": "IYLxv_bvU54w",
        "outputId": "aab23be3-6c3d-4669-e2fb-d087fdbb6fe0"
      },
      "source": [
        "collection_data_df.corr()"
      ],
      "execution_count": null,
      "outputs": [
        {
          "output_type": "execute_result",
          "data": {
            "text/html": [
              "<div>\n",
              "<style scoped>\n",
              "    .dataframe tbody tr th:only-of-type {\n",
              "        vertical-align: middle;\n",
              "    }\n",
              "\n",
              "    .dataframe tbody tr th {\n",
              "        vertical-align: top;\n",
              "    }\n",
              "\n",
              "    .dataframe thead th {\n",
              "        text-align: right;\n",
              "    }\n",
              "</style>\n",
              "<table border=\"1\" class=\"dataframe\">\n",
              "  <thead>\n",
              "    <tr style=\"text-align: right;\">\n",
              "      <th></th>\n",
              "      <th>Number of Sales</th>\n",
              "      <th>Last Sale Price (ETH)</th>\n",
              "      <th>Trait Count</th>\n",
              "    </tr>\n",
              "  </thead>\n",
              "  <tbody>\n",
              "    <tr>\n",
              "      <th>Number of Sales</th>\n",
              "      <td>1.000000</td>\n",
              "      <td>-0.006675</td>\n",
              "      <td>-0.060179</td>\n",
              "    </tr>\n",
              "    <tr>\n",
              "      <th>Last Sale Price (ETH)</th>\n",
              "      <td>-0.006675</td>\n",
              "      <td>1.000000</td>\n",
              "      <td>-0.037531</td>\n",
              "    </tr>\n",
              "    <tr>\n",
              "      <th>Trait Count</th>\n",
              "      <td>-0.060179</td>\n",
              "      <td>-0.037531</td>\n",
              "      <td>1.000000</td>\n",
              "    </tr>\n",
              "  </tbody>\n",
              "</table>\n",
              "</div>"
            ],
            "text/plain": [
              "                       Number of Sales  Last Sale Price (ETH)  Trait Count\n",
              "Number of Sales               1.000000              -0.006675    -0.060179\n",
              "Last Sale Price (ETH)        -0.006675               1.000000    -0.037531\n",
              "Trait Count                  -0.060179              -0.037531     1.000000"
            ]
          },
          "metadata": {},
          "execution_count": 25
        }
      ]
    },
    {
      "cell_type": "code",
      "metadata": {
        "colab": {
          "base_uri": "https://localhost:8080/"
        },
        "id": "IYYcspRPV1-g",
        "outputId": "a7652ea0-0953-4f62-b46c-69c0df6448aa"
      },
      "source": [
        "collection_data_df.dtypes"
      ],
      "execution_count": null,
      "outputs": [
        {
          "output_type": "execute_result",
          "data": {
            "text/plain": [
              "Asset Name                object\n",
              "Token ID                  object\n",
              "Number of Sales            int64\n",
              "Background Color          object\n",
              "Collection Name           object\n",
              "Last Sale Price (ETH)    float64\n",
              "Trait Count                int64\n",
              "dtype: object"
            ]
          },
          "metadata": {},
          "execution_count": 29
        }
      ]
    },
    {
      "cell_type": "code",
      "metadata": {
        "colab": {
          "base_uri": "https://localhost:8080/"
        },
        "id": "m4ZlDa67W3fx",
        "outputId": "63474466-16de-49af-d302-e93f716d9fa4"
      },
      "source": [
        "collection_data_df[\"Background Color\"].value_counts()"
      ],
      "execution_count": null,
      "outputs": [
        {
          "output_type": "execute_result",
          "data": {
            "text/plain": [
              "000000    52\n",
              "6B80D9     6\n",
              "           5\n",
              "262626     4\n",
              "8AD9E9     4\n",
              "3A65AD     4\n",
              "6972BE     3\n",
              "717AC3     3\n",
              "7F82CA     3\n",
              "887FCA     2\n",
              "7FA0CA     1\n",
              "D37AD6     1\n",
              "97FDDA     1\n",
              "5683D1     1\n",
              "6BABD9     1\n",
              "5144AD     1\n",
              "F3FFB1     1\n",
              "8A73DB     1\n",
              "AC8AE9     1\n",
              "FF8A98     1\n",
              "7463E2     1\n",
              "7FC0CA     1\n",
              "F185B3     1\n",
              "4350B9     1\n",
              "5CC5BA     1\n",
              "6F7DCF     1\n",
              "A26BD9     1\n",
              "4053B4     1\n",
              "5551C5     1\n",
              "Name: Background Color, dtype: int64"
            ]
          },
          "metadata": {},
          "execution_count": 26
        }
      ]
    },
    {
      "cell_type": "code",
      "metadata": {
        "colab": {
          "base_uri": "https://localhost:8080/"
        },
        "id": "DSQbld5Glyx5",
        "outputId": "41ab83d5-6c59-4149-8928-da4d534acfcf"
      },
      "source": [
        "collection_data_df[\"Collection Name\"].value_counts()"
      ],
      "execution_count": null,
      "outputs": [
        {
          "output_type": "execute_result",
          "data": {
            "text/plain": [
              "Zed Run                       50\n",
              "Dirtybird Flight Club         50\n",
              "The Doge Pound                50\n",
              "UnStackedToadz                50\n",
              "GOOP TROOP                    50\n",
              "                              ..\n",
              "Stories of Women!              4\n",
              "Bored Ape Chemistry Club       3\n",
              "Non Fungible Fungi Genesis     2\n",
              "ZombieToadz                    1\n",
              "Galaxy Eggs - old              1\n",
              "Name: Collection Name, Length: 67, dtype: int64"
            ]
          },
          "metadata": {},
          "execution_count": 27
        }
      ]
    },
    {
      "cell_type": "code",
      "metadata": {
        "id": "pR6IKH7vxJGP"
      },
      "source": [
        "ml_data_df = df[['id', 'num_sales']].copy()"
      ],
      "execution_count": null,
      "outputs": []
    },
    {
      "cell_type": "code",
      "metadata": {
        "id": "HrCAQ4P4xaol"
      },
      "source": [
        "ml_data_df = pd.concat([ml_data_df, total_price, total_traits], axis = 1)\n",
        "ml_data_df.columns = ['Asset ID', 'Number of Sales','Last Sale Price (ETH)', 'Trait Count']"
      ],
      "execution_count": null,
      "outputs": []
    },
    {
      "cell_type": "code",
      "metadata": {
        "colab": {
          "base_uri": "https://localhost:8080/",
          "height": 423
        },
        "id": "Q5XRIhNxyFtD",
        "outputId": "394b38a3-ea8c-478c-fc1d-0f1c1e8d3b28"
      },
      "source": [
        "ml_data_df"
      ],
      "execution_count": null,
      "outputs": [
        {
          "output_type": "execute_result",
          "data": {
            "text/html": [
              "<div>\n",
              "<style scoped>\n",
              "    .dataframe tbody tr th:only-of-type {\n",
              "        vertical-align: middle;\n",
              "    }\n",
              "\n",
              "    .dataframe tbody tr th {\n",
              "        vertical-align: top;\n",
              "    }\n",
              "\n",
              "    .dataframe thead th {\n",
              "        text-align: right;\n",
              "    }\n",
              "</style>\n",
              "<table border=\"1\" class=\"dataframe\">\n",
              "  <thead>\n",
              "    <tr style=\"text-align: right;\">\n",
              "      <th></th>\n",
              "      <th>Asset ID</th>\n",
              "      <th>Number of Sales</th>\n",
              "      <th>Last Sale Price (ETH)</th>\n",
              "      <th>Trait Count</th>\n",
              "    </tr>\n",
              "  </thead>\n",
              "  <tbody>\n",
              "    <tr>\n",
              "      <th>0</th>\n",
              "      <td>38109417</td>\n",
              "      <td>13</td>\n",
              "      <td>1.740</td>\n",
              "      <td>13</td>\n",
              "    </tr>\n",
              "    <tr>\n",
              "      <th>1</th>\n",
              "      <td>38105661</td>\n",
              "      <td>11</td>\n",
              "      <td>2.750</td>\n",
              "      <td>13</td>\n",
              "    </tr>\n",
              "    <tr>\n",
              "      <th>2</th>\n",
              "      <td>38104277</td>\n",
              "      <td>10</td>\n",
              "      <td>2.200</td>\n",
              "      <td>13</td>\n",
              "    </tr>\n",
              "    <tr>\n",
              "      <th>3</th>\n",
              "      <td>37768360</td>\n",
              "      <td>10</td>\n",
              "      <td>2.250</td>\n",
              "      <td>13</td>\n",
              "    </tr>\n",
              "    <tr>\n",
              "      <th>4</th>\n",
              "      <td>38107072</td>\n",
              "      <td>9</td>\n",
              "      <td>1.840</td>\n",
              "      <td>13</td>\n",
              "    </tr>\n",
              "    <tr>\n",
              "      <th>...</th>\n",
              "      <td>...</td>\n",
              "      <td>...</td>\n",
              "      <td>...</td>\n",
              "      <td>...</td>\n",
              "    </tr>\n",
              "    <tr>\n",
              "      <th>46</th>\n",
              "      <td>3005383</td>\n",
              "      <td>3</td>\n",
              "      <td>0.000</td>\n",
              "      <td>6</td>\n",
              "    </tr>\n",
              "    <tr>\n",
              "      <th>47</th>\n",
              "      <td>3706444</td>\n",
              "      <td>3</td>\n",
              "      <td>0.195</td>\n",
              "      <td>6</td>\n",
              "    </tr>\n",
              "    <tr>\n",
              "      <th>48</th>\n",
              "      <td>2849847</td>\n",
              "      <td>3</td>\n",
              "      <td>4.300</td>\n",
              "      <td>6</td>\n",
              "    </tr>\n",
              "    <tr>\n",
              "      <th>49</th>\n",
              "      <td>15209044</td>\n",
              "      <td>3</td>\n",
              "      <td>0.090</td>\n",
              "      <td>6</td>\n",
              "    </tr>\n",
              "    <tr>\n",
              "      <th>0</th>\n",
              "      <td>60149140</td>\n",
              "      <td>1</td>\n",
              "      <td>0.070</td>\n",
              "      <td>6</td>\n",
              "    </tr>\n",
              "  </tbody>\n",
              "</table>\n",
              "<p>2902 rows × 4 columns</p>\n",
              "</div>"
            ],
            "text/plain": [
              "    Asset ID  Number of Sales  Last Sale Price (ETH)  Trait Count\n",
              "0   38109417               13                  1.740           13\n",
              "1   38105661               11                  2.750           13\n",
              "2   38104277               10                  2.200           13\n",
              "3   37768360               10                  2.250           13\n",
              "4   38107072                9                  1.840           13\n",
              "..       ...              ...                    ...          ...\n",
              "46   3005383                3                  0.000            6\n",
              "47   3706444                3                  0.195            6\n",
              "48   2849847                3                  4.300            6\n",
              "49  15209044                3                  0.090            6\n",
              "0   60149140                1                  0.070            6\n",
              "\n",
              "[2902 rows x 4 columns]"
            ]
          },
          "metadata": {},
          "execution_count": 30
        }
      ]
    },
    {
      "cell_type": "code",
      "metadata": {
        "colab": {
          "base_uri": "https://localhost:8080/",
          "height": 175
        },
        "id": "2sY-6GPhEkcN",
        "outputId": "20668f1b-a1f2-424f-d15c-212a716e4fa9"
      },
      "source": [
        "ml_data_df.corr()"
      ],
      "execution_count": null,
      "outputs": [
        {
          "output_type": "execute_result",
          "data": {
            "text/html": [
              "<div>\n",
              "<style scoped>\n",
              "    .dataframe tbody tr th:only-of-type {\n",
              "        vertical-align: middle;\n",
              "    }\n",
              "\n",
              "    .dataframe tbody tr th {\n",
              "        vertical-align: top;\n",
              "    }\n",
              "\n",
              "    .dataframe thead th {\n",
              "        text-align: right;\n",
              "    }\n",
              "</style>\n",
              "<table border=\"1\" class=\"dataframe\">\n",
              "  <thead>\n",
              "    <tr style=\"text-align: right;\">\n",
              "      <th></th>\n",
              "      <th>Asset ID</th>\n",
              "      <th>Number of Sales</th>\n",
              "      <th>Last Sale Price (ETH)</th>\n",
              "      <th>Trait Count</th>\n",
              "    </tr>\n",
              "  </thead>\n",
              "  <tbody>\n",
              "    <tr>\n",
              "      <th>Asset ID</th>\n",
              "      <td>1.000000</td>\n",
              "      <td>-0.016277</td>\n",
              "      <td>-0.260021</td>\n",
              "      <td>0.110141</td>\n",
              "    </tr>\n",
              "    <tr>\n",
              "      <th>Number of Sales</th>\n",
              "      <td>-0.016277</td>\n",
              "      <td>1.000000</td>\n",
              "      <td>-0.006877</td>\n",
              "      <td>-0.063224</td>\n",
              "    </tr>\n",
              "    <tr>\n",
              "      <th>Last Sale Price (ETH)</th>\n",
              "      <td>-0.260021</td>\n",
              "      <td>-0.006877</td>\n",
              "      <td>1.000000</td>\n",
              "      <td>-0.050959</td>\n",
              "    </tr>\n",
              "    <tr>\n",
              "      <th>Trait Count</th>\n",
              "      <td>0.110141</td>\n",
              "      <td>-0.063224</td>\n",
              "      <td>-0.050959</td>\n",
              "      <td>1.000000</td>\n",
              "    </tr>\n",
              "  </tbody>\n",
              "</table>\n",
              "</div>"
            ],
            "text/plain": [
              "                       Asset ID  ...  Trait Count\n",
              "Asset ID               1.000000  ...     0.110141\n",
              "Number of Sales       -0.016277  ...    -0.063224\n",
              "Last Sale Price (ETH) -0.260021  ...    -0.050959\n",
              "Trait Count            0.110141  ...     1.000000\n",
              "\n",
              "[4 rows x 4 columns]"
            ]
          },
          "metadata": {},
          "execution_count": 37
        }
      ]
    },
    {
      "cell_type": "code",
      "metadata": {
        "colab": {
          "base_uri": "https://localhost:8080/"
        },
        "id": "E2CQkRivyMd3",
        "outputId": "78389c1c-af1d-48f6-cc88-93f4d340fcee"
      },
      "source": [
        "ml_data_df.dtypes"
      ],
      "execution_count": null,
      "outputs": [
        {
          "output_type": "execute_result",
          "data": {
            "text/plain": [
              "Asset ID                   int64\n",
              "Number of Sales            int64\n",
              "Last Sale Price (ETH)    float64\n",
              "Trait Count                int64\n",
              "dtype: object"
            ]
          },
          "metadata": {},
          "execution_count": 38
        }
      ]
    },
    {
      "cell_type": "code",
      "metadata": {
        "colab": {
          "base_uri": "https://localhost:8080/",
          "height": 300
        },
        "id": "cW9U0l_EmOfl",
        "outputId": "ef05bc33-f538-462a-9cdc-b2b429336e26"
      },
      "source": [
        "ml_data_df.describe()"
      ],
      "execution_count": null,
      "outputs": [
        {
          "output_type": "execute_result",
          "data": {
            "text/html": [
              "<div>\n",
              "<style scoped>\n",
              "    .dataframe tbody tr th:only-of-type {\n",
              "        vertical-align: middle;\n",
              "    }\n",
              "\n",
              "    .dataframe tbody tr th {\n",
              "        vertical-align: top;\n",
              "    }\n",
              "\n",
              "    .dataframe thead th {\n",
              "        text-align: right;\n",
              "    }\n",
              "</style>\n",
              "<table border=\"1\" class=\"dataframe\">\n",
              "  <thead>\n",
              "    <tr style=\"text-align: right;\">\n",
              "      <th></th>\n",
              "      <th>Asset ID</th>\n",
              "      <th>Number of Sales</th>\n",
              "      <th>Last Sale Price (ETH)</th>\n",
              "      <th>Trait Count</th>\n",
              "    </tr>\n",
              "  </thead>\n",
              "  <tbody>\n",
              "    <tr>\n",
              "      <th>count</th>\n",
              "      <td>2.865000e+03</td>\n",
              "      <td>2865.000000</td>\n",
              "      <td>2865.000000</td>\n",
              "      <td>2865.000000</td>\n",
              "    </tr>\n",
              "    <tr>\n",
              "      <th>mean</th>\n",
              "      <td>4.131507e+07</td>\n",
              "      <td>17.616405</td>\n",
              "      <td>4.419212</td>\n",
              "      <td>5.975567</td>\n",
              "    </tr>\n",
              "    <tr>\n",
              "      <th>std</th>\n",
              "      <td>1.732865e+07</td>\n",
              "      <td>252.777382</td>\n",
              "      <td>13.474552</td>\n",
              "      <td>3.866410</td>\n",
              "    </tr>\n",
              "    <tr>\n",
              "      <th>min</th>\n",
              "      <td>1.605500e+05</td>\n",
              "      <td>0.000000</td>\n",
              "      <td>0.000000</td>\n",
              "      <td>0.000000</td>\n",
              "    </tr>\n",
              "    <tr>\n",
              "      <th>25%</th>\n",
              "      <td>2.963554e+07</td>\n",
              "      <td>4.000000</td>\n",
              "      <td>0.470000</td>\n",
              "      <td>4.000000</td>\n",
              "    </tr>\n",
              "    <tr>\n",
              "      <th>50%</th>\n",
              "      <td>3.729639e+07</td>\n",
              "      <td>5.000000</td>\n",
              "      <td>1.450000</td>\n",
              "      <td>6.000000</td>\n",
              "    </tr>\n",
              "    <tr>\n",
              "      <th>75%</th>\n",
              "      <td>6.029301e+07</td>\n",
              "      <td>7.000000</td>\n",
              "      <td>3.763500</td>\n",
              "      <td>8.000000</td>\n",
              "    </tr>\n",
              "    <tr>\n",
              "      <th>max</th>\n",
              "      <td>6.778054e+07</td>\n",
              "      <td>11962.000000</td>\n",
              "      <td>350.000000</td>\n",
              "      <td>22.000000</td>\n",
              "    </tr>\n",
              "  </tbody>\n",
              "</table>\n",
              "</div>"
            ],
            "text/plain": [
              "           Asset ID  Number of Sales  Last Sale Price (ETH)  Trait Count\n",
              "count  2.865000e+03      2865.000000            2865.000000  2865.000000\n",
              "mean   4.131507e+07        17.616405               4.419212     5.975567\n",
              "std    1.732865e+07       252.777382              13.474552     3.866410\n",
              "min    1.605500e+05         0.000000               0.000000     0.000000\n",
              "25%    2.963554e+07         4.000000               0.470000     4.000000\n",
              "50%    3.729639e+07         5.000000               1.450000     6.000000\n",
              "75%    6.029301e+07         7.000000               3.763500     8.000000\n",
              "max    6.778054e+07     11962.000000             350.000000    22.000000"
            ]
          },
          "metadata": {},
          "execution_count": 39
        }
      ]
    },
    {
      "cell_type": "code",
      "metadata": {
        "id": "bwfLaforiFNo"
      },
      "source": [
        "import seaborn as sns\n",
        "\n",
        "import pandas as pd\n",
        "\n",
        "import numpy as np\n",
        "\n",
        "import matplotlib.pyplot as plt\n",
        "\n",
        "%matplotlib inline\n",
        "\n",
        "import seaborn as sns\n",
        "\n",
        "from sklearn import linear_model"
      ],
      "execution_count": null,
      "outputs": []
    },
    {
      "cell_type": "code",
      "metadata": {
        "colab": {
          "base_uri": "https://localhost:8080/"
        },
        "id": "x_3RofTcd_g0",
        "outputId": "29fe857c-4d0f-4030-e7a0-79c5c63ea859"
      },
      "source": [
        "ml_data_df.shape"
      ],
      "execution_count": null,
      "outputs": [
        {
          "output_type": "execute_result",
          "data": {
            "text/plain": [
              "(2865, 4)"
            ]
          },
          "metadata": {},
          "execution_count": 41
        }
      ]
    },
    {
      "cell_type": "code",
      "metadata": {
        "id": "ULXuinIqZJyZ"
      },
      "source": [
        "ml_data_df = ml_data_df[~ml_data_df.index.duplicated()]"
      ],
      "execution_count": null,
      "outputs": []
    },
    {
      "cell_type": "code",
      "metadata": {
        "colab": {
          "base_uri": "https://localhost:8080/"
        },
        "id": "Mv5A80lmYOvQ",
        "outputId": "ffed25a3-fe7b-4f0c-edb1-dbf525f529f1"
      },
      "source": [
        "ml_data_df.columns"
      ],
      "execution_count": null,
      "outputs": [
        {
          "output_type": "execute_result",
          "data": {
            "text/plain": [
              "Index(['Asset ID', 'Number of Sales', 'Last Sale Price (ETH)', 'Trait Count'], dtype='object')"
            ]
          },
          "metadata": {},
          "execution_count": 43
        }
      ]
    },
    {
      "cell_type": "code",
      "metadata": {
        "id": "8VkBJDxoaDHE"
      },
      "source": [
        "x = ml_data_df[['Number of Sales', 'Trait Count']]"
      ],
      "execution_count": null,
      "outputs": []
    },
    {
      "cell_type": "code",
      "metadata": {
        "id": "bRa3YkjqbmoX"
      },
      "source": [
        "x_two = ml_data_df[['Trait Count']]"
      ],
      "execution_count": null,
      "outputs": []
    },
    {
      "cell_type": "code",
      "metadata": {
        "id": "_-yTohetaUC3"
      },
      "source": [
        "y = ml_data_df['Last Sale Price (ETH)']"
      ],
      "execution_count": null,
      "outputs": []
    },
    {
      "cell_type": "code",
      "metadata": {
        "id": "ixe2m3ioaZC3"
      },
      "source": [
        "from sklearn.model_selection import train_test_split"
      ],
      "execution_count": null,
      "outputs": []
    },
    {
      "cell_type": "code",
      "metadata": {
        "id": "cFA3hTzmbsK3"
      },
      "source": [
        "z = ml_data_df['Number of Sales']"
      ],
      "execution_count": null,
      "outputs": []
    },
    {
      "cell_type": "code",
      "metadata": {
        "id": "00faVsSMbsiR"
      },
      "source": [
        "x_train, x_test, y_train, y_test = train_test_split(x, z, test_size = 0.3)"
      ],
      "execution_count": null,
      "outputs": []
    },
    {
      "cell_type": "code",
      "metadata": {
        "id": "muZXQxM2adCp"
      },
      "source": [
        "x_train, x_test, y_train, y_test = train_test_split(x, y, test_size = 0.3)"
      ],
      "execution_count": null,
      "outputs": []
    },
    {
      "cell_type": "code",
      "metadata": {
        "id": "L0P1vBLHb7T8"
      },
      "source": [
        ""
      ],
      "execution_count": null,
      "outputs": []
    },
    {
      "cell_type": "code",
      "metadata": {
        "id": "4UNG-2J2afB-"
      },
      "source": [
        "from sklearn.linear_model import LinearRegression, LogisticRegression"
      ],
      "execution_count": null,
      "outputs": []
    },
    {
      "cell_type": "code",
      "metadata": {
        "id": "LLIJKUQdb8sx"
      },
      "source": [
        "x_train_two, x_test_two, y_train_two, y_test_two = train_test_split(x_two, z, test_size = 0.3)"
      ],
      "execution_count": null,
      "outputs": []
    },
    {
      "cell_type": "code",
      "metadata": {
        "id": "FOPUZ52rb9Bc"
      },
      "source": [
        "model_two = LinearRegression()"
      ],
      "execution_count": null,
      "outputs": []
    },
    {
      "cell_type": "code",
      "metadata": {
        "colab": {
          "base_uri": "https://localhost:8080/"
        },
        "id": "LJItAyg1b9Hz",
        "outputId": "98173be5-030b-4d53-c159-5843d2b2d257"
      },
      "source": [
        "model_two.fit(x_train_two, y_train_two)"
      ],
      "execution_count": null,
      "outputs": [
        {
          "output_type": "execute_result",
          "data": {
            "text/plain": [
              "LinearRegression(copy_X=True, fit_intercept=True, n_jobs=None, normalize=False)"
            ]
          },
          "metadata": {},
          "execution_count": 55
        }
      ]
    },
    {
      "cell_type": "code",
      "metadata": {
        "colab": {
          "base_uri": "https://localhost:8080/"
        },
        "id": "cIeabdlTb9MJ",
        "outputId": "846c5f4f-e7d6-4082-c40a-9e53bb6ea02e"
      },
      "source": [
        "print(model_two.coef_)"
      ],
      "execution_count": null,
      "outputs": [
        {
          "output_type": "stream",
          "name": "stdout",
          "text": [
            "[0.]\n"
          ]
        }
      ]
    },
    {
      "cell_type": "code",
      "metadata": {
        "colab": {
          "base_uri": "https://localhost:8080/"
        },
        "id": "vhNAO9vicc-3",
        "outputId": "b8cf9a4b-d82e-40e9-969c-ef2efd6af7f4"
      },
      "source": [
        "print(model_two.intercept_)"
      ],
      "execution_count": null,
      "outputs": [
        {
          "output_type": "stream",
          "name": "stdout",
          "text": [
            "7.828571428571428\n"
          ]
        }
      ]
    },
    {
      "cell_type": "code",
      "metadata": {
        "id": "3bTk1ybDahCP"
      },
      "source": [
        "model = LinearRegression()"
      ],
      "execution_count": null,
      "outputs": []
    },
    {
      "cell_type": "code",
      "metadata": {
        "colab": {
          "base_uri": "https://localhost:8080/"
        },
        "id": "DqJjzNavaibi",
        "outputId": "e190819c-d9b2-453e-c0a5-0634191e35fb"
      },
      "source": [
        "model.fit(x_train, y_train)"
      ],
      "execution_count": null,
      "outputs": [
        {
          "output_type": "execute_result",
          "data": {
            "text/plain": [
              "LinearRegression(copy_X=True, fit_intercept=True, n_jobs=None, normalize=False)"
            ]
          },
          "metadata": {},
          "execution_count": 59
        }
      ]
    },
    {
      "cell_type": "code",
      "metadata": {
        "colab": {
          "base_uri": "https://localhost:8080/"
        },
        "id": "LgU_6ytnajwo",
        "outputId": "209e1e46-2e1a-4801-f3c7-5dc3c68d4baa"
      },
      "source": [
        "print(model.coef_)"
      ],
      "execution_count": null,
      "outputs": [
        {
          "output_type": "stream",
          "name": "stdout",
          "text": [
            "[0.04630943 0.        ]\n"
          ]
        }
      ]
    },
    {
      "cell_type": "markdown",
      "metadata": {
        "id": "A9p7O1KroWkt"
      },
      "source": [
        ""
      ]
    },
    {
      "cell_type": "code",
      "metadata": {
        "colab": {
          "base_uri": "https://localhost:8080/"
        },
        "id": "EBSM4m0-albs",
        "outputId": "1fe9afb4-c2e8-4d05-a1ee-96cdeac3d393"
      },
      "source": [
        "print(model.intercept_)"
      ],
      "execution_count": null,
      "outputs": [
        {
          "output_type": "stream",
          "name": "stdout",
          "text": [
            "2.2595467065868267\n"
          ]
        }
      ]
    },
    {
      "cell_type": "markdown",
      "metadata": {
        "id": "yxDydNiVoY2b"
      },
      "source": [
        ""
      ]
    },
    {
      "cell_type": "code",
      "metadata": {
        "colab": {
          "base_uri": "https://localhost:8080/",
          "height": 112
        },
        "id": "wSWRNWqSanis",
        "outputId": "80ee6f12-22e4-4aed-ea3f-c101785ddd88"
      },
      "source": [
        "pd.DataFrame(model.coef_, x.columns, columns = ['Coeff'])"
      ],
      "execution_count": null,
      "outputs": [
        {
          "output_type": "execute_result",
          "data": {
            "text/html": [
              "<div>\n",
              "<style scoped>\n",
              "    .dataframe tbody tr th:only-of-type {\n",
              "        vertical-align: middle;\n",
              "    }\n",
              "\n",
              "    .dataframe tbody tr th {\n",
              "        vertical-align: top;\n",
              "    }\n",
              "\n",
              "    .dataframe thead th {\n",
              "        text-align: right;\n",
              "    }\n",
              "</style>\n",
              "<table border=\"1\" class=\"dataframe\">\n",
              "  <thead>\n",
              "    <tr style=\"text-align: right;\">\n",
              "      <th></th>\n",
              "      <th>Coeff</th>\n",
              "    </tr>\n",
              "  </thead>\n",
              "  <tbody>\n",
              "    <tr>\n",
              "      <th>Number of Sales</th>\n",
              "      <td>0.046309</td>\n",
              "    </tr>\n",
              "    <tr>\n",
              "      <th>Trait Count</th>\n",
              "      <td>0.000000</td>\n",
              "    </tr>\n",
              "  </tbody>\n",
              "</table>\n",
              "</div>"
            ],
            "text/plain": [
              "                    Coeff\n",
              "Number of Sales  0.046309\n",
              "Trait Count      0.000000"
            ]
          },
          "metadata": {},
          "execution_count": 62
        }
      ]
    },
    {
      "cell_type": "code",
      "metadata": {
        "id": "IMrv3maepk0Q"
      },
      "source": [
        "model_log_one = LogisticRegression()"
      ],
      "execution_count": null,
      "outputs": []
    },
    {
      "cell_type": "code",
      "metadata": {
        "colab": {
          "base_uri": "https://localhost:8080/",
          "height": 311
        },
        "id": "oqiGaArVplNM",
        "outputId": "96de7959-c756-4de9-da63-0406f5bf0a8a"
      },
      "source": [
        "model_log_one.fit(x_train, y_train)"
      ],
      "execution_count": null,
      "outputs": [
        {
          "output_type": "error",
          "ename": "ValueError",
          "evalue": "ignored",
          "traceback": [
            "\u001b[0;31m---------------------------------------------------------------------------\u001b[0m",
            "\u001b[0;31mValueError\u001b[0m                                Traceback (most recent call last)",
            "\u001b[0;32m<ipython-input-71-a4c042266e12>\u001b[0m in \u001b[0;36m<module>\u001b[0;34m()\u001b[0m\n\u001b[0;32m----> 1\u001b[0;31m \u001b[0mmodel_log_one\u001b[0m\u001b[0;34m.\u001b[0m\u001b[0mfit\u001b[0m\u001b[0;34m(\u001b[0m\u001b[0mx_train\u001b[0m\u001b[0;34m,\u001b[0m \u001b[0my_train\u001b[0m\u001b[0;34m)\u001b[0m\u001b[0;34m\u001b[0m\u001b[0;34m\u001b[0m\u001b[0m\n\u001b[0m",
            "\u001b[0;32m/usr/local/lib/python3.7/dist-packages/sklearn/linear_model/_logistic.py\u001b[0m in \u001b[0;36mfit\u001b[0;34m(self, X, y, sample_weight)\u001b[0m\n\u001b[1;32m   1526\u001b[0m         X, y = check_X_y(X, y, accept_sparse='csr', dtype=_dtype, order=\"C\",\n\u001b[1;32m   1527\u001b[0m                          accept_large_sparse=solver != 'liblinear')\n\u001b[0;32m-> 1528\u001b[0;31m         \u001b[0mcheck_classification_targets\u001b[0m\u001b[0;34m(\u001b[0m\u001b[0my\u001b[0m\u001b[0;34m)\u001b[0m\u001b[0;34m\u001b[0m\u001b[0;34m\u001b[0m\u001b[0m\n\u001b[0m\u001b[1;32m   1529\u001b[0m         \u001b[0mself\u001b[0m\u001b[0;34m.\u001b[0m\u001b[0mclasses_\u001b[0m \u001b[0;34m=\u001b[0m \u001b[0mnp\u001b[0m\u001b[0;34m.\u001b[0m\u001b[0munique\u001b[0m\u001b[0;34m(\u001b[0m\u001b[0my\u001b[0m\u001b[0;34m)\u001b[0m\u001b[0;34m\u001b[0m\u001b[0;34m\u001b[0m\u001b[0m\n\u001b[1;32m   1530\u001b[0m         \u001b[0mn_samples\u001b[0m\u001b[0;34m,\u001b[0m \u001b[0mn_features\u001b[0m \u001b[0;34m=\u001b[0m \u001b[0mX\u001b[0m\u001b[0;34m.\u001b[0m\u001b[0mshape\u001b[0m\u001b[0;34m\u001b[0m\u001b[0;34m\u001b[0m\u001b[0m\n",
            "\u001b[0;32m/usr/local/lib/python3.7/dist-packages/sklearn/utils/multiclass.py\u001b[0m in \u001b[0;36mcheck_classification_targets\u001b[0;34m(y)\u001b[0m\n\u001b[1;32m    167\u001b[0m     if y_type not in ['binary', 'multiclass', 'multiclass-multioutput',\n\u001b[1;32m    168\u001b[0m                       'multilabel-indicator', 'multilabel-sequences']:\n\u001b[0;32m--> 169\u001b[0;31m         \u001b[0;32mraise\u001b[0m \u001b[0mValueError\u001b[0m\u001b[0;34m(\u001b[0m\u001b[0;34m\"Unknown label type: %r\"\u001b[0m \u001b[0;34m%\u001b[0m \u001b[0my_type\u001b[0m\u001b[0;34m)\u001b[0m\u001b[0;34m\u001b[0m\u001b[0;34m\u001b[0m\u001b[0m\n\u001b[0m\u001b[1;32m    170\u001b[0m \u001b[0;34m\u001b[0m\u001b[0m\n\u001b[1;32m    171\u001b[0m \u001b[0;34m\u001b[0m\u001b[0m\n",
            "\u001b[0;31mValueError\u001b[0m: Unknown label type: 'continuous'"
          ]
        }
      ]
    },
    {
      "cell_type": "code",
      "metadata": {
        "id": "UwRfDUhyplS7"
      },
      "source": [
        ""
      ],
      "execution_count": null,
      "outputs": []
    },
    {
      "cell_type": "code",
      "metadata": {
        "id": "QGpRr5z_plbd"
      },
      "source": [
        ""
      ],
      "execution_count": null,
      "outputs": []
    },
    {
      "cell_type": "code",
      "metadata": {
        "id": "axJl2Dszplld"
      },
      "source": [
        ""
      ],
      "execution_count": null,
      "outputs": []
    },
    {
      "cell_type": "code",
      "metadata": {
        "id": "j5ZcH1Qfap6w"
      },
      "source": [
        "predictions = model.predict(x_test)"
      ],
      "execution_count": null,
      "outputs": []
    },
    {
      "cell_type": "code",
      "metadata": {
        "colab": {
          "base_uri": "https://localhost:8080/",
          "height": 283
        },
        "id": "e8Zlu2Upau8_",
        "outputId": "83627619-ff33-4233-b05e-2d03488b9e1e"
      },
      "source": [
        "plt.scatter(y_test, predictions)"
      ],
      "execution_count": null,
      "outputs": [
        {
          "output_type": "execute_result",
          "data": {
            "text/plain": [
              "<matplotlib.collections.PathCollection at 0x7f68b6677950>"
            ]
          },
          "metadata": {},
          "execution_count": 64
        },
        {
          "output_type": "display_data",
          "data": {
            "image/png": "[encoded data removed]",
            "text/plain": [
              "<Figure size 432x288 with 1 Axes>"
            ]
          },
          "metadata": {
            "needs_background": "light"
          }
        }
      ]
    },
    {
      "cell_type": "code",
      "metadata": {
        "colab": {
          "base_uri": "https://localhost:8080/",
          "height": 352
        },
        "id": "jZc8_fx6awln",
        "outputId": "26edaebe-b4e0-461b-812a-0db3e90c9ab0"
      },
      "source": [
        "plt.hist(y_test - predictions)"
      ],
      "execution_count": null,
      "outputs": [
        {
          "output_type": "execute_result",
          "data": {
            "text/plain": [
              "(array([6., 4., 2., 0., 0., 0., 0., 2., 0., 1.]),\n",
              " array([-1.12156931, -0.4974146 ,  0.12674012,  0.75089484,  1.37504955,\n",
              "         1.99920427,  2.62335898,  3.2475137 ,  3.87166841,  4.49582313,\n",
              "         5.11997784]),\n",
              " <a list of 10 Patch objects>)"
            ]
          },
          "metadata": {},
          "execution_count": 65
        },
        {
          "output_type": "display_data",
          "data": {
            "image/png": "[encoded data removed]",
            "text/plain": [
              "<Figure size 432x288 with 1 Axes>"
            ]
          },
          "metadata": {
            "needs_background": "light"
          }
        }
      ]
    },
    {
      "cell_type": "code",
      "metadata": {
        "id": "yZ7PSHdxazfk"
      },
      "source": [
        "from sklearn import metrics"
      ],
      "execution_count": null,
      "outputs": []
    },
    {
      "cell_type": "code",
      "metadata": {
        "colab": {
          "base_uri": "https://localhost:8080/"
        },
        "id": "_erHl1ANbJIH",
        "outputId": "9087d13f-dc71-4958-cb41-86ac939ffc80"
      },
      "source": [
        "metrics.mean_absolute_error(y_test, predictions)\n"
      ],
      "execution_count": null,
      "outputs": [
        {
          "output_type": "execute_result",
          "data": {
            "text/plain": [
              "1.2166073852295411"
            ]
          },
          "metadata": {},
          "execution_count": 67
        }
      ]
    },
    {
      "cell_type": "code",
      "metadata": {
        "colab": {
          "base_uri": "https://localhost:8080/"
        },
        "id": "85nR8o00bKcT",
        "outputId": "d0e200fb-559a-4fc6-ccb0-ca2d8a117820"
      },
      "source": [
        "metrics.mean_squared_error(y_test, predictions)"
      ],
      "execution_count": null,
      "outputs": [
        {
          "output_type": "execute_result",
          "data": {
            "text/plain": [
              "3.594606709890477"
            ]
          },
          "metadata": {},
          "execution_count": 68
        }
      ]
    },
    {
      "cell_type": "code",
      "metadata": {
        "colab": {
          "base_uri": "https://localhost:8080/"
        },
        "id": "5BFkLZILbLuN",
        "outputId": "7bba185e-0977-463c-a83c-99a63f833567"
      },
      "source": [
        "np.sqrt(metrics.mean_squared_error(y_test, predictions))"
      ],
      "execution_count": null,
      "outputs": [
        {
          "output_type": "execute_result",
          "data": {
            "text/plain": [
              "1.8959448066572182"
            ]
          },
          "metadata": {},
          "execution_count": 69
        }
      ]
    }
  ]
}