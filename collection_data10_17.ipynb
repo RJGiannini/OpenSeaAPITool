{
  "nbformat": 4,
  "nbformat_minor": 0,
  "metadata": {
    "colab": {
      "name": "collection_data10/17.ipynb",
      "provenance": [],
      "collapsed_sections": [],
      "authorship_tag": "ABX9TyMhTgcKapyIKEykuM8DE3m0",
      "include_colab_link": true
    },
    "kernelspec": {
      "name": "python3",
      "display_name": "Python 3"
    },
    "language_info": {
      "name": "python"
    }
  },
  "cells": [
    {
      "cell_type": "markdown",
      "metadata": {
        "id": "view-in-github",
        "colab_type": "text"
      },
      "source": [
        "<a href=\"https://colab.research.google.com/github/RJGiannini/nft-project-group8/blob/main/collection_data10_17.ipynb\" target=\"_parent\"><img src=\"https://colab.research.google.com/assets/colab-badge.svg\" alt=\"Open In Colab\"/></a>"
      ]
    },
    {
      "cell_type": "code",
      "metadata": {
        "id": "-FIgqUXWJE_X"
      },
      "source": [
        "import numpy as np\n",
        "import pandas as pd\n",
        "import requests\n",
        "import json\n",
        "from pprint import pprint"
      ],
      "execution_count": 1,
      "outputs": []
    },
    {
      "cell_type": "code",
      "metadata": {
        "colab": {
          "resources": {
            "http://localhost:8080/nbextensions/google.colab/files.js": {
              "data": "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",
              "ok": true,
              "headers": [
                [
                  "content-type",
                  "application/javascript"
                ]
              ],
              "status": 200,
              "status_text": ""
            }
          },
          "base_uri": "https://localhost:8080/",
          "height": 70
        },
        "id": "UTcVOeChKMTF",
        "outputId": "efe2176d-375f-4734-ca2b-d51e40526cb4"
      },
      "source": [
        "# Upload collections_list.xlsx to Colab\n",
        "from google.colab import files\n",
        "\n",
        "csv_file = files.upload()"
      ],
      "execution_count": 2,
      "outputs": [
        {
          "output_type": "display_data",
          "data": {
            "text/html": [
              "\n",
              "     <input type=\"file\" id=\"files-741cafff-8ca4-4571-b59b-ff09cc396bde\" name=\"files[]\" multiple disabled\n",
              "        style=\"border:none\" />\n",
              "     <output id=\"result-741cafff-8ca4-4571-b59b-ff09cc396bde\">\n",
              "      Upload widget is only available when the cell has been executed in the\n",
              "      current browser session. Please rerun this cell to enable.\n",
              "      </output>\n",
              "      <script src=\"/nbextensions/google.colab/files.js\"></script> "
            ],
            "text/plain": [
              "<IPython.core.display.HTML object>"
            ]
          },
          "metadata": {}
        },
        {
          "output_type": "stream",
          "name": "stdout",
          "text": [
            "Saving collections_list.xlsx to collections_list.xlsx\n"
          ]
        }
      ]
    },
    {
      "cell_type": "code",
      "metadata": {
        "id": "Wl5ipMs_JJxk"
      },
      "source": [
        "# Read the collections_list.xlsx file from the Resources folder into a Pandas DataFrame\n",
        "collections_df = pd.read_excel(\"collections_list.xlsx\")\n",
        "\n",
        "# Review the DataFrame\n",
        "#collections_df"
      ],
      "execution_count": 3,
      "outputs": []
    },
    {
      "cell_type": "code",
      "metadata": {
        "id": "A2NBNc5XJMRQ"
      },
      "source": [
        "#collection_list\n",
        "collection_list = [x for x in collections_df['Name']]"
      ],
      "execution_count": 4,
      "outputs": []
    },
    {
      "cell_type": "code",
      "metadata": {
        "id": "1RWMkDpOLGtq"
      },
      "source": [
        "#collection_list_two\n",
        "collection_list_two = []\n",
        "for i in collection_list:\n",
        "  collection_list_two.append(i.replace(\" \", \"-\"))"
      ],
      "execution_count": 5,
      "outputs": []
    },
    {
      "cell_type": "code",
      "metadata": {
        "id": "vEmlU5bbLOcb"
      },
      "source": [
        "#collection_list_three\n",
        "collection_list_three = []\n",
        "for i in collection_list_two:\n",
        "  collection_list_three.append(i.lower())"
      ],
      "execution_count": 6,
      "outputs": []
    },
    {
      "cell_type": "code",
      "metadata": {
        "id": "ElwNxft1LSwl"
      },
      "source": [
        "df = pd.DataFrame()\n",
        "for collection in collection_list_three:\n",
        "  \n",
        "  url = \"https://api.opensea.io/api/v1/assets?order_by=sale_count&order_direction=desc&offset=0&limit=50&collection=\" + collection\n",
        "\n",
        "  JSONContent = requests.get(url).json()\n",
        "\n",
        "  content = json.dumps(JSONContent, indent = 2, sort_keys=True)\n",
        "\n",
        "  JSONContent.keys()\n",
        "\n",
        "  df = df.append(JSONContent[\"assets\"])"
      ],
      "execution_count": 7,
      "outputs": []
    },
    {
      "cell_type": "code",
      "metadata": {
        "id": "nDF4mz8VKgxk"
      },
      "source": [
        "#df"
      ],
      "execution_count": 8,
      "outputs": []
    },
    {
      "cell_type": "code",
      "metadata": {
        "id": "5yM_sqtaRS8O"
      },
      "source": [
        "collection_df = df['collection'].apply(pd.Series)\n",
        "#collection_df"
      ],
      "execution_count": 9,
      "outputs": []
    },
    {
      "cell_type": "code",
      "metadata": {
        "id": "cx4gloR0RjDt"
      },
      "source": [
        "#Collection Name\n",
        "collection_name = collection_df[\"name\"].apply(pd.Series)\n",
        "collection_name.columns = ['Collection Name']\n",
        "#collection_name"
      ],
      "execution_count": 10,
      "outputs": []
    },
    {
      "cell_type": "code",
      "metadata": {
        "id": "4Fhut8skPKIp"
      },
      "source": [
        "last_sale_df = df['last_sale'].apply(pd.Series)\n",
        "#last_sale_df"
      ],
      "execution_count": 11,
      "outputs": []
    },
    {
      "cell_type": "code",
      "metadata": {
        "id": "71UatdS-QZPb",
        "colab": {
          "base_uri": "https://localhost:8080/",
          "height": 412
        },
        "outputId": "77159beb-6533-44ca-8e03-eb858c88893a"
      },
      "source": [
        "#Last Sale Price in ETH\n",
        "total_price = last_sale_df['total_price'].apply(pd.Series)\n",
        "total_price.columns = ['Last Sale Price ETH']\n",
        "total_price = total_price.astype(float)* 0.000000000000000001\n",
        "total_price = total_price.fillna(0)\n",
        "total_price"
      ],
      "execution_count": 12,
      "outputs": [
        {
          "output_type": "execute_result",
          "data": {
            "text/html": [
              "<div>\n",
              "<style scoped>\n",
              "    .dataframe tbody tr th:only-of-type {\n",
              "        vertical-align: middle;\n",
              "    }\n",
              "\n",
              "    .dataframe tbody tr th {\n",
              "        vertical-align: top;\n",
              "    }\n",
              "\n",
              "    .dataframe thead th {\n",
              "        text-align: right;\n",
              "    }\n",
              "</style>\n",
              "<table border=\"1\" class=\"dataframe\">\n",
              "  <thead>\n",
              "    <tr style=\"text-align: right;\">\n",
              "      <th></th>\n",
              "      <th>Last Sale Price ETH</th>\n",
              "    </tr>\n",
              "  </thead>\n",
              "  <tbody>\n",
              "    <tr>\n",
              "      <th>0</th>\n",
              "      <td>1.740</td>\n",
              "    </tr>\n",
              "    <tr>\n",
              "      <th>1</th>\n",
              "      <td>2.750</td>\n",
              "    </tr>\n",
              "    <tr>\n",
              "      <th>2</th>\n",
              "      <td>2.200</td>\n",
              "    </tr>\n",
              "    <tr>\n",
              "      <th>3</th>\n",
              "      <td>2.250</td>\n",
              "    </tr>\n",
              "    <tr>\n",
              "      <th>4</th>\n",
              "      <td>1.840</td>\n",
              "    </tr>\n",
              "    <tr>\n",
              "      <th>...</th>\n",
              "      <td>...</td>\n",
              "    </tr>\n",
              "    <tr>\n",
              "      <th>46</th>\n",
              "      <td>0.000</td>\n",
              "    </tr>\n",
              "    <tr>\n",
              "      <th>47</th>\n",
              "      <td>0.195</td>\n",
              "    </tr>\n",
              "    <tr>\n",
              "      <th>48</th>\n",
              "      <td>4.300</td>\n",
              "    </tr>\n",
              "    <tr>\n",
              "      <th>49</th>\n",
              "      <td>0.090</td>\n",
              "    </tr>\n",
              "    <tr>\n",
              "      <th>0</th>\n",
              "      <td>0.070</td>\n",
              "    </tr>\n",
              "  </tbody>\n",
              "</table>\n",
              "<p>2852 rows × 1 columns</p>\n",
              "</div>"
            ],
            "text/plain": [
              "    Last Sale Price ETH\n",
              "0                 1.740\n",
              "1                 2.750\n",
              "2                 2.200\n",
              "3                 2.250\n",
              "4                 1.840\n",
              "..                  ...\n",
              "46                0.000\n",
              "47                0.195\n",
              "48                4.300\n",
              "49                0.090\n",
              "0                 0.070\n",
              "\n",
              "[2852 rows x 1 columns]"
            ]
          },
          "metadata": {},
          "execution_count": 12
        }
      ]
    },
    {
      "cell_type": "code",
      "metadata": {
        "id": "5aXur2iJjXOS"
      },
      "source": [
        "total_price['High Value'] = total_price['Last Sale Price ETH'].apply(lambda x: '0' if x <= 0.25 else '1')"
      ],
      "execution_count": 13,
      "outputs": []
    },
    {
      "cell_type": "code",
      "metadata": {
        "colab": {
          "base_uri": "https://localhost:8080/",
          "height": 412
        },
        "id": "dPTfGmD6j_r1",
        "outputId": "7c480f5a-9bf8-4d9d-bff7-d1228322495f"
      },
      "source": [
        "total_price"
      ],
      "execution_count": 14,
      "outputs": [
        {
          "output_type": "execute_result",
          "data": {
            "text/html": [
              "<div>\n",
              "<style scoped>\n",
              "    .dataframe tbody tr th:only-of-type {\n",
              "        vertical-align: middle;\n",
              "    }\n",
              "\n",
              "    .dataframe tbody tr th {\n",
              "        vertical-align: top;\n",
              "    }\n",
              "\n",
              "    .dataframe thead th {\n",
              "        text-align: right;\n",
              "    }\n",
              "</style>\n",
              "<table border=\"1\" class=\"dataframe\">\n",
              "  <thead>\n",
              "    <tr style=\"text-align: right;\">\n",
              "      <th></th>\n",
              "      <th>Last Sale Price ETH</th>\n",
              "      <th>High Value</th>\n",
              "    </tr>\n",
              "  </thead>\n",
              "  <tbody>\n",
              "    <tr>\n",
              "      <th>0</th>\n",
              "      <td>1.740</td>\n",
              "      <td>1</td>\n",
              "    </tr>\n",
              "    <tr>\n",
              "      <th>1</th>\n",
              "      <td>2.750</td>\n",
              "      <td>1</td>\n",
              "    </tr>\n",
              "    <tr>\n",
              "      <th>2</th>\n",
              "      <td>2.200</td>\n",
              "      <td>1</td>\n",
              "    </tr>\n",
              "    <tr>\n",
              "      <th>3</th>\n",
              "      <td>2.250</td>\n",
              "      <td>1</td>\n",
              "    </tr>\n",
              "    <tr>\n",
              "      <th>4</th>\n",
              "      <td>1.840</td>\n",
              "      <td>1</td>\n",
              "    </tr>\n",
              "    <tr>\n",
              "      <th>...</th>\n",
              "      <td>...</td>\n",
              "      <td>...</td>\n",
              "    </tr>\n",
              "    <tr>\n",
              "      <th>46</th>\n",
              "      <td>0.000</td>\n",
              "      <td>0</td>\n",
              "    </tr>\n",
              "    <tr>\n",
              "      <th>47</th>\n",
              "      <td>0.195</td>\n",
              "      <td>0</td>\n",
              "    </tr>\n",
              "    <tr>\n",
              "      <th>48</th>\n",
              "      <td>4.300</td>\n",
              "      <td>1</td>\n",
              "    </tr>\n",
              "    <tr>\n",
              "      <th>49</th>\n",
              "      <td>0.090</td>\n",
              "      <td>0</td>\n",
              "    </tr>\n",
              "    <tr>\n",
              "      <th>0</th>\n",
              "      <td>0.070</td>\n",
              "      <td>0</td>\n",
              "    </tr>\n",
              "  </tbody>\n",
              "</table>\n",
              "<p>2852 rows × 2 columns</p>\n",
              "</div>"
            ],
            "text/plain": [
              "    Last Sale Price ETH High Value\n",
              "0                 1.740          1\n",
              "1                 2.750          1\n",
              "2                 2.200          1\n",
              "3                 2.250          1\n",
              "4                 1.840          1\n",
              "..                  ...        ...\n",
              "46                0.000          0\n",
              "47                0.195          0\n",
              "48                4.300          1\n",
              "49                0.090          0\n",
              "0                 0.070          0\n",
              "\n",
              "[2852 rows x 2 columns]"
            ]
          },
          "metadata": {},
          "execution_count": 14
        }
      ]
    },
    {
      "cell_type": "code",
      "metadata": {
        "id": "OOKSgigoSB3Y"
      },
      "source": [
        "#payment_token_df = last_sale_df['payment_token'].apply(pd.Series)\n",
        "#payment_token_df"
      ],
      "execution_count": 15,
      "outputs": []
    },
    {
      "cell_type": "code",
      "metadata": {
        "id": "GCPIUXniSt69"
      },
      "source": [
        "#Current ETH TO USD price\n",
        "#usd_price = payment_token_df['usd_price'].apply(pd.Series)\n",
        "#usd_price.columns = ['ETH TO USD']\n",
        "#usd_price = usd_price.astype(float)"
      ],
      "execution_count": 16,
      "outputs": []
    },
    {
      "cell_type": "code",
      "metadata": {
        "id": "vtDiSygJa-1r"
      },
      "source": [
        "background_color = df['background_color']\n",
        "#background_color"
      ],
      "execution_count": 17,
      "outputs": []
    },
    {
      "cell_type": "code",
      "metadata": {
        "id": "QiReHE-xVpOb",
        "colab": {
          "base_uri": "https://localhost:8080/",
          "height": 742
        },
        "outputId": "0d52a9ef-e81c-47a9-9251-0bd7e4825781"
      },
      "source": [
        "#Creates New Columns and Lists Asset Traits\n",
        "traits_list = df['traits'].apply(pd.Series)\n",
        "traits_list.columns = ['Trait1', 'Trait2', 'Trait3', 'Trait4',\n",
        "                  'Trait5', 'Trait6', 'Trait7', 'Trait8',\n",
        "                  'Trait9', 'Trait10', 'Trait11', 'Trait12',\n",
        "                  'Trait13', 'Trait14', 'Trait15']\n",
        "\n",
        "                  # Trait count varies in length due to changes in real time data.\n",
        "                  #, 'Trait16','Trait17', 'Trait18', 'Trait19', 'Trait20', 'Trait21', 'Trait22'\n",
        "\n",
        "traits_list"
      ],
      "execution_count": 18,
      "outputs": [
        {
          "output_type": "execute_result",
          "data": {
            "text/html": [
              "<div>\n",
              "<style scoped>\n",
              "    .dataframe tbody tr th:only-of-type {\n",
              "        vertical-align: middle;\n",
              "    }\n",
              "\n",
              "    .dataframe tbody tr th {\n",
              "        vertical-align: top;\n",
              "    }\n",
              "\n",
              "    .dataframe thead th {\n",
              "        text-align: right;\n",
              "    }\n",
              "</style>\n",
              "<table border=\"1\" class=\"dataframe\">\n",
              "  <thead>\n",
              "    <tr style=\"text-align: right;\">\n",
              "      <th></th>\n",
              "      <th>Trait1</th>\n",
              "      <th>Trait2</th>\n",
              "      <th>Trait3</th>\n",
              "      <th>Trait4</th>\n",
              "      <th>Trait5</th>\n",
              "      <th>Trait6</th>\n",
              "      <th>Trait7</th>\n",
              "      <th>Trait8</th>\n",
              "      <th>Trait9</th>\n",
              "      <th>Trait10</th>\n",
              "      <th>Trait11</th>\n",
              "      <th>Trait12</th>\n",
              "      <th>Trait13</th>\n",
              "      <th>Trait14</th>\n",
              "      <th>Trait15</th>\n",
              "    </tr>\n",
              "  </thead>\n",
              "  <tbody>\n",
              "    <tr>\n",
              "      <th>0</th>\n",
              "      <td>{'trait_type': 'Strength', 'value': 3, 'displa...</td>\n",
              "      <td>{'trait_type': 'Spirit', 'value': 1, 'display_...</td>\n",
              "      <td>{'trait_type': 'Background', 'value': 'Citrine...</td>\n",
              "      <td>{'trait_type': 'Eyes', 'value': 'Open (Citrine...</td>\n",
              "      <td>{'trait_type': 'Style', 'value': 3, 'display_t...</td>\n",
              "      <td>{'trait_type': 'Mouth', 'value': 'Neutral', 'd...</td>\n",
              "      <td>{'trait_type': 'Head', 'value': 'Headphones (P...</td>\n",
              "      <td>{'trait_type': 'Hair', 'value': 'Bob (Rose)', ...</td>\n",
              "      <td>{'trait_type': 'Type', 'value': 'Y0K-A1', 'dis...</td>\n",
              "      <td>{'trait_type': 'Wear', 'value': 'Thermal Hoodi...</td>\n",
              "      <td>{'trait_type': 'Body', 'value': 'Jasper', 'dis...</td>\n",
              "      <td>{'trait_type': 'Extra', 'value': 'Void', 'disp...</td>\n",
              "      <td>{'trait_type': 'Face', 'value': 'Glasses (Obsi...</td>\n",
              "      <td>NaN</td>\n",
              "      <td>NaN</td>\n",
              "    </tr>\n",
              "    <tr>\n",
              "      <th>1</th>\n",
              "      <td>{'trait_type': 'Eyes', 'value': 'Half Open (Az...</td>\n",
              "      <td>{'trait_type': 'Spirit', 'value': 2, 'display_...</td>\n",
              "      <td>{'trait_type': 'Style', 'value': 3, 'display_t...</td>\n",
              "      <td>{'trait_type': 'Strength', 'value': 5, 'displa...</td>\n",
              "      <td>{'trait_type': 'Body', 'value': 'Azurite', 'di...</td>\n",
              "      <td>{'trait_type': 'Face', 'value': 'Bandaid', 'di...</td>\n",
              "      <td>{'trait_type': 'Head', 'value': 'Void', 'displ...</td>\n",
              "      <td>{'trait_type': 'Wear', 'value': 'Bomber Jacket...</td>\n",
              "      <td>{'trait_type': 'Type', 'value': 'Y0K-A1', 'dis...</td>\n",
              "      <td>{'trait_type': 'Background', 'value': 'Azurite...</td>\n",
              "      <td>{'trait_type': 'Extra', 'value': 'Void', 'disp...</td>\n",
              "      <td>{'trait_type': 'Mouth', 'value': 'Smirk', 'dis...</td>\n",
              "      <td>{'trait_type': 'Hair', 'value': 'Spiky (Obsidi...</td>\n",
              "      <td>NaN</td>\n",
              "      <td>NaN</td>\n",
              "    </tr>\n",
              "    <tr>\n",
              "      <th>2</th>\n",
              "      <td>{'trait_type': 'Extra', 'value': '0N1 Logo Pin...</td>\n",
              "      <td>{'trait_type': 'Hair', 'value': 'Spiky (Citrin...</td>\n",
              "      <td>{'trait_type': 'Face', 'value': 'PR Mask (Jasp...</td>\n",
              "      <td>{'trait_type': 'Style', 'value': 5, 'display_t...</td>\n",
              "      <td>{'trait_type': 'Body', 'value': 'Azurite', 'di...</td>\n",
              "      <td>{'trait_type': 'Mouth', 'value': 'Neutral', 'd...</td>\n",
              "      <td>{'trait_type': 'Spirit', 'value': 4, 'display_...</td>\n",
              "      <td>{'trait_type': 'Head', 'value': 'Headphones (P...</td>\n",
              "      <td>{'trait_type': 'Strength', 'value': 4, 'displa...</td>\n",
              "      <td>{'trait_type': 'Type', 'value': 'Y0K-A1', 'dis...</td>\n",
              "      <td>{'trait_type': 'Background', 'value': 'Azurite...</td>\n",
              "      <td>{'trait_type': 'Wear', 'value': 'Thermal Hoodi...</td>\n",
              "      <td>{'trait_type': 'Eyes', 'value': 'Squint (Azuri...</td>\n",
              "      <td>NaN</td>\n",
              "      <td>NaN</td>\n",
              "    </tr>\n",
              "    <tr>\n",
              "      <th>3</th>\n",
              "      <td>{'trait_type': 'Extra', 'value': '0N1 Logo Pin...</td>\n",
              "      <td>{'trait_type': 'Wear', 'value': 'Kimono (Rose)...</td>\n",
              "      <td>{'trait_type': 'Background', 'value': 'Citrine...</td>\n",
              "      <td>{'trait_type': 'Head', 'value': 'Headphones (T...</td>\n",
              "      <td>{'trait_type': 'Style', 'value': 3, 'display_t...</td>\n",
              "      <td>{'trait_type': 'Eyes', 'value': 'Half Open (Ci...</td>\n",
              "      <td>{'trait_type': 'Body', 'value': 'Azurite', 'di...</td>\n",
              "      <td>{'trait_type': 'Mouth', 'value': 'Neutral', 'd...</td>\n",
              "      <td>{'trait_type': 'Face', 'value': 'Nose Scar', '...</td>\n",
              "      <td>{'trait_type': 'Hair', 'value': 'Bob (Obsidian...</td>\n",
              "      <td>{'trait_type': 'Spirit', 'value': 4, 'display_...</td>\n",
              "      <td>{'trait_type': 'Type', 'value': 'Y0K-A1', 'dis...</td>\n",
              "      <td>{'trait_type': 'Strength', 'value': 1, 'displa...</td>\n",
              "      <td>NaN</td>\n",
              "      <td>NaN</td>\n",
              "    </tr>\n",
              "    <tr>\n",
              "      <th>4</th>\n",
              "      <td>{'trait_type': 'Face', 'value': 'Void', 'displ...</td>\n",
              "      <td>{'trait_type': 'Background', 'value': 'Citrine...</td>\n",
              "      <td>{'trait_type': 'Eyes', 'value': 'Open (Citrine...</td>\n",
              "      <td>{'trait_type': 'Body', 'value': 'Azurite', 'di...</td>\n",
              "      <td>{'trait_type': 'Mouth', 'value': 'Neutral', 'd...</td>\n",
              "      <td>{'trait_type': 'Head', 'value': 'Void', 'displ...</td>\n",
              "      <td>{'trait_type': 'Wear', 'value': 'Bomber Jacket...</td>\n",
              "      <td>{'trait_type': 'Strength', 'value': 4, 'displa...</td>\n",
              "      <td>{'trait_type': 'Type', 'value': 'Y0K-A1', 'dis...</td>\n",
              "      <td>{'trait_type': 'Style', 'value': 1, 'display_t...</td>\n",
              "      <td>{'trait_type': 'Spirit', 'value': 1, 'display_...</td>\n",
              "      <td>{'trait_type': 'Hair', 'value': 'Half-Buzz (Tu...</td>\n",
              "      <td>{'trait_type': 'Extra', 'value': 'Earring (Dou...</td>\n",
              "      <td>NaN</td>\n",
              "      <td>NaN</td>\n",
              "    </tr>\n",
              "    <tr>\n",
              "      <th>...</th>\n",
              "      <td>...</td>\n",
              "      <td>...</td>\n",
              "      <td>...</td>\n",
              "      <td>...</td>\n",
              "      <td>...</td>\n",
              "      <td>...</td>\n",
              "      <td>...</td>\n",
              "      <td>...</td>\n",
              "      <td>...</td>\n",
              "      <td>...</td>\n",
              "      <td>...</td>\n",
              "      <td>...</td>\n",
              "      <td>...</td>\n",
              "      <td>...</td>\n",
              "      <td>...</td>\n",
              "    </tr>\n",
              "    <tr>\n",
              "      <th>46</th>\n",
              "      <td>{'trait_type': 'breed_type', 'value': 'genesis...</td>\n",
              "      <td>{'trait_type': 'bloodline', 'value': 'Nakamoto...</td>\n",
              "      <td>{'trait_type': 'coat_color', 'value': 'Coral W...</td>\n",
              "      <td>{'trait_type': 'gender', 'value': 'Female', 'd...</td>\n",
              "      <td>{'trait_type': 'genotype', 'value': 'Z1', 'dis...</td>\n",
              "      <td>{'trait_type': 'horse_type', 'value': 'Mare', ...</td>\n",
              "      <td>NaN</td>\n",
              "      <td>NaN</td>\n",
              "      <td>NaN</td>\n",
              "      <td>NaN</td>\n",
              "      <td>NaN</td>\n",
              "      <td>NaN</td>\n",
              "      <td>NaN</td>\n",
              "      <td>NaN</td>\n",
              "      <td>NaN</td>\n",
              "    </tr>\n",
              "    <tr>\n",
              "      <th>47</th>\n",
              "      <td>{'trait_type': 'breed_type', 'value': 'genesis...</td>\n",
              "      <td>{'trait_type': 'coat_color', 'value': 'Golden ...</td>\n",
              "      <td>{'trait_type': 'bloodline', 'value': 'Finney',...</td>\n",
              "      <td>{'trait_type': 'gender', 'value': 'Male', 'dis...</td>\n",
              "      <td>{'trait_type': 'horse_type', 'value': 'Colt', ...</td>\n",
              "      <td>{'trait_type': 'genotype', 'value': 'Z7', 'dis...</td>\n",
              "      <td>NaN</td>\n",
              "      <td>NaN</td>\n",
              "      <td>NaN</td>\n",
              "      <td>NaN</td>\n",
              "      <td>NaN</td>\n",
              "      <td>NaN</td>\n",
              "      <td>NaN</td>\n",
              "      <td>NaN</td>\n",
              "      <td>NaN</td>\n",
              "    </tr>\n",
              "    <tr>\n",
              "      <th>48</th>\n",
              "      <td>{'trait_type': 'breed_type', 'value': 'genesis...</td>\n",
              "      <td>{'trait_type': 'coat_color', 'value': 'Golden ...</td>\n",
              "      <td>{'trait_type': 'gender', 'value': 'Male', 'dis...</td>\n",
              "      <td>{'trait_type': 'bloodline', 'value': 'Nakamoto...</td>\n",
              "      <td>{'trait_type': 'genotype', 'value': 'Z1', 'dis...</td>\n",
              "      <td>{'trait_type': 'horse_type', 'value': 'Stallio...</td>\n",
              "      <td>NaN</td>\n",
              "      <td>NaN</td>\n",
              "      <td>NaN</td>\n",
              "      <td>NaN</td>\n",
              "      <td>NaN</td>\n",
              "      <td>NaN</td>\n",
              "      <td>NaN</td>\n",
              "      <td>NaN</td>\n",
              "      <td>NaN</td>\n",
              "    </tr>\n",
              "    <tr>\n",
              "      <th>49</th>\n",
              "      <td>{'trait_type': 'horse_type', 'value': 'Mare', ...</td>\n",
              "      <td>{'trait_type': 'bloodline', 'value': 'Nakamoto...</td>\n",
              "      <td>{'trait_type': 'gender', 'value': 'Female', 'd...</td>\n",
              "      <td>{'trait_type': 'coat_color', 'value': 'Cyclame...</td>\n",
              "      <td>{'trait_type': 'genotype', 'value': 'Z4', 'dis...</td>\n",
              "      <td>{'trait_type': 'breed_type', 'value': 'exclusi...</td>\n",
              "      <td>NaN</td>\n",
              "      <td>NaN</td>\n",
              "      <td>NaN</td>\n",
              "      <td>NaN</td>\n",
              "      <td>NaN</td>\n",
              "      <td>NaN</td>\n",
              "      <td>NaN</td>\n",
              "      <td>NaN</td>\n",
              "      <td>NaN</td>\n",
              "    </tr>\n",
              "    <tr>\n",
              "      <th>0</th>\n",
              "      <td>{'trait_type': 'background', 'value': 'Ocean',...</td>\n",
              "      <td>{'trait_type': 'body', 'value': 'Red', 'displa...</td>\n",
              "      <td>{'trait_type': 'brain', 'value': 'mushedbrain'...</td>\n",
              "      <td>{'trait_type': 'eyes', 'value': 'sidelook', 'd...</td>\n",
              "      <td>{'trait_type': 'lips', 'value': 'darksmile', '...</td>\n",
              "      <td>{'trait_type': 'blood', 'value': 'HalfBlood', ...</td>\n",
              "      <td>NaN</td>\n",
              "      <td>NaN</td>\n",
              "      <td>NaN</td>\n",
              "      <td>NaN</td>\n",
              "      <td>NaN</td>\n",
              "      <td>NaN</td>\n",
              "      <td>NaN</td>\n",
              "      <td>NaN</td>\n",
              "      <td>NaN</td>\n",
              "    </tr>\n",
              "  </tbody>\n",
              "</table>\n",
              "<p>2852 rows × 15 columns</p>\n",
              "</div>"
            ],
            "text/plain": [
              "                                               Trait1  ... Trait15\n",
              "0   {'trait_type': 'Strength', 'value': 3, 'displa...  ...     NaN\n",
              "1   {'trait_type': 'Eyes', 'value': 'Half Open (Az...  ...     NaN\n",
              "2   {'trait_type': 'Extra', 'value': '0N1 Logo Pin...  ...     NaN\n",
              "3   {'trait_type': 'Extra', 'value': '0N1 Logo Pin...  ...     NaN\n",
              "4   {'trait_type': 'Face', 'value': 'Void', 'displ...  ...     NaN\n",
              "..                                                ...  ...     ...\n",
              "46  {'trait_type': 'breed_type', 'value': 'genesis...  ...     NaN\n",
              "47  {'trait_type': 'breed_type', 'value': 'genesis...  ...     NaN\n",
              "48  {'trait_type': 'breed_type', 'value': 'genesis...  ...     NaN\n",
              "49  {'trait_type': 'horse_type', 'value': 'Mare', ...  ...     NaN\n",
              "0   {'trait_type': 'background', 'value': 'Ocean',...  ...     NaN\n",
              "\n",
              "[2852 rows x 15 columns]"
            ]
          },
          "metadata": {},
          "execution_count": 18
        }
      ]
    },
    {
      "cell_type": "code",
      "metadata": {
        "id": "eWQ0HOQXR3rB"
      },
      "source": [
        "#Replaces NaN values with 0 and Trait Values with 1\n",
        "traits = traits_list[['Trait1', 'Trait2', 'Trait3', 'Trait4',\n",
        "                  'Trait5', 'Trait6', 'Trait7', 'Trait8',\n",
        "                  'Trait9', 'Trait10', 'Trait11', 'Trait12',\n",
        "                  'Trait13', 'Trait14', 'Trait15']] = traits_list[['Trait1', 'Trait2', 'Trait3', 'Trait4',\n",
        "                  'Trait5', 'Trait6', 'Trait7', 'Trait8',\n",
        "                  'Trait9', 'Trait10', 'Trait11', 'Trait12',\n",
        "                  'Trait13', 'Trait14', 'Trait15']].applymap(lambda x: 0 if pd.isnull(x) else 1)"
      ],
      "execution_count": 19,
      "outputs": []
    },
    {
      "cell_type": "code",
      "metadata": {
        "id": "EEfI0rTHUe7M"
      },
      "source": [
        "#Calculates Sum of traits\n",
        "total_traits = traits.apply(lambda row: row.Trait1 + row.Trait2 + row.Trait3\n",
        "                            + row.Trait4 +row.Trait5 + row.Trait6 + row.Trait7\n",
        "                            + row.Trait8 + row.Trait9 + row.Trait10 + row.Trait11 \n",
        "                            + row.Trait12 + row.Trait13 + row.Trait14 + row.Trait15 \n",
        "                            , axis = 1)"
      ],
      "execution_count": 20,
      "outputs": []
    },
    {
      "cell_type": "code",
      "metadata": {
        "id": "4JM8pJ9HTBhE"
      },
      "source": [
        "collection_data_df = df[['name', 'token_id', 'num_sales', 'background_color',]].copy()"
      ],
      "execution_count": 21,
      "outputs": []
    },
    {
      "cell_type": "code",
      "metadata": {
        "id": "mG9jzHpPTmJ5"
      },
      "source": [
        "collection_data_df = pd.concat([collection_data_df, collection_name, total_price, traits_list, total_traits], axis = 1)\n",
        "collection_data_df.columns = ['Asset Name', 'Token ID', 'Number of Sales', 'Background Color', 'Collection Name', 'Last Sale Price (ETH)', 'High Value (1 = Y, 0 = N)', 'Trait1', 'Trait2', 'Trait3', 'Trait4',\n",
        "                  'Trait5', 'Trait6', 'Trait7', 'Trait8',\n",
        "                  'Trait9', 'Trait10', 'Trait11', 'Trait12',\n",
        "                  'Trait13', 'Trait14', 'Trait15', 'Trait Count']"
      ],
      "execution_count": 22,
      "outputs": []
    },
    {
      "cell_type": "code",
      "metadata": {
        "colab": {
          "base_uri": "https://localhost:8080/",
          "height": 445
        },
        "id": "j9-D6-0Zvfg2",
        "outputId": "2e3e05c1-c2d2-42d8-91b7-4b60ca98ad1a"
      },
      "source": [
        "collection_data_df"
      ],
      "execution_count": 23,
      "outputs": [
        {
          "output_type": "execute_result",
          "data": {
            "text/html": [
              "<div>\n",
              "<style scoped>\n",
              "    .dataframe tbody tr th:only-of-type {\n",
              "        vertical-align: middle;\n",
              "    }\n",
              "\n",
              "    .dataframe tbody tr th {\n",
              "        vertical-align: top;\n",
              "    }\n",
              "\n",
              "    .dataframe thead th {\n",
              "        text-align: right;\n",
              "    }\n",
              "</style>\n",
              "<table border=\"1\" class=\"dataframe\">\n",
              "  <thead>\n",
              "    <tr style=\"text-align: right;\">\n",
              "      <th></th>\n",
              "      <th>Asset Name</th>\n",
              "      <th>Token ID</th>\n",
              "      <th>Number of Sales</th>\n",
              "      <th>Background Color</th>\n",
              "      <th>Collection Name</th>\n",
              "      <th>Last Sale Price (ETH)</th>\n",
              "      <th>High Value (1 = Y, 0 = N)</th>\n",
              "      <th>Trait1</th>\n",
              "      <th>Trait2</th>\n",
              "      <th>Trait3</th>\n",
              "      <th>Trait4</th>\n",
              "      <th>Trait5</th>\n",
              "      <th>Trait6</th>\n",
              "      <th>Trait7</th>\n",
              "      <th>Trait8</th>\n",
              "      <th>Trait9</th>\n",
              "      <th>Trait10</th>\n",
              "      <th>Trait11</th>\n",
              "      <th>Trait12</th>\n",
              "      <th>Trait13</th>\n",
              "      <th>Trait14</th>\n",
              "      <th>Trait15</th>\n",
              "      <th>Trait Count</th>\n",
              "    </tr>\n",
              "  </thead>\n",
              "  <tbody>\n",
              "    <tr>\n",
              "      <th>0</th>\n",
              "      <td>0N1 #6911</td>\n",
              "      <td>6911</td>\n",
              "      <td>13</td>\n",
              "      <td>None</td>\n",
              "      <td>0N1 Force</td>\n",
              "      <td>1.740</td>\n",
              "      <td>1</td>\n",
              "      <td>1</td>\n",
              "      <td>1</td>\n",
              "      <td>1</td>\n",
              "      <td>1</td>\n",
              "      <td>1</td>\n",
              "      <td>1</td>\n",
              "      <td>1</td>\n",
              "      <td>1</td>\n",
              "      <td>1</td>\n",
              "      <td>1</td>\n",
              "      <td>1</td>\n",
              "      <td>1</td>\n",
              "      <td>1</td>\n",
              "      <td>0</td>\n",
              "      <td>0</td>\n",
              "      <td>13</td>\n",
              "    </tr>\n",
              "    <tr>\n",
              "      <th>1</th>\n",
              "      <td>0N1 #3338</td>\n",
              "      <td>3338</td>\n",
              "      <td>11</td>\n",
              "      <td>None</td>\n",
              "      <td>0N1 Force</td>\n",
              "      <td>2.750</td>\n",
              "      <td>1</td>\n",
              "      <td>1</td>\n",
              "      <td>1</td>\n",
              "      <td>1</td>\n",
              "      <td>1</td>\n",
              "      <td>1</td>\n",
              "      <td>1</td>\n",
              "      <td>1</td>\n",
              "      <td>1</td>\n",
              "      <td>1</td>\n",
              "      <td>1</td>\n",
              "      <td>1</td>\n",
              "      <td>1</td>\n",
              "      <td>1</td>\n",
              "      <td>0</td>\n",
              "      <td>0</td>\n",
              "      <td>13</td>\n",
              "    </tr>\n",
              "    <tr>\n",
              "      <th>2</th>\n",
              "      <td>0N1 #2181</td>\n",
              "      <td>2181</td>\n",
              "      <td>10</td>\n",
              "      <td>None</td>\n",
              "      <td>0N1 Force</td>\n",
              "      <td>2.200</td>\n",
              "      <td>1</td>\n",
              "      <td>1</td>\n",
              "      <td>1</td>\n",
              "      <td>1</td>\n",
              "      <td>1</td>\n",
              "      <td>1</td>\n",
              "      <td>1</td>\n",
              "      <td>1</td>\n",
              "      <td>1</td>\n",
              "      <td>1</td>\n",
              "      <td>1</td>\n",
              "      <td>1</td>\n",
              "      <td>1</td>\n",
              "      <td>1</td>\n",
              "      <td>0</td>\n",
              "      <td>0</td>\n",
              "      <td>13</td>\n",
              "    </tr>\n",
              "    <tr>\n",
              "      <th>3</th>\n",
              "      <td>0N1 #1601</td>\n",
              "      <td>1601</td>\n",
              "      <td>10</td>\n",
              "      <td>None</td>\n",
              "      <td>0N1 Force</td>\n",
              "      <td>2.250</td>\n",
              "      <td>1</td>\n",
              "      <td>1</td>\n",
              "      <td>1</td>\n",
              "      <td>1</td>\n",
              "      <td>1</td>\n",
              "      <td>1</td>\n",
              "      <td>1</td>\n",
              "      <td>1</td>\n",
              "      <td>1</td>\n",
              "      <td>1</td>\n",
              "      <td>1</td>\n",
              "      <td>1</td>\n",
              "      <td>1</td>\n",
              "      <td>1</td>\n",
              "      <td>0</td>\n",
              "      <td>0</td>\n",
              "      <td>13</td>\n",
              "    </tr>\n",
              "    <tr>\n",
              "      <th>4</th>\n",
              "      <td>0N1 #4796</td>\n",
              "      <td>4796</td>\n",
              "      <td>9</td>\n",
              "      <td>None</td>\n",
              "      <td>0N1 Force</td>\n",
              "      <td>1.840</td>\n",
              "      <td>1</td>\n",
              "      <td>1</td>\n",
              "      <td>1</td>\n",
              "      <td>1</td>\n",
              "      <td>1</td>\n",
              "      <td>1</td>\n",
              "      <td>1</td>\n",
              "      <td>1</td>\n",
              "      <td>1</td>\n",
              "      <td>1</td>\n",
              "      <td>1</td>\n",
              "      <td>1</td>\n",
              "      <td>1</td>\n",
              "      <td>1</td>\n",
              "      <td>0</td>\n",
              "      <td>0</td>\n",
              "      <td>13</td>\n",
              "    </tr>\n",
              "    <tr>\n",
              "      <th>...</th>\n",
              "      <td>...</td>\n",
              "      <td>...</td>\n",
              "      <td>...</td>\n",
              "      <td>...</td>\n",
              "      <td>...</td>\n",
              "      <td>...</td>\n",
              "      <td>...</td>\n",
              "      <td>...</td>\n",
              "      <td>...</td>\n",
              "      <td>...</td>\n",
              "      <td>...</td>\n",
              "      <td>...</td>\n",
              "      <td>...</td>\n",
              "      <td>...</td>\n",
              "      <td>...</td>\n",
              "      <td>...</td>\n",
              "      <td>...</td>\n",
              "      <td>...</td>\n",
              "      <td>...</td>\n",
              "      <td>...</td>\n",
              "      <td>...</td>\n",
              "      <td>...</td>\n",
              "      <td>...</td>\n",
              "    </tr>\n",
              "    <tr>\n",
              "      <th>46</th>\n",
              "      <td>Watch Your Spending</td>\n",
              "      <td>287</td>\n",
              "      <td>3</td>\n",
              "      <td>None</td>\n",
              "      <td>Zed Run</td>\n",
              "      <td>0.000</td>\n",
              "      <td>0</td>\n",
              "      <td>1</td>\n",
              "      <td>1</td>\n",
              "      <td>1</td>\n",
              "      <td>1</td>\n",
              "      <td>1</td>\n",
              "      <td>1</td>\n",
              "      <td>0</td>\n",
              "      <td>0</td>\n",
              "      <td>0</td>\n",
              "      <td>0</td>\n",
              "      <td>0</td>\n",
              "      <td>0</td>\n",
              "      <td>0</td>\n",
              "      <td>0</td>\n",
              "      <td>0</td>\n",
              "      <td>6</td>\n",
              "    </tr>\n",
              "    <tr>\n",
              "      <th>47</th>\n",
              "      <td>Casino Empress</td>\n",
              "      <td>3489</td>\n",
              "      <td>3</td>\n",
              "      <td>None</td>\n",
              "      <td>Zed Run</td>\n",
              "      <td>0.195</td>\n",
              "      <td>0</td>\n",
              "      <td>1</td>\n",
              "      <td>1</td>\n",
              "      <td>1</td>\n",
              "      <td>1</td>\n",
              "      <td>1</td>\n",
              "      <td>1</td>\n",
              "      <td>0</td>\n",
              "      <td>0</td>\n",
              "      <td>0</td>\n",
              "      <td>0</td>\n",
              "      <td>0</td>\n",
              "      <td>0</td>\n",
              "      <td>0</td>\n",
              "      <td>0</td>\n",
              "      <td>0</td>\n",
              "      <td>6</td>\n",
              "    </tr>\n",
              "    <tr>\n",
              "      <th>48</th>\n",
              "      <td>Long Fly</td>\n",
              "      <td>48</td>\n",
              "      <td>3</td>\n",
              "      <td></td>\n",
              "      <td>Zed Run</td>\n",
              "      <td>4.300</td>\n",
              "      <td>1</td>\n",
              "      <td>1</td>\n",
              "      <td>1</td>\n",
              "      <td>1</td>\n",
              "      <td>1</td>\n",
              "      <td>1</td>\n",
              "      <td>1</td>\n",
              "      <td>0</td>\n",
              "      <td>0</td>\n",
              "      <td>0</td>\n",
              "      <td>0</td>\n",
              "      <td>0</td>\n",
              "      <td>0</td>\n",
              "      <td>0</td>\n",
              "      <td>0</td>\n",
              "      <td>0</td>\n",
              "      <td>6</td>\n",
              "    </tr>\n",
              "    <tr>\n",
              "      <th>49</th>\n",
              "      <td>Venus</td>\n",
              "      <td>5785</td>\n",
              "      <td>3</td>\n",
              "      <td>None</td>\n",
              "      <td>Zed Run</td>\n",
              "      <td>0.090</td>\n",
              "      <td>0</td>\n",
              "      <td>1</td>\n",
              "      <td>1</td>\n",
              "      <td>1</td>\n",
              "      <td>1</td>\n",
              "      <td>1</td>\n",
              "      <td>1</td>\n",
              "      <td>0</td>\n",
              "      <td>0</td>\n",
              "      <td>0</td>\n",
              "      <td>0</td>\n",
              "      <td>0</td>\n",
              "      <td>0</td>\n",
              "      <td>0</td>\n",
              "      <td>0</td>\n",
              "      <td>0</td>\n",
              "      <td>6</td>\n",
              "    </tr>\n",
              "    <tr>\n",
              "      <th>0</th>\n",
              "      <td>#4</td>\n",
              "      <td>4</td>\n",
              "      <td>1</td>\n",
              "      <td>None</td>\n",
              "      <td>ZombieToadz</td>\n",
              "      <td>0.070</td>\n",
              "      <td>0</td>\n",
              "      <td>1</td>\n",
              "      <td>1</td>\n",
              "      <td>1</td>\n",
              "      <td>1</td>\n",
              "      <td>1</td>\n",
              "      <td>1</td>\n",
              "      <td>0</td>\n",
              "      <td>0</td>\n",
              "      <td>0</td>\n",
              "      <td>0</td>\n",
              "      <td>0</td>\n",
              "      <td>0</td>\n",
              "      <td>0</td>\n",
              "      <td>0</td>\n",
              "      <td>0</td>\n",
              "      <td>6</td>\n",
              "    </tr>\n",
              "  </tbody>\n",
              "</table>\n",
              "<p>2852 rows × 23 columns</p>\n",
              "</div>"
            ],
            "text/plain": [
              "             Asset Name Token ID  ...  Trait15 Trait Count\n",
              "0             0N1 #6911     6911  ...        0          13\n",
              "1             0N1 #3338     3338  ...        0          13\n",
              "2             0N1 #2181     2181  ...        0          13\n",
              "3             0N1 #1601     1601  ...        0          13\n",
              "4             0N1 #4796     4796  ...        0          13\n",
              "..                  ...      ...  ...      ...         ...\n",
              "46  Watch Your Spending      287  ...        0           6\n",
              "47       Casino Empress     3489  ...        0           6\n",
              "48             Long Fly       48  ...        0           6\n",
              "49                Venus     5785  ...        0           6\n",
              "0                    #4        4  ...        0           6\n",
              "\n",
              "[2852 rows x 23 columns]"
            ]
          },
          "metadata": {},
          "execution_count": 23
        }
      ]
    },
    {
      "cell_type": "code",
      "metadata": {
        "colab": {
          "base_uri": "https://localhost:8080/"
        },
        "id": "IYYcspRPV1-g",
        "outputId": "7f9dffb4-8896-40de-865f-6da53289824f"
      },
      "source": [
        "collection_data_df.dtypes"
      ],
      "execution_count": 24,
      "outputs": [
        {
          "output_type": "execute_result",
          "data": {
            "text/plain": [
              "Asset Name                    object\n",
              "Token ID                      object\n",
              "Number of Sales                int64\n",
              "Background Color              object\n",
              "Collection Name               object\n",
              "Last Sale Price (ETH)        float64\n",
              "High Value (1 = Y, 0 = N)     object\n",
              "Trait1                         int64\n",
              "Trait2                         int64\n",
              "Trait3                         int64\n",
              "Trait4                         int64\n",
              "Trait5                         int64\n",
              "Trait6                         int64\n",
              "Trait7                         int64\n",
              "Trait8                         int64\n",
              "Trait9                         int64\n",
              "Trait10                        int64\n",
              "Trait11                        int64\n",
              "Trait12                        int64\n",
              "Trait13                        int64\n",
              "Trait14                        int64\n",
              "Trait15                        int64\n",
              "Trait Count                    int64\n",
              "dtype: object"
            ]
          },
          "metadata": {},
          "execution_count": 24
        }
      ]
    },
    {
      "cell_type": "code",
      "metadata": {
        "colab": {
          "base_uri": "https://localhost:8080/"
        },
        "id": "m4ZlDa67W3fx",
        "outputId": "b2516cd9-d34d-4653-bfeb-0e0f4fcfdc40"
      },
      "source": [
        "collection_data_df[\"Background Color\"].value_counts()"
      ],
      "execution_count": 95,
      "outputs": [
        {
          "output_type": "execute_result",
          "data": {
            "text/plain": [
              "000000    51\n",
              "6B80D9     8\n",
              "262626     6\n",
              "           5\n",
              "3A65AD     4\n",
              "7F82CA     4\n",
              "8AD9E9     3\n",
              "887FCA     3\n",
              "717AC3     3\n",
              "6972BE     2\n",
              "6BABD9     2\n",
              "FF8A98     2\n",
              "7FA0CA     2\n",
              "D37AD6     1\n",
              "6F7DCF     1\n",
              "7463E2     1\n",
              "F3FFB1     1\n",
              "4350B9     1\n",
              "97FDDA     1\n",
              "5551C5     1\n",
              "5144AD     1\n",
              "4053B4     1\n",
              "5CC5BA     1\n",
              "Name: Background Color, dtype: int64"
            ]
          },
          "metadata": {},
          "execution_count": 95
        }
      ]
    },
    {
      "cell_type": "code",
      "metadata": {
        "colab": {
          "base_uri": "https://localhost:8080/"
        },
        "id": "DSQbld5Glyx5",
        "outputId": "d7d24ecc-6f3e-4fc0-d51f-e3495fcd40b3"
      },
      "source": [
        "collection_data_df[\"Collection Name\"].value_counts()"
      ],
      "execution_count": 96,
      "outputs": [
        {
          "output_type": "execute_result",
          "data": {
            "text/plain": [
              "Sneaky Vampire Syndicate      50\n",
              "Lazy Lions                    50\n",
              "Bored Ape Kennel Club         50\n",
              "CyberKongz                    50\n",
              "Loopy Donuts                  50\n",
              "                              ..\n",
              "Stories of Women!              4\n",
              "Bored Ape Chemistry Club       3\n",
              "Non Fungible Fungi Genesis     2\n",
              "ZombieToadz                    1\n",
              "Galaxy Eggs - old              1\n",
              "Name: Collection Name, Length: 66, dtype: int64"
            ]
          },
          "metadata": {},
          "execution_count": 96
        }
      ]
    },
    {
      "cell_type": "code",
      "metadata": {
        "colab": {
          "base_uri": "https://localhost:8080/",
          "height": 412
        },
        "id": "stdb2a9wcJKN",
        "outputId": "464b80a2-e116-4d22-8a9e-34d3af9737d6"
      },
      "source": [
        "collection_data_df_cat = collection_data_df[['Background Color','Collection Name','Trait Count']]\n",
        "collection_data_df_cat"
      ],
      "execution_count": 97,
      "outputs": [
        {
          "output_type": "execute_result",
          "data": {
            "text/html": [
              "<div>\n",
              "<style scoped>\n",
              "    .dataframe tbody tr th:only-of-type {\n",
              "        vertical-align: middle;\n",
              "    }\n",
              "\n",
              "    .dataframe tbody tr th {\n",
              "        vertical-align: top;\n",
              "    }\n",
              "\n",
              "    .dataframe thead th {\n",
              "        text-align: right;\n",
              "    }\n",
              "</style>\n",
              "<table border=\"1\" class=\"dataframe\">\n",
              "  <thead>\n",
              "    <tr style=\"text-align: right;\">\n",
              "      <th></th>\n",
              "      <th>Background Color</th>\n",
              "      <th>Collection Name</th>\n",
              "      <th>Trait Count</th>\n",
              "    </tr>\n",
              "  </thead>\n",
              "  <tbody>\n",
              "    <tr>\n",
              "      <th>0</th>\n",
              "      <td>None</td>\n",
              "      <td>0N1 Force</td>\n",
              "      <td>13</td>\n",
              "    </tr>\n",
              "    <tr>\n",
              "      <th>1</th>\n",
              "      <td>None</td>\n",
              "      <td>0N1 Force</td>\n",
              "      <td>13</td>\n",
              "    </tr>\n",
              "    <tr>\n",
              "      <th>2</th>\n",
              "      <td>None</td>\n",
              "      <td>0N1 Force</td>\n",
              "      <td>13</td>\n",
              "    </tr>\n",
              "    <tr>\n",
              "      <th>3</th>\n",
              "      <td>None</td>\n",
              "      <td>0N1 Force</td>\n",
              "      <td>13</td>\n",
              "    </tr>\n",
              "    <tr>\n",
              "      <th>4</th>\n",
              "      <td>None</td>\n",
              "      <td>0N1 Force</td>\n",
              "      <td>13</td>\n",
              "    </tr>\n",
              "    <tr>\n",
              "      <th>...</th>\n",
              "      <td>...</td>\n",
              "      <td>...</td>\n",
              "      <td>...</td>\n",
              "    </tr>\n",
              "    <tr>\n",
              "      <th>46</th>\n",
              "      <td>None</td>\n",
              "      <td>Zed Run</td>\n",
              "      <td>6</td>\n",
              "    </tr>\n",
              "    <tr>\n",
              "      <th>47</th>\n",
              "      <td>None</td>\n",
              "      <td>Zed Run</td>\n",
              "      <td>6</td>\n",
              "    </tr>\n",
              "    <tr>\n",
              "      <th>48</th>\n",
              "      <td></td>\n",
              "      <td>Zed Run</td>\n",
              "      <td>6</td>\n",
              "    </tr>\n",
              "    <tr>\n",
              "      <th>49</th>\n",
              "      <td>None</td>\n",
              "      <td>Zed Run</td>\n",
              "      <td>6</td>\n",
              "    </tr>\n",
              "    <tr>\n",
              "      <th>0</th>\n",
              "      <td>None</td>\n",
              "      <td>ZombieToadz</td>\n",
              "      <td>6</td>\n",
              "    </tr>\n",
              "  </tbody>\n",
              "</table>\n",
              "<p>2852 rows × 3 columns</p>\n",
              "</div>"
            ],
            "text/plain": [
              "   Background Color Collection Name  Trait Count\n",
              "0              None       0N1 Force           13\n",
              "1              None       0N1 Force           13\n",
              "2              None       0N1 Force           13\n",
              "3              None       0N1 Force           13\n",
              "4              None       0N1 Force           13\n",
              "..              ...             ...          ...\n",
              "46             None         Zed Run            6\n",
              "47             None         Zed Run            6\n",
              "48                          Zed Run            6\n",
              "49             None         Zed Run            6\n",
              "0              None     ZombieToadz            6\n",
              "\n",
              "[2852 rows x 3 columns]"
            ]
          },
          "metadata": {},
          "execution_count": 97
        }
      ]
    },
    {
      "cell_type": "code",
      "metadata": {
        "colab": {
          "base_uri": "https://localhost:8080/"
        },
        "id": "0xe7X_focPbK",
        "outputId": "963255f5-a793-42a5-be03-86557d4d24f6"
      },
      "source": [
        "collection_data_df_cat.dtypes"
      ],
      "execution_count": 98,
      "outputs": [
        {
          "output_type": "execute_result",
          "data": {
            "text/plain": [
              "Background Color    object\n",
              "Collection Name     object\n",
              "Trait Count          int64\n",
              "dtype: object"
            ]
          },
          "metadata": {},
          "execution_count": 98
        }
      ]
    },
    {
      "cell_type": "code",
      "metadata": {
        "id": "C-SmvjXecee2"
      },
      "source": [
        "from sklearn.preprocessing import LabelEncoder"
      ],
      "execution_count": 99,
      "outputs": []
    },
    {
      "cell_type": "code",
      "metadata": {
        "id": "sDnF9QxXcfev"
      },
      "source": [
        "# Create encoder\n",
        "le = LabelEncoder()"
      ],
      "execution_count": 100,
      "outputs": []
    },
    {
      "cell_type": "code",
      "metadata": {
        "id": "djd55_RBcimW"
      },
      "source": [
        "collection_data_df_cat = collection_data_df_cat.apply(lambda col: le.fit_transform(col.astype(str)), axis=0, result_type='expand')"
      ],
      "execution_count": 101,
      "outputs": []
    },
    {
      "cell_type": "code",
      "metadata": {
        "id": "OA9hSnuVrNwz"
      },
      "source": [
        "collection_data_df_cat = pd.concat([collection_data_df_cat, total_price], axis = 1)"
      ],
      "execution_count": 102,
      "outputs": []
    },
    {
      "cell_type": "code",
      "metadata": {
        "colab": {
          "base_uri": "https://localhost:8080/"
        },
        "id": "b44rjpbGcksW",
        "outputId": "f2492566-5184-4e97-e8a3-412349daad92"
      },
      "source": [
        "collection_data_df_cat.dtypes"
      ],
      "execution_count": 103,
      "outputs": [
        {
          "output_type": "execute_result",
          "data": {
            "text/plain": [
              "Background Color         int64\n",
              "Collection Name          int64\n",
              "Trait Count              int64\n",
              "Last Sale Price ETH    float64\n",
              "High Value              object\n",
              "dtype: object"
            ]
          },
          "metadata": {},
          "execution_count": 103
        }
      ]
    },
    {
      "cell_type": "code",
      "metadata": {
        "colab": {
          "base_uri": "https://localhost:8080/",
          "height": 412
        },
        "id": "rFHeHJkdfLsj",
        "outputId": "4d73bf08-8db9-405c-f310-2706f6bd61fd"
      },
      "source": [
        "collection_data_df_cat = collection_data_df_cat.drop(columns=\"Last Sale Price ETH\")\n",
        "collection_data_df_cat"
      ],
      "execution_count": 113,
      "outputs": [
        {
          "output_type": "execute_result",
          "data": {
            "text/html": [
              "<div>\n",
              "<style scoped>\n",
              "    .dataframe tbody tr th:only-of-type {\n",
              "        vertical-align: middle;\n",
              "    }\n",
              "\n",
              "    .dataframe tbody tr th {\n",
              "        vertical-align: top;\n",
              "    }\n",
              "\n",
              "    .dataframe thead th {\n",
              "        text-align: right;\n",
              "    }\n",
              "</style>\n",
              "<table border=\"1\" class=\"dataframe\">\n",
              "  <thead>\n",
              "    <tr style=\"text-align: right;\">\n",
              "      <th></th>\n",
              "      <th>Background Color</th>\n",
              "      <th>Collection Name</th>\n",
              "      <th>Trait Count</th>\n",
              "      <th>High Value</th>\n",
              "    </tr>\n",
              "  </thead>\n",
              "  <tbody>\n",
              "    <tr>\n",
              "      <th>0</th>\n",
              "      <td>23</td>\n",
              "      <td>0</td>\n",
              "      <td>5</td>\n",
              "      <td>1</td>\n",
              "    </tr>\n",
              "    <tr>\n",
              "      <th>1</th>\n",
              "      <td>23</td>\n",
              "      <td>0</td>\n",
              "      <td>5</td>\n",
              "      <td>1</td>\n",
              "    </tr>\n",
              "    <tr>\n",
              "      <th>2</th>\n",
              "      <td>23</td>\n",
              "      <td>0</td>\n",
              "      <td>5</td>\n",
              "      <td>1</td>\n",
              "    </tr>\n",
              "    <tr>\n",
              "      <th>3</th>\n",
              "      <td>23</td>\n",
              "      <td>0</td>\n",
              "      <td>5</td>\n",
              "      <td>1</td>\n",
              "    </tr>\n",
              "    <tr>\n",
              "      <th>4</th>\n",
              "      <td>23</td>\n",
              "      <td>0</td>\n",
              "      <td>5</td>\n",
              "      <td>1</td>\n",
              "    </tr>\n",
              "    <tr>\n",
              "      <th>...</th>\n",
              "      <td>...</td>\n",
              "      <td>...</td>\n",
              "      <td>...</td>\n",
              "      <td>...</td>\n",
              "    </tr>\n",
              "    <tr>\n",
              "      <th>46</th>\n",
              "      <td>23</td>\n",
              "      <td>64</td>\n",
              "      <td>12</td>\n",
              "      <td>0</td>\n",
              "    </tr>\n",
              "    <tr>\n",
              "      <th>47</th>\n",
              "      <td>23</td>\n",
              "      <td>64</td>\n",
              "      <td>12</td>\n",
              "      <td>0</td>\n",
              "    </tr>\n",
              "    <tr>\n",
              "      <th>48</th>\n",
              "      <td>0</td>\n",
              "      <td>64</td>\n",
              "      <td>12</td>\n",
              "      <td>1</td>\n",
              "    </tr>\n",
              "    <tr>\n",
              "      <th>49</th>\n",
              "      <td>23</td>\n",
              "      <td>64</td>\n",
              "      <td>12</td>\n",
              "      <td>0</td>\n",
              "    </tr>\n",
              "    <tr>\n",
              "      <th>0</th>\n",
              "      <td>23</td>\n",
              "      <td>65</td>\n",
              "      <td>12</td>\n",
              "      <td>0</td>\n",
              "    </tr>\n",
              "  </tbody>\n",
              "</table>\n",
              "<p>2852 rows × 4 columns</p>\n",
              "</div>"
            ],
            "text/plain": [
              "    Background Color  Collection Name  Trait Count High Value\n",
              "0                 23                0            5          1\n",
              "1                 23                0            5          1\n",
              "2                 23                0            5          1\n",
              "3                 23                0            5          1\n",
              "4                 23                0            5          1\n",
              "..               ...              ...          ...        ...\n",
              "46                23               64           12          0\n",
              "47                23               64           12          0\n",
              "48                 0               64           12          1\n",
              "49                23               64           12          0\n",
              "0                 23               65           12          0\n",
              "\n",
              "[2852 rows x 4 columns]"
            ]
          },
          "metadata": {},
          "execution_count": 113
        }
      ]
    },
    {
      "cell_type": "code",
      "metadata": {
        "id": "0FoiX3xzcqIs"
      },
      "source": [
        "from sklearn.model_selection import train_test_split\n",
        "from sklearn.preprocessing import StandardScaler,OneHotEncoder"
      ],
      "execution_count": 114,
      "outputs": []
    },
    {
      "cell_type": "code",
      "metadata": {
        "id": "hjQI-zjXcsrQ"
      },
      "source": [
        "enc = OneHotEncoder(sparse=False)"
      ],
      "execution_count": 115,
      "outputs": []
    },
    {
      "cell_type": "code",
      "metadata": {
        "colab": {
          "base_uri": "https://localhost:8080/"
        },
        "id": "gKlq-WWrcuF7",
        "outputId": "30d06c6c-ed04-42c4-db26-f0e69d20a792"
      },
      "source": [
        "encoded_data = enc.fit_transform(collection_data_df_cat)\n",
        "encoded_data"
      ],
      "execution_count": 116,
      "outputs": [
        {
          "output_type": "execute_result",
          "data": {
            "text/plain": [
              "array([[0., 0., 0., ..., 0., 0., 1.],\n",
              "       [0., 0., 0., ..., 0., 0., 1.],\n",
              "       [0., 0., 0., ..., 0., 0., 1.],\n",
              "       ...,\n",
              "       [1., 0., 0., ..., 0., 0., 1.],\n",
              "       [0., 0., 0., ..., 0., 1., 0.],\n",
              "       [0., 0., 0., ..., 0., 1., 0.]])"
            ]
          },
          "metadata": {},
          "execution_count": 116
        }
      ]
    },
    {
      "cell_type": "code",
      "metadata": {
        "colab": {
          "base_uri": "https://localhost:8080/",
          "height": 449
        },
        "id": "zoR3xTPdcy1A",
        "outputId": "62cd98c7-d603-42f5-9f07-719d73964d15"
      },
      "source": [
        "categorical_variables = ['Background Color','Collection Name', 'Trait Count', 'High Value']\n",
        "encoded_df = pd.DataFrame(encoded_data, columns = enc.get_feature_names(categorical_variables))\n",
        "\n",
        "# Review the DataFrame\n",
        "encoded_df"
      ],
      "execution_count": 118,
      "outputs": [
        {
          "output_type": "execute_result",
          "data": {
            "text/html": [
              "<div>\n",
              "<style scoped>\n",
              "    .dataframe tbody tr th:only-of-type {\n",
              "        vertical-align: middle;\n",
              "    }\n",
              "\n",
              "    .dataframe tbody tr th {\n",
              "        vertical-align: top;\n",
              "    }\n",
              "\n",
              "    .dataframe thead th {\n",
              "        text-align: right;\n",
              "    }\n",
              "</style>\n",
              "<table border=\"1\" class=\"dataframe\">\n",
              "  <thead>\n",
              "    <tr style=\"text-align: right;\">\n",
              "      <th></th>\n",
              "      <th>Background Color_0</th>\n",
              "      <th>Background Color_1</th>\n",
              "      <th>Background Color_2</th>\n",
              "      <th>Background Color_3</th>\n",
              "      <th>Background Color_4</th>\n",
              "      <th>Background Color_5</th>\n",
              "      <th>Background Color_6</th>\n",
              "      <th>Background Color_7</th>\n",
              "      <th>Background Color_8</th>\n",
              "      <th>Background Color_9</th>\n",
              "      <th>Background Color_10</th>\n",
              "      <th>Background Color_11</th>\n",
              "      <th>Background Color_12</th>\n",
              "      <th>Background Color_13</th>\n",
              "      <th>Background Color_14</th>\n",
              "      <th>Background Color_15</th>\n",
              "      <th>Background Color_16</th>\n",
              "      <th>Background Color_17</th>\n",
              "      <th>Background Color_18</th>\n",
              "      <th>Background Color_19</th>\n",
              "      <th>Background Color_20</th>\n",
              "      <th>Background Color_21</th>\n",
              "      <th>Background Color_22</th>\n",
              "      <th>Background Color_23</th>\n",
              "      <th>Collection Name_0</th>\n",
              "      <th>Collection Name_1</th>\n",
              "      <th>Collection Name_2</th>\n",
              "      <th>Collection Name_3</th>\n",
              "      <th>Collection Name_4</th>\n",
              "      <th>Collection Name_5</th>\n",
              "      <th>Collection Name_6</th>\n",
              "      <th>Collection Name_7</th>\n",
              "      <th>Collection Name_8</th>\n",
              "      <th>Collection Name_9</th>\n",
              "      <th>Collection Name_10</th>\n",
              "      <th>Collection Name_11</th>\n",
              "      <th>Collection Name_12</th>\n",
              "      <th>Collection Name_13</th>\n",
              "      <th>Collection Name_14</th>\n",
              "      <th>Collection Name_15</th>\n",
              "      <th>...</th>\n",
              "      <th>Collection Name_44</th>\n",
              "      <th>Collection Name_45</th>\n",
              "      <th>Collection Name_46</th>\n",
              "      <th>Collection Name_47</th>\n",
              "      <th>Collection Name_48</th>\n",
              "      <th>Collection Name_49</th>\n",
              "      <th>Collection Name_50</th>\n",
              "      <th>Collection Name_51</th>\n",
              "      <th>Collection Name_52</th>\n",
              "      <th>Collection Name_53</th>\n",
              "      <th>Collection Name_54</th>\n",
              "      <th>Collection Name_55</th>\n",
              "      <th>Collection Name_56</th>\n",
              "      <th>Collection Name_57</th>\n",
              "      <th>Collection Name_58</th>\n",
              "      <th>Collection Name_59</th>\n",
              "      <th>Collection Name_60</th>\n",
              "      <th>Collection Name_61</th>\n",
              "      <th>Collection Name_62</th>\n",
              "      <th>Collection Name_63</th>\n",
              "      <th>Collection Name_64</th>\n",
              "      <th>Collection Name_65</th>\n",
              "      <th>Trait Count_0</th>\n",
              "      <th>Trait Count_1</th>\n",
              "      <th>Trait Count_2</th>\n",
              "      <th>Trait Count_3</th>\n",
              "      <th>Trait Count_4</th>\n",
              "      <th>Trait Count_5</th>\n",
              "      <th>Trait Count_6</th>\n",
              "      <th>Trait Count_7</th>\n",
              "      <th>Trait Count_8</th>\n",
              "      <th>Trait Count_9</th>\n",
              "      <th>Trait Count_10</th>\n",
              "      <th>Trait Count_11</th>\n",
              "      <th>Trait Count_12</th>\n",
              "      <th>Trait Count_13</th>\n",
              "      <th>Trait Count_14</th>\n",
              "      <th>Trait Count_15</th>\n",
              "      <th>High Value_0</th>\n",
              "      <th>High Value_1</th>\n",
              "    </tr>\n",
              "  </thead>\n",
              "  <tbody>\n",
              "    <tr>\n",
              "      <th>0</th>\n",
              "      <td>0.0</td>\n",
              "      <td>0.0</td>\n",
              "      <td>0.0</td>\n",
              "      <td>0.0</td>\n",
              "      <td>0.0</td>\n",
              "      <td>0.0</td>\n",
              "      <td>0.0</td>\n",
              "      <td>0.0</td>\n",
              "      <td>0.0</td>\n",
              "      <td>0.0</td>\n",
              "      <td>0.0</td>\n",
              "      <td>0.0</td>\n",
              "      <td>0.0</td>\n",
              "      <td>0.0</td>\n",
              "      <td>0.0</td>\n",
              "      <td>0.0</td>\n",
              "      <td>0.0</td>\n",
              "      <td>0.0</td>\n",
              "      <td>0.0</td>\n",
              "      <td>0.0</td>\n",
              "      <td>0.0</td>\n",
              "      <td>0.0</td>\n",
              "      <td>0.0</td>\n",
              "      <td>1.0</td>\n",
              "      <td>1.0</td>\n",
              "      <td>0.0</td>\n",
              "      <td>0.0</td>\n",
              "      <td>0.0</td>\n",
              "      <td>0.0</td>\n",
              "      <td>0.0</td>\n",
              "      <td>0.0</td>\n",
              "      <td>0.0</td>\n",
              "      <td>0.0</td>\n",
              "      <td>0.0</td>\n",
              "      <td>0.0</td>\n",
              "      <td>0.0</td>\n",
              "      <td>0.0</td>\n",
              "      <td>0.0</td>\n",
              "      <td>0.0</td>\n",
              "      <td>0.0</td>\n",
              "      <td>...</td>\n",
              "      <td>0.0</td>\n",
              "      <td>0.0</td>\n",
              "      <td>0.0</td>\n",
              "      <td>0.0</td>\n",
              "      <td>0.0</td>\n",
              "      <td>0.0</td>\n",
              "      <td>0.0</td>\n",
              "      <td>0.0</td>\n",
              "      <td>0.0</td>\n",
              "      <td>0.0</td>\n",
              "      <td>0.0</td>\n",
              "      <td>0.0</td>\n",
              "      <td>0.0</td>\n",
              "      <td>0.0</td>\n",
              "      <td>0.0</td>\n",
              "      <td>0.0</td>\n",
              "      <td>0.0</td>\n",
              "      <td>0.0</td>\n",
              "      <td>0.0</td>\n",
              "      <td>0.0</td>\n",
              "      <td>0.0</td>\n",
              "      <td>0.0</td>\n",
              "      <td>0.0</td>\n",
              "      <td>0.0</td>\n",
              "      <td>0.0</td>\n",
              "      <td>0.0</td>\n",
              "      <td>0.0</td>\n",
              "      <td>1.0</td>\n",
              "      <td>0.0</td>\n",
              "      <td>0.0</td>\n",
              "      <td>0.0</td>\n",
              "      <td>0.0</td>\n",
              "      <td>0.0</td>\n",
              "      <td>0.0</td>\n",
              "      <td>0.0</td>\n",
              "      <td>0.0</td>\n",
              "      <td>0.0</td>\n",
              "      <td>0.0</td>\n",
              "      <td>0.0</td>\n",
              "      <td>1.0</td>\n",
              "    </tr>\n",
              "    <tr>\n",
              "      <th>1</th>\n",
              "      <td>0.0</td>\n",
              "      <td>0.0</td>\n",
              "      <td>0.0</td>\n",
              "      <td>0.0</td>\n",
              "      <td>0.0</td>\n",
              "      <td>0.0</td>\n",
              "      <td>0.0</td>\n",
              "      <td>0.0</td>\n",
              "      <td>0.0</td>\n",
              "      <td>0.0</td>\n",
              "      <td>0.0</td>\n",
              "      <td>0.0</td>\n",
              "      <td>0.0</td>\n",
              "      <td>0.0</td>\n",
              "      <td>0.0</td>\n",
              "      <td>0.0</td>\n",
              "      <td>0.0</td>\n",
              "      <td>0.0</td>\n",
              "      <td>0.0</td>\n",
              "      <td>0.0</td>\n",
              "      <td>0.0</td>\n",
              "      <td>0.0</td>\n",
              "      <td>0.0</td>\n",
              "      <td>1.0</td>\n",
              "      <td>1.0</td>\n",
              "      <td>0.0</td>\n",
              "      <td>0.0</td>\n",
              "      <td>0.0</td>\n",
              "      <td>0.0</td>\n",
              "      <td>0.0</td>\n",
              "      <td>0.0</td>\n",
              "      <td>0.0</td>\n",
              "      <td>0.0</td>\n",
              "      <td>0.0</td>\n",
              "      <td>0.0</td>\n",
              "      <td>0.0</td>\n",
              "      <td>0.0</td>\n",
              "      <td>0.0</td>\n",
              "      <td>0.0</td>\n",
              "      <td>0.0</td>\n",
              "      <td>...</td>\n",
              "      <td>0.0</td>\n",
              "      <td>0.0</td>\n",
              "      <td>0.0</td>\n",
              "      <td>0.0</td>\n",
              "      <td>0.0</td>\n",
              "      <td>0.0</td>\n",
              "      <td>0.0</td>\n",
              "      <td>0.0</td>\n",
              "      <td>0.0</td>\n",
              "      <td>0.0</td>\n",
              "      <td>0.0</td>\n",
              "      <td>0.0</td>\n",
              "      <td>0.0</td>\n",
              "      <td>0.0</td>\n",
              "      <td>0.0</td>\n",
              "      <td>0.0</td>\n",
              "      <td>0.0</td>\n",
              "      <td>0.0</td>\n",
              "      <td>0.0</td>\n",
              "      <td>0.0</td>\n",
              "      <td>0.0</td>\n",
              "      <td>0.0</td>\n",
              "      <td>0.0</td>\n",
              "      <td>0.0</td>\n",
              "      <td>0.0</td>\n",
              "      <td>0.0</td>\n",
              "      <td>0.0</td>\n",
              "      <td>1.0</td>\n",
              "      <td>0.0</td>\n",
              "      <td>0.0</td>\n",
              "      <td>0.0</td>\n",
              "      <td>0.0</td>\n",
              "      <td>0.0</td>\n",
              "      <td>0.0</td>\n",
              "      <td>0.0</td>\n",
              "      <td>0.0</td>\n",
              "      <td>0.0</td>\n",
              "      <td>0.0</td>\n",
              "      <td>0.0</td>\n",
              "      <td>1.0</td>\n",
              "    </tr>\n",
              "    <tr>\n",
              "      <th>2</th>\n",
              "      <td>0.0</td>\n",
              "      <td>0.0</td>\n",
              "      <td>0.0</td>\n",
              "      <td>0.0</td>\n",
              "      <td>0.0</td>\n",
              "      <td>0.0</td>\n",
              "      <td>0.0</td>\n",
              "      <td>0.0</td>\n",
              "      <td>0.0</td>\n",
              "      <td>0.0</td>\n",
              "      <td>0.0</td>\n",
              "      <td>0.0</td>\n",
              "      <td>0.0</td>\n",
              "      <td>0.0</td>\n",
              "      <td>0.0</td>\n",
              "      <td>0.0</td>\n",
              "      <td>0.0</td>\n",
              "      <td>0.0</td>\n",
              "      <td>0.0</td>\n",
              "      <td>0.0</td>\n",
              "      <td>0.0</td>\n",
              "      <td>0.0</td>\n",
              "      <td>0.0</td>\n",
              "      <td>1.0</td>\n",
              "      <td>1.0</td>\n",
              "      <td>0.0</td>\n",
              "      <td>0.0</td>\n",
              "      <td>0.0</td>\n",
              "      <td>0.0</td>\n",
              "      <td>0.0</td>\n",
              "      <td>0.0</td>\n",
              "      <td>0.0</td>\n",
              "      <td>0.0</td>\n",
              "      <td>0.0</td>\n",
              "      <td>0.0</td>\n",
              "      <td>0.0</td>\n",
              "      <td>0.0</td>\n",
              "      <td>0.0</td>\n",
              "      <td>0.0</td>\n",
              "      <td>0.0</td>\n",
              "      <td>...</td>\n",
              "      <td>0.0</td>\n",
              "      <td>0.0</td>\n",
              "      <td>0.0</td>\n",
              "      <td>0.0</td>\n",
              "      <td>0.0</td>\n",
              "      <td>0.0</td>\n",
              "      <td>0.0</td>\n",
              "      <td>0.0</td>\n",
              "      <td>0.0</td>\n",
              "      <td>0.0</td>\n",
              "      <td>0.0</td>\n",
              "      <td>0.0</td>\n",
              "      <td>0.0</td>\n",
              "      <td>0.0</td>\n",
              "      <td>0.0</td>\n",
              "      <td>0.0</td>\n",
              "      <td>0.0</td>\n",
              "      <td>0.0</td>\n",
              "      <td>0.0</td>\n",
              "      <td>0.0</td>\n",
              "      <td>0.0</td>\n",
              "      <td>0.0</td>\n",
              "      <td>0.0</td>\n",
              "      <td>0.0</td>\n",
              "      <td>0.0</td>\n",
              "      <td>0.0</td>\n",
              "      <td>0.0</td>\n",
              "      <td>1.0</td>\n",
              "      <td>0.0</td>\n",
              "      <td>0.0</td>\n",
              "      <td>0.0</td>\n",
              "      <td>0.0</td>\n",
              "      <td>0.0</td>\n",
              "      <td>0.0</td>\n",
              "      <td>0.0</td>\n",
              "      <td>0.0</td>\n",
              "      <td>0.0</td>\n",
              "      <td>0.0</td>\n",
              "      <td>0.0</td>\n",
              "      <td>1.0</td>\n",
              "    </tr>\n",
              "    <tr>\n",
              "      <th>3</th>\n",
              "      <td>0.0</td>\n",
              "      <td>0.0</td>\n",
              "      <td>0.0</td>\n",
              "      <td>0.0</td>\n",
              "      <td>0.0</td>\n",
              "      <td>0.0</td>\n",
              "      <td>0.0</td>\n",
              "      <td>0.0</td>\n",
              "      <td>0.0</td>\n",
              "      <td>0.0</td>\n",
              "      <td>0.0</td>\n",
              "      <td>0.0</td>\n",
              "      <td>0.0</td>\n",
              "      <td>0.0</td>\n",
              "      <td>0.0</td>\n",
              "      <td>0.0</td>\n",
              "      <td>0.0</td>\n",
              "      <td>0.0</td>\n",
              "      <td>0.0</td>\n",
              "      <td>0.0</td>\n",
              "      <td>0.0</td>\n",
              "      <td>0.0</td>\n",
              "      <td>0.0</td>\n",
              "      <td>1.0</td>\n",
              "      <td>1.0</td>\n",
              "      <td>0.0</td>\n",
              "      <td>0.0</td>\n",
              "      <td>0.0</td>\n",
              "      <td>0.0</td>\n",
              "      <td>0.0</td>\n",
              "      <td>0.0</td>\n",
              "      <td>0.0</td>\n",
              "      <td>0.0</td>\n",
              "      <td>0.0</td>\n",
              "      <td>0.0</td>\n",
              "      <td>0.0</td>\n",
              "      <td>0.0</td>\n",
              "      <td>0.0</td>\n",
              "      <td>0.0</td>\n",
              "      <td>0.0</td>\n",
              "      <td>...</td>\n",
              "      <td>0.0</td>\n",
              "      <td>0.0</td>\n",
              "      <td>0.0</td>\n",
              "      <td>0.0</td>\n",
              "      <td>0.0</td>\n",
              "      <td>0.0</td>\n",
              "      <td>0.0</td>\n",
              "      <td>0.0</td>\n",
              "      <td>0.0</td>\n",
              "      <td>0.0</td>\n",
              "      <td>0.0</td>\n",
              "      <td>0.0</td>\n",
              "      <td>0.0</td>\n",
              "      <td>0.0</td>\n",
              "      <td>0.0</td>\n",
              "      <td>0.0</td>\n",
              "      <td>0.0</td>\n",
              "      <td>0.0</td>\n",
              "      <td>0.0</td>\n",
              "      <td>0.0</td>\n",
              "      <td>0.0</td>\n",
              "      <td>0.0</td>\n",
              "      <td>0.0</td>\n",
              "      <td>0.0</td>\n",
              "      <td>0.0</td>\n",
              "      <td>0.0</td>\n",
              "      <td>0.0</td>\n",
              "      <td>1.0</td>\n",
              "      <td>0.0</td>\n",
              "      <td>0.0</td>\n",
              "      <td>0.0</td>\n",
              "      <td>0.0</td>\n",
              "      <td>0.0</td>\n",
              "      <td>0.0</td>\n",
              "      <td>0.0</td>\n",
              "      <td>0.0</td>\n",
              "      <td>0.0</td>\n",
              "      <td>0.0</td>\n",
              "      <td>0.0</td>\n",
              "      <td>1.0</td>\n",
              "    </tr>\n",
              "    <tr>\n",
              "      <th>4</th>\n",
              "      <td>0.0</td>\n",
              "      <td>0.0</td>\n",
              "      <td>0.0</td>\n",
              "      <td>0.0</td>\n",
              "      <td>0.0</td>\n",
              "      <td>0.0</td>\n",
              "      <td>0.0</td>\n",
              "      <td>0.0</td>\n",
              "      <td>0.0</td>\n",
              "      <td>0.0</td>\n",
              "      <td>0.0</td>\n",
              "      <td>0.0</td>\n",
              "      <td>0.0</td>\n",
              "      <td>0.0</td>\n",
              "      <td>0.0</td>\n",
              "      <td>0.0</td>\n",
              "      <td>0.0</td>\n",
              "      <td>0.0</td>\n",
              "      <td>0.0</td>\n",
              "      <td>0.0</td>\n",
              "      <td>0.0</td>\n",
              "      <td>0.0</td>\n",
              "      <td>0.0</td>\n",
              "      <td>1.0</td>\n",
              "      <td>1.0</td>\n",
              "      <td>0.0</td>\n",
              "      <td>0.0</td>\n",
              "      <td>0.0</td>\n",
              "      <td>0.0</td>\n",
              "      <td>0.0</td>\n",
              "      <td>0.0</td>\n",
              "      <td>0.0</td>\n",
              "      <td>0.0</td>\n",
              "      <td>0.0</td>\n",
              "      <td>0.0</td>\n",
              "      <td>0.0</td>\n",
              "      <td>0.0</td>\n",
              "      <td>0.0</td>\n",
              "      <td>0.0</td>\n",
              "      <td>0.0</td>\n",
              "      <td>...</td>\n",
              "      <td>0.0</td>\n",
              "      <td>0.0</td>\n",
              "      <td>0.0</td>\n",
              "      <td>0.0</td>\n",
              "      <td>0.0</td>\n",
              "      <td>0.0</td>\n",
              "      <td>0.0</td>\n",
              "      <td>0.0</td>\n",
              "      <td>0.0</td>\n",
              "      <td>0.0</td>\n",
              "      <td>0.0</td>\n",
              "      <td>0.0</td>\n",
              "      <td>0.0</td>\n",
              "      <td>0.0</td>\n",
              "      <td>0.0</td>\n",
              "      <td>0.0</td>\n",
              "      <td>0.0</td>\n",
              "      <td>0.0</td>\n",
              "      <td>0.0</td>\n",
              "      <td>0.0</td>\n",
              "      <td>0.0</td>\n",
              "      <td>0.0</td>\n",
              "      <td>0.0</td>\n",
              "      <td>0.0</td>\n",
              "      <td>0.0</td>\n",
              "      <td>0.0</td>\n",
              "      <td>0.0</td>\n",
              "      <td>1.0</td>\n",
              "      <td>0.0</td>\n",
              "      <td>0.0</td>\n",
              "      <td>0.0</td>\n",
              "      <td>0.0</td>\n",
              "      <td>0.0</td>\n",
              "      <td>0.0</td>\n",
              "      <td>0.0</td>\n",
              "      <td>0.0</td>\n",
              "      <td>0.0</td>\n",
              "      <td>0.0</td>\n",
              "      <td>0.0</td>\n",
              "      <td>1.0</td>\n",
              "    </tr>\n",
              "    <tr>\n",
              "      <th>...</th>\n",
              "      <td>...</td>\n",
              "      <td>...</td>\n",
              "      <td>...</td>\n",
              "      <td>...</td>\n",
              "      <td>...</td>\n",
              "      <td>...</td>\n",
              "      <td>...</td>\n",
              "      <td>...</td>\n",
              "      <td>...</td>\n",
              "      <td>...</td>\n",
              "      <td>...</td>\n",
              "      <td>...</td>\n",
              "      <td>...</td>\n",
              "      <td>...</td>\n",
              "      <td>...</td>\n",
              "      <td>...</td>\n",
              "      <td>...</td>\n",
              "      <td>...</td>\n",
              "      <td>...</td>\n",
              "      <td>...</td>\n",
              "      <td>...</td>\n",
              "      <td>...</td>\n",
              "      <td>...</td>\n",
              "      <td>...</td>\n",
              "      <td>...</td>\n",
              "      <td>...</td>\n",
              "      <td>...</td>\n",
              "      <td>...</td>\n",
              "      <td>...</td>\n",
              "      <td>...</td>\n",
              "      <td>...</td>\n",
              "      <td>...</td>\n",
              "      <td>...</td>\n",
              "      <td>...</td>\n",
              "      <td>...</td>\n",
              "      <td>...</td>\n",
              "      <td>...</td>\n",
              "      <td>...</td>\n",
              "      <td>...</td>\n",
              "      <td>...</td>\n",
              "      <td>...</td>\n",
              "      <td>...</td>\n",
              "      <td>...</td>\n",
              "      <td>...</td>\n",
              "      <td>...</td>\n",
              "      <td>...</td>\n",
              "      <td>...</td>\n",
              "      <td>...</td>\n",
              "      <td>...</td>\n",
              "      <td>...</td>\n",
              "      <td>...</td>\n",
              "      <td>...</td>\n",
              "      <td>...</td>\n",
              "      <td>...</td>\n",
              "      <td>...</td>\n",
              "      <td>...</td>\n",
              "      <td>...</td>\n",
              "      <td>...</td>\n",
              "      <td>...</td>\n",
              "      <td>...</td>\n",
              "      <td>...</td>\n",
              "      <td>...</td>\n",
              "      <td>...</td>\n",
              "      <td>...</td>\n",
              "      <td>...</td>\n",
              "      <td>...</td>\n",
              "      <td>...</td>\n",
              "      <td>...</td>\n",
              "      <td>...</td>\n",
              "      <td>...</td>\n",
              "      <td>...</td>\n",
              "      <td>...</td>\n",
              "      <td>...</td>\n",
              "      <td>...</td>\n",
              "      <td>...</td>\n",
              "      <td>...</td>\n",
              "      <td>...</td>\n",
              "      <td>...</td>\n",
              "      <td>...</td>\n",
              "      <td>...</td>\n",
              "      <td>...</td>\n",
              "    </tr>\n",
              "    <tr>\n",
              "      <th>2847</th>\n",
              "      <td>0.0</td>\n",
              "      <td>0.0</td>\n",
              "      <td>0.0</td>\n",
              "      <td>0.0</td>\n",
              "      <td>0.0</td>\n",
              "      <td>0.0</td>\n",
              "      <td>0.0</td>\n",
              "      <td>0.0</td>\n",
              "      <td>0.0</td>\n",
              "      <td>0.0</td>\n",
              "      <td>0.0</td>\n",
              "      <td>0.0</td>\n",
              "      <td>0.0</td>\n",
              "      <td>0.0</td>\n",
              "      <td>0.0</td>\n",
              "      <td>0.0</td>\n",
              "      <td>0.0</td>\n",
              "      <td>0.0</td>\n",
              "      <td>0.0</td>\n",
              "      <td>0.0</td>\n",
              "      <td>0.0</td>\n",
              "      <td>0.0</td>\n",
              "      <td>0.0</td>\n",
              "      <td>1.0</td>\n",
              "      <td>0.0</td>\n",
              "      <td>0.0</td>\n",
              "      <td>0.0</td>\n",
              "      <td>0.0</td>\n",
              "      <td>0.0</td>\n",
              "      <td>0.0</td>\n",
              "      <td>0.0</td>\n",
              "      <td>0.0</td>\n",
              "      <td>0.0</td>\n",
              "      <td>0.0</td>\n",
              "      <td>0.0</td>\n",
              "      <td>0.0</td>\n",
              "      <td>0.0</td>\n",
              "      <td>0.0</td>\n",
              "      <td>0.0</td>\n",
              "      <td>0.0</td>\n",
              "      <td>...</td>\n",
              "      <td>0.0</td>\n",
              "      <td>0.0</td>\n",
              "      <td>0.0</td>\n",
              "      <td>0.0</td>\n",
              "      <td>0.0</td>\n",
              "      <td>0.0</td>\n",
              "      <td>0.0</td>\n",
              "      <td>0.0</td>\n",
              "      <td>0.0</td>\n",
              "      <td>0.0</td>\n",
              "      <td>0.0</td>\n",
              "      <td>0.0</td>\n",
              "      <td>0.0</td>\n",
              "      <td>0.0</td>\n",
              "      <td>0.0</td>\n",
              "      <td>0.0</td>\n",
              "      <td>0.0</td>\n",
              "      <td>0.0</td>\n",
              "      <td>0.0</td>\n",
              "      <td>0.0</td>\n",
              "      <td>1.0</td>\n",
              "      <td>0.0</td>\n",
              "      <td>0.0</td>\n",
              "      <td>0.0</td>\n",
              "      <td>0.0</td>\n",
              "      <td>0.0</td>\n",
              "      <td>0.0</td>\n",
              "      <td>0.0</td>\n",
              "      <td>0.0</td>\n",
              "      <td>0.0</td>\n",
              "      <td>0.0</td>\n",
              "      <td>0.0</td>\n",
              "      <td>0.0</td>\n",
              "      <td>0.0</td>\n",
              "      <td>1.0</td>\n",
              "      <td>0.0</td>\n",
              "      <td>0.0</td>\n",
              "      <td>0.0</td>\n",
              "      <td>1.0</td>\n",
              "      <td>0.0</td>\n",
              "    </tr>\n",
              "    <tr>\n",
              "      <th>2848</th>\n",
              "      <td>0.0</td>\n",
              "      <td>0.0</td>\n",
              "      <td>0.0</td>\n",
              "      <td>0.0</td>\n",
              "      <td>0.0</td>\n",
              "      <td>0.0</td>\n",
              "      <td>0.0</td>\n",
              "      <td>0.0</td>\n",
              "      <td>0.0</td>\n",
              "      <td>0.0</td>\n",
              "      <td>0.0</td>\n",
              "      <td>0.0</td>\n",
              "      <td>0.0</td>\n",
              "      <td>0.0</td>\n",
              "      <td>0.0</td>\n",
              "      <td>0.0</td>\n",
              "      <td>0.0</td>\n",
              "      <td>0.0</td>\n",
              "      <td>0.0</td>\n",
              "      <td>0.0</td>\n",
              "      <td>0.0</td>\n",
              "      <td>0.0</td>\n",
              "      <td>0.0</td>\n",
              "      <td>1.0</td>\n",
              "      <td>0.0</td>\n",
              "      <td>0.0</td>\n",
              "      <td>0.0</td>\n",
              "      <td>0.0</td>\n",
              "      <td>0.0</td>\n",
              "      <td>0.0</td>\n",
              "      <td>0.0</td>\n",
              "      <td>0.0</td>\n",
              "      <td>0.0</td>\n",
              "      <td>0.0</td>\n",
              "      <td>0.0</td>\n",
              "      <td>0.0</td>\n",
              "      <td>0.0</td>\n",
              "      <td>0.0</td>\n",
              "      <td>0.0</td>\n",
              "      <td>0.0</td>\n",
              "      <td>...</td>\n",
              "      <td>0.0</td>\n",
              "      <td>0.0</td>\n",
              "      <td>0.0</td>\n",
              "      <td>0.0</td>\n",
              "      <td>0.0</td>\n",
              "      <td>0.0</td>\n",
              "      <td>0.0</td>\n",
              "      <td>0.0</td>\n",
              "      <td>0.0</td>\n",
              "      <td>0.0</td>\n",
              "      <td>0.0</td>\n",
              "      <td>0.0</td>\n",
              "      <td>0.0</td>\n",
              "      <td>0.0</td>\n",
              "      <td>0.0</td>\n",
              "      <td>0.0</td>\n",
              "      <td>0.0</td>\n",
              "      <td>0.0</td>\n",
              "      <td>0.0</td>\n",
              "      <td>0.0</td>\n",
              "      <td>1.0</td>\n",
              "      <td>0.0</td>\n",
              "      <td>0.0</td>\n",
              "      <td>0.0</td>\n",
              "      <td>0.0</td>\n",
              "      <td>0.0</td>\n",
              "      <td>0.0</td>\n",
              "      <td>0.0</td>\n",
              "      <td>0.0</td>\n",
              "      <td>0.0</td>\n",
              "      <td>0.0</td>\n",
              "      <td>0.0</td>\n",
              "      <td>0.0</td>\n",
              "      <td>0.0</td>\n",
              "      <td>1.0</td>\n",
              "      <td>0.0</td>\n",
              "      <td>0.0</td>\n",
              "      <td>0.0</td>\n",
              "      <td>1.0</td>\n",
              "      <td>0.0</td>\n",
              "    </tr>\n",
              "    <tr>\n",
              "      <th>2849</th>\n",
              "      <td>1.0</td>\n",
              "      <td>0.0</td>\n",
              "      <td>0.0</td>\n",
              "      <td>0.0</td>\n",
              "      <td>0.0</td>\n",
              "      <td>0.0</td>\n",
              "      <td>0.0</td>\n",
              "      <td>0.0</td>\n",
              "      <td>0.0</td>\n",
              "      <td>0.0</td>\n",
              "      <td>0.0</td>\n",
              "      <td>0.0</td>\n",
              "      <td>0.0</td>\n",
              "      <td>0.0</td>\n",
              "      <td>0.0</td>\n",
              "      <td>0.0</td>\n",
              "      <td>0.0</td>\n",
              "      <td>0.0</td>\n",
              "      <td>0.0</td>\n",
              "      <td>0.0</td>\n",
              "      <td>0.0</td>\n",
              "      <td>0.0</td>\n",
              "      <td>0.0</td>\n",
              "      <td>0.0</td>\n",
              "      <td>0.0</td>\n",
              "      <td>0.0</td>\n",
              "      <td>0.0</td>\n",
              "      <td>0.0</td>\n",
              "      <td>0.0</td>\n",
              "      <td>0.0</td>\n",
              "      <td>0.0</td>\n",
              "      <td>0.0</td>\n",
              "      <td>0.0</td>\n",
              "      <td>0.0</td>\n",
              "      <td>0.0</td>\n",
              "      <td>0.0</td>\n",
              "      <td>0.0</td>\n",
              "      <td>0.0</td>\n",
              "      <td>0.0</td>\n",
              "      <td>0.0</td>\n",
              "      <td>...</td>\n",
              "      <td>0.0</td>\n",
              "      <td>0.0</td>\n",
              "      <td>0.0</td>\n",
              "      <td>0.0</td>\n",
              "      <td>0.0</td>\n",
              "      <td>0.0</td>\n",
              "      <td>0.0</td>\n",
              "      <td>0.0</td>\n",
              "      <td>0.0</td>\n",
              "      <td>0.0</td>\n",
              "      <td>0.0</td>\n",
              "      <td>0.0</td>\n",
              "      <td>0.0</td>\n",
              "      <td>0.0</td>\n",
              "      <td>0.0</td>\n",
              "      <td>0.0</td>\n",
              "      <td>0.0</td>\n",
              "      <td>0.0</td>\n",
              "      <td>0.0</td>\n",
              "      <td>0.0</td>\n",
              "      <td>1.0</td>\n",
              "      <td>0.0</td>\n",
              "      <td>0.0</td>\n",
              "      <td>0.0</td>\n",
              "      <td>0.0</td>\n",
              "      <td>0.0</td>\n",
              "      <td>0.0</td>\n",
              "      <td>0.0</td>\n",
              "      <td>0.0</td>\n",
              "      <td>0.0</td>\n",
              "      <td>0.0</td>\n",
              "      <td>0.0</td>\n",
              "      <td>0.0</td>\n",
              "      <td>0.0</td>\n",
              "      <td>1.0</td>\n",
              "      <td>0.0</td>\n",
              "      <td>0.0</td>\n",
              "      <td>0.0</td>\n",
              "      <td>0.0</td>\n",
              "      <td>1.0</td>\n",
              "    </tr>\n",
              "    <tr>\n",
              "      <th>2850</th>\n",
              "      <td>0.0</td>\n",
              "      <td>0.0</td>\n",
              "      <td>0.0</td>\n",
              "      <td>0.0</td>\n",
              "      <td>0.0</td>\n",
              "      <td>0.0</td>\n",
              "      <td>0.0</td>\n",
              "      <td>0.0</td>\n",
              "      <td>0.0</td>\n",
              "      <td>0.0</td>\n",
              "      <td>0.0</td>\n",
              "      <td>0.0</td>\n",
              "      <td>0.0</td>\n",
              "      <td>0.0</td>\n",
              "      <td>0.0</td>\n",
              "      <td>0.0</td>\n",
              "      <td>0.0</td>\n",
              "      <td>0.0</td>\n",
              "      <td>0.0</td>\n",
              "      <td>0.0</td>\n",
              "      <td>0.0</td>\n",
              "      <td>0.0</td>\n",
              "      <td>0.0</td>\n",
              "      <td>1.0</td>\n",
              "      <td>0.0</td>\n",
              "      <td>0.0</td>\n",
              "      <td>0.0</td>\n",
              "      <td>0.0</td>\n",
              "      <td>0.0</td>\n",
              "      <td>0.0</td>\n",
              "      <td>0.0</td>\n",
              "      <td>0.0</td>\n",
              "      <td>0.0</td>\n",
              "      <td>0.0</td>\n",
              "      <td>0.0</td>\n",
              "      <td>0.0</td>\n",
              "      <td>0.0</td>\n",
              "      <td>0.0</td>\n",
              "      <td>0.0</td>\n",
              "      <td>0.0</td>\n",
              "      <td>...</td>\n",
              "      <td>0.0</td>\n",
              "      <td>0.0</td>\n",
              "      <td>0.0</td>\n",
              "      <td>0.0</td>\n",
              "      <td>0.0</td>\n",
              "      <td>0.0</td>\n",
              "      <td>0.0</td>\n",
              "      <td>0.0</td>\n",
              "      <td>0.0</td>\n",
              "      <td>0.0</td>\n",
              "      <td>0.0</td>\n",
              "      <td>0.0</td>\n",
              "      <td>0.0</td>\n",
              "      <td>0.0</td>\n",
              "      <td>0.0</td>\n",
              "      <td>0.0</td>\n",
              "      <td>0.0</td>\n",
              "      <td>0.0</td>\n",
              "      <td>0.0</td>\n",
              "      <td>0.0</td>\n",
              "      <td>1.0</td>\n",
              "      <td>0.0</td>\n",
              "      <td>0.0</td>\n",
              "      <td>0.0</td>\n",
              "      <td>0.0</td>\n",
              "      <td>0.0</td>\n",
              "      <td>0.0</td>\n",
              "      <td>0.0</td>\n",
              "      <td>0.0</td>\n",
              "      <td>0.0</td>\n",
              "      <td>0.0</td>\n",
              "      <td>0.0</td>\n",
              "      <td>0.0</td>\n",
              "      <td>0.0</td>\n",
              "      <td>1.0</td>\n",
              "      <td>0.0</td>\n",
              "      <td>0.0</td>\n",
              "      <td>0.0</td>\n",
              "      <td>1.0</td>\n",
              "      <td>0.0</td>\n",
              "    </tr>\n",
              "    <tr>\n",
              "      <th>2851</th>\n",
              "      <td>0.0</td>\n",
              "      <td>0.0</td>\n",
              "      <td>0.0</td>\n",
              "      <td>0.0</td>\n",
              "      <td>0.0</td>\n",
              "      <td>0.0</td>\n",
              "      <td>0.0</td>\n",
              "      <td>0.0</td>\n",
              "      <td>0.0</td>\n",
              "      <td>0.0</td>\n",
              "      <td>0.0</td>\n",
              "      <td>0.0</td>\n",
              "      <td>0.0</td>\n",
              "      <td>0.0</td>\n",
              "      <td>0.0</td>\n",
              "      <td>0.0</td>\n",
              "      <td>0.0</td>\n",
              "      <td>0.0</td>\n",
              "      <td>0.0</td>\n",
              "      <td>0.0</td>\n",
              "      <td>0.0</td>\n",
              "      <td>0.0</td>\n",
              "      <td>0.0</td>\n",
              "      <td>1.0</td>\n",
              "      <td>0.0</td>\n",
              "      <td>0.0</td>\n",
              "      <td>0.0</td>\n",
              "      <td>0.0</td>\n",
              "      <td>0.0</td>\n",
              "      <td>0.0</td>\n",
              "      <td>0.0</td>\n",
              "      <td>0.0</td>\n",
              "      <td>0.0</td>\n",
              "      <td>0.0</td>\n",
              "      <td>0.0</td>\n",
              "      <td>0.0</td>\n",
              "      <td>0.0</td>\n",
              "      <td>0.0</td>\n",
              "      <td>0.0</td>\n",
              "      <td>0.0</td>\n",
              "      <td>...</td>\n",
              "      <td>0.0</td>\n",
              "      <td>0.0</td>\n",
              "      <td>0.0</td>\n",
              "      <td>0.0</td>\n",
              "      <td>0.0</td>\n",
              "      <td>0.0</td>\n",
              "      <td>0.0</td>\n",
              "      <td>0.0</td>\n",
              "      <td>0.0</td>\n",
              "      <td>0.0</td>\n",
              "      <td>0.0</td>\n",
              "      <td>0.0</td>\n",
              "      <td>0.0</td>\n",
              "      <td>0.0</td>\n",
              "      <td>0.0</td>\n",
              "      <td>0.0</td>\n",
              "      <td>0.0</td>\n",
              "      <td>0.0</td>\n",
              "      <td>0.0</td>\n",
              "      <td>0.0</td>\n",
              "      <td>0.0</td>\n",
              "      <td>1.0</td>\n",
              "      <td>0.0</td>\n",
              "      <td>0.0</td>\n",
              "      <td>0.0</td>\n",
              "      <td>0.0</td>\n",
              "      <td>0.0</td>\n",
              "      <td>0.0</td>\n",
              "      <td>0.0</td>\n",
              "      <td>0.0</td>\n",
              "      <td>0.0</td>\n",
              "      <td>0.0</td>\n",
              "      <td>0.0</td>\n",
              "      <td>0.0</td>\n",
              "      <td>1.0</td>\n",
              "      <td>0.0</td>\n",
              "      <td>0.0</td>\n",
              "      <td>0.0</td>\n",
              "      <td>1.0</td>\n",
              "      <td>0.0</td>\n",
              "    </tr>\n",
              "  </tbody>\n",
              "</table>\n",
              "<p>2852 rows × 108 columns</p>\n",
              "</div>"
            ],
            "text/plain": [
              "      Background Color_0  Background Color_1  ...  High Value_0  High Value_1\n",
              "0                    0.0                 0.0  ...           0.0           1.0\n",
              "1                    0.0                 0.0  ...           0.0           1.0\n",
              "2                    0.0                 0.0  ...           0.0           1.0\n",
              "3                    0.0                 0.0  ...           0.0           1.0\n",
              "4                    0.0                 0.0  ...           0.0           1.0\n",
              "...                  ...                 ...  ...           ...           ...\n",
              "2847                 0.0                 0.0  ...           1.0           0.0\n",
              "2848                 0.0                 0.0  ...           1.0           0.0\n",
              "2849                 1.0                 0.0  ...           0.0           1.0\n",
              "2850                 0.0                 0.0  ...           1.0           0.0\n",
              "2851                 0.0                 0.0  ...           1.0           0.0\n",
              "\n",
              "[2852 rows x 108 columns]"
            ]
          },
          "metadata": {},
          "execution_count": 118
        }
      ]
    },
    {
      "cell_type": "code",
      "metadata": {
        "colab": {
          "base_uri": "https://localhost:8080/"
        },
        "id": "SdDklfwwh4oc",
        "outputId": "5dced681-1147-421c-92f3-dc181c91a506"
      },
      "source": [
        "categorical_variables"
      ],
      "execution_count": 119,
      "outputs": [
        {
          "output_type": "execute_result",
          "data": {
            "text/plain": [
              "['Background Color', 'Collection Name', 'Trait Count', 'High Value']"
            ]
          },
          "metadata": {},
          "execution_count": 119
        }
      ]
    },
    {
      "cell_type": "code",
      "metadata": {
        "colab": {
          "base_uri": "https://localhost:8080/"
        },
        "id": "CfYkaE1Hh-Ot",
        "outputId": "3a6ad283-63d0-45f7-a0cc-60b3bf7ec3b8"
      },
      "source": [
        "# Define the target set y using the IS_SUCCESSFUL column\n",
        "y = encoded_df[\"High Value_1\"]\n",
        "\n",
        "# Display a sample of y\n",
        "y[:20]"
      ],
      "execution_count": 120,
      "outputs": [
        {
          "output_type": "execute_result",
          "data": {
            "text/plain": [
              "0     1.0\n",
              "1     1.0\n",
              "2     1.0\n",
              "3     1.0\n",
              "4     1.0\n",
              "5     1.0\n",
              "6     1.0\n",
              "7     1.0\n",
              "8     1.0\n",
              "9     1.0\n",
              "10    1.0\n",
              "11    0.0\n",
              "12    1.0\n",
              "13    1.0\n",
              "14    1.0\n",
              "15    1.0\n",
              "16    1.0\n",
              "17    1.0\n",
              "18    1.0\n",
              "19    1.0\n",
              "Name: High Value_1, dtype: float64"
            ]
          },
          "metadata": {},
          "execution_count": 120
        }
      ]
    },
    {
      "cell_type": "code",
      "metadata": {
        "colab": {
          "base_uri": "https://localhost:8080/",
          "height": 266
        },
        "id": "8NlyEPVflUSx",
        "outputId": "f3b072e1-2375-4edd-d0ce-503d1362e48f"
      },
      "source": [
        "# Define features set X by selecting all columns but IS_SUCCESSFUL\n",
        "X = encoded_df.drop(columns=[\"High Value_0\",\t\"High Value_1\"])\n",
        "\n",
        "# Review the features DataFrame\n",
        "X.head()"
      ],
      "execution_count": 121,
      "outputs": [
        {
          "output_type": "execute_result",
          "data": {
            "text/html": [
              "<div>\n",
              "<style scoped>\n",
              "    .dataframe tbody tr th:only-of-type {\n",
              "        vertical-align: middle;\n",
              "    }\n",
              "\n",
              "    .dataframe tbody tr th {\n",
              "        vertical-align: top;\n",
              "    }\n",
              "\n",
              "    .dataframe thead th {\n",
              "        text-align: right;\n",
              "    }\n",
              "</style>\n",
              "<table border=\"1\" class=\"dataframe\">\n",
              "  <thead>\n",
              "    <tr style=\"text-align: right;\">\n",
              "      <th></th>\n",
              "      <th>Background Color_0</th>\n",
              "      <th>Background Color_1</th>\n",
              "      <th>Background Color_2</th>\n",
              "      <th>Background Color_3</th>\n",
              "      <th>Background Color_4</th>\n",
              "      <th>Background Color_5</th>\n",
              "      <th>Background Color_6</th>\n",
              "      <th>Background Color_7</th>\n",
              "      <th>Background Color_8</th>\n",
              "      <th>Background Color_9</th>\n",
              "      <th>Background Color_10</th>\n",
              "      <th>Background Color_11</th>\n",
              "      <th>Background Color_12</th>\n",
              "      <th>Background Color_13</th>\n",
              "      <th>Background Color_14</th>\n",
              "      <th>Background Color_15</th>\n",
              "      <th>Background Color_16</th>\n",
              "      <th>Background Color_17</th>\n",
              "      <th>Background Color_18</th>\n",
              "      <th>Background Color_19</th>\n",
              "      <th>Background Color_20</th>\n",
              "      <th>Background Color_21</th>\n",
              "      <th>Background Color_22</th>\n",
              "      <th>Background Color_23</th>\n",
              "      <th>Collection Name_0</th>\n",
              "      <th>Collection Name_1</th>\n",
              "      <th>Collection Name_2</th>\n",
              "      <th>Collection Name_3</th>\n",
              "      <th>Collection Name_4</th>\n",
              "      <th>Collection Name_5</th>\n",
              "      <th>Collection Name_6</th>\n",
              "      <th>Collection Name_7</th>\n",
              "      <th>Collection Name_8</th>\n",
              "      <th>Collection Name_9</th>\n",
              "      <th>Collection Name_10</th>\n",
              "      <th>Collection Name_11</th>\n",
              "      <th>Collection Name_12</th>\n",
              "      <th>Collection Name_13</th>\n",
              "      <th>Collection Name_14</th>\n",
              "      <th>Collection Name_15</th>\n",
              "      <th>...</th>\n",
              "      <th>Collection Name_42</th>\n",
              "      <th>Collection Name_43</th>\n",
              "      <th>Collection Name_44</th>\n",
              "      <th>Collection Name_45</th>\n",
              "      <th>Collection Name_46</th>\n",
              "      <th>Collection Name_47</th>\n",
              "      <th>Collection Name_48</th>\n",
              "      <th>Collection Name_49</th>\n",
              "      <th>Collection Name_50</th>\n",
              "      <th>Collection Name_51</th>\n",
              "      <th>Collection Name_52</th>\n",
              "      <th>Collection Name_53</th>\n",
              "      <th>Collection Name_54</th>\n",
              "      <th>Collection Name_55</th>\n",
              "      <th>Collection Name_56</th>\n",
              "      <th>Collection Name_57</th>\n",
              "      <th>Collection Name_58</th>\n",
              "      <th>Collection Name_59</th>\n",
              "      <th>Collection Name_60</th>\n",
              "      <th>Collection Name_61</th>\n",
              "      <th>Collection Name_62</th>\n",
              "      <th>Collection Name_63</th>\n",
              "      <th>Collection Name_64</th>\n",
              "      <th>Collection Name_65</th>\n",
              "      <th>Trait Count_0</th>\n",
              "      <th>Trait Count_1</th>\n",
              "      <th>Trait Count_2</th>\n",
              "      <th>Trait Count_3</th>\n",
              "      <th>Trait Count_4</th>\n",
              "      <th>Trait Count_5</th>\n",
              "      <th>Trait Count_6</th>\n",
              "      <th>Trait Count_7</th>\n",
              "      <th>Trait Count_8</th>\n",
              "      <th>Trait Count_9</th>\n",
              "      <th>Trait Count_10</th>\n",
              "      <th>Trait Count_11</th>\n",
              "      <th>Trait Count_12</th>\n",
              "      <th>Trait Count_13</th>\n",
              "      <th>Trait Count_14</th>\n",
              "      <th>Trait Count_15</th>\n",
              "    </tr>\n",
              "  </thead>\n",
              "  <tbody>\n",
              "    <tr>\n",
              "      <th>0</th>\n",
              "      <td>0.0</td>\n",
              "      <td>0.0</td>\n",
              "      <td>0.0</td>\n",
              "      <td>0.0</td>\n",
              "      <td>0.0</td>\n",
              "      <td>0.0</td>\n",
              "      <td>0.0</td>\n",
              "      <td>0.0</td>\n",
              "      <td>0.0</td>\n",
              "      <td>0.0</td>\n",
              "      <td>0.0</td>\n",
              "      <td>0.0</td>\n",
              "      <td>0.0</td>\n",
              "      <td>0.0</td>\n",
              "      <td>0.0</td>\n",
              "      <td>0.0</td>\n",
              "      <td>0.0</td>\n",
              "      <td>0.0</td>\n",
              "      <td>0.0</td>\n",
              "      <td>0.0</td>\n",
              "      <td>0.0</td>\n",
              "      <td>0.0</td>\n",
              "      <td>0.0</td>\n",
              "      <td>1.0</td>\n",
              "      <td>1.0</td>\n",
              "      <td>0.0</td>\n",
              "      <td>0.0</td>\n",
              "      <td>0.0</td>\n",
              "      <td>0.0</td>\n",
              "      <td>0.0</td>\n",
              "      <td>0.0</td>\n",
              "      <td>0.0</td>\n",
              "      <td>0.0</td>\n",
              "      <td>0.0</td>\n",
              "      <td>0.0</td>\n",
              "      <td>0.0</td>\n",
              "      <td>0.0</td>\n",
              "      <td>0.0</td>\n",
              "      <td>0.0</td>\n",
              "      <td>0.0</td>\n",
              "      <td>...</td>\n",
              "      <td>0.0</td>\n",
              "      <td>0.0</td>\n",
              "      <td>0.0</td>\n",
              "      <td>0.0</td>\n",
              "      <td>0.0</td>\n",
              "      <td>0.0</td>\n",
              "      <td>0.0</td>\n",
              "      <td>0.0</td>\n",
              "      <td>0.0</td>\n",
              "      <td>0.0</td>\n",
              "      <td>0.0</td>\n",
              "      <td>0.0</td>\n",
              "      <td>0.0</td>\n",
              "      <td>0.0</td>\n",
              "      <td>0.0</td>\n",
              "      <td>0.0</td>\n",
              "      <td>0.0</td>\n",
              "      <td>0.0</td>\n",
              "      <td>0.0</td>\n",
              "      <td>0.0</td>\n",
              "      <td>0.0</td>\n",
              "      <td>0.0</td>\n",
              "      <td>0.0</td>\n",
              "      <td>0.0</td>\n",
              "      <td>0.0</td>\n",
              "      <td>0.0</td>\n",
              "      <td>0.0</td>\n",
              "      <td>0.0</td>\n",
              "      <td>0.0</td>\n",
              "      <td>1.0</td>\n",
              "      <td>0.0</td>\n",
              "      <td>0.0</td>\n",
              "      <td>0.0</td>\n",
              "      <td>0.0</td>\n",
              "      <td>0.0</td>\n",
              "      <td>0.0</td>\n",
              "      <td>0.0</td>\n",
              "      <td>0.0</td>\n",
              "      <td>0.0</td>\n",
              "      <td>0.0</td>\n",
              "    </tr>\n",
              "    <tr>\n",
              "      <th>1</th>\n",
              "      <td>0.0</td>\n",
              "      <td>0.0</td>\n",
              "      <td>0.0</td>\n",
              "      <td>0.0</td>\n",
              "      <td>0.0</td>\n",
              "      <td>0.0</td>\n",
              "      <td>0.0</td>\n",
              "      <td>0.0</td>\n",
              "      <td>0.0</td>\n",
              "      <td>0.0</td>\n",
              "      <td>0.0</td>\n",
              "      <td>0.0</td>\n",
              "      <td>0.0</td>\n",
              "      <td>0.0</td>\n",
              "      <td>0.0</td>\n",
              "      <td>0.0</td>\n",
              "      <td>0.0</td>\n",
              "      <td>0.0</td>\n",
              "      <td>0.0</td>\n",
              "      <td>0.0</td>\n",
              "      <td>0.0</td>\n",
              "      <td>0.0</td>\n",
              "      <td>0.0</td>\n",
              "      <td>1.0</td>\n",
              "      <td>1.0</td>\n",
              "      <td>0.0</td>\n",
              "      <td>0.0</td>\n",
              "      <td>0.0</td>\n",
              "      <td>0.0</td>\n",
              "      <td>0.0</td>\n",
              "      <td>0.0</td>\n",
              "      <td>0.0</td>\n",
              "      <td>0.0</td>\n",
              "      <td>0.0</td>\n",
              "      <td>0.0</td>\n",
              "      <td>0.0</td>\n",
              "      <td>0.0</td>\n",
              "      <td>0.0</td>\n",
              "      <td>0.0</td>\n",
              "      <td>0.0</td>\n",
              "      <td>...</td>\n",
              "      <td>0.0</td>\n",
              "      <td>0.0</td>\n",
              "      <td>0.0</td>\n",
              "      <td>0.0</td>\n",
              "      <td>0.0</td>\n",
              "      <td>0.0</td>\n",
              "      <td>0.0</td>\n",
              "      <td>0.0</td>\n",
              "      <td>0.0</td>\n",
              "      <td>0.0</td>\n",
              "      <td>0.0</td>\n",
              "      <td>0.0</td>\n",
              "      <td>0.0</td>\n",
              "      <td>0.0</td>\n",
              "      <td>0.0</td>\n",
              "      <td>0.0</td>\n",
              "      <td>0.0</td>\n",
              "      <td>0.0</td>\n",
              "      <td>0.0</td>\n",
              "      <td>0.0</td>\n",
              "      <td>0.0</td>\n",
              "      <td>0.0</td>\n",
              "      <td>0.0</td>\n",
              "      <td>0.0</td>\n",
              "      <td>0.0</td>\n",
              "      <td>0.0</td>\n",
              "      <td>0.0</td>\n",
              "      <td>0.0</td>\n",
              "      <td>0.0</td>\n",
              "      <td>1.0</td>\n",
              "      <td>0.0</td>\n",
              "      <td>0.0</td>\n",
              "      <td>0.0</td>\n",
              "      <td>0.0</td>\n",
              "      <td>0.0</td>\n",
              "      <td>0.0</td>\n",
              "      <td>0.0</td>\n",
              "      <td>0.0</td>\n",
              "      <td>0.0</td>\n",
              "      <td>0.0</td>\n",
              "    </tr>\n",
              "    <tr>\n",
              "      <th>2</th>\n",
              "      <td>0.0</td>\n",
              "      <td>0.0</td>\n",
              "      <td>0.0</td>\n",
              "      <td>0.0</td>\n",
              "      <td>0.0</td>\n",
              "      <td>0.0</td>\n",
              "      <td>0.0</td>\n",
              "      <td>0.0</td>\n",
              "      <td>0.0</td>\n",
              "      <td>0.0</td>\n",
              "      <td>0.0</td>\n",
              "      <td>0.0</td>\n",
              "      <td>0.0</td>\n",
              "      <td>0.0</td>\n",
              "      <td>0.0</td>\n",
              "      <td>0.0</td>\n",
              "      <td>0.0</td>\n",
              "      <td>0.0</td>\n",
              "      <td>0.0</td>\n",
              "      <td>0.0</td>\n",
              "      <td>0.0</td>\n",
              "      <td>0.0</td>\n",
              "      <td>0.0</td>\n",
              "      <td>1.0</td>\n",
              "      <td>1.0</td>\n",
              "      <td>0.0</td>\n",
              "      <td>0.0</td>\n",
              "      <td>0.0</td>\n",
              "      <td>0.0</td>\n",
              "      <td>0.0</td>\n",
              "      <td>0.0</td>\n",
              "      <td>0.0</td>\n",
              "      <td>0.0</td>\n",
              "      <td>0.0</td>\n",
              "      <td>0.0</td>\n",
              "      <td>0.0</td>\n",
              "      <td>0.0</td>\n",
              "      <td>0.0</td>\n",
              "      <td>0.0</td>\n",
              "      <td>0.0</td>\n",
              "      <td>...</td>\n",
              "      <td>0.0</td>\n",
              "      <td>0.0</td>\n",
              "      <td>0.0</td>\n",
              "      <td>0.0</td>\n",
              "      <td>0.0</td>\n",
              "      <td>0.0</td>\n",
              "      <td>0.0</td>\n",
              "      <td>0.0</td>\n",
              "      <td>0.0</td>\n",
              "      <td>0.0</td>\n",
              "      <td>0.0</td>\n",
              "      <td>0.0</td>\n",
              "      <td>0.0</td>\n",
              "      <td>0.0</td>\n",
              "      <td>0.0</td>\n",
              "      <td>0.0</td>\n",
              "      <td>0.0</td>\n",
              "      <td>0.0</td>\n",
              "      <td>0.0</td>\n",
              "      <td>0.0</td>\n",
              "      <td>0.0</td>\n",
              "      <td>0.0</td>\n",
              "      <td>0.0</td>\n",
              "      <td>0.0</td>\n",
              "      <td>0.0</td>\n",
              "      <td>0.0</td>\n",
              "      <td>0.0</td>\n",
              "      <td>0.0</td>\n",
              "      <td>0.0</td>\n",
              "      <td>1.0</td>\n",
              "      <td>0.0</td>\n",
              "      <td>0.0</td>\n",
              "      <td>0.0</td>\n",
              "      <td>0.0</td>\n",
              "      <td>0.0</td>\n",
              "      <td>0.0</td>\n",
              "      <td>0.0</td>\n",
              "      <td>0.0</td>\n",
              "      <td>0.0</td>\n",
              "      <td>0.0</td>\n",
              "    </tr>\n",
              "    <tr>\n",
              "      <th>3</th>\n",
              "      <td>0.0</td>\n",
              "      <td>0.0</td>\n",
              "      <td>0.0</td>\n",
              "      <td>0.0</td>\n",
              "      <td>0.0</td>\n",
              "      <td>0.0</td>\n",
              "      <td>0.0</td>\n",
              "      <td>0.0</td>\n",
              "      <td>0.0</td>\n",
              "      <td>0.0</td>\n",
              "      <td>0.0</td>\n",
              "      <td>0.0</td>\n",
              "      <td>0.0</td>\n",
              "      <td>0.0</td>\n",
              "      <td>0.0</td>\n",
              "      <td>0.0</td>\n",
              "      <td>0.0</td>\n",
              "      <td>0.0</td>\n",
              "      <td>0.0</td>\n",
              "      <td>0.0</td>\n",
              "      <td>0.0</td>\n",
              "      <td>0.0</td>\n",
              "      <td>0.0</td>\n",
              "      <td>1.0</td>\n",
              "      <td>1.0</td>\n",
              "      <td>0.0</td>\n",
              "      <td>0.0</td>\n",
              "      <td>0.0</td>\n",
              "      <td>0.0</td>\n",
              "      <td>0.0</td>\n",
              "      <td>0.0</td>\n",
              "      <td>0.0</td>\n",
              "      <td>0.0</td>\n",
              "      <td>0.0</td>\n",
              "      <td>0.0</td>\n",
              "      <td>0.0</td>\n",
              "      <td>0.0</td>\n",
              "      <td>0.0</td>\n",
              "      <td>0.0</td>\n",
              "      <td>0.0</td>\n",
              "      <td>...</td>\n",
              "      <td>0.0</td>\n",
              "      <td>0.0</td>\n",
              "      <td>0.0</td>\n",
              "      <td>0.0</td>\n",
              "      <td>0.0</td>\n",
              "      <td>0.0</td>\n",
              "      <td>0.0</td>\n",
              "      <td>0.0</td>\n",
              "      <td>0.0</td>\n",
              "      <td>0.0</td>\n",
              "      <td>0.0</td>\n",
              "      <td>0.0</td>\n",
              "      <td>0.0</td>\n",
              "      <td>0.0</td>\n",
              "      <td>0.0</td>\n",
              "      <td>0.0</td>\n",
              "      <td>0.0</td>\n",
              "      <td>0.0</td>\n",
              "      <td>0.0</td>\n",
              "      <td>0.0</td>\n",
              "      <td>0.0</td>\n",
              "      <td>0.0</td>\n",
              "      <td>0.0</td>\n",
              "      <td>0.0</td>\n",
              "      <td>0.0</td>\n",
              "      <td>0.0</td>\n",
              "      <td>0.0</td>\n",
              "      <td>0.0</td>\n",
              "      <td>0.0</td>\n",
              "      <td>1.0</td>\n",
              "      <td>0.0</td>\n",
              "      <td>0.0</td>\n",
              "      <td>0.0</td>\n",
              "      <td>0.0</td>\n",
              "      <td>0.0</td>\n",
              "      <td>0.0</td>\n",
              "      <td>0.0</td>\n",
              "      <td>0.0</td>\n",
              "      <td>0.0</td>\n",
              "      <td>0.0</td>\n",
              "    </tr>\n",
              "    <tr>\n",
              "      <th>4</th>\n",
              "      <td>0.0</td>\n",
              "      <td>0.0</td>\n",
              "      <td>0.0</td>\n",
              "      <td>0.0</td>\n",
              "      <td>0.0</td>\n",
              "      <td>0.0</td>\n",
              "      <td>0.0</td>\n",
              "      <td>0.0</td>\n",
              "      <td>0.0</td>\n",
              "      <td>0.0</td>\n",
              "      <td>0.0</td>\n",
              "      <td>0.0</td>\n",
              "      <td>0.0</td>\n",
              "      <td>0.0</td>\n",
              "      <td>0.0</td>\n",
              "      <td>0.0</td>\n",
              "      <td>0.0</td>\n",
              "      <td>0.0</td>\n",
              "      <td>0.0</td>\n",
              "      <td>0.0</td>\n",
              "      <td>0.0</td>\n",
              "      <td>0.0</td>\n",
              "      <td>0.0</td>\n",
              "      <td>1.0</td>\n",
              "      <td>1.0</td>\n",
              "      <td>0.0</td>\n",
              "      <td>0.0</td>\n",
              "      <td>0.0</td>\n",
              "      <td>0.0</td>\n",
              "      <td>0.0</td>\n",
              "      <td>0.0</td>\n",
              "      <td>0.0</td>\n",
              "      <td>0.0</td>\n",
              "      <td>0.0</td>\n",
              "      <td>0.0</td>\n",
              "      <td>0.0</td>\n",
              "      <td>0.0</td>\n",
              "      <td>0.0</td>\n",
              "      <td>0.0</td>\n",
              "      <td>0.0</td>\n",
              "      <td>...</td>\n",
              "      <td>0.0</td>\n",
              "      <td>0.0</td>\n",
              "      <td>0.0</td>\n",
              "      <td>0.0</td>\n",
              "      <td>0.0</td>\n",
              "      <td>0.0</td>\n",
              "      <td>0.0</td>\n",
              "      <td>0.0</td>\n",
              "      <td>0.0</td>\n",
              "      <td>0.0</td>\n",
              "      <td>0.0</td>\n",
              "      <td>0.0</td>\n",
              "      <td>0.0</td>\n",
              "      <td>0.0</td>\n",
              "      <td>0.0</td>\n",
              "      <td>0.0</td>\n",
              "      <td>0.0</td>\n",
              "      <td>0.0</td>\n",
              "      <td>0.0</td>\n",
              "      <td>0.0</td>\n",
              "      <td>0.0</td>\n",
              "      <td>0.0</td>\n",
              "      <td>0.0</td>\n",
              "      <td>0.0</td>\n",
              "      <td>0.0</td>\n",
              "      <td>0.0</td>\n",
              "      <td>0.0</td>\n",
              "      <td>0.0</td>\n",
              "      <td>0.0</td>\n",
              "      <td>1.0</td>\n",
              "      <td>0.0</td>\n",
              "      <td>0.0</td>\n",
              "      <td>0.0</td>\n",
              "      <td>0.0</td>\n",
              "      <td>0.0</td>\n",
              "      <td>0.0</td>\n",
              "      <td>0.0</td>\n",
              "      <td>0.0</td>\n",
              "      <td>0.0</td>\n",
              "      <td>0.0</td>\n",
              "    </tr>\n",
              "  </tbody>\n",
              "</table>\n",
              "<p>5 rows × 106 columns</p>\n",
              "</div>"
            ],
            "text/plain": [
              "   Background Color_0  Background Color_1  ...  Trait Count_14  Trait Count_15\n",
              "0                 0.0                 0.0  ...             0.0             0.0\n",
              "1                 0.0                 0.0  ...             0.0             0.0\n",
              "2                 0.0                 0.0  ...             0.0             0.0\n",
              "3                 0.0                 0.0  ...             0.0             0.0\n",
              "4                 0.0                 0.0  ...             0.0             0.0\n",
              "\n",
              "[5 rows x 106 columns]"
            ]
          },
          "metadata": {},
          "execution_count": 121
        }
      ]
    },
    {
      "cell_type": "code",
      "metadata": {
        "id": "F8UvZA6PtXsR"
      },
      "source": [
        "# Split the preprocessed data into a training and testing dataset\n",
        "# Assign the function a random_state equal to 1\n",
        "X_train, X_test, y_train, y_test = train_test_split(X, y, random_state=1)"
      ],
      "execution_count": 122,
      "outputs": []
    },
    {
      "cell_type": "code",
      "metadata": {
        "id": "Lezoka8xtbgh"
      },
      "source": [
        "# Create a StandardScaler instance\n",
        "scaler = StandardScaler()\n",
        "\n",
        "# Fit the scaler to the features training dataset\n",
        "X_scaler = scaler.fit(X_train)\n",
        "\n",
        "# Fit the scaler to the features training dataset\n",
        "X_train_scaled = X_scaler.transform(X_train)\n",
        "X_test_scaled = X_scaler.transform(X_test)"
      ],
      "execution_count": 123,
      "outputs": []
    },
    {
      "cell_type": "code",
      "metadata": {
        "colab": {
          "base_uri": "https://localhost:8080/"
        },
        "id": "6uvVDytrtelp",
        "outputId": "9ee4c1d5-7750-4b68-94f7-3023dfffc73c"
      },
      "source": [
        "# Define the the number of inputs (features) to the model\n",
        "number_input_features = len(X_train.iloc[0])\n",
        "\n",
        "# Review the number of features\n",
        "number_input_features"
      ],
      "execution_count": 124,
      "outputs": [
        {
          "output_type": "execute_result",
          "data": {
            "text/plain": [
              "106"
            ]
          },
          "metadata": {},
          "execution_count": 124
        }
      ]
    },
    {
      "cell_type": "code",
      "metadata": {
        "id": "7UT6hjhjtkoA"
      },
      "source": [
        "# Define the number of neurons in the output layer\n",
        "number_output_neurons = 1"
      ],
      "execution_count": 125,
      "outputs": []
    },
    {
      "cell_type": "code",
      "metadata": {
        "colab": {
          "base_uri": "https://localhost:8080/"
        },
        "id": "wf7Q0uAatpMT",
        "outputId": "c0bfb133-8daa-4363-af18-b414b5518623"
      },
      "source": [
        "# Define the number of hidden nodes for the first hidden layer\n",
        "hidden_nodes_layer1 =  (number_input_features + number_output_neurons) // 2\n",
        "\n",
        "# Review the number hidden nodes in the first layer\n",
        "hidden_nodes_layer1"
      ],
      "execution_count": 126,
      "outputs": [
        {
          "output_type": "execute_result",
          "data": {
            "text/plain": [
              "53"
            ]
          },
          "metadata": {},
          "execution_count": 126
        }
      ]
    },
    {
      "cell_type": "code",
      "metadata": {
        "colab": {
          "base_uri": "https://localhost:8080/"
        },
        "id": "9wHSaALmtqOD",
        "outputId": "701ffddf-61ee-42e4-98b3-3033de2bc28a"
      },
      "source": [
        "# Define the number of hidden nodes for the second hidden layer\n",
        "hidden_nodes_layer2 = (hidden_nodes_layer1 + number_output_neurons) // 2\n",
        "\n",
        "# Review the number hidden nodes in the second layer\n",
        "hidden_nodes_layer2"
      ],
      "execution_count": 127,
      "outputs": [
        {
          "output_type": "execute_result",
          "data": {
            "text/plain": [
              "27"
            ]
          },
          "metadata": {},
          "execution_count": 127
        }
      ]
    },
    {
      "cell_type": "code",
      "metadata": {
        "id": "4czf_rk0t6b7"
      },
      "source": [
        "import tensorflow as tf\n",
        "from tensorflow.keras.layers import Dense\n",
        "from tensorflow.keras.models import Sequential\n",
        "from sklearn.model_selection import train_test_split\n",
        "from sklearn.preprocessing import StandardScaler,OneHotEncoder"
      ],
      "execution_count": 128,
      "outputs": []
    },
    {
      "cell_type": "code",
      "metadata": {
        "id": "Hf0K_fhntsbY"
      },
      "source": [
        "# Create the Sequential model instance\n",
        "nn = Sequential()"
      ],
      "execution_count": 129,
      "outputs": []
    },
    {
      "cell_type": "code",
      "metadata": {
        "id": "xIh2MFl6uCBY"
      },
      "source": [
        "\n",
        "# Add the first hidden layer\n",
        "nn.add(Dense(units=hidden_nodes_layer1, input_dim=number_input_features, activation=\"relu\"))"
      ],
      "execution_count": 130,
      "outputs": []
    },
    {
      "cell_type": "code",
      "metadata": {
        "id": "urUUyIQPuDWp"
      },
      "source": [
        "\n",
        "# Add the second hidden layer\n",
        "nn.add(Dense(units=hidden_nodes_layer2, activation=\"relu\"))"
      ],
      "execution_count": 131,
      "outputs": []
    },
    {
      "cell_type": "code",
      "metadata": {
        "id": "WsgHPfLruDgo"
      },
      "source": [
        "# Add the output layer to the model specifying the number of output neurons and activation function\n",
        "nn.add(Dense(units=number_output_neurons, activation=\"sigmoid\"))"
      ],
      "execution_count": 132,
      "outputs": []
    },
    {
      "cell_type": "code",
      "metadata": {
        "colab": {
          "base_uri": "https://localhost:8080/"
        },
        "id": "DW2Cq4yhuDml",
        "outputId": "8871c75e-1c96-42ef-a5bf-0dba1dccd06e"
      },
      "source": [
        "# Display the Sequential model summary\n",
        "nn.summary()"
      ],
      "execution_count": 133,
      "outputs": [
        {
          "output_type": "stream",
          "name": "stdout",
          "text": [
            "Model: \"sequential_3\"\n",
            "_________________________________________________________________\n",
            "Layer (type)                 Output Shape              Param #   \n",
            "=================================================================\n",
            "dense_7 (Dense)              (None, 53)                5671      \n",
            "_________________________________________________________________\n",
            "dense_8 (Dense)              (None, 27)                1458      \n",
            "_________________________________________________________________\n",
            "dense_9 (Dense)              (None, 1)                 28        \n",
            "=================================================================\n",
            "Total params: 7,157\n",
            "Trainable params: 7,157\n",
            "Non-trainable params: 0\n",
            "_________________________________________________________________\n"
          ]
        }
      ]
    },
    {
      "cell_type": "code",
      "metadata": {
        "id": "EHExgWL9uDpk"
      },
      "source": [
        "# Compile the Sequential model\n",
        "nn.compile(loss=\"binary_crossentropy\", optimizer=\"adam\", metrics=[\"accuracy\"])"
      ],
      "execution_count": 134,
      "outputs": []
    },
    {
      "cell_type": "code",
      "metadata": {
        "colab": {
          "base_uri": "https://localhost:8080/"
        },
        "id": "d82Y_c_zuDsl",
        "outputId": "8ba055b5-f4d9-492e-fb85-85d5f5ab625c"
      },
      "source": [
        "# Fit the model using 50 epochs and the training data\n",
        "fit_model = nn.fit(X_train_scaled, y_train, epochs=50)"
      ],
      "execution_count": 135,
      "outputs": [
        {
          "output_type": "stream",
          "name": "stdout",
          "text": [
            "Epoch 1/50\n",
            "67/67 [==============================] - 1s 2ms/step - loss: 0.4393 - accuracy: 0.8172\n",
            "Epoch 2/50\n",
            "67/67 [==============================] - 0s 2ms/step - loss: 0.2624 - accuracy: 0.9093\n",
            "Epoch 3/50\n",
            "67/67 [==============================] - 0s 2ms/step - loss: 0.2043 - accuracy: 0.9331\n",
            "Epoch 4/50\n",
            "67/67 [==============================] - 0s 2ms/step - loss: 0.1907 - accuracy: 0.9369\n",
            "Epoch 5/50\n",
            "67/67 [==============================] - 0s 2ms/step - loss: 0.1777 - accuracy: 0.9378\n",
            "Epoch 6/50\n",
            "67/67 [==============================] - 0s 2ms/step - loss: 0.1761 - accuracy: 0.9378\n",
            "Epoch 7/50\n",
            "67/67 [==============================] - 0s 2ms/step - loss: 0.1716 - accuracy: 0.9331\n",
            "Epoch 8/50\n",
            "67/67 [==============================] - 0s 2ms/step - loss: 0.1719 - accuracy: 0.9360\n",
            "Epoch 9/50\n",
            "67/67 [==============================] - 0s 2ms/step - loss: 0.1694 - accuracy: 0.9360\n",
            "Epoch 10/50\n",
            "67/67 [==============================] - 0s 2ms/step - loss: 0.1683 - accuracy: 0.9374\n",
            "Epoch 11/50\n",
            "67/67 [==============================] - 0s 2ms/step - loss: 0.1692 - accuracy: 0.9327\n",
            "Epoch 12/50\n",
            "67/67 [==============================] - 0s 2ms/step - loss: 0.1674 - accuracy: 0.9364\n",
            "Epoch 13/50\n",
            "67/67 [==============================] - 0s 2ms/step - loss: 0.1657 - accuracy: 0.9345\n",
            "Epoch 14/50\n",
            "67/67 [==============================] - 0s 2ms/step - loss: 0.1670 - accuracy: 0.9360\n",
            "Epoch 15/50\n",
            "67/67 [==============================] - 0s 2ms/step - loss: 0.1664 - accuracy: 0.9341\n",
            "Epoch 16/50\n",
            "67/67 [==============================] - 0s 2ms/step - loss: 0.1657 - accuracy: 0.9364\n",
            "Epoch 17/50\n",
            "67/67 [==============================] - 0s 2ms/step - loss: 0.1658 - accuracy: 0.9383\n",
            "Epoch 18/50\n",
            "67/67 [==============================] - 0s 2ms/step - loss: 0.1642 - accuracy: 0.9369\n",
            "Epoch 19/50\n",
            "67/67 [==============================] - 0s 2ms/step - loss: 0.1646 - accuracy: 0.9336\n",
            "Epoch 20/50\n",
            "67/67 [==============================] - 0s 2ms/step - loss: 0.1653 - accuracy: 0.9374\n",
            "Epoch 21/50\n",
            "67/67 [==============================] - 0s 2ms/step - loss: 0.1648 - accuracy: 0.9378\n",
            "Epoch 22/50\n",
            "67/67 [==============================] - 0s 2ms/step - loss: 0.1637 - accuracy: 0.9350\n",
            "Epoch 23/50\n",
            "67/67 [==============================] - 0s 2ms/step - loss: 0.1660 - accuracy: 0.9360\n",
            "Epoch 24/50\n",
            "67/67 [==============================] - 0s 2ms/step - loss: 0.1649 - accuracy: 0.9345\n",
            "Epoch 25/50\n",
            "67/67 [==============================] - 0s 2ms/step - loss: 0.1629 - accuracy: 0.9360\n",
            "Epoch 26/50\n",
            "67/67 [==============================] - 0s 2ms/step - loss: 0.1640 - accuracy: 0.9355\n",
            "Epoch 27/50\n",
            "67/67 [==============================] - 0s 2ms/step - loss: 0.1635 - accuracy: 0.9350\n",
            "Epoch 28/50\n",
            "67/67 [==============================] - 0s 2ms/step - loss: 0.1637 - accuracy: 0.9355\n",
            "Epoch 29/50\n",
            "67/67 [==============================] - 0s 2ms/step - loss: 0.1636 - accuracy: 0.9350\n",
            "Epoch 30/50\n",
            "67/67 [==============================] - 0s 2ms/step - loss: 0.1635 - accuracy: 0.9345\n",
            "Epoch 31/50\n",
            "67/67 [==============================] - 0s 2ms/step - loss: 0.1641 - accuracy: 0.9341\n",
            "Epoch 32/50\n",
            "67/67 [==============================] - 0s 2ms/step - loss: 0.1637 - accuracy: 0.9317\n",
            "Epoch 33/50\n",
            "67/67 [==============================] - 0s 2ms/step - loss: 0.1634 - accuracy: 0.9345\n",
            "Epoch 34/50\n",
            "67/67 [==============================] - 0s 2ms/step - loss: 0.1626 - accuracy: 0.9355\n",
            "Epoch 35/50\n",
            "67/67 [==============================] - 0s 2ms/step - loss: 0.1626 - accuracy: 0.9322\n",
            "Epoch 36/50\n",
            "67/67 [==============================] - 0s 2ms/step - loss: 0.1633 - accuracy: 0.9374\n",
            "Epoch 37/50\n",
            "67/67 [==============================] - 0s 2ms/step - loss: 0.1617 - accuracy: 0.9355\n",
            "Epoch 38/50\n",
            "67/67 [==============================] - 0s 2ms/step - loss: 0.1629 - accuracy: 0.9369\n",
            "Epoch 39/50\n",
            "67/67 [==============================] - 0s 2ms/step - loss: 0.1631 - accuracy: 0.9364\n",
            "Epoch 40/50\n",
            "67/67 [==============================] - 0s 2ms/step - loss: 0.1625 - accuracy: 0.9360\n",
            "Epoch 41/50\n",
            "67/67 [==============================] - 0s 2ms/step - loss: 0.1633 - accuracy: 0.9336\n",
            "Epoch 42/50\n",
            "67/67 [==============================] - 0s 2ms/step - loss: 0.1620 - accuracy: 0.9336\n",
            "Epoch 43/50\n",
            "67/67 [==============================] - 0s 2ms/step - loss: 0.1619 - accuracy: 0.9378\n",
            "Epoch 44/50\n",
            "67/67 [==============================] - 0s 2ms/step - loss: 0.1619 - accuracy: 0.9374\n",
            "Epoch 45/50\n",
            "67/67 [==============================] - 0s 2ms/step - loss: 0.1622 - accuracy: 0.9364\n",
            "Epoch 46/50\n",
            "67/67 [==============================] - 0s 2ms/step - loss: 0.1623 - accuracy: 0.9369\n",
            "Epoch 47/50\n",
            "67/67 [==============================] - 0s 2ms/step - loss: 0.1622 - accuracy: 0.9322\n",
            "Epoch 48/50\n",
            "67/67 [==============================] - 0s 2ms/step - loss: 0.1630 - accuracy: 0.9341\n",
            "Epoch 49/50\n",
            "67/67 [==============================] - 0s 2ms/step - loss: 0.1614 - accuracy: 0.9336\n",
            "Epoch 50/50\n",
            "67/67 [==============================] - 0s 2ms/step - loss: 0.1626 - accuracy: 0.9374\n"
          ]
        }
      ]
    },
    {
      "cell_type": "code",
      "metadata": {
        "colab": {
          "base_uri": "https://localhost:8080/"
        },
        "id": "6zhILQCbuQyc",
        "outputId": "88aaa5a0-738b-4c22-fcc9-3811c2d94555"
      },
      "source": [
        "print(\"Original Model Results\")\n",
        "\n",
        "# Evaluate the model loss and accuracy metrics using the evaluate method and the test data\n",
        "model_loss, model_accuracy = nn.evaluate(X_test_scaled, y_test, verbose=2)\n",
        "\n",
        "# Display the model loss and accuracy results\n",
        "print(f\"Loss: {model_loss}, Accuracy: {model_accuracy}\")"
      ],
      "execution_count": 136,
      "outputs": [
        {
          "output_type": "stream",
          "name": "stdout",
          "text": [
            "Original Model Results\n",
            "23/23 - 0s - loss: 0.2184 - accuracy: 0.9467\n",
            "Loss: 0.2184385508298874, Accuracy: 0.946704089641571\n"
          ]
        }
      ]
    },
    {
      "cell_type": "code",
      "metadata": {
        "colab": {
          "base_uri": "https://localhost:8080/"
        },
        "id": "_3iEQ60bp03Y",
        "outputId": "454a9c8c-20a0-4686-efd3-3c88dc7fd846"
      },
      "source": [
        "# Define the the number of inputs (features) to the model\n",
        "number_input_features = len(X_train.iloc[0])\n",
        "\n",
        "# Review the number of features\n",
        "number_input_features"
      ],
      "execution_count": 137,
      "outputs": [
        {
          "output_type": "execute_result",
          "data": {
            "text/plain": [
              "106"
            ]
          },
          "metadata": {},
          "execution_count": 137
        }
      ]
    },
    {
      "cell_type": "code",
      "metadata": {
        "id": "ezF4w3L9p09W"
      },
      "source": [
        "# Define the number of neurons in the output layer\n",
        "number_output_neurons_A1 = 1"
      ],
      "execution_count": 138,
      "outputs": []
    },
    {
      "cell_type": "code",
      "metadata": {
        "colab": {
          "base_uri": "https://localhost:8080/"
        },
        "id": "6Kw2HgpkqRqH",
        "outputId": "a3e43dc1-3c6d-4e1f-e8a1-b7a34194ccb6"
      },
      "source": [
        "# Define the number of hidden nodes for the first hidden layer\n",
        "hidden_nodes_layer1_A1 = (number_input_features + number_output_neurons_A1) // 2\n",
        "\n",
        "# Review the number of hidden nodes in the first layer\n",
        "hidden_nodes_layer1_A1"
      ],
      "execution_count": 139,
      "outputs": [
        {
          "output_type": "execute_result",
          "data": {
            "text/plain": [
              "53"
            ]
          },
          "metadata": {},
          "execution_count": 139
        }
      ]
    },
    {
      "cell_type": "code",
      "metadata": {
        "id": "LzD4vmf5qRs9"
      },
      "source": [
        "# Create the Sequential model instance\n",
        "nn_A1 = Sequential()"
      ],
      "execution_count": 140,
      "outputs": []
    },
    {
      "cell_type": "code",
      "metadata": {
        "colab": {
          "base_uri": "https://localhost:8080/"
        },
        "id": "uq2Aj9nZqRvk",
        "outputId": "2468fea4-9b22-4c20-8d70-87f3712d5cae"
      },
      "source": [
        "# First hidden layer\n",
        "nn_A1.add(Dense(units=hidden_nodes_layer1_A1, input_dim=number_input_features, activation=\"relu\"))\n",
        "\n",
        "# Output layer\n",
        "nn_A1.add(Dense(units=number_output_neurons_A1, activation=\"sigmoid\"))\n",
        "\n",
        "# Check the structure of the model\n",
        "nn_A1.summary()"
      ],
      "execution_count": 141,
      "outputs": [
        {
          "output_type": "stream",
          "name": "stdout",
          "text": [
            "Model: \"sequential_4\"\n",
            "_________________________________________________________________\n",
            "Layer (type)                 Output Shape              Param #   \n",
            "=================================================================\n",
            "dense_10 (Dense)             (None, 53)                5671      \n",
            "_________________________________________________________________\n",
            "dense_11 (Dense)             (None, 1)                 54        \n",
            "=================================================================\n",
            "Total params: 5,725\n",
            "Trainable params: 5,725\n",
            "Non-trainable params: 0\n",
            "_________________________________________________________________\n"
          ]
        }
      ]
    },
    {
      "cell_type": "code",
      "metadata": {
        "id": "1882ZKfwqRyb"
      },
      "source": [
        "# Compile the Sequential model\n",
        "nn_A1.compile(loss=\"binary_crossentropy\", optimizer=\"adam\", metrics=[\"accuracy\"])"
      ],
      "execution_count": 142,
      "outputs": []
    },
    {
      "cell_type": "code",
      "metadata": {
        "colab": {
          "base_uri": "https://localhost:8080/"
        },
        "id": "jf11SN7NqR12",
        "outputId": "7083716d-d042-42d2-ea79-025d4b00a19a"
      },
      "source": [
        "# Fit the model using 50 epochs and the training data\n",
        "fit_model_A1 = nn_A1.fit(X_train_scaled, y_train, epochs=50)"
      ],
      "execution_count": 143,
      "outputs": [
        {
          "output_type": "stream",
          "name": "stdout",
          "text": [
            "Epoch 1/50\n",
            "67/67 [==============================] - 1s 2ms/step - loss: 0.5297 - accuracy: 0.7359\n",
            "Epoch 2/50\n",
            "67/67 [==============================] - 0s 2ms/step - loss: 0.2926 - accuracy: 0.8925\n",
            "Epoch 3/50\n",
            "67/67 [==============================] - 0s 2ms/step - loss: 0.2269 - accuracy: 0.9313\n",
            "Epoch 4/50\n",
            "67/67 [==============================] - 0s 2ms/step - loss: 0.2001 - accuracy: 0.9322\n",
            "Epoch 5/50\n",
            "67/67 [==============================] - 0s 2ms/step - loss: 0.1886 - accuracy: 0.9331\n",
            "Epoch 6/50\n",
            "67/67 [==============================] - 0s 2ms/step - loss: 0.1821 - accuracy: 0.9303\n",
            "Epoch 7/50\n",
            "67/67 [==============================] - 0s 2ms/step - loss: 0.1773 - accuracy: 0.9341\n",
            "Epoch 8/50\n",
            "67/67 [==============================] - 0s 2ms/step - loss: 0.1750 - accuracy: 0.9350\n",
            "Epoch 9/50\n",
            "67/67 [==============================] - 0s 2ms/step - loss: 0.1715 - accuracy: 0.9341\n",
            "Epoch 10/50\n",
            "67/67 [==============================] - 0s 2ms/step - loss: 0.1696 - accuracy: 0.9364\n",
            "Epoch 11/50\n",
            "67/67 [==============================] - 0s 2ms/step - loss: 0.1696 - accuracy: 0.9331\n",
            "Epoch 12/50\n",
            "67/67 [==============================] - 0s 2ms/step - loss: 0.1682 - accuracy: 0.9374\n",
            "Epoch 13/50\n",
            "67/67 [==============================] - 0s 1ms/step - loss: 0.1677 - accuracy: 0.9364\n",
            "Epoch 14/50\n",
            "67/67 [==============================] - 0s 2ms/step - loss: 0.1671 - accuracy: 0.9331\n",
            "Epoch 15/50\n",
            "67/67 [==============================] - 0s 2ms/step - loss: 0.1662 - accuracy: 0.9350\n",
            "Epoch 16/50\n",
            "67/67 [==============================] - 0s 1ms/step - loss: 0.1656 - accuracy: 0.9378\n",
            "Epoch 17/50\n",
            "67/67 [==============================] - 0s 2ms/step - loss: 0.1657 - accuracy: 0.9392\n",
            "Epoch 18/50\n",
            "67/67 [==============================] - 0s 1ms/step - loss: 0.1652 - accuracy: 0.9369\n",
            "Epoch 19/50\n",
            "67/67 [==============================] - 0s 2ms/step - loss: 0.1652 - accuracy: 0.9350\n",
            "Epoch 20/50\n",
            "67/67 [==============================] - 0s 2ms/step - loss: 0.1654 - accuracy: 0.9350\n",
            "Epoch 21/50\n",
            "67/67 [==============================] - 0s 2ms/step - loss: 0.1644 - accuracy: 0.9383\n",
            "Epoch 22/50\n",
            "67/67 [==============================] - 0s 2ms/step - loss: 0.1640 - accuracy: 0.9331\n",
            "Epoch 23/50\n",
            "67/67 [==============================] - 0s 2ms/step - loss: 0.1636 - accuracy: 0.9350\n",
            "Epoch 24/50\n",
            "67/67 [==============================] - 0s 2ms/step - loss: 0.1641 - accuracy: 0.9369\n",
            "Epoch 25/50\n",
            "67/67 [==============================] - 0s 2ms/step - loss: 0.1651 - accuracy: 0.9350\n",
            "Epoch 26/50\n",
            "67/67 [==============================] - 0s 2ms/step - loss: 0.1645 - accuracy: 0.9364\n",
            "Epoch 27/50\n",
            "67/67 [==============================] - 0s 2ms/step - loss: 0.1635 - accuracy: 0.9345\n",
            "Epoch 28/50\n",
            "67/67 [==============================] - 0s 2ms/step - loss: 0.1647 - accuracy: 0.9360\n",
            "Epoch 29/50\n",
            "67/67 [==============================] - 0s 2ms/step - loss: 0.1629 - accuracy: 0.9378\n",
            "Epoch 30/50\n",
            "67/67 [==============================] - 0s 2ms/step - loss: 0.1630 - accuracy: 0.9345\n",
            "Epoch 31/50\n",
            "67/67 [==============================] - 0s 2ms/step - loss: 0.1622 - accuracy: 0.9364\n",
            "Epoch 32/50\n",
            "67/67 [==============================] - 0s 2ms/step - loss: 0.1629 - accuracy: 0.9378\n",
            "Epoch 33/50\n",
            "67/67 [==============================] - 0s 2ms/step - loss: 0.1627 - accuracy: 0.9383\n",
            "Epoch 34/50\n",
            "67/67 [==============================] - 0s 2ms/step - loss: 0.1633 - accuracy: 0.9360\n",
            "Epoch 35/50\n",
            "67/67 [==============================] - 0s 1ms/step - loss: 0.1621 - accuracy: 0.9369\n",
            "Epoch 36/50\n",
            "67/67 [==============================] - 0s 2ms/step - loss: 0.1630 - accuracy: 0.9345\n",
            "Epoch 37/50\n",
            "67/67 [==============================] - 0s 2ms/step - loss: 0.1629 - accuracy: 0.9364\n",
            "Epoch 38/50\n",
            "67/67 [==============================] - 0s 1ms/step - loss: 0.1633 - accuracy: 0.9360\n",
            "Epoch 39/50\n",
            "67/67 [==============================] - 0s 2ms/step - loss: 0.1628 - accuracy: 0.9350\n",
            "Epoch 40/50\n",
            "67/67 [==============================] - 0s 2ms/step - loss: 0.1629 - accuracy: 0.9350\n",
            "Epoch 41/50\n",
            "67/67 [==============================] - 0s 2ms/step - loss: 0.1626 - accuracy: 0.9341\n",
            "Epoch 42/50\n",
            "67/67 [==============================] - 0s 2ms/step - loss: 0.1616 - accuracy: 0.9378\n",
            "Epoch 43/50\n",
            "67/67 [==============================] - 0s 2ms/step - loss: 0.1628 - accuracy: 0.9350\n",
            "Epoch 44/50\n",
            "67/67 [==============================] - 0s 2ms/step - loss: 0.1626 - accuracy: 0.9374\n",
            "Epoch 45/50\n",
            "67/67 [==============================] - 0s 2ms/step - loss: 0.1624 - accuracy: 0.9350\n",
            "Epoch 46/50\n",
            "67/67 [==============================] - 0s 2ms/step - loss: 0.1614 - accuracy: 0.9360\n",
            "Epoch 47/50\n",
            "67/67 [==============================] - 0s 2ms/step - loss: 0.1617 - accuracy: 0.9345\n",
            "Epoch 48/50\n",
            "67/67 [==============================] - 0s 2ms/step - loss: 0.1621 - accuracy: 0.9360\n",
            "Epoch 49/50\n",
            "67/67 [==============================] - 0s 2ms/step - loss: 0.1632 - accuracy: 0.9369\n",
            "Epoch 50/50\n",
            "67/67 [==============================] - 0s 2ms/step - loss: 0.1629 - accuracy: 0.9364\n"
          ]
        }
      ]
    },
    {
      "cell_type": "markdown",
      "metadata": {
        "id": "QfjuWLS_qpRt"
      },
      "source": [
        "ALTERNATIVE MODEL 2"
      ]
    },
    {
      "cell_type": "code",
      "metadata": {
        "colab": {
          "base_uri": "https://localhost:8080/"
        },
        "id": "3hieIYQIqR3q",
        "outputId": "d0522021-d986-48d0-9b50-79707d17fffd"
      },
      "source": [
        "# Define the the number of inputs (features) to the model\n",
        "number_input_features = len(X_train.iloc[0])\n",
        "\n",
        "# Review the number of features\n",
        "number_input_features"
      ],
      "execution_count": 144,
      "outputs": [
        {
          "output_type": "execute_result",
          "data": {
            "text/plain": [
              "106"
            ]
          },
          "metadata": {},
          "execution_count": 144
        }
      ]
    },
    {
      "cell_type": "code",
      "metadata": {
        "id": "e1z-o44DqR6T"
      },
      "source": [
        "\n",
        "# Define the number of neurons in the output layer\n",
        "number_output_neurons_A2 = 1"
      ],
      "execution_count": 145,
      "outputs": []
    },
    {
      "cell_type": "code",
      "metadata": {
        "colab": {
          "base_uri": "https://localhost:8080/"
        },
        "id": "xfjrOtHRqR9B",
        "outputId": "34be02b1-9328-4303-bd1b-84640d7dfb34"
      },
      "source": [
        "\n",
        "# Define the number of hidden nodes for the first hidden layer\n",
        "hidden_nodes_layer1_A2 = 80\n",
        "\n",
        "# Review the number of hidden nodes in the first layer\n",
        "hidden_nodes_layer1_A2"
      ],
      "execution_count": 146,
      "outputs": [
        {
          "output_type": "execute_result",
          "data": {
            "text/plain": [
              "80"
            ]
          },
          "metadata": {},
          "execution_count": 146
        }
      ]
    },
    {
      "cell_type": "code",
      "metadata": {
        "id": "PJoUmvn7qR_y"
      },
      "source": [
        "# Create the Sequential model instance\n",
        "nn_A2 = Sequential()"
      ],
      "execution_count": 147,
      "outputs": []
    },
    {
      "cell_type": "code",
      "metadata": {
        "colab": {
          "base_uri": "https://localhost:8080/"
        },
        "id": "MMS3ZxBtqSCI",
        "outputId": "3e244c45-b6e2-4c32-e107-d793e727e8fb"
      },
      "source": [
        "# First hidden layer\n",
        "nn_A2.add(Dense(units=hidden_nodes_layer1_A2, input_dim=number_input_features, activation=\"relu\"))\n",
        "\n",
        "# Output layer\n",
        "nn_A2.add(Dense(units=number_output_neurons_A2, activation=\"sigmoid\"))\n",
        "\n",
        "# Check the structure of the model\n",
        "nn_A2.summary()"
      ],
      "execution_count": 148,
      "outputs": [
        {
          "output_type": "stream",
          "name": "stdout",
          "text": [
            "Model: \"sequential_5\"\n",
            "_________________________________________________________________\n",
            "Layer (type)                 Output Shape              Param #   \n",
            "=================================================================\n",
            "dense_12 (Dense)             (None, 80)                8560      \n",
            "_________________________________________________________________\n",
            "dense_13 (Dense)             (None, 1)                 81        \n",
            "=================================================================\n",
            "Total params: 8,641\n",
            "Trainable params: 8,641\n",
            "Non-trainable params: 0\n",
            "_________________________________________________________________\n"
          ]
        }
      ]
    },
    {
      "cell_type": "code",
      "metadata": {
        "id": "ExNQKCEkq1Ls"
      },
      "source": [
        "# Compile the model\n",
        "nn_A2.compile(loss=\"binary_crossentropy\", optimizer=\"adam\", metrics=[\"accuracy\"])"
      ],
      "execution_count": 149,
      "outputs": []
    },
    {
      "cell_type": "code",
      "metadata": {
        "colab": {
          "base_uri": "https://localhost:8080/"
        },
        "id": "7IkiWD24q1OT",
        "outputId": "a6982625-f54b-48be-d56c-5008174fecfe"
      },
      "source": [
        "# Fit the model\n",
        "fit_model_A2 = nn_A2.fit(X_train_scaled, y_train, epochs=100)"
      ],
      "execution_count": 150,
      "outputs": [
        {
          "output_type": "stream",
          "name": "stdout",
          "text": [
            "Epoch 1/100\n",
            "67/67 [==============================] - 1s 2ms/step - loss: 0.4707 - accuracy: 0.7817\n",
            "Epoch 2/100\n",
            "67/67 [==============================] - 0s 2ms/step - loss: 0.2460 - accuracy: 0.9247\n",
            "Epoch 3/100\n",
            "67/67 [==============================] - 0s 2ms/step - loss: 0.2021 - accuracy: 0.9327\n",
            "Epoch 4/100\n",
            "67/67 [==============================] - 0s 2ms/step - loss: 0.1862 - accuracy: 0.9327\n",
            "Epoch 5/100\n",
            "67/67 [==============================] - 0s 2ms/step - loss: 0.1796 - accuracy: 0.9345\n",
            "Epoch 6/100\n",
            "67/67 [==============================] - 0s 2ms/step - loss: 0.1754 - accuracy: 0.9360\n",
            "Epoch 7/100\n",
            "67/67 [==============================] - 0s 2ms/step - loss: 0.1734 - accuracy: 0.9336\n",
            "Epoch 8/100\n",
            "67/67 [==============================] - 0s 2ms/step - loss: 0.1726 - accuracy: 0.9350\n",
            "Epoch 9/100\n",
            "67/67 [==============================] - 0s 2ms/step - loss: 0.1702 - accuracy: 0.9345\n",
            "Epoch 10/100\n",
            "67/67 [==============================] - 0s 2ms/step - loss: 0.1696 - accuracy: 0.9350\n",
            "Epoch 11/100\n",
            "67/67 [==============================] - 0s 2ms/step - loss: 0.1693 - accuracy: 0.9345\n",
            "Epoch 12/100\n",
            "67/67 [==============================] - 0s 2ms/step - loss: 0.1689 - accuracy: 0.9364\n",
            "Epoch 13/100\n",
            "67/67 [==============================] - 0s 1ms/step - loss: 0.1677 - accuracy: 0.9369\n",
            "Epoch 14/100\n",
            "67/67 [==============================] - 0s 2ms/step - loss: 0.1670 - accuracy: 0.9327\n",
            "Epoch 15/100\n",
            "67/67 [==============================] - 0s 2ms/step - loss: 0.1675 - accuracy: 0.9327\n",
            "Epoch 16/100\n",
            "67/67 [==============================] - 0s 2ms/step - loss: 0.1660 - accuracy: 0.9378\n",
            "Epoch 17/100\n",
            "67/67 [==============================] - 0s 2ms/step - loss: 0.1656 - accuracy: 0.9360\n",
            "Epoch 18/100\n",
            "67/67 [==============================] - 0s 2ms/step - loss: 0.1650 - accuracy: 0.9369\n",
            "Epoch 19/100\n",
            "67/67 [==============================] - 0s 2ms/step - loss: 0.1656 - accuracy: 0.9355\n",
            "Epoch 20/100\n",
            "67/67 [==============================] - 0s 2ms/step - loss: 0.1649 - accuracy: 0.9355\n",
            "Epoch 21/100\n",
            "67/67 [==============================] - 0s 2ms/step - loss: 0.1663 - accuracy: 0.9355\n",
            "Epoch 22/100\n",
            "67/67 [==============================] - 0s 2ms/step - loss: 0.1648 - accuracy: 0.9345\n",
            "Epoch 23/100\n",
            "67/67 [==============================] - 0s 2ms/step - loss: 0.1658 - accuracy: 0.9345\n",
            "Epoch 24/100\n",
            "67/67 [==============================] - 0s 2ms/step - loss: 0.1652 - accuracy: 0.9355\n",
            "Epoch 25/100\n",
            "67/67 [==============================] - 0s 2ms/step - loss: 0.1644 - accuracy: 0.9369\n",
            "Epoch 26/100\n",
            "67/67 [==============================] - 0s 2ms/step - loss: 0.1642 - accuracy: 0.9383\n",
            "Epoch 27/100\n",
            "67/67 [==============================] - 0s 2ms/step - loss: 0.1642 - accuracy: 0.9350\n",
            "Epoch 28/100\n",
            "67/67 [==============================] - 0s 2ms/step - loss: 0.1647 - accuracy: 0.9364\n",
            "Epoch 29/100\n",
            "67/67 [==============================] - 0s 2ms/step - loss: 0.1647 - accuracy: 0.9360\n",
            "Epoch 30/100\n",
            "67/67 [==============================] - 0s 2ms/step - loss: 0.1628 - accuracy: 0.9374\n",
            "Epoch 31/100\n",
            "67/67 [==============================] - 0s 2ms/step - loss: 0.1636 - accuracy: 0.9355\n",
            "Epoch 32/100\n",
            "67/67 [==============================] - 0s 2ms/step - loss: 0.1639 - accuracy: 0.9360\n",
            "Epoch 33/100\n",
            "67/67 [==============================] - 0s 2ms/step - loss: 0.1637 - accuracy: 0.9360\n",
            "Epoch 34/100\n",
            "67/67 [==============================] - 0s 2ms/step - loss: 0.1636 - accuracy: 0.9369\n",
            "Epoch 35/100\n",
            "67/67 [==============================] - 0s 2ms/step - loss: 0.1641 - accuracy: 0.9364\n",
            "Epoch 36/100\n",
            "67/67 [==============================] - 0s 2ms/step - loss: 0.1629 - accuracy: 0.9341\n",
            "Epoch 37/100\n",
            "67/67 [==============================] - 0s 1ms/step - loss: 0.1638 - accuracy: 0.9374\n",
            "Epoch 38/100\n",
            "67/67 [==============================] - 0s 2ms/step - loss: 0.1624 - accuracy: 0.9355\n",
            "Epoch 39/100\n",
            "67/67 [==============================] - 0s 2ms/step - loss: 0.1624 - accuracy: 0.9383\n",
            "Epoch 40/100\n",
            "67/67 [==============================] - 0s 2ms/step - loss: 0.1630 - accuracy: 0.9355\n",
            "Epoch 41/100\n",
            "67/67 [==============================] - 0s 2ms/step - loss: 0.1630 - accuracy: 0.9360\n",
            "Epoch 42/100\n",
            "67/67 [==============================] - 0s 2ms/step - loss: 0.1632 - accuracy: 0.9355\n",
            "Epoch 43/100\n",
            "67/67 [==============================] - 0s 2ms/step - loss: 0.1632 - accuracy: 0.9345\n",
            "Epoch 44/100\n",
            "67/67 [==============================] - 0s 2ms/step - loss: 0.1627 - accuracy: 0.9345\n",
            "Epoch 45/100\n",
            "67/67 [==============================] - 0s 2ms/step - loss: 0.1624 - accuracy: 0.9374\n",
            "Epoch 46/100\n",
            "67/67 [==============================] - 0s 2ms/step - loss: 0.1634 - accuracy: 0.9360\n",
            "Epoch 47/100\n",
            "67/67 [==============================] - 0s 2ms/step - loss: 0.1641 - accuracy: 0.9336\n",
            "Epoch 48/100\n",
            "67/67 [==============================] - 0s 2ms/step - loss: 0.1624 - accuracy: 0.9355\n",
            "Epoch 49/100\n",
            "67/67 [==============================] - 0s 2ms/step - loss: 0.1631 - accuracy: 0.9327\n",
            "Epoch 50/100\n",
            "67/67 [==============================] - 0s 2ms/step - loss: 0.1626 - accuracy: 0.9355\n",
            "Epoch 51/100\n",
            "67/67 [==============================] - 0s 2ms/step - loss: 0.1626 - accuracy: 0.9374\n",
            "Epoch 52/100\n",
            "67/67 [==============================] - 0s 2ms/step - loss: 0.1614 - accuracy: 0.9341\n",
            "Epoch 53/100\n",
            "67/67 [==============================] - 0s 2ms/step - loss: 0.1624 - accuracy: 0.9364\n",
            "Epoch 54/100\n",
            "67/67 [==============================] - 0s 2ms/step - loss: 0.1638 - accuracy: 0.9374\n",
            "Epoch 55/100\n",
            "67/67 [==============================] - 0s 2ms/step - loss: 0.1622 - accuracy: 0.9327\n",
            "Epoch 56/100\n",
            "67/67 [==============================] - 0s 2ms/step - loss: 0.1636 - accuracy: 0.9341\n",
            "Epoch 57/100\n",
            "67/67 [==============================] - 0s 2ms/step - loss: 0.1608 - accuracy: 0.9355\n",
            "Epoch 58/100\n",
            "67/67 [==============================] - 0s 1ms/step - loss: 0.1632 - accuracy: 0.9350\n",
            "Epoch 59/100\n",
            "67/67 [==============================] - 0s 2ms/step - loss: 0.1627 - accuracy: 0.9364\n",
            "Epoch 60/100\n",
            "67/67 [==============================] - 0s 2ms/step - loss: 0.1627 - accuracy: 0.9378\n",
            "Epoch 61/100\n",
            "67/67 [==============================] - 0s 2ms/step - loss: 0.1629 - accuracy: 0.9360\n",
            "Epoch 62/100\n",
            "67/67 [==============================] - 0s 2ms/step - loss: 0.1624 - accuracy: 0.9355\n",
            "Epoch 63/100\n",
            "67/67 [==============================] - 0s 2ms/step - loss: 0.1619 - accuracy: 0.9345\n",
            "Epoch 64/100\n",
            "67/67 [==============================] - 0s 2ms/step - loss: 0.1625 - accuracy: 0.9331\n",
            "Epoch 65/100\n",
            "67/67 [==============================] - 0s 1ms/step - loss: 0.1617 - accuracy: 0.9355\n",
            "Epoch 66/100\n",
            "67/67 [==============================] - 0s 2ms/step - loss: 0.1620 - accuracy: 0.9374\n",
            "Epoch 67/100\n",
            "67/67 [==============================] - 0s 2ms/step - loss: 0.1616 - accuracy: 0.9350\n",
            "Epoch 68/100\n",
            "67/67 [==============================] - 0s 2ms/step - loss: 0.1632 - accuracy: 0.9350\n",
            "Epoch 69/100\n",
            "67/67 [==============================] - 0s 2ms/step - loss: 0.1615 - accuracy: 0.9374\n",
            "Epoch 70/100\n",
            "67/67 [==============================] - 0s 2ms/step - loss: 0.1614 - accuracy: 0.9374\n",
            "Epoch 71/100\n",
            "67/67 [==============================] - 0s 2ms/step - loss: 0.1615 - accuracy: 0.9378\n",
            "Epoch 72/100\n",
            "67/67 [==============================] - 0s 2ms/step - loss: 0.1617 - accuracy: 0.9383\n",
            "Epoch 73/100\n",
            "67/67 [==============================] - 0s 2ms/step - loss: 0.1621 - accuracy: 0.9355\n",
            "Epoch 74/100\n",
            "67/67 [==============================] - 0s 2ms/step - loss: 0.1617 - accuracy: 0.9355\n",
            "Epoch 75/100\n",
            "67/67 [==============================] - 0s 2ms/step - loss: 0.1615 - accuracy: 0.9341\n",
            "Epoch 76/100\n",
            "67/67 [==============================] - 0s 2ms/step - loss: 0.1621 - accuracy: 0.9355\n",
            "Epoch 77/100\n",
            "67/67 [==============================] - 0s 2ms/step - loss: 0.1619 - accuracy: 0.9360\n",
            "Epoch 78/100\n",
            "67/67 [==============================] - 0s 2ms/step - loss: 0.1620 - accuracy: 0.9355\n",
            "Epoch 79/100\n",
            "67/67 [==============================] - 0s 2ms/step - loss: 0.1636 - accuracy: 0.9369\n",
            "Epoch 80/100\n",
            "67/67 [==============================] - 0s 2ms/step - loss: 0.1621 - accuracy: 0.9355\n",
            "Epoch 81/100\n",
            "67/67 [==============================] - 0s 2ms/step - loss: 0.1610 - accuracy: 0.9374\n",
            "Epoch 82/100\n",
            "67/67 [==============================] - 0s 2ms/step - loss: 0.1618 - accuracy: 0.9369\n",
            "Epoch 83/100\n",
            "67/67 [==============================] - 0s 2ms/step - loss: 0.1613 - accuracy: 0.9350\n",
            "Epoch 84/100\n",
            "67/67 [==============================] - 0s 2ms/step - loss: 0.1615 - accuracy: 0.9355\n",
            "Epoch 85/100\n",
            "67/67 [==============================] - 0s 2ms/step - loss: 0.1603 - accuracy: 0.9364\n",
            "Epoch 86/100\n",
            "67/67 [==============================] - 0s 2ms/step - loss: 0.1625 - accuracy: 0.9350\n",
            "Epoch 87/100\n",
            "67/67 [==============================] - 0s 2ms/step - loss: 0.1605 - accuracy: 0.9378\n",
            "Epoch 88/100\n",
            "67/67 [==============================] - 0s 2ms/step - loss: 0.1608 - accuracy: 0.9364\n",
            "Epoch 89/100\n",
            "67/67 [==============================] - 0s 2ms/step - loss: 0.1617 - accuracy: 0.9360\n",
            "Epoch 90/100\n",
            "67/67 [==============================] - 0s 2ms/step - loss: 0.1612 - accuracy: 0.9374\n",
            "Epoch 91/100\n",
            "67/67 [==============================] - 0s 2ms/step - loss: 0.1613 - accuracy: 0.9355\n",
            "Epoch 92/100\n",
            "67/67 [==============================] - 0s 2ms/step - loss: 0.1610 - accuracy: 0.9360\n",
            "Epoch 93/100\n",
            "67/67 [==============================] - 0s 2ms/step - loss: 0.1620 - accuracy: 0.9360\n",
            "Epoch 94/100\n",
            "67/67 [==============================] - 0s 2ms/step - loss: 0.1606 - accuracy: 0.9355\n",
            "Epoch 95/100\n",
            "67/67 [==============================] - 0s 2ms/step - loss: 0.1614 - accuracy: 0.9383\n",
            "Epoch 96/100\n",
            "67/67 [==============================] - 0s 2ms/step - loss: 0.1622 - accuracy: 0.9355\n",
            "Epoch 97/100\n",
            "67/67 [==============================] - 0s 2ms/step - loss: 0.1617 - accuracy: 0.9364\n",
            "Epoch 98/100\n",
            "67/67 [==============================] - 0s 2ms/step - loss: 0.1607 - accuracy: 0.9364\n",
            "Epoch 99/100\n",
            "67/67 [==============================] - 0s 1ms/step - loss: 0.1624 - accuracy: 0.9331\n",
            "Epoch 100/100\n",
            "67/67 [==============================] - 0s 2ms/step - loss: 0.1613 - accuracy: 0.9369\n"
          ]
        }
      ]
    },
    {
      "cell_type": "code",
      "metadata": {
        "colab": {
          "base_uri": "https://localhost:8080/"
        },
        "id": "_QztfYI8q1Qs",
        "outputId": "07e7b406-1ed9-4d8b-cf6c-479000c5f855"
      },
      "source": [
        "print(\"Original Model Results\")\n",
        "\n",
        "# Evaluate the model loss and accuracy metrics using the evaluate method and the test data\n",
        "model_loss, model_accuracy = nn.evaluate(X_test_scaled, y_test, verbose=2)\n",
        "\n",
        "# Display the model loss and accuracy results\n",
        "print(f\"Loss: {model_loss}, Accuracy: {model_accuracy}\")"
      ],
      "execution_count": 151,
      "outputs": [
        {
          "output_type": "stream",
          "name": "stdout",
          "text": [
            "Original Model Results\n",
            "23/23 - 0s - loss: 0.2184 - accuracy: 0.9467\n",
            "Loss: 0.2184385508298874, Accuracy: 0.946704089641571\n"
          ]
        }
      ]
    },
    {
      "cell_type": "code",
      "metadata": {
        "colab": {
          "base_uri": "https://localhost:8080/"
        },
        "id": "CY8cS-nvq1TC",
        "outputId": "1777175d-137b-4f38-b4ee-584ae946c3d6"
      },
      "source": [
        "print(\"Alternative Model 1 Results\")\n",
        "\n",
        "# Evaluate the model loss and accuracy metrics using the evaluate method and the test data\n",
        "model_loss, model_accuracy = nn_A1.evaluate(X_test_scaled, y_test, verbose=2)\n",
        "\n",
        "# Display the model loss and accuracy results\n",
        "print(f\"Loss: {model_loss}, Accuracy: {model_accuracy}\")"
      ],
      "execution_count": 152,
      "outputs": [
        {
          "output_type": "stream",
          "name": "stdout",
          "text": [
            "Alternative Model 1 Results\n",
            "23/23 - 0s - loss: 0.2116 - accuracy: 0.9453\n",
            "Loss: 0.21156692504882812, Accuracy: 0.9453015327453613\n"
          ]
        }
      ]
    },
    {
      "cell_type": "code",
      "metadata": {
        "colab": {
          "base_uri": "https://localhost:8080/"
        },
        "id": "OfND2aRrq1Vb",
        "outputId": "6503b701-7367-444b-8ee6-b8b85d5cc8be"
      },
      "source": [
        "print(\"Alternative Model 2 Results\")\n",
        "\n",
        "# Evaluate the model loss and accuracy metrics using the evaluate method and the test data\n",
        "model_loss, model_accuracy = nn_A2.evaluate(X_test_scaled, y_test, verbose=2)\n",
        "\n",
        "# Display the model loss and accuracy results\n",
        "print(f\"Loss: {model_loss}, Accuracy: {model_accuracy}\")"
      ],
      "execution_count": 153,
      "outputs": [
        {
          "output_type": "stream",
          "name": "stdout",
          "text": [
            "Alternative Model 2 Results\n",
            "23/23 - 0s - loss: 0.2169 - accuracy: 0.9467\n",
            "Loss: 0.2168562412261963, Accuracy: 0.946704089641571\n"
          ]
        }
      ]
    },
    {
      "cell_type": "code",
      "metadata": {
        "id": "PQNdfvsduQ5X"
      },
      "source": [
        ""
      ],
      "execution_count": null,
      "outputs": []
    },
    {
      "cell_type": "code",
      "metadata": {
        "id": "HnwfpL-1uQ8O"
      },
      "source": [
        ""
      ],
      "execution_count": null,
      "outputs": []
    },
    {
      "cell_type": "code",
      "metadata": {
        "id": "mv3TznRGuQ_L"
      },
      "source": [
        ""
      ],
      "execution_count": null,
      "outputs": []
    },
    {
      "cell_type": "code",
      "metadata": {
        "id": "pR6IKH7vxJGP"
      },
      "source": [
        "ml_data_df = df[['id', 'num_sales']].copy()"
      ],
      "execution_count": 121,
      "outputs": []
    },
    {
      "cell_type": "code",
      "metadata": {
        "id": "HrCAQ4P4xaol"
      },
      "source": [
        "ml_data_df = pd.concat([ml_data_df, total_price, total_traits], axis = 1)\n",
        "ml_data_df.columns = ['Asset ID', 'Number of Sales','Last Sale Price (ETH)', 'Trait Count']"
      ],
      "execution_count": 122,
      "outputs": []
    },
    {
      "cell_type": "code",
      "metadata": {
        "colab": {
          "base_uri": "https://localhost:8080/",
          "height": 412
        },
        "id": "Q5XRIhNxyFtD",
        "outputId": "f7053094-c1d8-47f1-ba21-265d43779562"
      },
      "source": [
        "ml_data_df"
      ],
      "execution_count": 123,
      "outputs": [
        {
          "output_type": "execute_result",
          "data": {
            "text/html": [
              "<div>\n",
              "<style scoped>\n",
              "    .dataframe tbody tr th:only-of-type {\n",
              "        vertical-align: middle;\n",
              "    }\n",
              "\n",
              "    .dataframe tbody tr th {\n",
              "        vertical-align: top;\n",
              "    }\n",
              "\n",
              "    .dataframe thead th {\n",
              "        text-align: right;\n",
              "    }\n",
              "</style>\n",
              "<table border=\"1\" class=\"dataframe\">\n",
              "  <thead>\n",
              "    <tr style=\"text-align: right;\">\n",
              "      <th></th>\n",
              "      <th>Asset ID</th>\n",
              "      <th>Number of Sales</th>\n",
              "      <th>Last Sale Price (ETH)</th>\n",
              "      <th>Trait Count</th>\n",
              "    </tr>\n",
              "  </thead>\n",
              "  <tbody>\n",
              "    <tr>\n",
              "      <th>0</th>\n",
              "      <td>38109417</td>\n",
              "      <td>13</td>\n",
              "      <td>1.740</td>\n",
              "      <td>13</td>\n",
              "    </tr>\n",
              "    <tr>\n",
              "      <th>1</th>\n",
              "      <td>38105661</td>\n",
              "      <td>11</td>\n",
              "      <td>2.750</td>\n",
              "      <td>13</td>\n",
              "    </tr>\n",
              "    <tr>\n",
              "      <th>2</th>\n",
              "      <td>38104277</td>\n",
              "      <td>10</td>\n",
              "      <td>2.200</td>\n",
              "      <td>13</td>\n",
              "    </tr>\n",
              "    <tr>\n",
              "      <th>3</th>\n",
              "      <td>37768360</td>\n",
              "      <td>10</td>\n",
              "      <td>2.250</td>\n",
              "      <td>13</td>\n",
              "    </tr>\n",
              "    <tr>\n",
              "      <th>4</th>\n",
              "      <td>38107119</td>\n",
              "      <td>9</td>\n",
              "      <td>1.680</td>\n",
              "      <td>13</td>\n",
              "    </tr>\n",
              "    <tr>\n",
              "      <th>...</th>\n",
              "      <td>...</td>\n",
              "      <td>...</td>\n",
              "      <td>...</td>\n",
              "      <td>...</td>\n",
              "    </tr>\n",
              "    <tr>\n",
              "      <th>46</th>\n",
              "      <td>3005383</td>\n",
              "      <td>3</td>\n",
              "      <td>0.000</td>\n",
              "      <td>6</td>\n",
              "    </tr>\n",
              "    <tr>\n",
              "      <th>47</th>\n",
              "      <td>3706444</td>\n",
              "      <td>3</td>\n",
              "      <td>0.195</td>\n",
              "      <td>6</td>\n",
              "    </tr>\n",
              "    <tr>\n",
              "      <th>48</th>\n",
              "      <td>2849847</td>\n",
              "      <td>3</td>\n",
              "      <td>4.300</td>\n",
              "      <td>6</td>\n",
              "    </tr>\n",
              "    <tr>\n",
              "      <th>49</th>\n",
              "      <td>15209044</td>\n",
              "      <td>3</td>\n",
              "      <td>0.090</td>\n",
              "      <td>6</td>\n",
              "    </tr>\n",
              "    <tr>\n",
              "      <th>0</th>\n",
              "      <td>60149140</td>\n",
              "      <td>1</td>\n",
              "      <td>0.070</td>\n",
              "      <td>6</td>\n",
              "    </tr>\n",
              "  </tbody>\n",
              "</table>\n",
              "<p>2852 rows × 4 columns</p>\n",
              "</div>"
            ],
            "text/plain": [
              "    Asset ID  Number of Sales  Last Sale Price (ETH)  Trait Count\n",
              "0   38109417               13                  1.740           13\n",
              "1   38105661               11                  2.750           13\n",
              "2   38104277               10                  2.200           13\n",
              "3   37768360               10                  2.250           13\n",
              "4   38107119                9                  1.680           13\n",
              "..       ...              ...                    ...          ...\n",
              "46   3005383                3                  0.000            6\n",
              "47   3706444                3                  0.195            6\n",
              "48   2849847                3                  4.300            6\n",
              "49  15209044                3                  0.090            6\n",
              "0   60149140                1                  0.070            6\n",
              "\n",
              "[2852 rows x 4 columns]"
            ]
          },
          "metadata": {},
          "execution_count": 123
        }
      ]
    },
    {
      "cell_type": "code",
      "metadata": {
        "colab": {
          "base_uri": "https://localhost:8080/"
        },
        "id": "E2CQkRivyMd3",
        "outputId": "ed186aff-3c20-4582-918c-c91ef8acddab"
      },
      "source": [
        "ml_data_df.dtypes"
      ],
      "execution_count": 41,
      "outputs": [
        {
          "output_type": "execute_result",
          "data": {
            "text/plain": [
              "Asset ID                   int64\n",
              "Number of Sales            int64\n",
              "Last Sale Price (ETH)    float64\n",
              "Trait Count                int64\n",
              "dtype: object"
            ]
          },
          "metadata": {},
          "execution_count": 41
        }
      ]
    },
    {
      "cell_type": "code",
      "metadata": {
        "colab": {
          "base_uri": "https://localhost:8080/",
          "height": 292
        },
        "id": "cW9U0l_EmOfl",
        "outputId": "bdd06770-e4d3-42cc-d260-808bab7e55e7"
      },
      "source": [
        "ml_data_df.describe()"
      ],
      "execution_count": 42,
      "outputs": [
        {
          "output_type": "execute_result",
          "data": {
            "text/html": [
              "<div>\n",
              "<style scoped>\n",
              "    .dataframe tbody tr th:only-of-type {\n",
              "        vertical-align: middle;\n",
              "    }\n",
              "\n",
              "    .dataframe tbody tr th {\n",
              "        vertical-align: top;\n",
              "    }\n",
              "\n",
              "    .dataframe thead th {\n",
              "        text-align: right;\n",
              "    }\n",
              "</style>\n",
              "<table border=\"1\" class=\"dataframe\">\n",
              "  <thead>\n",
              "    <tr style=\"text-align: right;\">\n",
              "      <th></th>\n",
              "      <th>Asset ID</th>\n",
              "      <th>Number of Sales</th>\n",
              "      <th>Last Sale Price (ETH)</th>\n",
              "      <th>Trait Count</th>\n",
              "    </tr>\n",
              "  </thead>\n",
              "  <tbody>\n",
              "    <tr>\n",
              "      <th>count</th>\n",
              "      <td>2.853000e+03</td>\n",
              "      <td>2853.000000</td>\n",
              "      <td>2853.000000</td>\n",
              "      <td>2853.000000</td>\n",
              "    </tr>\n",
              "    <tr>\n",
              "      <th>mean</th>\n",
              "      <td>4.196159e+07</td>\n",
              "      <td>17.667718</td>\n",
              "      <td>4.384143</td>\n",
              "      <td>19.001052</td>\n",
              "    </tr>\n",
              "    <tr>\n",
              "      <th>std</th>\n",
              "      <td>1.759545e+07</td>\n",
              "      <td>254.713629</td>\n",
              "      <td>13.603815</td>\n",
              "      <td>0.056166</td>\n",
              "    </tr>\n",
              "    <tr>\n",
              "      <th>min</th>\n",
              "      <td>1.605500e+05</td>\n",
              "      <td>0.000000</td>\n",
              "      <td>0.000000</td>\n",
              "      <td>19.000000</td>\n",
              "    </tr>\n",
              "    <tr>\n",
              "      <th>25%</th>\n",
              "      <td>2.992358e+07</td>\n",
              "      <td>4.000000</td>\n",
              "      <td>0.409000</td>\n",
              "      <td>19.000000</td>\n",
              "    </tr>\n",
              "    <tr>\n",
              "      <th>50%</th>\n",
              "      <td>3.736611e+07</td>\n",
              "      <td>5.000000</td>\n",
              "      <td>1.390000</td>\n",
              "      <td>19.000000</td>\n",
              "    </tr>\n",
              "    <tr>\n",
              "      <th>75%</th>\n",
              "      <td>6.137643e+07</td>\n",
              "      <td>7.000000</td>\n",
              "      <td>3.500000</td>\n",
              "      <td>19.000000</td>\n",
              "    </tr>\n",
              "    <tr>\n",
              "      <th>max</th>\n",
              "      <td>7.258339e+07</td>\n",
              "      <td>12026.000000</td>\n",
              "      <td>350.000000</td>\n",
              "      <td>22.000000</td>\n",
              "    </tr>\n",
              "  </tbody>\n",
              "</table>\n",
              "</div>"
            ],
            "text/plain": [
              "           Asset ID  Number of Sales  Last Sale Price (ETH)  Trait Count\n",
              "count  2.853000e+03      2853.000000            2853.000000  2853.000000\n",
              "mean   4.196159e+07        17.667718               4.384143    19.001052\n",
              "std    1.759545e+07       254.713629              13.603815     0.056166\n",
              "min    1.605500e+05         0.000000               0.000000    19.000000\n",
              "25%    2.992358e+07         4.000000               0.409000    19.000000\n",
              "50%    3.736611e+07         5.000000               1.390000    19.000000\n",
              "75%    6.137643e+07         7.000000               3.500000    19.000000\n",
              "max    7.258339e+07     12026.000000             350.000000    22.000000"
            ]
          },
          "metadata": {},
          "execution_count": 42
        }
      ]
    },
    {
      "cell_type": "code",
      "metadata": {
        "id": "bwfLaforiFNo"
      },
      "source": [
        "import seaborn as sns\n",
        "\n",
        "import pandas as pd\n",
        "\n",
        "import numpy as np\n",
        "\n",
        "import matplotlib.pyplot as plt\n",
        "\n",
        "%matplotlib inline\n",
        "\n",
        "import seaborn as sns\n",
        "\n",
        "from sklearn import linear_model"
      ],
      "execution_count": 43,
      "outputs": []
    },
    {
      "cell_type": "code",
      "metadata": {
        "colab": {
          "base_uri": "https://localhost:8080/"
        },
        "id": "x_3RofTcd_g0",
        "outputId": "e43cb91b-0bc0-4b2e-f160-e8beaa08db05"
      },
      "source": [
        "ml_data_df.shape"
      ],
      "execution_count": 44,
      "outputs": [
        {
          "output_type": "execute_result",
          "data": {
            "text/plain": [
              "(2853, 4)"
            ]
          },
          "metadata": {},
          "execution_count": 44
        }
      ]
    },
    {
      "cell_type": "code",
      "metadata": {
        "id": "ULXuinIqZJyZ"
      },
      "source": [
        "ml_data_df = ml_data_df[~ml_data_df.index.duplicated()]"
      ],
      "execution_count": 45,
      "outputs": []
    },
    {
      "cell_type": "code",
      "metadata": {
        "colab": {
          "base_uri": "https://localhost:8080/"
        },
        "id": "Mv5A80lmYOvQ",
        "outputId": "792cc9b8-2578-49a9-cef5-d5fdf1aeb46d"
      },
      "source": [
        "ml_data_df.columns"
      ],
      "execution_count": 46,
      "outputs": [
        {
          "output_type": "execute_result",
          "data": {
            "text/plain": [
              "Index(['Asset ID', 'Number of Sales', 'Last Sale Price (ETH)', 'Trait Count'], dtype='object')"
            ]
          },
          "metadata": {},
          "execution_count": 46
        }
      ]
    },
    {
      "cell_type": "code",
      "metadata": {
        "id": "8VkBJDxoaDHE"
      },
      "source": [
        "x = ml_data_df[['Number of Sales', 'Trait Count']]"
      ],
      "execution_count": 47,
      "outputs": []
    },
    {
      "cell_type": "code",
      "metadata": {
        "id": "_-yTohetaUC3"
      },
      "source": [
        "y = ml_data_df['Last Sale Price (ETH)']"
      ],
      "execution_count": 48,
      "outputs": []
    },
    {
      "cell_type": "code",
      "metadata": {
        "id": "ixe2m3ioaZC3"
      },
      "source": [
        "from sklearn.model_selection import train_test_split"
      ],
      "execution_count": 49,
      "outputs": []
    },
    {
      "cell_type": "code",
      "metadata": {
        "id": "muZXQxM2adCp"
      },
      "source": [
        "x_train, x_test, y_train, y_test = train_test_split(x, y, test_size = 0.3)"
      ],
      "execution_count": 50,
      "outputs": []
    },
    {
      "cell_type": "code",
      "metadata": {
        "id": "4UNG-2J2afB-"
      },
      "source": [
        "from sklearn.linear_model import LinearRegression"
      ],
      "execution_count": 51,
      "outputs": []
    },
    {
      "cell_type": "code",
      "metadata": {
        "id": "3bTk1ybDahCP"
      },
      "source": [
        "model = LinearRegression()"
      ],
      "execution_count": 52,
      "outputs": []
    },
    {
      "cell_type": "code",
      "metadata": {
        "colab": {
          "base_uri": "https://localhost:8080/"
        },
        "id": "DqJjzNavaibi",
        "outputId": "1ebd2fbe-564a-4d49-8c3f-8ca5183320ac"
      },
      "source": [
        "model.fit(x_train, y_train)"
      ],
      "execution_count": 53,
      "outputs": [
        {
          "output_type": "execute_result",
          "data": {
            "text/plain": [
              "LinearRegression(copy_X=True, fit_intercept=True, n_jobs=None, normalize=False)"
            ]
          },
          "metadata": {},
          "execution_count": 53
        }
      ]
    },
    {
      "cell_type": "code",
      "metadata": {
        "colab": {
          "base_uri": "https://localhost:8080/"
        },
        "id": "LgU_6ytnajwo",
        "outputId": "84222ecf-7b7f-43dc-e14c-3599b0f4ae8f"
      },
      "source": [
        "print(model.coef_)"
      ],
      "execution_count": 54,
      "outputs": [
        {
          "output_type": "stream",
          "name": "stdout",
          "text": [
            "[-0.05953865  0.        ]\n"
          ]
        }
      ]
    },
    {
      "cell_type": "code",
      "metadata": {
        "colab": {
          "base_uri": "https://localhost:8080/"
        },
        "id": "EBSM4m0-albs",
        "outputId": "96cfc030-72c1-4d90-cba6-f53dbb0bab76"
      },
      "source": [
        "print(model.intercept_)"
      ],
      "execution_count": 55,
      "outputs": [
        {
          "output_type": "stream",
          "name": "stdout",
          "text": [
            "3.1030495652173906\n"
          ]
        }
      ]
    },
    {
      "cell_type": "code",
      "metadata": {
        "colab": {
          "base_uri": "https://localhost:8080/",
          "height": 109
        },
        "id": "wSWRNWqSanis",
        "outputId": "a36a59d4-3372-498f-dbb1-4b580bb5e374"
      },
      "source": [
        "pd.DataFrame(model.coef_, x.columns, columns = ['Coeff'])"
      ],
      "execution_count": 56,
      "outputs": [
        {
          "output_type": "execute_result",
          "data": {
            "text/html": [
              "<div>\n",
              "<style scoped>\n",
              "    .dataframe tbody tr th:only-of-type {\n",
              "        vertical-align: middle;\n",
              "    }\n",
              "\n",
              "    .dataframe tbody tr th {\n",
              "        vertical-align: top;\n",
              "    }\n",
              "\n",
              "    .dataframe thead th {\n",
              "        text-align: right;\n",
              "    }\n",
              "</style>\n",
              "<table border=\"1\" class=\"dataframe\">\n",
              "  <thead>\n",
              "    <tr style=\"text-align: right;\">\n",
              "      <th></th>\n",
              "      <th>Coeff</th>\n",
              "    </tr>\n",
              "  </thead>\n",
              "  <tbody>\n",
              "    <tr>\n",
              "      <th>Number of Sales</th>\n",
              "      <td>-0.059539</td>\n",
              "    </tr>\n",
              "    <tr>\n",
              "      <th>Trait Count</th>\n",
              "      <td>0.000000</td>\n",
              "    </tr>\n",
              "  </tbody>\n",
              "</table>\n",
              "</div>"
            ],
            "text/plain": [
              "                    Coeff\n",
              "Number of Sales -0.059539\n",
              "Trait Count      0.000000"
            ]
          },
          "metadata": {},
          "execution_count": 56
        }
      ]
    },
    {
      "cell_type": "code",
      "metadata": {
        "id": "j5ZcH1Qfap6w"
      },
      "source": [
        "predictions = model.predict(x_test)"
      ],
      "execution_count": 57,
      "outputs": []
    },
    {
      "cell_type": "code",
      "metadata": {
        "colab": {
          "base_uri": "https://localhost:8080/",
          "height": 282
        },
        "id": "e8Zlu2Upau8_",
        "outputId": "83901f12-3afe-470f-9410-cdf526519f9e"
      },
      "source": [
        "plt.scatter(y_test, predictions)"
      ],
      "execution_count": 58,
      "outputs": [
        {
          "output_type": "execute_result",
          "data": {
            "text/plain": [
              "<matplotlib.collections.PathCollection at 0x7f370c06dc10>"
            ]
          },
          "metadata": {},
          "execution_count": 58
        },
        {
          "output_type": "display_data",
          "data": {
            "image/png": "[encoded data removed]",
            "text/plain": [
              "<Figure size 432x288 with 1 Axes>"
            ]
          },
          "metadata": {
            "needs_background": "light"
          }
        }
      ]
    },
    {
      "cell_type": "code",
      "metadata": {
        "colab": {
          "base_uri": "https://localhost:8080/",
          "height": 348
        },
        "id": "jZc8_fx6awln",
        "outputId": "3a08ef87-1080-4daf-ed75-448ca4a83932"
      },
      "source": [
        "plt.hist(y_test - predictions)"
      ],
      "execution_count": 59,
      "outputs": [
        {
          "output_type": "execute_result",
          "data": {
            "text/plain": [
              "(array([2., 9., 1., 1., 1., 0., 0., 0., 0., 1.]),\n",
              " array([-1.56627903, -0.89732517, -0.2283713 ,  0.44058256,  1.10953643,\n",
              "         1.77849029,  2.44744415,  3.11639802,  3.78535188,  4.45430575,\n",
              "         5.12325961]),\n",
              " <a list of 10 Patch objects>)"
            ]
          },
          "metadata": {},
          "execution_count": 59
        },
        {
          "output_type": "display_data",
          "data": {
            "image/png": "[encoded data removed]",
            "text/plain": [
              "<Figure size 432x288 with 1 Axes>"
            ]
          },
          "metadata": {
            "needs_background": "light"
          }
        }
      ]
    },
    {
      "cell_type": "code",
      "metadata": {
        "id": "yZ7PSHdxazfk"
      },
      "source": [
        "from sklearn import metrics"
      ],
      "execution_count": 60,
      "outputs": []
    },
    {
      "cell_type": "code",
      "metadata": {
        "colab": {
          "base_uri": "https://localhost:8080/"
        },
        "id": "_erHl1ANbJIH",
        "outputId": "26634b8e-4546-4eb5-adce-30ba2bcc27a4"
      },
      "source": [
        "metrics.mean_absolute_error(y_test, predictions)\n"
      ],
      "execution_count": 61,
      "outputs": [
        {
          "output_type": "execute_result",
          "data": {
            "text/plain": [
              "1.0916276392914654"
            ]
          },
          "metadata": {},
          "execution_count": 61
        }
      ]
    },
    {
      "cell_type": "code",
      "metadata": {
        "colab": {
          "base_uri": "https://localhost:8080/"
        },
        "id": "85nR8o00bKcT",
        "outputId": "946df45e-eb94-4699-e60d-42c8129f3dc2"
      },
      "source": [
        "metrics.mean_squared_error(y_test, predictions)"
      ],
      "execution_count": 62,
      "outputs": [
        {
          "output_type": "execute_result",
          "data": {
            "text/plain": [
              "2.5009334384694695"
            ]
          },
          "metadata": {},
          "execution_count": 62
        }
      ]
    },
    {
      "cell_type": "code",
      "metadata": {
        "colab": {
          "base_uri": "https://localhost:8080/"
        },
        "id": "5BFkLZILbLuN",
        "outputId": "01f37b6b-0c45-4524-dc6e-e9d2cf93a3a6"
      },
      "source": [
        "np.sqrt(metrics.mean_squared_error(y_test, predictions))"
      ],
      "execution_count": 63,
      "outputs": [
        {
          "output_type": "execute_result",
          "data": {
            "text/plain": [
              "1.5814339816980882"
            ]
          },
          "metadata": {},
          "execution_count": 63
        }
      ]
    },
    {
      "cell_type": "code",
      "metadata": {
        "id": "0-Tj0K42k-zy"
      },
      "source": [
        ""
      ],
      "execution_count": null,
      "outputs": []
    }
  ]
}