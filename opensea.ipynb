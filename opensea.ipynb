{
  "nbformat": 4,
  "nbformat_minor": 0,
  "metadata": {
    "colab": {
      "name": "opensea.ipynb",
      "provenance": [],
      "authorship_tag": "ABX9TyOg9fvgFZ+pCauJFN+ta+7d",
      "include_colab_link": true
    },
    "kernelspec": {
      "name": "python3",
      "display_name": "Python 3"
    },
    "language_info": {
      "name": "python"
    }
  },
  "cells": [
    {
      "cell_type": "markdown",
      "metadata": {
        "id": "view-in-github",
        "colab_type": "text"
      },
      "source": [
        "<a href=\"https://colab.research.google.com/github/RJGiannini/nft-project-group8/blob/main/opensea.ipynb\" target=\"_parent\"><img src=\"https://colab.research.google.com/assets/colab-badge.svg\" alt=\"Open In Colab\"/></a>"
      ]
    },
    {
      "cell_type": "code",
      "metadata": {
        "colab": {
          "base_uri": "https://localhost:8080/"
        },
        "id": "tm5LKCRHjGc5",
        "outputId": "f6c60447-f43f-4235-9efe-fd0c7ef5589e"
      },
      "source": [
        "pip install opensea"
      ],
      "execution_count": 37,
      "outputs": [
        {
          "output_type": "stream",
          "name": "stdout",
          "text": [
            "Requirement already satisfied: opensea in /usr/local/lib/python3.7/dist-packages (0.1.5)\n",
            "Requirement already satisfied: requests in /usr/local/lib/python3.7/dist-packages (from opensea) (2.23.0)\n",
            "Requirement already satisfied: urllib3!=1.25.0,!=1.25.1,<1.26,>=1.21.1 in /usr/local/lib/python3.7/dist-packages (from requests->opensea) (1.24.3)\n",
            "Requirement already satisfied: chardet<4,>=3.0.2 in /usr/local/lib/python3.7/dist-packages (from requests->opensea) (3.0.4)\n",
            "Requirement already satisfied: certifi>=2017.4.17 in /usr/local/lib/python3.7/dist-packages (from requests->opensea) (2021.5.30)\n",
            "Requirement already satisfied: idna<3,>=2.5 in /usr/local/lib/python3.7/dist-packages (from requests->opensea) (2.10)\n"
          ]
        }
      ]
    },
    {
      "cell_type": "code",
      "metadata": {
        "colab": {
          "base_uri": "https://localhost:8080/"
        },
        "id": "RYSd93HLjHFw",
        "outputId": "fbca3c97-dec7-48db-ea27-bda193d5256b"
      },
      "source": [
        "from opensea import get_assets\n",
        "\n",
        "# This will return a list of assets which you can iterate and get the needed data\n",
        "asset_list = get_assets(limit=50, verified_only=False)\n",
        "\n",
        "asset = asset_list[49] # Get the asset obejct from the list (API limits to 50)\n",
        "\n",
        "print(f\"Name: {asset.name} Token ID: {asset.token_id}\")\n",
        "print(f\"Asset Description: {asset.description}\")\n",
        "#print(f\"Token ID: {asset.token_id}\")\n",
        "print(f\"Asset URL: {asset.asset_url}\")\n",
        "print(f\"Asset Current Price: {asset.get_current_price}\")\n",
        "print(f\"Asset Average Price: {asset.get_average_price}\")\n",
        "\n",
        "print(\" \")\n",
        "\n",
        "print(f\"Collection Name: {asset.collection_name}\")\n",
        "print(f\"Collection Description: {asset.collection_description}\")\n",
        "print(f\"Collection Floor Price: {asset.get_floor_price()}\")\n",
        "\n",
        "\n",
        "#Attempted to reference (https://docs.opensea.io/reference/asset-object) but did not work.\n",
        "#print(f\"Image URL: {asset.image_url}\")\n",
        "#print(f\"Background Color: {asset.background_color}\")\n",
        "#print(f\"External Link: {asset.external_link}\")\n",
        "#print(f\"Asset Contract: {asset.asset_contract}\")\n",
        "#print(f\"Owner: {asset.owner}\")\n",
        "#print(f\"List of Traits: {asset.traits}\")\n",
        "#print(f\"Last Sale: {asset.last_sale}\")"
      ],
      "execution_count": 76,
      "outputs": [
        {
          "output_type": "stream",
          "name": "stdout",
          "text": [
            "Name: 💙Starter💙 Token ID: 37163\n",
            "Asset Description: Shalom! I'm 💙Starter💙. I'm often referred to as the Michael Scott of the group. When I'm not tricking babies, I'm braiding people's hair! Our friendship will be despicable, preposterous, and full of ice cream.\n",
            "Asset URL: https://opensea.io/assets/0x06012c8cf97bead5deae237070f9587f8e7a266d/37163\n",
            "Asset Current Price: <bound method Asset.get_current_price of <opensea.models.asset.Asset object at 0x7f1477e34210>>\n",
            "Asset Average Price: <bound method Asset.get_average_price of <opensea.models.asset.Asset object at 0x7f1477e34210>>\n",
            " \n",
            "Collection Name: CryptoKitties\n",
            "Collection Description: CryptoKitties is a game centered around breedable, collectible, and oh-so-adorable creatures we call CryptoKitties! Each cat is one-of-a-kind and 100% owned by you; it cannot be replicated, taken away, or destroyed.\n",
            "Collection Floor Price: 0.0\n"
          ]
        }
      ]
    },
    {
      "cell_type": "code",
      "metadata": {
        "id": "gqhDjw8PyLKd"
      },
      "source": [
        ""
      ],
      "execution_count": null,
      "outputs": []
    }
  ]
}