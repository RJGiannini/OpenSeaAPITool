{
  "nbformat": 4,
  "nbformat_minor": 0,
  "metadata": {
    "colab": {
      "name": "collection_data10/13.ipynb",
      "provenance": [],
      "collapsed_sections": [],
      "authorship_tag": "ABX9TyPn7zOoIfx2QBqd9CzqVm5F",
      "include_colab_link": true
    },
    "kernelspec": {
      "name": "python3",
      "display_name": "Python 3"
    },
    "language_info": {
      "name": "python"
    }
  },
  "cells": [
    {
      "cell_type": "markdown",
      "metadata": {
        "id": "view-in-github",
        "colab_type": "text"
      },
      "source": [
        "<a href=\"https://colab.research.google.com/github/RJGiannini/nft-project-group8/blob/main/collection_data10_13.ipynb\" target=\"_parent\"><img src=\"https://colab.research.google.com/assets/colab-badge.svg\" alt=\"Open In Colab\"/></a>"
      ]
    },
    {
      "cell_type": "code",
      "metadata": {
        "id": "-FIgqUXWJE_X"
      },
      "source": [
        "import numpy as np\n",
        "import pandas as pd\n",
        "import requests\n",
        "import json\n",
        "from pprint import pprint"
      ],
      "execution_count": 3,
      "outputs": []
    },
    {
      "cell_type": "code",
      "metadata": {
        "colab": {
          "resources": {
            "http://localhost:8080/nbextensions/google.colab/files.js": {
              "data": "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",
              "ok": true,
              "headers": [
                [
                  "content-type",
                  "application/javascript"
                ]
              ],
              "status": 200,
              "status_text": ""
            }
          },
          "base_uri": "https://localhost:8080/",
          "height": 72
        },
        "id": "UTcVOeChKMTF",
        "outputId": "0c7df84d-a5c9-4460-9670-c98c615465cf"
      },
      "source": [
        "# Upload collections_list.xlsx to Colab\n",
        "from google.colab import files\n",
        "\n",
        "csv_file = files.upload()"
      ],
      "execution_count": 4,
      "outputs": [
        {
          "output_type": "display_data",
          "data": {
            "text/html": [
              "\n",
              "     <input type=\"file\" id=\"files-c99faa1f-fc2b-490c-ae3b-55b2e8556c57\" name=\"files[]\" multiple disabled\n",
              "        style=\"border:none\" />\n",
              "     <output id=\"result-c99faa1f-fc2b-490c-ae3b-55b2e8556c57\">\n",
              "      Upload widget is only available when the cell has been executed in the\n",
              "      current browser session. Please rerun this cell to enable.\n",
              "      </output>\n",
              "      <script src=\"/nbextensions/google.colab/files.js\"></script> "
            ],
            "text/plain": [
              "<IPython.core.display.HTML object>"
            ]
          },
          "metadata": {}
        },
        {
          "output_type": "stream",
          "name": "stdout",
          "text": [
            "Saving collections_list.xlsx to collections_list.xlsx\n"
          ]
        }
      ]
    },
    {
      "cell_type": "code",
      "metadata": {
        "id": "Wl5ipMs_JJxk"
      },
      "source": [
        "# Read the collections_list.xlsx file from the Resources folder into a Pandas DataFrame\n",
        "collections_df = pd.read_excel(\"collections_list.xlsx\")\n",
        "\n",
        "# Review the DataFrame\n",
        "#collections_df"
      ],
      "execution_count": 5,
      "outputs": []
    },
    {
      "cell_type": "code",
      "metadata": {
        "id": "A2NBNc5XJMRQ"
      },
      "source": [
        "#collection_list\n",
        "collection_list = [x for x in collections_df['Name']]"
      ],
      "execution_count": 6,
      "outputs": []
    },
    {
      "cell_type": "code",
      "metadata": {
        "id": "1RWMkDpOLGtq"
      },
      "source": [
        "#collection_list_two\n",
        "collection_list_two = []\n",
        "for i in collection_list:\n",
        "  collection_list_two.append(i.replace(\" \", \"-\"))"
      ],
      "execution_count": 7,
      "outputs": []
    },
    {
      "cell_type": "code",
      "metadata": {
        "id": "vEmlU5bbLOcb"
      },
      "source": [
        "#collection_list_three\n",
        "collection_list_three = []\n",
        "for i in collection_list_two:\n",
        "  collection_list_three.append(i.lower())"
      ],
      "execution_count": 8,
      "outputs": []
    },
    {
      "cell_type": "code",
      "metadata": {
        "id": "ElwNxft1LSwl"
      },
      "source": [
        "df = pd.DataFrame()\n",
        "for collection in collection_list_three:\n",
        "  \n",
        "  url = \"https://api.opensea.io/api/v1/assets?order_by=sale_count&order_direction=desc&offset=0&limit=50&collection=\" + collection\n",
        "\n",
        "  JSONContent = requests.get(url).json()\n",
        "\n",
        "  content = json.dumps(JSONContent, indent = 2, sort_keys=True)\n",
        "\n",
        "  JSONContent.keys()\n",
        "\n",
        "  df = df.append(JSONContent[\"assets\"])"
      ],
      "execution_count": 9,
      "outputs": []
    },
    {
      "cell_type": "code",
      "metadata": {
        "id": "nDF4mz8VKgxk"
      },
      "source": [
        "#df"
      ],
      "execution_count": 10,
      "outputs": []
    },
    {
      "cell_type": "code",
      "metadata": {
        "id": "5yM_sqtaRS8O"
      },
      "source": [
        "collection_df = df['collection'].apply(pd.Series)\n",
        "#collection_df"
      ],
      "execution_count": 11,
      "outputs": []
    },
    {
      "cell_type": "code",
      "metadata": {
        "id": "cx4gloR0RjDt"
      },
      "source": [
        "#Collection Name\n",
        "collection_name = collection_df[\"name\"].apply(pd.Series)\n",
        "collection_name.columns = ['Collection Name']\n",
        "#collection_name"
      ],
      "execution_count": 12,
      "outputs": []
    },
    {
      "cell_type": "code",
      "metadata": {
        "id": "4Fhut8skPKIp"
      },
      "source": [
        "last_sale_df = df['last_sale'].apply(pd.Series)\n",
        "#last_sale_df"
      ],
      "execution_count": 13,
      "outputs": []
    },
    {
      "cell_type": "code",
      "metadata": {
        "id": "71UatdS-QZPb"
      },
      "source": [
        "#Last Sale Price in ETH\n",
        "total_price = last_sale_df['total_price'].apply(pd.Series)\n",
        "total_price.columns = ['Last Sale Price ETH']\n",
        "total_price = total_price.astype(float)* 0.000000000000000001\n",
        "total_price = total_price.fillna(0)\n",
        "#total_price"
      ],
      "execution_count": 14,
      "outputs": []
    },
    {
      "cell_type": "code",
      "metadata": {
        "id": "OOKSgigoSB3Y"
      },
      "source": [
        "#payment_token_df = last_sale_df['payment_token'].apply(pd.Series)\n",
        "#payment_token_df"
      ],
      "execution_count": 15,
      "outputs": []
    },
    {
      "cell_type": "code",
      "metadata": {
        "id": "GCPIUXniSt69"
      },
      "source": [
        "#Current ETH TO USD price\n",
        "#usd_price = payment_token_df['usd_price'].apply(pd.Series)\n",
        "#usd_price.columns = ['ETH TO USD']\n",
        "#usd_price = usd_price.astype(float)"
      ],
      "execution_count": 16,
      "outputs": []
    },
    {
      "cell_type": "code",
      "metadata": {
        "id": "vtDiSygJa-1r"
      },
      "source": [
        "background_color = df['background_color']\n",
        "#background_color"
      ],
      "execution_count": 17,
      "outputs": []
    },
    {
      "cell_type": "code",
      "metadata": {
        "id": "QiReHE-xVpOb",
        "colab": {
          "base_uri": "https://localhost:8080/",
          "height": 1000
        },
        "outputId": "450d6e25-568b-4ce0-a032-37f075c9948f"
      },
      "source": [
        "#Creates New Columns and Lists Asset Traits\n",
        "traits = df['traits'].apply(pd.Series)\n",
        "traits.columns = ['Trait1', 'Trait2', 'Trait3', 'Trait4',\n",
        "                  'Trait5', 'Trait6', 'Trait7', 'Trait8',\n",
        "                  'Trait9', 'Trait10', 'Trait11', 'Trait12',\n",
        "                  'Trait13', 'Trait14', 'Trait15', 'Trait16',\n",
        "                  'Trait17', 'Trait18', 'Trait19']\n",
        "\n",
        "traits"
      ],
      "execution_count": 173,
      "outputs": [
        {
          "output_type": "execute_result",
          "data": {
            "text/html": [
              "<div>\n",
              "<style scoped>\n",
              "    .dataframe tbody tr th:only-of-type {\n",
              "        vertical-align: middle;\n",
              "    }\n",
              "\n",
              "    .dataframe tbody tr th {\n",
              "        vertical-align: top;\n",
              "    }\n",
              "\n",
              "    .dataframe thead th {\n",
              "        text-align: right;\n",
              "    }\n",
              "</style>\n",
              "<table border=\"1\" class=\"dataframe\">\n",
              "  <thead>\n",
              "    <tr style=\"text-align: right;\">\n",
              "      <th></th>\n",
              "      <th>Trait1</th>\n",
              "      <th>Trait2</th>\n",
              "      <th>Trait3</th>\n",
              "      <th>Trait4</th>\n",
              "      <th>Trait5</th>\n",
              "      <th>Trait6</th>\n",
              "      <th>Trait7</th>\n",
              "      <th>Trait8</th>\n",
              "      <th>Trait9</th>\n",
              "      <th>Trait10</th>\n",
              "      <th>Trait11</th>\n",
              "      <th>Trait12</th>\n",
              "      <th>Trait13</th>\n",
              "      <th>Trait14</th>\n",
              "      <th>Trait15</th>\n",
              "      <th>Trait16</th>\n",
              "      <th>Trait17</th>\n",
              "      <th>Trait18</th>\n",
              "      <th>Trait19</th>\n",
              "    </tr>\n",
              "  </thead>\n",
              "  <tbody>\n",
              "    <tr>\n",
              "      <th>0</th>\n",
              "      <td>{'trait_type': 'Strength', 'value': 3, 'displa...</td>\n",
              "      <td>{'trait_type': 'Spirit', 'value': 1, 'display_...</td>\n",
              "      <td>{'trait_type': 'Background', 'value': 'Citrine...</td>\n",
              "      <td>{'trait_type': 'Eyes', 'value': 'Open (Citrine...</td>\n",
              "      <td>{'trait_type': 'Style', 'value': 3, 'display_t...</td>\n",
              "      <td>{'trait_type': 'Mouth', 'value': 'Neutral', 'd...</td>\n",
              "      <td>{'trait_type': 'Head', 'value': 'Headphones (P...</td>\n",
              "      <td>{'trait_type': 'Hair', 'value': 'Bob (Rose)', ...</td>\n",
              "      <td>{'trait_type': 'Type', 'value': 'Y0K-A1', 'dis...</td>\n",
              "      <td>{'trait_type': 'Wear', 'value': 'Thermal Hoodi...</td>\n",
              "      <td>{'trait_type': 'Body', 'value': 'Jasper', 'dis...</td>\n",
              "      <td>{'trait_type': 'Extra', 'value': 'Void', 'disp...</td>\n",
              "      <td>{'trait_type': 'Face', 'value': 'Glasses (Obsi...</td>\n",
              "      <td>NaN</td>\n",
              "      <td>NaN</td>\n",
              "      <td>NaN</td>\n",
              "      <td>NaN</td>\n",
              "      <td>NaN</td>\n",
              "      <td>NaN</td>\n",
              "    </tr>\n",
              "    <tr>\n",
              "      <th>1</th>\n",
              "      <td>{'trait_type': 'Eyes', 'value': 'Half Open (Az...</td>\n",
              "      <td>{'trait_type': 'Spirit', 'value': 2, 'display_...</td>\n",
              "      <td>{'trait_type': 'Style', 'value': 3, 'display_t...</td>\n",
              "      <td>{'trait_type': 'Strength', 'value': 5, 'displa...</td>\n",
              "      <td>{'trait_type': 'Body', 'value': 'Azurite', 'di...</td>\n",
              "      <td>{'trait_type': 'Face', 'value': 'Bandaid', 'di...</td>\n",
              "      <td>{'trait_type': 'Head', 'value': 'Void', 'displ...</td>\n",
              "      <td>{'trait_type': 'Wear', 'value': 'Bomber Jacket...</td>\n",
              "      <td>{'trait_type': 'Type', 'value': 'Y0K-A1', 'dis...</td>\n",
              "      <td>{'trait_type': 'Background', 'value': 'Azurite...</td>\n",
              "      <td>{'trait_type': 'Extra', 'value': 'Void', 'disp...</td>\n",
              "      <td>{'trait_type': 'Mouth', 'value': 'Smirk', 'dis...</td>\n",
              "      <td>{'trait_type': 'Hair', 'value': 'Spiky (Obsidi...</td>\n",
              "      <td>NaN</td>\n",
              "      <td>NaN</td>\n",
              "      <td>NaN</td>\n",
              "      <td>NaN</td>\n",
              "      <td>NaN</td>\n",
              "      <td>NaN</td>\n",
              "    </tr>\n",
              "    <tr>\n",
              "      <th>2</th>\n",
              "      <td>{'trait_type': 'Extra', 'value': '0N1 Logo Pin...</td>\n",
              "      <td>{'trait_type': 'Wear', 'value': 'Kimono (Rose)...</td>\n",
              "      <td>{'trait_type': 'Background', 'value': 'Citrine...</td>\n",
              "      <td>{'trait_type': 'Head', 'value': 'Headphones (T...</td>\n",
              "      <td>{'trait_type': 'Style', 'value': 3, 'display_t...</td>\n",
              "      <td>{'trait_type': 'Eyes', 'value': 'Half Open (Ci...</td>\n",
              "      <td>{'trait_type': 'Body', 'value': 'Azurite', 'di...</td>\n",
              "      <td>{'trait_type': 'Mouth', 'value': 'Neutral', 'd...</td>\n",
              "      <td>{'trait_type': 'Face', 'value': 'Nose Scar', '...</td>\n",
              "      <td>{'trait_type': 'Hair', 'value': 'Bob (Obsidian...</td>\n",
              "      <td>{'trait_type': 'Spirit', 'value': 4, 'display_...</td>\n",
              "      <td>{'trait_type': 'Type', 'value': 'Y0K-A1', 'dis...</td>\n",
              "      <td>{'trait_type': 'Strength', 'value': 1, 'displa...</td>\n",
              "      <td>NaN</td>\n",
              "      <td>NaN</td>\n",
              "      <td>NaN</td>\n",
              "      <td>NaN</td>\n",
              "      <td>NaN</td>\n",
              "      <td>NaN</td>\n",
              "    </tr>\n",
              "    <tr>\n",
              "      <th>3</th>\n",
              "      <td>{'trait_type': 'Extra', 'value': '0N1 Logo Pin...</td>\n",
              "      <td>{'trait_type': 'Hair', 'value': 'Spiky (Citrin...</td>\n",
              "      <td>{'trait_type': 'Face', 'value': 'PR Mask (Jasp...</td>\n",
              "      <td>{'trait_type': 'Style', 'value': 5, 'display_t...</td>\n",
              "      <td>{'trait_type': 'Body', 'value': 'Azurite', 'di...</td>\n",
              "      <td>{'trait_type': 'Mouth', 'value': 'Neutral', 'd...</td>\n",
              "      <td>{'trait_type': 'Spirit', 'value': 4, 'display_...</td>\n",
              "      <td>{'trait_type': 'Head', 'value': 'Headphones (P...</td>\n",
              "      <td>{'trait_type': 'Strength', 'value': 4, 'displa...</td>\n",
              "      <td>{'trait_type': 'Type', 'value': 'Y0K-A1', 'dis...</td>\n",
              "      <td>{'trait_type': 'Background', 'value': 'Azurite...</td>\n",
              "      <td>{'trait_type': 'Wear', 'value': 'Thermal Hoodi...</td>\n",
              "      <td>{'trait_type': 'Eyes', 'value': 'Squint (Azuri...</td>\n",
              "      <td>NaN</td>\n",
              "      <td>NaN</td>\n",
              "      <td>NaN</td>\n",
              "      <td>NaN</td>\n",
              "      <td>NaN</td>\n",
              "      <td>NaN</td>\n",
              "    </tr>\n",
              "    <tr>\n",
              "      <th>4</th>\n",
              "      <td>{'trait_type': 'Face', 'value': 'Void', 'displ...</td>\n",
              "      <td>{'trait_type': 'Style', 'value': 4, 'display_t...</td>\n",
              "      <td>{'trait_type': 'Mouth', 'value': 'Frown', 'dis...</td>\n",
              "      <td>{'trait_type': 'Head', 'value': 'Headphones (T...</td>\n",
              "      <td>{'trait_type': 'Extra', 'value': '0N1 Logo Pin...</td>\n",
              "      <td>{'trait_type': 'Hair', 'value': 'Ponytail (Obs...</td>\n",
              "      <td>{'trait_type': 'Spirit', 'value': 4, 'display_...</td>\n",
              "      <td>{'trait_type': 'Strength', 'value': 4, 'displa...</td>\n",
              "      <td>{'trait_type': 'Eyes', 'value': 'Half Open (Ja...</td>\n",
              "      <td>{'trait_type': 'Type', 'value': 'Y0K-A1', 'dis...</td>\n",
              "      <td>{'trait_type': 'Body', 'value': 'Jasper', 'dis...</td>\n",
              "      <td>{'trait_type': 'Background', 'value': 'Jasper'...</td>\n",
              "      <td>{'trait_type': 'Wear', 'value': 'Track Jacket ...</td>\n",
              "      <td>NaN</td>\n",
              "      <td>NaN</td>\n",
              "      <td>NaN</td>\n",
              "      <td>NaN</td>\n",
              "      <td>NaN</td>\n",
              "      <td>NaN</td>\n",
              "    </tr>\n",
              "    <tr>\n",
              "      <th>...</th>\n",
              "      <td>...</td>\n",
              "      <td>...</td>\n",
              "      <td>...</td>\n",
              "      <td>...</td>\n",
              "      <td>...</td>\n",
              "      <td>...</td>\n",
              "      <td>...</td>\n",
              "      <td>...</td>\n",
              "      <td>...</td>\n",
              "      <td>...</td>\n",
              "      <td>...</td>\n",
              "      <td>...</td>\n",
              "      <td>...</td>\n",
              "      <td>...</td>\n",
              "      <td>...</td>\n",
              "      <td>...</td>\n",
              "      <td>...</td>\n",
              "      <td>...</td>\n",
              "      <td>...</td>\n",
              "    </tr>\n",
              "    <tr>\n",
              "      <th>46</th>\n",
              "      <td>{'trait_type': 'breed_type', 'value': 'genesis...</td>\n",
              "      <td>{'trait_type': 'gender', 'value': 'Female', 'd...</td>\n",
              "      <td>{'trait_type': 'bloodline', 'value': 'Szabo', ...</td>\n",
              "      <td>{'trait_type': 'coat_color', 'value': 'Bleu De...</td>\n",
              "      <td>{'trait_type': 'genotype', 'value': 'Z4', 'dis...</td>\n",
              "      <td>{'trait_type': 'horse_type', 'value': 'Mare', ...</td>\n",
              "      <td>NaN</td>\n",
              "      <td>NaN</td>\n",
              "      <td>NaN</td>\n",
              "      <td>NaN</td>\n",
              "      <td>NaN</td>\n",
              "      <td>NaN</td>\n",
              "      <td>NaN</td>\n",
              "      <td>NaN</td>\n",
              "      <td>NaN</td>\n",
              "      <td>NaN</td>\n",
              "      <td>NaN</td>\n",
              "      <td>NaN</td>\n",
              "      <td>NaN</td>\n",
              "    </tr>\n",
              "    <tr>\n",
              "      <th>47</th>\n",
              "      <td>{'trait_type': 'gender', 'value': 'Female', 'd...</td>\n",
              "      <td>{'trait_type': 'bloodline', 'value': 'Szabo', ...</td>\n",
              "      <td>{'trait_type': 'coat_color', 'value': 'Chrome ...</td>\n",
              "      <td>{'trait_type': 'genotype', 'value': 'Z4', 'dis...</td>\n",
              "      <td>{'trait_type': 'horse_type', 'value': 'Mare', ...</td>\n",
              "      <td>{'trait_type': 'breed_type', 'value': 'genesis...</td>\n",
              "      <td>NaN</td>\n",
              "      <td>NaN</td>\n",
              "      <td>NaN</td>\n",
              "      <td>NaN</td>\n",
              "      <td>NaN</td>\n",
              "      <td>NaN</td>\n",
              "      <td>NaN</td>\n",
              "      <td>NaN</td>\n",
              "      <td>NaN</td>\n",
              "      <td>NaN</td>\n",
              "      <td>NaN</td>\n",
              "      <td>NaN</td>\n",
              "      <td>NaN</td>\n",
              "    </tr>\n",
              "    <tr>\n",
              "      <th>48</th>\n",
              "      <td>{'trait_type': 'coat_color', 'value': 'Thistle...</td>\n",
              "      <td>{'trait_type': 'gender', 'value': 'Female', 'd...</td>\n",
              "      <td>{'trait_type': 'bloodline', 'value': 'Szabo', ...</td>\n",
              "      <td>{'trait_type': 'genotype', 'value': 'Z3', 'dis...</td>\n",
              "      <td>{'trait_type': 'horse_type', 'value': 'Mare', ...</td>\n",
              "      <td>{'trait_type': 'breed_type', 'value': 'genesis...</td>\n",
              "      <td>NaN</td>\n",
              "      <td>NaN</td>\n",
              "      <td>NaN</td>\n",
              "      <td>NaN</td>\n",
              "      <td>NaN</td>\n",
              "      <td>NaN</td>\n",
              "      <td>NaN</td>\n",
              "      <td>NaN</td>\n",
              "      <td>NaN</td>\n",
              "      <td>NaN</td>\n",
              "      <td>NaN</td>\n",
              "      <td>NaN</td>\n",
              "      <td>NaN</td>\n",
              "    </tr>\n",
              "    <tr>\n",
              "      <th>49</th>\n",
              "      <td>{'trait_type': 'bloodline', 'value': 'Nakamoto...</td>\n",
              "      <td>{'trait_type': 'gender', 'value': 'Female', 'd...</td>\n",
              "      <td>{'trait_type': 'coat_color', 'value': 'Taupe',...</td>\n",
              "      <td>{'trait_type': 'genotype', 'value': 'Z3', 'dis...</td>\n",
              "      <td>{'trait_type': 'horse_type', 'value': 'Mare', ...</td>\n",
              "      <td>{'trait_type': 'breed_type', 'value': 'exclusi...</td>\n",
              "      <td>NaN</td>\n",
              "      <td>NaN</td>\n",
              "      <td>NaN</td>\n",
              "      <td>NaN</td>\n",
              "      <td>NaN</td>\n",
              "      <td>NaN</td>\n",
              "      <td>NaN</td>\n",
              "      <td>NaN</td>\n",
              "      <td>NaN</td>\n",
              "      <td>NaN</td>\n",
              "      <td>NaN</td>\n",
              "      <td>NaN</td>\n",
              "      <td>NaN</td>\n",
              "    </tr>\n",
              "    <tr>\n",
              "      <th>0</th>\n",
              "      <td>{'trait_type': 'background', 'value': 'Ocean',...</td>\n",
              "      <td>{'trait_type': 'body', 'value': 'Red', 'displa...</td>\n",
              "      <td>{'trait_type': 'brain', 'value': 'mushedbrain'...</td>\n",
              "      <td>{'trait_type': 'eyes', 'value': 'sidelook', 'd...</td>\n",
              "      <td>{'trait_type': 'lips', 'value': 'darksmile', '...</td>\n",
              "      <td>{'trait_type': 'blood', 'value': 'HalfBlood', ...</td>\n",
              "      <td>NaN</td>\n",
              "      <td>NaN</td>\n",
              "      <td>NaN</td>\n",
              "      <td>NaN</td>\n",
              "      <td>NaN</td>\n",
              "      <td>NaN</td>\n",
              "      <td>NaN</td>\n",
              "      <td>NaN</td>\n",
              "      <td>NaN</td>\n",
              "      <td>NaN</td>\n",
              "      <td>NaN</td>\n",
              "      <td>NaN</td>\n",
              "      <td>NaN</td>\n",
              "    </tr>\n",
              "  </tbody>\n",
              "</table>\n",
              "<p>2865 rows × 19 columns</p>\n",
              "</div>"
            ],
            "text/plain": [
              "                                               Trait1  ... Trait19\n",
              "0   {'trait_type': 'Strength', 'value': 3, 'displa...  ...     NaN\n",
              "1   {'trait_type': 'Eyes', 'value': 'Half Open (Az...  ...     NaN\n",
              "2   {'trait_type': 'Extra', 'value': '0N1 Logo Pin...  ...     NaN\n",
              "3   {'trait_type': 'Extra', 'value': '0N1 Logo Pin...  ...     NaN\n",
              "4   {'trait_type': 'Face', 'value': 'Void', 'displ...  ...     NaN\n",
              "..                                                ...  ...     ...\n",
              "46  {'trait_type': 'breed_type', 'value': 'genesis...  ...     NaN\n",
              "47  {'trait_type': 'gender', 'value': 'Female', 'd...  ...     NaN\n",
              "48  {'trait_type': 'coat_color', 'value': 'Thistle...  ...     NaN\n",
              "49  {'trait_type': 'bloodline', 'value': 'Nakamoto...  ...     NaN\n",
              "0   {'trait_type': 'background', 'value': 'Ocean',...  ...     NaN\n",
              "\n",
              "[2865 rows x 19 columns]"
            ]
          },
          "metadata": {},
          "execution_count": 173
        }
      ]
    },
    {
      "cell_type": "code",
      "metadata": {
        "id": "eWQ0HOQXR3rB"
      },
      "source": [
        "#Replaces NaN values with 0 and Trait Values with 1\n",
        "traits[['Trait1', 'Trait2', 'Trait3', 'Trait4',\n",
        "                  'Trait5', 'Trait6', 'Trait7', 'Trait8',\n",
        "                  'Trait9', 'Trait10', 'Trait11', 'Trait12',\n",
        "                  'Trait13', 'Trait14', 'Trait15', 'Trait16',\n",
        "                  'Trait17', 'Trait18', 'Trait19']] = traits[['Trait1', 'Trait2', 'Trait3', 'Trait4',\n",
        "                  'Trait5', 'Trait6', 'Trait7', 'Trait8',\n",
        "                  'Trait9', 'Trait10', 'Trait11', 'Trait12',\n",
        "                  'Trait13', 'Trait14', 'Trait15', 'Trait16',\n",
        "                  'Trait17', 'Trait18', 'Trait19']].applymap(lambda x: 0 if pd.isnull(x) else 1)"
      ],
      "execution_count": 19,
      "outputs": []
    },
    {
      "cell_type": "code",
      "metadata": {
        "id": "EEfI0rTHUe7M"
      },
      "source": [
        "#Calculates Sum of traits\n",
        "total_traits = traits.apply(lambda row: row.Trait1 + row.Trait2 + row.Trait3\n",
        "                            + row.Trait4 +row.Trait5 + row.Trait6 + row.Trait7\n",
        "                            + row.Trait8 + row.Trait9 + row.Trait10 + row.Trait11 \n",
        "                            + row.Trait12 + row.Trait13 + row.Trait14 + row.Trait15 \n",
        "                            + row.Trait16 + row.Trait17 + row.Trait18 + row.Trait19 \n",
        "                            , axis = 1)"
      ],
      "execution_count": 20,
      "outputs": []
    },
    {
      "cell_type": "code",
      "metadata": {
        "id": "4JM8pJ9HTBhE"
      },
      "source": [
        "collection_data_df = df[['name', 'token_id', 'num_sales', 'background_color',]].copy()"
      ],
      "execution_count": 21,
      "outputs": []
    },
    {
      "cell_type": "code",
      "metadata": {
        "id": "mG9jzHpPTmJ5"
      },
      "source": [
        "collection_data_df = pd.concat([collection_data_df, collection_name, total_price, total_traits], axis = 1)\n",
        "collection_data_df.columns = ['Asset Name', 'Token ID', 'Number of Sales', 'Background Color', 'Collection Name', 'Last Sale Price (ETH)', 'Trait Count']"
      ],
      "execution_count": 22,
      "outputs": []
    },
    {
      "cell_type": "code",
      "metadata": {
        "colab": {
          "base_uri": "https://localhost:8080/",
          "height": 419
        },
        "id": "j9-D6-0Zvfg2",
        "outputId": "18114d7f-298d-456c-b014-10fc0a94fab6"
      },
      "source": [
        "collection_data_df"
      ],
      "execution_count": 23,
      "outputs": [
        {
          "output_type": "execute_result",
          "data": {
            "text/html": [
              "<div>\n",
              "<style scoped>\n",
              "    .dataframe tbody tr th:only-of-type {\n",
              "        vertical-align: middle;\n",
              "    }\n",
              "\n",
              "    .dataframe tbody tr th {\n",
              "        vertical-align: top;\n",
              "    }\n",
              "\n",
              "    .dataframe thead th {\n",
              "        text-align: right;\n",
              "    }\n",
              "</style>\n",
              "<table border=\"1\" class=\"dataframe\">\n",
              "  <thead>\n",
              "    <tr style=\"text-align: right;\">\n",
              "      <th></th>\n",
              "      <th>Asset Name</th>\n",
              "      <th>Token ID</th>\n",
              "      <th>Number of Sales</th>\n",
              "      <th>Background Color</th>\n",
              "      <th>Collection Name</th>\n",
              "      <th>Last Sale Price (ETH)</th>\n",
              "      <th>Trait Count</th>\n",
              "    </tr>\n",
              "  </thead>\n",
              "  <tbody>\n",
              "    <tr>\n",
              "      <th>0</th>\n",
              "      <td>0N1 #6911</td>\n",
              "      <td>6911</td>\n",
              "      <td>13</td>\n",
              "      <td>None</td>\n",
              "      <td>0N1 Force</td>\n",
              "      <td>1.740</td>\n",
              "      <td>13</td>\n",
              "    </tr>\n",
              "    <tr>\n",
              "      <th>1</th>\n",
              "      <td>0N1 #3338</td>\n",
              "      <td>3338</td>\n",
              "      <td>11</td>\n",
              "      <td>None</td>\n",
              "      <td>0N1 Force</td>\n",
              "      <td>2.750</td>\n",
              "      <td>13</td>\n",
              "    </tr>\n",
              "    <tr>\n",
              "      <th>2</th>\n",
              "      <td>0N1 #1601</td>\n",
              "      <td>1601</td>\n",
              "      <td>10</td>\n",
              "      <td>None</td>\n",
              "      <td>0N1 Force</td>\n",
              "      <td>2.250</td>\n",
              "      <td>13</td>\n",
              "    </tr>\n",
              "    <tr>\n",
              "      <th>3</th>\n",
              "      <td>0N1 #2181</td>\n",
              "      <td>2181</td>\n",
              "      <td>10</td>\n",
              "      <td>None</td>\n",
              "      <td>0N1 Force</td>\n",
              "      <td>2.200</td>\n",
              "      <td>13</td>\n",
              "    </tr>\n",
              "    <tr>\n",
              "      <th>4</th>\n",
              "      <td>0N1 #7012</td>\n",
              "      <td>7012</td>\n",
              "      <td>9</td>\n",
              "      <td>None</td>\n",
              "      <td>0N1 Force</td>\n",
              "      <td>3.450</td>\n",
              "      <td>13</td>\n",
              "    </tr>\n",
              "    <tr>\n",
              "      <th>...</th>\n",
              "      <td>...</td>\n",
              "      <td>...</td>\n",
              "      <td>...</td>\n",
              "      <td>...</td>\n",
              "      <td>...</td>\n",
              "      <td>...</td>\n",
              "      <td>...</td>\n",
              "    </tr>\n",
              "    <tr>\n",
              "      <th>46</th>\n",
              "      <td>Miss Thought</td>\n",
              "      <td>1910</td>\n",
              "      <td>3</td>\n",
              "      <td>None</td>\n",
              "      <td>Zed Run</td>\n",
              "      <td>1.000</td>\n",
              "      <td>6</td>\n",
              "    </tr>\n",
              "    <tr>\n",
              "      <th>47</th>\n",
              "      <td>Sussex Muster</td>\n",
              "      <td>1886</td>\n",
              "      <td>3</td>\n",
              "      <td>None</td>\n",
              "      <td>Zed Run</td>\n",
              "      <td>0.333</td>\n",
              "      <td>6</td>\n",
              "    </tr>\n",
              "    <tr>\n",
              "      <th>48</th>\n",
              "      <td>Pyro Hero</td>\n",
              "      <td>1394</td>\n",
              "      <td>3</td>\n",
              "      <td>None</td>\n",
              "      <td>Zed Run</td>\n",
              "      <td>0.450</td>\n",
              "      <td>6</td>\n",
              "    </tr>\n",
              "    <tr>\n",
              "      <th>49</th>\n",
              "      <td>Tornado</td>\n",
              "      <td>5256</td>\n",
              "      <td>3</td>\n",
              "      <td>None</td>\n",
              "      <td>Zed Run</td>\n",
              "      <td>0.190</td>\n",
              "      <td>6</td>\n",
              "    </tr>\n",
              "    <tr>\n",
              "      <th>0</th>\n",
              "      <td>#4</td>\n",
              "      <td>4</td>\n",
              "      <td>1</td>\n",
              "      <td>None</td>\n",
              "      <td>ZombieToadz</td>\n",
              "      <td>0.070</td>\n",
              "      <td>6</td>\n",
              "    </tr>\n",
              "  </tbody>\n",
              "</table>\n",
              "<p>2865 rows × 7 columns</p>\n",
              "</div>"
            ],
            "text/plain": [
              "       Asset Name Token ID  ...  Last Sale Price (ETH) Trait Count\n",
              "0       0N1 #6911     6911  ...                  1.740          13\n",
              "1       0N1 #3338     3338  ...                  2.750          13\n",
              "2       0N1 #1601     1601  ...                  2.250          13\n",
              "3       0N1 #2181     2181  ...                  2.200          13\n",
              "4       0N1 #7012     7012  ...                  3.450          13\n",
              "..            ...      ...  ...                    ...         ...\n",
              "46   Miss Thought     1910  ...                  1.000           6\n",
              "47  Sussex Muster     1886  ...                  0.333           6\n",
              "48      Pyro Hero     1394  ...                  0.450           6\n",
              "49        Tornado     5256  ...                  0.190           6\n",
              "0              #4        4  ...                  0.070           6\n",
              "\n",
              "[2865 rows x 7 columns]"
            ]
          },
          "metadata": {},
          "execution_count": 23
        }
      ]
    },
    {
      "cell_type": "code",
      "metadata": {
        "colab": {
          "base_uri": "https://localhost:8080/"
        },
        "id": "IYYcspRPV1-g",
        "outputId": "50c7115c-db00-4d07-9881-2133782e46ab"
      },
      "source": [
        "collection_data_df.dtypes"
      ],
      "execution_count": 24,
      "outputs": [
        {
          "output_type": "execute_result",
          "data": {
            "text/plain": [
              "Asset Name                object\n",
              "Token ID                  object\n",
              "Number of Sales            int64\n",
              "Background Color          object\n",
              "Collection Name           object\n",
              "Last Sale Price (ETH)    float64\n",
              "Trait Count                int64\n",
              "dtype: object"
            ]
          },
          "metadata": {},
          "execution_count": 24
        }
      ]
    },
    {
      "cell_type": "code",
      "metadata": {
        "colab": {
          "base_uri": "https://localhost:8080/"
        },
        "id": "m4ZlDa67W3fx",
        "outputId": "e510cfb2-716f-4ca6-9c29-c241dc3241b2"
      },
      "source": [
        "collection_data_df[\"Background Color\"].value_counts()"
      ],
      "execution_count": 25,
      "outputs": [
        {
          "output_type": "execute_result",
          "data": {
            "text/plain": [
              "000000    52\n",
              "6B80D9     8\n",
              "262626     6\n",
              "717AC3     4\n",
              "3A65AD     4\n",
              "           4\n",
              "8AD9E9     3\n",
              "7463E2     2\n",
              "6F7DCF     2\n",
              "887FCA     2\n",
              "7F82CA     2\n",
              "6972BE     2\n",
              "4350B9     1\n",
              "4053B4     1\n",
              "5144AD     1\n",
              "6BABD9     1\n",
              "5CC5BA     1\n",
              "A26BD9     1\n",
              "7FA0CA     1\n",
              "5551C5     1\n",
              "AC8AE9     1\n",
              "FF8A98     1\n",
              "8A73DB     1\n",
              "F185B3     1\n",
              "97FDDA     1\n",
              "Name: Background Color, dtype: int64"
            ]
          },
          "metadata": {},
          "execution_count": 25
        }
      ]
    },
    {
      "cell_type": "code",
      "metadata": {
        "colab": {
          "base_uri": "https://localhost:8080/"
        },
        "id": "DSQbld5Glyx5",
        "outputId": "1fc7d36f-967a-4fd1-e64d-0ce20d666537"
      },
      "source": [
        "collection_data_df[\"Collection Name\"].value_counts()"
      ],
      "execution_count": 26,
      "outputs": [
        {
          "output_type": "execute_result",
          "data": {
            "text/plain": [
              "DeadFellaz                          50\n",
              "Dreamloops                          50\n",
              "Cool Cats NFT                       50\n",
              "CrypToadz by GREMPLIN               50\n",
              "CryptoHoots Steampunk Parliament    50\n",
              "                                    ..\n",
              "The Meta Key                         4\n",
              "Bored Ape Chemistry Club             3\n",
              "Non Fungible Fungi Genesis           2\n",
              "Galaxy Eggs - old                    1\n",
              "ZombieToadz                          1\n",
              "Name: Collection Name, Length: 66, dtype: int64"
            ]
          },
          "metadata": {},
          "execution_count": 26
        }
      ]
    },
    {
      "cell_type": "code",
      "metadata": {
        "id": "pR6IKH7vxJGP"
      },
      "source": [
        "ml_data_df = df[['id', 'num_sales']].copy()"
      ],
      "execution_count": 27,
      "outputs": []
    },
    {
      "cell_type": "code",
      "metadata": {
        "id": "HrCAQ4P4xaol"
      },
      "source": [
        "ml_data_df = pd.concat([ml_data_df, total_price, total_traits], axis = 1)\n",
        "ml_data_df.columns = ['Asset ID', 'Number of Sales','Last Sale Price (ETH)', 'Trait Count']"
      ],
      "execution_count": 28,
      "outputs": []
    },
    {
      "cell_type": "code",
      "metadata": {
        "colab": {
          "base_uri": "https://localhost:8080/",
          "height": 419
        },
        "id": "Q5XRIhNxyFtD",
        "outputId": "69f17e0d-40e9-40e1-d26e-74cf333b13d1"
      },
      "source": [
        "ml_data_df"
      ],
      "execution_count": 29,
      "outputs": [
        {
          "output_type": "execute_result",
          "data": {
            "text/html": [
              "<div>\n",
              "<style scoped>\n",
              "    .dataframe tbody tr th:only-of-type {\n",
              "        vertical-align: middle;\n",
              "    }\n",
              "\n",
              "    .dataframe tbody tr th {\n",
              "        vertical-align: top;\n",
              "    }\n",
              "\n",
              "    .dataframe thead th {\n",
              "        text-align: right;\n",
              "    }\n",
              "</style>\n",
              "<table border=\"1\" class=\"dataframe\">\n",
              "  <thead>\n",
              "    <tr style=\"text-align: right;\">\n",
              "      <th></th>\n",
              "      <th>Asset ID</th>\n",
              "      <th>Number of Sales</th>\n",
              "      <th>Last Sale Price (ETH)</th>\n",
              "      <th>Trait Count</th>\n",
              "    </tr>\n",
              "  </thead>\n",
              "  <tbody>\n",
              "    <tr>\n",
              "      <th>0</th>\n",
              "      <td>38109417</td>\n",
              "      <td>13</td>\n",
              "      <td>1.740</td>\n",
              "      <td>13</td>\n",
              "    </tr>\n",
              "    <tr>\n",
              "      <th>1</th>\n",
              "      <td>38105661</td>\n",
              "      <td>11</td>\n",
              "      <td>2.750</td>\n",
              "      <td>13</td>\n",
              "    </tr>\n",
              "    <tr>\n",
              "      <th>2</th>\n",
              "      <td>37768360</td>\n",
              "      <td>10</td>\n",
              "      <td>2.250</td>\n",
              "      <td>13</td>\n",
              "    </tr>\n",
              "    <tr>\n",
              "      <th>3</th>\n",
              "      <td>38104277</td>\n",
              "      <td>10</td>\n",
              "      <td>2.200</td>\n",
              "      <td>13</td>\n",
              "    </tr>\n",
              "    <tr>\n",
              "      <th>4</th>\n",
              "      <td>38109401</td>\n",
              "      <td>9</td>\n",
              "      <td>3.450</td>\n",
              "      <td>13</td>\n",
              "    </tr>\n",
              "    <tr>\n",
              "      <th>...</th>\n",
              "      <td>...</td>\n",
              "      <td>...</td>\n",
              "      <td>...</td>\n",
              "      <td>...</td>\n",
              "    </tr>\n",
              "    <tr>\n",
              "      <th>46</th>\n",
              "      <td>3409840</td>\n",
              "      <td>3</td>\n",
              "      <td>1.000</td>\n",
              "      <td>6</td>\n",
              "    </tr>\n",
              "    <tr>\n",
              "      <th>47</th>\n",
              "      <td>3404105</td>\n",
              "      <td>3</td>\n",
              "      <td>0.333</td>\n",
              "      <td>6</td>\n",
              "    </tr>\n",
              "    <tr>\n",
              "      <th>48</th>\n",
              "      <td>3307434</td>\n",
              "      <td>3</td>\n",
              "      <td>0.450</td>\n",
              "      <td>6</td>\n",
              "    </tr>\n",
              "    <tr>\n",
              "      <th>49</th>\n",
              "      <td>14462054</td>\n",
              "      <td>3</td>\n",
              "      <td>0.190</td>\n",
              "      <td>6</td>\n",
              "    </tr>\n",
              "    <tr>\n",
              "      <th>0</th>\n",
              "      <td>60149140</td>\n",
              "      <td>1</td>\n",
              "      <td>0.070</td>\n",
              "      <td>6</td>\n",
              "    </tr>\n",
              "  </tbody>\n",
              "</table>\n",
              "<p>2865 rows × 4 columns</p>\n",
              "</div>"
            ],
            "text/plain": [
              "    Asset ID  Number of Sales  Last Sale Price (ETH)  Trait Count\n",
              "0   38109417               13                  1.740           13\n",
              "1   38105661               11                  2.750           13\n",
              "2   37768360               10                  2.250           13\n",
              "3   38104277               10                  2.200           13\n",
              "4   38109401                9                  3.450           13\n",
              "..       ...              ...                    ...          ...\n",
              "46   3409840                3                  1.000            6\n",
              "47   3404105                3                  0.333            6\n",
              "48   3307434                3                  0.450            6\n",
              "49  14462054                3                  0.190            6\n",
              "0   60149140                1                  0.070            6\n",
              "\n",
              "[2865 rows x 4 columns]"
            ]
          },
          "metadata": {},
          "execution_count": 29
        }
      ]
    },
    {
      "cell_type": "code",
      "metadata": {
        "colab": {
          "base_uri": "https://localhost:8080/"
        },
        "id": "E2CQkRivyMd3",
        "outputId": "83340296-4d14-455c-b8d5-fb55bf265c7a"
      },
      "source": [
        "ml_data_df.dtypes"
      ],
      "execution_count": 30,
      "outputs": [
        {
          "output_type": "execute_result",
          "data": {
            "text/plain": [
              "Asset ID                   int64\n",
              "Number of Sales            int64\n",
              "Last Sale Price (ETH)    float64\n",
              "Trait Count                int64\n",
              "dtype: object"
            ]
          },
          "metadata": {},
          "execution_count": 30
        }
      ]
    },
    {
      "cell_type": "code",
      "metadata": {
        "colab": {
          "base_uri": "https://localhost:8080/",
          "height": 297
        },
        "id": "cW9U0l_EmOfl",
        "outputId": "b4d95781-7887-42cc-ee14-781c5ce5c240"
      },
      "source": [
        "ml_data_df.describe()"
      ],
      "execution_count": 181,
      "outputs": [
        {
          "output_type": "execute_result",
          "data": {
            "text/html": [
              "<div>\n",
              "<style scoped>\n",
              "    .dataframe tbody tr th:only-of-type {\n",
              "        vertical-align: middle;\n",
              "    }\n",
              "\n",
              "    .dataframe tbody tr th {\n",
              "        vertical-align: top;\n",
              "    }\n",
              "\n",
              "    .dataframe thead th {\n",
              "        text-align: right;\n",
              "    }\n",
              "</style>\n",
              "<table border=\"1\" class=\"dataframe\">\n",
              "  <thead>\n",
              "    <tr style=\"text-align: right;\">\n",
              "      <th></th>\n",
              "      <th>Asset ID</th>\n",
              "      <th>Number of Sales</th>\n",
              "      <th>Last Sale Price (ETH)</th>\n",
              "      <th>Trait Count</th>\n",
              "    </tr>\n",
              "  </thead>\n",
              "  <tbody>\n",
              "    <tr>\n",
              "      <th>count</th>\n",
              "      <td>5.000000e+01</td>\n",
              "      <td>50.000000</td>\n",
              "      <td>50.000000</td>\n",
              "      <td>50.0</td>\n",
              "    </tr>\n",
              "    <tr>\n",
              "      <th>mean</th>\n",
              "      <td>3.804183e+07</td>\n",
              "      <td>7.720000</td>\n",
              "      <td>2.549286</td>\n",
              "      <td>13.0</td>\n",
              "    </tr>\n",
              "    <tr>\n",
              "      <th>std</th>\n",
              "      <td>2.025163e+05</td>\n",
              "      <td>1.212856</td>\n",
              "      <td>1.466632</td>\n",
              "      <td>0.0</td>\n",
              "    </tr>\n",
              "    <tr>\n",
              "      <th>min</th>\n",
              "      <td>3.724191e+07</td>\n",
              "      <td>7.000000</td>\n",
              "      <td>0.000000</td>\n",
              "      <td>13.0</td>\n",
              "    </tr>\n",
              "    <tr>\n",
              "      <th>25%</th>\n",
              "      <td>3.810477e+07</td>\n",
              "      <td>7.000000</td>\n",
              "      <td>1.791250</td>\n",
              "      <td>13.0</td>\n",
              "    </tr>\n",
              "    <tr>\n",
              "      <th>50%</th>\n",
              "      <td>3.810608e+07</td>\n",
              "      <td>7.000000</td>\n",
              "      <td>2.139500</td>\n",
              "      <td>13.0</td>\n",
              "    </tr>\n",
              "    <tr>\n",
              "      <th>75%</th>\n",
              "      <td>3.810823e+07</td>\n",
              "      <td>8.000000</td>\n",
              "      <td>2.737500</td>\n",
              "      <td>13.0</td>\n",
              "    </tr>\n",
              "    <tr>\n",
              "      <th>max</th>\n",
              "      <td>3.811020e+07</td>\n",
              "      <td>13.000000</td>\n",
              "      <td>7.750000</td>\n",
              "      <td>13.0</td>\n",
              "    </tr>\n",
              "  </tbody>\n",
              "</table>\n",
              "</div>"
            ],
            "text/plain": [
              "           Asset ID  Number of Sales  Last Sale Price (ETH)  Trait Count\n",
              "count  5.000000e+01        50.000000              50.000000         50.0\n",
              "mean   3.804183e+07         7.720000               2.549286         13.0\n",
              "std    2.025163e+05         1.212856               1.466632          0.0\n",
              "min    3.724191e+07         7.000000               0.000000         13.0\n",
              "25%    3.810477e+07         7.000000               1.791250         13.0\n",
              "50%    3.810608e+07         7.000000               2.139500         13.0\n",
              "75%    3.810823e+07         8.000000               2.737500         13.0\n",
              "max    3.811020e+07        13.000000               7.750000         13.0"
            ]
          },
          "metadata": {},
          "execution_count": 181
        }
      ]
    },
    {
      "cell_type": "code",
      "metadata": {
        "id": "bwfLaforiFNo"
      },
      "source": [
        "import seaborn as sns\n",
        "\n",
        "import pandas as pd\n",
        "\n",
        "import numpy as np\n",
        "\n",
        "import matplotlib.pyplot as plt\n",
        "\n",
        "%matplotlib inline\n",
        "\n",
        "import seaborn as sns\n",
        "\n",
        "from sklearn import linear_model"
      ],
      "execution_count": 175,
      "outputs": []
    },
    {
      "cell_type": "code",
      "metadata": {
        "colab": {
          "base_uri": "https://localhost:8080/"
        },
        "id": "x_3RofTcd_g0",
        "outputId": "52c52249-052f-4081-d96d-057cfe02b843"
      },
      "source": [
        "ml_data_df.shape"
      ],
      "execution_count": 176,
      "outputs": [
        {
          "output_type": "execute_result",
          "data": {
            "text/plain": [
              "(50, 4)"
            ]
          },
          "metadata": {},
          "execution_count": 176
        }
      ]
    },
    {
      "cell_type": "code",
      "metadata": {
        "id": "ULXuinIqZJyZ"
      },
      "source": [
        "ml_data_df = ml_data_df[~ml_data_df.index.duplicated()]"
      ],
      "execution_count": 177,
      "outputs": []
    },
    {
      "cell_type": "code",
      "metadata": {
        "colab": {
          "base_uri": "https://localhost:8080/"
        },
        "id": "Mv5A80lmYOvQ",
        "outputId": "e8ce5ed1-0b70-4d41-90c5-36ef20ceeeba"
      },
      "source": [
        "ml_data_df.columns"
      ],
      "execution_count": 178,
      "outputs": [
        {
          "output_type": "execute_result",
          "data": {
            "text/plain": [
              "Index(['Asset ID', 'Number of Sales', 'Last Sale Price (ETH)', 'Trait Count'], dtype='object')"
            ]
          },
          "metadata": {},
          "execution_count": 178
        }
      ]
    },
    {
      "cell_type": "code",
      "metadata": {
        "id": "8VkBJDxoaDHE"
      },
      "source": [
        "x = ml_data_df[['Number of Sales', 'Trait Count']]"
      ],
      "execution_count": 179,
      "outputs": []
    },
    {
      "cell_type": "code",
      "metadata": {
        "id": "_-yTohetaUC3"
      },
      "source": [
        "y = ml_data_df['Last Sale Price (ETH)']"
      ],
      "execution_count": 180,
      "outputs": []
    },
    {
      "cell_type": "code",
      "metadata": {
        "id": "ixe2m3ioaZC3"
      },
      "source": [
        "from sklearn.model_selection import train_test_split"
      ],
      "execution_count": 161,
      "outputs": []
    },
    {
      "cell_type": "code",
      "metadata": {
        "id": "muZXQxM2adCp"
      },
      "source": [
        "x_train, x_test, y_train, y_test = train_test_split(x, y, test_size = 0.3)"
      ],
      "execution_count": 162,
      "outputs": []
    },
    {
      "cell_type": "code",
      "metadata": {
        "id": "4UNG-2J2afB-"
      },
      "source": [
        "from sklearn.linear_model import LinearRegression"
      ],
      "execution_count": 174,
      "outputs": []
    },
    {
      "cell_type": "code",
      "metadata": {
        "id": "3bTk1ybDahCP"
      },
      "source": [
        "model = LinearRegression()"
      ],
      "execution_count": 164,
      "outputs": []
    },
    {
      "cell_type": "code",
      "metadata": {
        "colab": {
          "base_uri": "https://localhost:8080/"
        },
        "id": "DqJjzNavaibi",
        "outputId": "02aee860-2df6-455d-a225-b82a14773616"
      },
      "source": [
        "model.fit(x_train, y_train)"
      ],
      "execution_count": 165,
      "outputs": [
        {
          "output_type": "execute_result",
          "data": {
            "text/plain": [
              "LinearRegression(copy_X=True, fit_intercept=True, n_jobs=None, normalize=False)"
            ]
          },
          "metadata": {},
          "execution_count": 165
        }
      ]
    },
    {
      "cell_type": "code",
      "metadata": {
        "colab": {
          "base_uri": "https://localhost:8080/"
        },
        "id": "LgU_6ytnajwo",
        "outputId": "ff92c0d5-7be7-4aac-d83e-acdd0a287580"
      },
      "source": [
        "print(model.coef_)"
      ],
      "execution_count": 166,
      "outputs": [
        {
          "output_type": "stream",
          "name": "stdout",
          "text": [
            "[0.06161132 0.        ]\n"
          ]
        }
      ]
    },
    {
      "cell_type": "code",
      "metadata": {
        "colab": {
          "base_uri": "https://localhost:8080/"
        },
        "id": "EBSM4m0-albs",
        "outputId": "3e0d686a-3b50-49de-f9f2-28e51f30bed7"
      },
      "source": [
        "print(model.intercept_)"
      ],
      "execution_count": 167,
      "outputs": [
        {
          "output_type": "stream",
          "name": "stdout",
          "text": [
            "1.9359145552560646\n"
          ]
        }
      ]
    },
    {
      "cell_type": "code",
      "metadata": {
        "colab": {
          "base_uri": "https://localhost:8080/",
          "height": 111
        },
        "id": "wSWRNWqSanis",
        "outputId": "45a34c07-9209-4d08-cce1-2848001b6e9a"
      },
      "source": [
        "pd.DataFrame(model.coef_, x.columns, columns = ['Coeff'])"
      ],
      "execution_count": 168,
      "outputs": [
        {
          "output_type": "execute_result",
          "data": {
            "text/html": [
              "<div>\n",
              "<style scoped>\n",
              "    .dataframe tbody tr th:only-of-type {\n",
              "        vertical-align: middle;\n",
              "    }\n",
              "\n",
              "    .dataframe tbody tr th {\n",
              "        vertical-align: top;\n",
              "    }\n",
              "\n",
              "    .dataframe thead th {\n",
              "        text-align: right;\n",
              "    }\n",
              "</style>\n",
              "<table border=\"1\" class=\"dataframe\">\n",
              "  <thead>\n",
              "    <tr style=\"text-align: right;\">\n",
              "      <th></th>\n",
              "      <th>Coeff</th>\n",
              "    </tr>\n",
              "  </thead>\n",
              "  <tbody>\n",
              "    <tr>\n",
              "      <th>Number of Sales</th>\n",
              "      <td>0.061611</td>\n",
              "    </tr>\n",
              "    <tr>\n",
              "      <th>Trait Count</th>\n",
              "      <td>0.000000</td>\n",
              "    </tr>\n",
              "  </tbody>\n",
              "</table>\n",
              "</div>"
            ],
            "text/plain": [
              "                    Coeff\n",
              "Number of Sales  0.061611\n",
              "Trait Count      0.000000"
            ]
          },
          "metadata": {},
          "execution_count": 168
        }
      ]
    },
    {
      "cell_type": "code",
      "metadata": {
        "id": "j5ZcH1Qfap6w"
      },
      "source": [
        "predictions = model.predict(x_test)"
      ],
      "execution_count": 169,
      "outputs": []
    },
    {
      "cell_type": "code",
      "metadata": {
        "colab": {
          "base_uri": "https://localhost:8080/",
          "height": 282
        },
        "id": "e8Zlu2Upau8_",
        "outputId": "7e4ed19f-5b43-42e0-cbb0-8d5ce7e6a883"
      },
      "source": [
        "plt.scatter(y_test, predictions)"
      ],
      "execution_count": 170,
      "outputs": [
        {
          "output_type": "execute_result",
          "data": {
            "text/plain": [
              "<matplotlib.collections.PathCollection at 0x7f0df14522d0>"
            ]
          },
          "metadata": {},
          "execution_count": 170
        },
        {
          "output_type": "display_data",
          "data": {
            "image/png": "[encoded data removed]",
            "text/plain": [
              "<Figure size 432x288 with 1 Axes>"
            ]
          },
          "metadata": {
            "needs_background": "light"
          }
        }
      ]
    },
    {
      "cell_type": "code",
      "metadata": {
        "colab": {
          "base_uri": "https://localhost:8080/",
          "height": 350
        },
        "id": "jZc8_fx6awln",
        "outputId": "a4cb774a-99fd-469d-8939-a63995e471b9"
      },
      "source": [
        "plt.hist(y_test - predictions)"
      ],
      "execution_count": 171,
      "outputs": [
        {
          "output_type": "execute_result",
          "data": {
            "text/plain": [
              "(array([7., 2., 4., 0., 0., 0., 0., 1., 0., 1.]),\n",
              " array([-0.8872938 , -0.26644493,  0.35440394,  0.9752528 ,  1.59610167,\n",
              "         2.21695054,  2.83779941,  3.45864827,  4.07949714,  4.70034601,\n",
              "         5.32119488]),\n",
              " <a list of 10 Patch objects>)"
            ]
          },
          "metadata": {},
          "execution_count": 171
        },
        {
          "output_type": "display_data",
          "data": {
            "image/png": "[encoded data removed]",
            "text/plain": [
              "<Figure size 432x288 with 1 Axes>"
            ]
          },
          "metadata": {
            "needs_background": "light"
          }
        }
      ]
    },
    {
      "cell_type": "code",
      "metadata": {
        "id": "yZ7PSHdxazfk"
      },
      "source": [
        "from sklearn import metrics"
      ],
      "execution_count": 123,
      "outputs": []
    },
    {
      "cell_type": "code",
      "metadata": {
        "colab": {
          "base_uri": "https://localhost:8080/"
        },
        "id": "_erHl1ANbJIH",
        "outputId": "6a7da662-ecfa-44a3-8040-4286fce2d9ec"
      },
      "source": [
        "metrics.mean_absolute_error(y_test, predictions)\n"
      ],
      "execution_count": 124,
      "outputs": [
        {
          "output_type": "execute_result",
          "data": {
            "text/plain": [
              "0.9379942546385156"
            ]
          },
          "metadata": {},
          "execution_count": 124
        }
      ]
    },
    {
      "cell_type": "code",
      "metadata": {
        "colab": {
          "base_uri": "https://localhost:8080/"
        },
        "id": "85nR8o00bKcT",
        "outputId": "62b4fe38-c592-4f0e-effa-0bf37903ccef"
      },
      "source": [
        "metrics.mean_squared_error(y_test, predictions)"
      ],
      "execution_count": 125,
      "outputs": [
        {
          "output_type": "execute_result",
          "data": {
            "text/plain": [
              "1.2541480179553544"
            ]
          },
          "metadata": {},
          "execution_count": 125
        }
      ]
    },
    {
      "cell_type": "code",
      "metadata": {
        "colab": {
          "base_uri": "https://localhost:8080/"
        },
        "id": "5BFkLZILbLuN",
        "outputId": "17654fb9-b9e5-44bc-806b-e5414b5c06dd"
      },
      "source": [
        "np.sqrt(metrics.mean_squared_error(y_test, predictions))"
      ],
      "execution_count": 126,
      "outputs": [
        {
          "output_type": "execute_result",
          "data": {
            "text/plain": [
              "1.1198875023659092"
            ]
          },
          "metadata": {},
          "execution_count": 126
        }
      ]
    }
  ]
}