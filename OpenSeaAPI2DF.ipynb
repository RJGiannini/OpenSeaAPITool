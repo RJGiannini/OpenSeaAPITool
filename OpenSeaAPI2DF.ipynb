{
  "nbformat": 4,
  "nbformat_minor": 0,
  "metadata": {
    "colab": {
      "name": "OpenSeaAPI2DF.ipynb",
      "provenance": [],
      "authorship_tag": "ABX9TyPm7qCYLAkt9G/zKfxi9n9Y",
      "include_colab_link": true
    },
    "kernelspec": {
      "name": "python3",
      "display_name": "Python 3"
    },
    "language_info": {
      "name": "python"
    }
  },
  "cells": [
    {
      "cell_type": "markdown",
      "metadata": {
        "id": "view-in-github",
        "colab_type": "text"
      },
      "source": [
        "<a href=\"https://colab.research.google.com/github/RJGiannini/nft-project-group8/blob/main/OpenSeaAPI2DF.ipynb\" target=\"_parent\"><img src=\"https://colab.research.google.com/assets/colab-badge.svg\" alt=\"Open In Colab\"/></a>"
      ]
    },
    {
      "cell_type": "code",
      "metadata": {
        "id": "QgKCQ1TZ-Tj-"
      },
      "source": [
        "import numpy as np\n",
        "import pandas as pd\n",
        "import requests\n",
        "import json"
      ],
      "execution_count": 24,
      "outputs": []
    },
    {
      "cell_type": "code",
      "metadata": {
        "colab": {
          "base_uri": "https://localhost:8080/"
        },
        "id": "hvI9PfLV-fRm",
        "outputId": "54a123e5-270f-44a7-82db-79b9d8eadbe8"
      },
      "source": [
        "URL = \"https://api.opensea.io/api/v1/collection/cryptopunks\"\n",
        "\n",
        "response = requests.request(\"GET\", URL).json()\n",
        "\n",
        "data = response\n",
        " \n",
        "print(data)"
      ],
      "execution_count": 25,
      "outputs": [
        {
          "output_type": "stream",
          "name": "stdout",
          "text": [
            "{'collection': {'editors': ['0xeaf54391793cc80de696d72713d7518c6190bfe0', '0x0239769a1adf4def9f07da824b80b9c4fcb59593', '0x28679a1a632125fbbf7a68d850e50623194a709e', '0x333601a803cac32b7d17a38d32c9728a93b422f4', '0xe96a1b303a1eb8d04fb973eb2b291b8d591c8f72', '0x700fe545742485732575a7245f558978adcc1ec4', '0xeeadc5701b5fd25fbcc7fbf04b048cdb1fff1c65', '0x50088f08381e2a04c6c485dab0eb03561a011c41', '0x889d43a6f9c2e48b913559a1333ead19e6444499', '0x4884eb76842f734e0de54d79ad45266072eb68e2', '0x3e275ddf0b02dc4626deba238d175295064c0efe', '0xfdb16a768c4d41d7c0e1e5f5ce1d3c8234f6db0a', '0x836fd05a18dc13aa8885a718278e6a316ecca1ff', '0xd144054f09d17175d66aaa9ee73d7931c627fa9a', '0x931d24f3dede331bfd02a1aa855e9cbf7f0ea2e7', '0x530cf036ed4fa58f7301a9c788c9806624cefd19', '0x5e1d178fd65534060c61283b1abfe070e87513fd', '0x7c1fd4d5acc15b46729c5fb9279b49cf71178654', '0xb9720be63ea8896956a06d2ded491de125fd705e', '0x841b57a4e2590d6affb167686f343cb97675a426', '0x10e328cf4245501cde8b3825d34b605c5f6a436b', '0x4f0124d010a29a81855ab72c59447b6186153250', '0x54fd7a70976c0477b422d3b444fef2601ce60f57', '0x0359c0b2b30ff5e52893156c1baba2b55a468700', '0xe948d683cc5e94498f84396f1f80de842d18acaf', '0x7c3e32b9da9a5ab46c8f715d4ab51e1a74a197ed', '0xa5964a40b6b1dbb48b1613af3efbb947310d06ff', '0x36791c410e271d381b0957dac16c667d3c467a83', '0x7817615d7a814b0c13c1dcda5de218f164860135', '0x958e1e0be167e89eb05eb81e5ac57d260eb9ba03', '0xb8c1fece2c2928b1e985f59e8546c2f0c13296d4', '0xf2a469a4150925ff9f82c3728dd6d02dbe55371c', '0x7bd13f8c9bc23d7caff3cb5248c8ba63226df8a1', '0x0ac374554e8075ac2cccc2b4307adefd827e0137', '0xce89b8a4db53246456d6794b63ff4b0995f5f25e', '0xd0b00382c7ee6d6f8a7ef1fda07750c1d5fa68cb', '0x84bee312e24de23581388f85fd3a09b9f18b5093', '0x2580e799f91b96b54370b493852e4475badd3449', '0x9f6ac750a020d3141838cbf35b444fd5b732ec7d', '0xd7383c3c94a1e2f1224ec54b06db9fae5352d375'], 'payment_tokens': [{'id': 13689077, 'symbol': 'ETH', 'address': '0x0000000000000000000000000000000000000000', 'image_url': 'https://storage.opensea.io/files/6f8e2979d428180222796ff4a33ab929.svg', 'name': 'Ether', 'decimals': 18, 'eth_price': 1.0, 'usd_price': 3471.64}, {'id': 12182941, 'symbol': 'DAI', 'address': '0x6b175474e89094c44da98b954eedeac495271d0f', 'image_url': 'https://storage.opensea.io/files/8ef8fb3fe707f693e57cdbfea130c24c.svg', 'name': 'Dai Stablecoin', 'decimals': 18, 'eth_price': 0.00028639, 'usd_price': 1.0}, {'id': 4645681, 'symbol': 'WETH', 'address': '0xc02aaa39b223fe8d0a0e5c4f27ead9083c756cc2', 'image_url': 'https://storage.opensea.io/files/accae6b6fb3888cbff27a013729c22dc.svg', 'name': 'Wrapped Ether', 'decimals': 18, 'eth_price': 1.0, 'usd_price': 3471.61}, {'id': 4403908, 'symbol': 'USDC', 'address': '0xa0b86991c6218b36c1d19d4a2e9eb0ce3606eb48', 'image_url': 'https://storage.opensea.io/files/749015f009a66abcb3bbb3502ae2f1ce.svg', 'name': 'USD Coin', 'decimals': 6, 'eth_price': 0.000551436563967, 'usd_price': 1.0}], 'primary_asset_contracts': [{'address': '0xb47e3cd837ddf8e4c57f05d70ab865de6e193bbb', 'asset_contract_type': 'non-fungible', 'created_date': '2018-01-23T04:51:38.832339', 'name': 'CryptoPunks', 'nft_version': 'unsupported', 'opensea_version': None, 'owner': None, 'schema_name': 'CRYPTOPUNKS', 'symbol': 'PUNK', 'total_supply': None, 'description': 'CryptoPunks launched as a fixed set of 10,000 items in mid-2017 and became one of the inspirations for the ERC-721 standard. They have been featured in places like The New York Times, Christie’s of London, Art|Basel Miami, and The PBS NewsHour.', 'external_link': 'https://www.larvalabs.com/cryptopunks', 'image_url': 'https://lh3.googleusercontent.com/BdxvLseXcfl57BiuQcQYdJ64v-aI8din7WPk0Pgo3qQFhAUH-B6i-dCqqc_mCkRIzULmwzwecnohLhrcH8A9mpWIZqA7ygc52Sr81hE=s120', 'default_to_fiat': False, 'dev_buyer_fee_basis_points': 0, 'dev_seller_fee_basis_points': 0, 'only_proxied_transfers': False, 'opensea_buyer_fee_basis_points': 0, 'opensea_seller_fee_basis_points': 250, 'buyer_fee_basis_points': 0, 'seller_fee_basis_points': 250, 'payout_address': None}], 'traits': {'accessory': {'cap forward': 254, 'spots': 124, 'classic shades': 502, 'eye patch': 461, 'rosy cheeks': 128, 'mohawk dark': 429, 'clown eyes blue': 384, 'messy hair': 460, 'gold chain': 169, 'pipe': 317, 'mohawk': 441, 'pink with hat': 95, 'clown eyes green': 382, 'mole': 644, 'front beard dark': 260, 'purple lipstick': 655, 'smile': 238, 'peak spike': 303, 'shaved head': 300, 'tassle hat': 178, 'horned rim glasses': 535, 'straight hair blonde': 144, 'crazy hair': 414, 'handlebars': 263, 'blonde short': 129, 'welding goggles': 86, 'small shades': 378, 'choker': 48, 'eye mask': 293, 'stringy hair': 463, 'medical mask': 175, 'blue eye shadow': 266, 'wild white hair': 136, 'mustache': 288, 'earring': 2459, 'vampire hair': 147, 'frumpy hair': 442, 'normal beard black': 289, 'buck teeth': 78, 'hot lipstick': 696, 'nerd glasses': 572, 'normal beard': 292, 'front beard': 273, 'shadow beard': 526, 'wild blonde': 144, 'cigarette': 961, 'big shades': 535, 'cowboy hat': 142, 'half shaved': 147, 'luxurious beard': 286, 'clown nose': 212, 'straight hair dark': 148, 'beanie': 44, 'headband': 406, 'purple hair': 165, 'wild hair': 447, 'top hat': 115, 'knitted cap': 419, 'silver chain': 156, 'police cap': 203, 'vr': 332, 'green eye shadow': 271, 'vape': 272, '3d glasses': 286, 'pilot helmet': 54, 'mohawk thin': 441, 'do-rag': 300, 'dark hair': 157, 'purple eye shadow': 262, 'straight hair': 151, 'red mohawk': 147, 'regular shades': 527, 'hoodie': 259, 'cap': 351, 'bandana': 481, 'black lipstick': 617, 'clown hair green': 148, 'frown': 261, 'fedora': 186, 'pigtails': 94, 'tiara': 55, 'chinstrap': 282, 'blonde bob': 147, 'big beard': 146, 'goat': 295, 'orange side': 68, 'muttonchops': 303}, 'type': {'zombie': 88, 'alien': 9, 'ape': 24, 'female': 3840, 'male': 6039}}, 'stats': {'one_day_volume': 2879.62, 'one_day_change': 0.12149583667619547, 'one_day_sales': 23.0, 'one_day_average_price': 120.6776923076923, 'seven_day_volume': 26013.41, 'seven_day_change': 0.8860629446276365, 'seven_day_sales': 188.0, 'seven_day_average_price': 137.97532258064516, 'thirty_day_volume': 66549.44, 'thirty_day_change': -0.6347136941459206, 'thirty_day_sales': 545.0, 'thirty_day_average_price': 121.91778597785978, 'total_volume': 542658.771601424, 'total_sales': 17345.0, 'total_supply': 9999.0, 'count': 9999.0, 'num_owners': 3142, 'average_price': 31.266292117030677, 'num_reports': 19, 'market_cap': 1379615.250483871, 'floor_price': 0.0}, 'banner_image_url': 'https://lh3.googleusercontent.com/48oVuDyfe_xhs24BC2TTVcaYCX7rrU5mpuQLyTgRDbKHj2PtzKZsQ5qC3xTH4ar34wwAXxEKH8uUDPAGffbg7boeGYqX6op5vBDcbA=s2500', 'chat_url': None, 'created_date': '2019-04-26T22:13:09.691572', 'default_to_fiat': False, 'description': 'CryptoPunks launched as a fixed set of 10,000 items in mid-2017 and became one of the inspirations for the ERC-721 standard. They have been featured in places like The New York Times, Christie’s of London, Art|Basel Miami, and The PBS NewsHour.', 'dev_buyer_fee_basis_points': '0', 'dev_seller_fee_basis_points': '0', 'discord_url': 'https://discord.gg/tQp4pSE', 'display_data': {'card_display_style': 'cover'}, 'external_url': 'https://www.larvalabs.com/cryptopunks', 'featured': False, 'featured_image_url': 'https://storage.opensea.io/0xb47e3cd837ddf8e4c57f05d70ab865de6e193bbb-featured-1556589448.png', 'hidden': False, 'safelist_request_status': 'verified', 'image_url': 'https://lh3.googleusercontent.com/BdxvLseXcfl57BiuQcQYdJ64v-aI8din7WPk0Pgo3qQFhAUH-B6i-dCqqc_mCkRIzULmwzwecnohLhrcH8A9mpWIZqA7ygc52Sr81hE=s120', 'is_subject_to_whitelist': False, 'large_image_url': 'https://lh3.googleusercontent.com/QB2kKuQEw04X02V9EoC2BNYZV652LYuewUv9ZdR7KJfI9Jocwmd28jIfsGg0umSCr2bOMV8O9UpLAkoaqfYwvwmC', 'medium_username': None, 'name': 'CryptoPunks', 'only_proxied_transfers': False, 'opensea_buyer_fee_basis_points': '0', 'opensea_seller_fee_basis_points': '250', 'payout_address': None, 'require_email': False, 'short_description': None, 'slug': 'cryptopunks', 'telegram_url': None, 'twitter_username': 'larvalabs', 'instagram_username': None, 'wiki_url': None}}\n"
          ]
        }
      ]
    },
    {
      "cell_type": "code",
      "metadata": {
        "colab": {
          "base_uri": "https://localhost:8080/"
        },
        "id": "Gau1DlL5Bzjo",
        "outputId": "1abc7d64-b4e4-42c8-c4f6-770eecfa267f"
      },
      "source": [
        "url = \"https://api.opensea.io/api/v1/collection/cryptopunks\"\n",
        "\n",
        "JSONContent = requests.get(url).json()\n",
        "\n",
        "content = json.dumps(JSONContent, indent = 2, sort_keys=True)\n",
        "\n",
        "print(content)"
      ],
      "execution_count": 51,
      "outputs": [
        {
          "output_type": "stream",
          "name": "stdout",
          "text": [
            "{\n",
            "  \"collection\": {\n",
            "    \"banner_image_url\": \"https://lh3.googleusercontent.com/48oVuDyfe_xhs24BC2TTVcaYCX7rrU5mpuQLyTgRDbKHj2PtzKZsQ5qC3xTH4ar34wwAXxEKH8uUDPAGffbg7boeGYqX6op5vBDcbA=s2500\",\n",
            "    \"chat_url\": null,\n",
            "    \"created_date\": \"2019-04-26T22:13:09.691572\",\n",
            "    \"default_to_fiat\": false,\n",
            "    \"description\": \"CryptoPunks launched as a fixed set of 10,000 items in mid-2017 and became one of the inspirations for the ERC-721 standard. They have been featured in places like The New York Times, Christie\\u2019s of London, Art|Basel Miami, and The PBS NewsHour.\",\n",
            "    \"dev_buyer_fee_basis_points\": \"0\",\n",
            "    \"dev_seller_fee_basis_points\": \"0\",\n",
            "    \"discord_url\": \"https://discord.gg/tQp4pSE\",\n",
            "    \"display_data\": {\n",
            "      \"card_display_style\": \"cover\"\n",
            "    },\n",
            "    \"editors\": [\n",
            "      \"0xeaf54391793cc80de696d72713d7518c6190bfe0\",\n",
            "      \"0x0239769a1adf4def9f07da824b80b9c4fcb59593\",\n",
            "      \"0x28679a1a632125fbbf7a68d850e50623194a709e\",\n",
            "      \"0x333601a803cac32b7d17a38d32c9728a93b422f4\",\n",
            "      \"0xe96a1b303a1eb8d04fb973eb2b291b8d591c8f72\",\n",
            "      \"0x700fe545742485732575a7245f558978adcc1ec4\",\n",
            "      \"0xeeadc5701b5fd25fbcc7fbf04b048cdb1fff1c65\",\n",
            "      \"0x50088f08381e2a04c6c485dab0eb03561a011c41\",\n",
            "      \"0x889d43a6f9c2e48b913559a1333ead19e6444499\",\n",
            "      \"0x4884eb76842f734e0de54d79ad45266072eb68e2\",\n",
            "      \"0x3e275ddf0b02dc4626deba238d175295064c0efe\",\n",
            "      \"0xfdb16a768c4d41d7c0e1e5f5ce1d3c8234f6db0a\",\n",
            "      \"0x836fd05a18dc13aa8885a718278e6a316ecca1ff\",\n",
            "      \"0xd144054f09d17175d66aaa9ee73d7931c627fa9a\",\n",
            "      \"0x931d24f3dede331bfd02a1aa855e9cbf7f0ea2e7\",\n",
            "      \"0x530cf036ed4fa58f7301a9c788c9806624cefd19\",\n",
            "      \"0x5e1d178fd65534060c61283b1abfe070e87513fd\",\n",
            "      \"0x7c1fd4d5acc15b46729c5fb9279b49cf71178654\",\n",
            "      \"0xb9720be63ea8896956a06d2ded491de125fd705e\",\n",
            "      \"0x841b57a4e2590d6affb167686f343cb97675a426\",\n",
            "      \"0x10e328cf4245501cde8b3825d34b605c5f6a436b\",\n",
            "      \"0x4f0124d010a29a81855ab72c59447b6186153250\",\n",
            "      \"0x54fd7a70976c0477b422d3b444fef2601ce60f57\",\n",
            "      \"0x0359c0b2b30ff5e52893156c1baba2b55a468700\",\n",
            "      \"0xe948d683cc5e94498f84396f1f80de842d18acaf\",\n",
            "      \"0x7c3e32b9da9a5ab46c8f715d4ab51e1a74a197ed\",\n",
            "      \"0xa5964a40b6b1dbb48b1613af3efbb947310d06ff\",\n",
            "      \"0x36791c410e271d381b0957dac16c667d3c467a83\",\n",
            "      \"0x7817615d7a814b0c13c1dcda5de218f164860135\",\n",
            "      \"0x958e1e0be167e89eb05eb81e5ac57d260eb9ba03\",\n",
            "      \"0xb8c1fece2c2928b1e985f59e8546c2f0c13296d4\",\n",
            "      \"0xf2a469a4150925ff9f82c3728dd6d02dbe55371c\",\n",
            "      \"0x7bd13f8c9bc23d7caff3cb5248c8ba63226df8a1\",\n",
            "      \"0x0ac374554e8075ac2cccc2b4307adefd827e0137\",\n",
            "      \"0xce89b8a4db53246456d6794b63ff4b0995f5f25e\",\n",
            "      \"0xd0b00382c7ee6d6f8a7ef1fda07750c1d5fa68cb\",\n",
            "      \"0x84bee312e24de23581388f85fd3a09b9f18b5093\",\n",
            "      \"0x2580e799f91b96b54370b493852e4475badd3449\",\n",
            "      \"0x9f6ac750a020d3141838cbf35b444fd5b732ec7d\",\n",
            "      \"0xd7383c3c94a1e2f1224ec54b06db9fae5352d375\"\n",
            "    ],\n",
            "    \"external_url\": \"https://www.larvalabs.com/cryptopunks\",\n",
            "    \"featured\": false,\n",
            "    \"featured_image_url\": \"https://storage.opensea.io/0xb47e3cd837ddf8e4c57f05d70ab865de6e193bbb-featured-1556589448.png\",\n",
            "    \"hidden\": false,\n",
            "    \"image_url\": \"https://lh3.googleusercontent.com/BdxvLseXcfl57BiuQcQYdJ64v-aI8din7WPk0Pgo3qQFhAUH-B6i-dCqqc_mCkRIzULmwzwecnohLhrcH8A9mpWIZqA7ygc52Sr81hE=s120\",\n",
            "    \"instagram_username\": null,\n",
            "    \"is_subject_to_whitelist\": false,\n",
            "    \"large_image_url\": \"https://lh3.googleusercontent.com/QB2kKuQEw04X02V9EoC2BNYZV652LYuewUv9ZdR7KJfI9Jocwmd28jIfsGg0umSCr2bOMV8O9UpLAkoaqfYwvwmC\",\n",
            "    \"medium_username\": null,\n",
            "    \"name\": \"CryptoPunks\",\n",
            "    \"only_proxied_transfers\": false,\n",
            "    \"opensea_buyer_fee_basis_points\": \"0\",\n",
            "    \"opensea_seller_fee_basis_points\": \"250\",\n",
            "    \"payment_tokens\": [\n",
            "      {\n",
            "        \"address\": \"0x0000000000000000000000000000000000000000\",\n",
            "        \"decimals\": 18,\n",
            "        \"eth_price\": 1.0,\n",
            "        \"id\": 13689077,\n",
            "        \"image_url\": \"https://storage.opensea.io/files/6f8e2979d428180222796ff4a33ab929.svg\",\n",
            "        \"name\": \"Ether\",\n",
            "        \"symbol\": \"ETH\",\n",
            "        \"usd_price\": 3471.64\n",
            "      },\n",
            "      {\n",
            "        \"address\": \"0x6b175474e89094c44da98b954eedeac495271d0f\",\n",
            "        \"decimals\": 18,\n",
            "        \"eth_price\": 0.00028639,\n",
            "        \"id\": 12182941,\n",
            "        \"image_url\": \"https://storage.opensea.io/files/8ef8fb3fe707f693e57cdbfea130c24c.svg\",\n",
            "        \"name\": \"Dai Stablecoin\",\n",
            "        \"symbol\": \"DAI\",\n",
            "        \"usd_price\": 1.0\n",
            "      },\n",
            "      {\n",
            "        \"address\": \"0xc02aaa39b223fe8d0a0e5c4f27ead9083c756cc2\",\n",
            "        \"decimals\": 18,\n",
            "        \"eth_price\": 1.0,\n",
            "        \"id\": 4645681,\n",
            "        \"image_url\": \"https://storage.opensea.io/files/accae6b6fb3888cbff27a013729c22dc.svg\",\n",
            "        \"name\": \"Wrapped Ether\",\n",
            "        \"symbol\": \"WETH\",\n",
            "        \"usd_price\": 3471.61\n",
            "      },\n",
            "      {\n",
            "        \"address\": \"0xa0b86991c6218b36c1d19d4a2e9eb0ce3606eb48\",\n",
            "        \"decimals\": 6,\n",
            "        \"eth_price\": 0.000551436563967,\n",
            "        \"id\": 4403908,\n",
            "        \"image_url\": \"https://storage.opensea.io/files/749015f009a66abcb3bbb3502ae2f1ce.svg\",\n",
            "        \"name\": \"USD Coin\",\n",
            "        \"symbol\": \"USDC\",\n",
            "        \"usd_price\": 1.0\n",
            "      }\n",
            "    ],\n",
            "    \"payout_address\": null,\n",
            "    \"primary_asset_contracts\": [\n",
            "      {\n",
            "        \"address\": \"0xb47e3cd837ddf8e4c57f05d70ab865de6e193bbb\",\n",
            "        \"asset_contract_type\": \"non-fungible\",\n",
            "        \"buyer_fee_basis_points\": 0,\n",
            "        \"created_date\": \"2018-01-23T04:51:38.832339\",\n",
            "        \"default_to_fiat\": false,\n",
            "        \"description\": \"CryptoPunks launched as a fixed set of 10,000 items in mid-2017 and became one of the inspirations for the ERC-721 standard. They have been featured in places like The New York Times, Christie\\u2019s of London, Art|Basel Miami, and The PBS NewsHour.\",\n",
            "        \"dev_buyer_fee_basis_points\": 0,\n",
            "        \"dev_seller_fee_basis_points\": 0,\n",
            "        \"external_link\": \"https://www.larvalabs.com/cryptopunks\",\n",
            "        \"image_url\": \"https://lh3.googleusercontent.com/BdxvLseXcfl57BiuQcQYdJ64v-aI8din7WPk0Pgo3qQFhAUH-B6i-dCqqc_mCkRIzULmwzwecnohLhrcH8A9mpWIZqA7ygc52Sr81hE=s120\",\n",
            "        \"name\": \"CryptoPunks\",\n",
            "        \"nft_version\": \"unsupported\",\n",
            "        \"only_proxied_transfers\": false,\n",
            "        \"opensea_buyer_fee_basis_points\": 0,\n",
            "        \"opensea_seller_fee_basis_points\": 250,\n",
            "        \"opensea_version\": null,\n",
            "        \"owner\": null,\n",
            "        \"payout_address\": null,\n",
            "        \"schema_name\": \"CRYPTOPUNKS\",\n",
            "        \"seller_fee_basis_points\": 250,\n",
            "        \"symbol\": \"PUNK\",\n",
            "        \"total_supply\": null\n",
            "      }\n",
            "    ],\n",
            "    \"require_email\": false,\n",
            "    \"safelist_request_status\": \"verified\",\n",
            "    \"short_description\": null,\n",
            "    \"slug\": \"cryptopunks\",\n",
            "    \"stats\": {\n",
            "      \"average_price\": 31.266292117030677,\n",
            "      \"count\": 9999.0,\n",
            "      \"floor_price\": 0.0,\n",
            "      \"market_cap\": 1379615.250483871,\n",
            "      \"num_owners\": 3145,\n",
            "      \"num_reports\": 19,\n",
            "      \"one_day_average_price\": 120.6776923076923,\n",
            "      \"one_day_change\": -0.260252079591797,\n",
            "      \"one_day_sales\": 15.0,\n",
            "      \"one_day_volume\": 2281.93,\n",
            "      \"seven_day_average_price\": 137.97532258064516,\n",
            "      \"seven_day_change\": 0.6408918576066625,\n",
            "      \"seven_day_sales\": 181.0,\n",
            "      \"seven_day_volume\": 25184.72,\n",
            "      \"thirty_day_average_price\": 121.91778597785978,\n",
            "      \"thirty_day_change\": -0.6232414141406365,\n",
            "      \"thirty_day_sales\": 549.0,\n",
            "      \"thirty_day_volume\": 67448.5,\n",
            "      \"total_sales\": 17353.0,\n",
            "      \"total_supply\": 9999.0,\n",
            "      \"total_volume\": 544081.821601424\n",
            "    },\n",
            "    \"telegram_url\": null,\n",
            "    \"traits\": {\n",
            "      \"accessory\": {\n",
            "        \"3d glasses\": 286,\n",
            "        \"bandana\": 481,\n",
            "        \"beanie\": 44,\n",
            "        \"big beard\": 146,\n",
            "        \"big shades\": 535,\n",
            "        \"black lipstick\": 617,\n",
            "        \"blonde bob\": 147,\n",
            "        \"blonde short\": 129,\n",
            "        \"blue eye shadow\": 266,\n",
            "        \"buck teeth\": 78,\n",
            "        \"cap\": 351,\n",
            "        \"cap forward\": 254,\n",
            "        \"chinstrap\": 282,\n",
            "        \"choker\": 48,\n",
            "        \"cigarette\": 961,\n",
            "        \"classic shades\": 502,\n",
            "        \"clown eyes blue\": 384,\n",
            "        \"clown eyes green\": 382,\n",
            "        \"clown hair green\": 148,\n",
            "        \"clown nose\": 212,\n",
            "        \"cowboy hat\": 142,\n",
            "        \"crazy hair\": 414,\n",
            "        \"dark hair\": 157,\n",
            "        \"do-rag\": 300,\n",
            "        \"earring\": 2459,\n",
            "        \"eye mask\": 293,\n",
            "        \"eye patch\": 461,\n",
            "        \"fedora\": 186,\n",
            "        \"front beard\": 273,\n",
            "        \"front beard dark\": 260,\n",
            "        \"frown\": 261,\n",
            "        \"frumpy hair\": 442,\n",
            "        \"goat\": 295,\n",
            "        \"gold chain\": 169,\n",
            "        \"green eye shadow\": 271,\n",
            "        \"half shaved\": 147,\n",
            "        \"handlebars\": 263,\n",
            "        \"headband\": 406,\n",
            "        \"hoodie\": 259,\n",
            "        \"horned rim glasses\": 535,\n",
            "        \"hot lipstick\": 696,\n",
            "        \"knitted cap\": 419,\n",
            "        \"luxurious beard\": 286,\n",
            "        \"medical mask\": 175,\n",
            "        \"messy hair\": 460,\n",
            "        \"mohawk\": 441,\n",
            "        \"mohawk dark\": 429,\n",
            "        \"mohawk thin\": 441,\n",
            "        \"mole\": 644,\n",
            "        \"mustache\": 288,\n",
            "        \"muttonchops\": 303,\n",
            "        \"nerd glasses\": 572,\n",
            "        \"normal beard\": 292,\n",
            "        \"normal beard black\": 289,\n",
            "        \"orange side\": 68,\n",
            "        \"peak spike\": 303,\n",
            "        \"pigtails\": 94,\n",
            "        \"pilot helmet\": 54,\n",
            "        \"pink with hat\": 95,\n",
            "        \"pipe\": 317,\n",
            "        \"police cap\": 203,\n",
            "        \"purple eye shadow\": 262,\n",
            "        \"purple hair\": 165,\n",
            "        \"purple lipstick\": 655,\n",
            "        \"red mohawk\": 147,\n",
            "        \"regular shades\": 527,\n",
            "        \"rosy cheeks\": 128,\n",
            "        \"shadow beard\": 526,\n",
            "        \"shaved head\": 300,\n",
            "        \"silver chain\": 156,\n",
            "        \"small shades\": 378,\n",
            "        \"smile\": 238,\n",
            "        \"spots\": 124,\n",
            "        \"straight hair\": 151,\n",
            "        \"straight hair blonde\": 144,\n",
            "        \"straight hair dark\": 148,\n",
            "        \"stringy hair\": 463,\n",
            "        \"tassle hat\": 178,\n",
            "        \"tiara\": 55,\n",
            "        \"top hat\": 115,\n",
            "        \"vampire hair\": 147,\n",
            "        \"vape\": 272,\n",
            "        \"vr\": 332,\n",
            "        \"welding goggles\": 86,\n",
            "        \"wild blonde\": 144,\n",
            "        \"wild hair\": 447,\n",
            "        \"wild white hair\": 136\n",
            "      },\n",
            "      \"type\": {\n",
            "        \"alien\": 9,\n",
            "        \"ape\": 24,\n",
            "        \"female\": 3840,\n",
            "        \"male\": 6039,\n",
            "        \"zombie\": 88\n",
            "      }\n",
            "    },\n",
            "    \"twitter_username\": \"larvalabs\",\n",
            "    \"wiki_url\": null\n",
            "  }\n",
            "}\n"
          ]
        }
      ]
    },
    {
      "cell_type": "code",
      "metadata": {
        "colab": {
          "base_uri": "https://localhost:8080/"
        },
        "id": "GMJnWKtLIsFx",
        "outputId": "b2769b56-8e94-4a3e-c613-fa99e17146c8"
      },
      "source": [
        "JSONContent.keys()"
      ],
      "execution_count": 53,
      "outputs": [
        {
          "output_type": "execute_result",
          "data": {
            "text/plain": [
              "dict_keys(['collection'])"
            ]
          },
          "metadata": {},
          "execution_count": 53
        }
      ]
    },
    {
      "cell_type": "code",
      "metadata": {
        "colab": {
          "base_uri": "https://localhost:8080/"
        },
        "id": "F6OK3ySYI91t",
        "outputId": "c5ae95a5-b623-44ba-f99d-2d0998240a45"
      },
      "source": [
        "JSONContent[\"collection\"].keys()"
      ],
      "execution_count": 56,
      "outputs": [
        {
          "output_type": "execute_result",
          "data": {
            "text/plain": [
              "dict_keys(['editors', 'payment_tokens', 'primary_asset_contracts', 'traits', 'stats', 'banner_image_url', 'chat_url', 'created_date', 'default_to_fiat', 'description', 'dev_buyer_fee_basis_points', 'dev_seller_fee_basis_points', 'discord_url', 'display_data', 'external_url', 'featured', 'featured_image_url', 'hidden', 'safelist_request_status', 'image_url', 'is_subject_to_whitelist', 'large_image_url', 'medium_username', 'name', 'only_proxied_transfers', 'opensea_buyer_fee_basis_points', 'opensea_seller_fee_basis_points', 'payout_address', 'require_email', 'short_description', 'slug', 'telegram_url', 'twitter_username', 'instagram_username', 'wiki_url'])"
            ]
          },
          "metadata": {},
          "execution_count": 56
        }
      ]
    },
    {
      "cell_type": "code",
      "metadata": {
        "id": "jrHECaT3J0Il"
      },
      "source": [
        "df = pd.DataFrame(JSONContent[\"collection\"][\"traits\"])"
      ],
      "execution_count": 59,
      "outputs": []
    },
    {
      "cell_type": "code",
      "metadata": {
        "colab": {
          "base_uri": "https://localhost:8080/",
          "height": 419
        },
        "id": "r4DOoVSLKEfn",
        "outputId": "096276bf-7764-4555-b5f0-67a607d40528"
      },
      "source": [
        "df"
      ],
      "execution_count": 60,
      "outputs": [
        {
          "output_type": "execute_result",
          "data": {
            "text/html": [
              "<div>\n",
              "<style scoped>\n",
              "    .dataframe tbody tr th:only-of-type {\n",
              "        vertical-align: middle;\n",
              "    }\n",
              "\n",
              "    .dataframe tbody tr th {\n",
              "        vertical-align: top;\n",
              "    }\n",
              "\n",
              "    .dataframe thead th {\n",
              "        text-align: right;\n",
              "    }\n",
              "</style>\n",
              "<table border=\"1\" class=\"dataframe\">\n",
              "  <thead>\n",
              "    <tr style=\"text-align: right;\">\n",
              "      <th></th>\n",
              "      <th>accessory</th>\n",
              "      <th>type</th>\n",
              "    </tr>\n",
              "  </thead>\n",
              "  <tbody>\n",
              "    <tr>\n",
              "      <th>cap forward</th>\n",
              "      <td>254.0</td>\n",
              "      <td>NaN</td>\n",
              "    </tr>\n",
              "    <tr>\n",
              "      <th>spots</th>\n",
              "      <td>124.0</td>\n",
              "      <td>NaN</td>\n",
              "    </tr>\n",
              "    <tr>\n",
              "      <th>classic shades</th>\n",
              "      <td>502.0</td>\n",
              "      <td>NaN</td>\n",
              "    </tr>\n",
              "    <tr>\n",
              "      <th>eye patch</th>\n",
              "      <td>461.0</td>\n",
              "      <td>NaN</td>\n",
              "    </tr>\n",
              "    <tr>\n",
              "      <th>rosy cheeks</th>\n",
              "      <td>128.0</td>\n",
              "      <td>NaN</td>\n",
              "    </tr>\n",
              "    <tr>\n",
              "      <th>...</th>\n",
              "      <td>...</td>\n",
              "      <td>...</td>\n",
              "    </tr>\n",
              "    <tr>\n",
              "      <th>zombie</th>\n",
              "      <td>NaN</td>\n",
              "      <td>88.0</td>\n",
              "    </tr>\n",
              "    <tr>\n",
              "      <th>alien</th>\n",
              "      <td>NaN</td>\n",
              "      <td>9.0</td>\n",
              "    </tr>\n",
              "    <tr>\n",
              "      <th>ape</th>\n",
              "      <td>NaN</td>\n",
              "      <td>24.0</td>\n",
              "    </tr>\n",
              "    <tr>\n",
              "      <th>female</th>\n",
              "      <td>NaN</td>\n",
              "      <td>3840.0</td>\n",
              "    </tr>\n",
              "    <tr>\n",
              "      <th>male</th>\n",
              "      <td>NaN</td>\n",
              "      <td>6039.0</td>\n",
              "    </tr>\n",
              "  </tbody>\n",
              "</table>\n",
              "<p>92 rows × 2 columns</p>\n",
              "</div>"
            ],
            "text/plain": [
              "                accessory    type\n",
              "cap forward         254.0     NaN\n",
              "spots               124.0     NaN\n",
              "classic shades      502.0     NaN\n",
              "eye patch           461.0     NaN\n",
              "rosy cheeks         128.0     NaN\n",
              "...                   ...     ...\n",
              "zombie                NaN    88.0\n",
              "alien                 NaN     9.0\n",
              "ape                   NaN    24.0\n",
              "female                NaN  3840.0\n",
              "male                  NaN  6039.0\n",
              "\n",
              "[92 rows x 2 columns]"
            ]
          },
          "metadata": {},
          "execution_count": 60
        }
      ]
    },
    {
      "cell_type": "code",
      "metadata": {
        "colab": {
          "base_uri": "https://localhost:8080/",
          "height": 142
        },
        "id": "rwrncrXw-nzM",
        "outputId": "f94d7241-8ce4-497e-d88d-94c979ffca31"
      },
      "source": [
        "# List of collections we want to access\n",
        "collections = [\"cryptopunks\", \"art-blocks\", \"boredapeyachtclub\"]\n",
        "\n",
        "collection_list = []\n",
        "# For each collection, we access its information through its API\n",
        "for collection in collections:\n",
        "    JSONContent = requests.get(\"https://api.opensea.io/api/v1/collection/\" + collection).json()\n",
        "    if 'error' not in JSONContent:\n",
        "        collection_list.append([JSONContent[\"collection\"]])\n",
        "                         \n",
        "dataset = pd.DataFrame(collection_list)\n",
        "dataset.head()"
      ],
      "execution_count": 61,
      "outputs": [
        {
          "output_type": "execute_result",
          "data": {
            "text/html": [
              "<div>\n",
              "<style scoped>\n",
              "    .dataframe tbody tr th:only-of-type {\n",
              "        vertical-align: middle;\n",
              "    }\n",
              "\n",
              "    .dataframe tbody tr th {\n",
              "        vertical-align: top;\n",
              "    }\n",
              "\n",
              "    .dataframe thead th {\n",
              "        text-align: right;\n",
              "    }\n",
              "</style>\n",
              "<table border=\"1\" class=\"dataframe\">\n",
              "  <thead>\n",
              "    <tr style=\"text-align: right;\">\n",
              "      <th></th>\n",
              "      <th>0</th>\n",
              "    </tr>\n",
              "  </thead>\n",
              "  <tbody>\n",
              "    <tr>\n",
              "      <th>0</th>\n",
              "      <td>{'editors': ['0xeaf54391793cc80de696d72713d751...</td>\n",
              "    </tr>\n",
              "    <tr>\n",
              "      <th>1</th>\n",
              "      <td>{'editors': ['0xeaf54391793cc80de696d72713d751...</td>\n",
              "    </tr>\n",
              "    <tr>\n",
              "      <th>2</th>\n",
              "      <td>{'editors': ['0xeaf54391793cc80de696d72713d751...</td>\n",
              "    </tr>\n",
              "  </tbody>\n",
              "</table>\n",
              "</div>"
            ],
            "text/plain": [
              "                                                   0\n",
              "0  {'editors': ['0xeaf54391793cc80de696d72713d751...\n",
              "1  {'editors': ['0xeaf54391793cc80de696d72713d751...\n",
              "2  {'editors': ['0xeaf54391793cc80de696d72713d751..."
            ]
          },
          "metadata": {},
          "execution_count": 61
        }
      ]
    },
    {
      "cell_type": "code",
      "metadata": {
        "id": "gd_cbHrtDKOV"
      },
      "source": [
        "dataset.columns = [\"Editors\"]\n",
        "dataset.dropna(axis = 0, how = 'any', inplace = True)\n",
        "dataset.index = pd.RangeIndex(len(dataset.index))"
      ],
      "execution_count": 45,
      "outputs": []
    }
  ]
}